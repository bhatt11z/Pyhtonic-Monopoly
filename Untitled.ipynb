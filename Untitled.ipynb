{
 "cells": [
  {
   "cell_type": "code",
   "execution_count": 160,
   "metadata": {},
   "outputs": [],
   "source": [
    "\n",
    "import os\n",
    "import pandas as pd\n",
    "import matplotlib.pyplot as plt\n",
    "import plotly.express as px\n",
    "import hvplot.pandas\n",
    "from pathlib import Path\n",
    "from dotenv import load_dotenv\n",
    "\n",
    "%matplotlib inline"
   ]
  },
  {
   "cell_type": "code",
   "execution_count": null,
   "metadata": {},
   "outputs": [],
   "source": []
  },
  {
   "cell_type": "code",
   "execution_count": 161,
   "metadata": {},
   "outputs": [
    {
     "data": {
      "text/plain": [
       "True"
      ]
     },
     "execution_count": 161,
     "metadata": {},
     "output_type": "execute_result"
    }
   ],
   "source": [
    "load_dotenv()"
   ]
  },
  {
   "cell_type": "code",
   "execution_count": 162,
   "metadata": {},
   "outputs": [],
   "source": [
    "mapbox_token = os.getenv(\"mapbox\")"
   ]
  },
  {
   "cell_type": "code",
   "execution_count": 163,
   "metadata": {},
   "outputs": [],
   "source": [
    "sfo_data = pd.read_csv(\"neighborhoods_census_data.csv\", index_col=\"year\")"
   ]
  },
  {
   "cell_type": "code",
   "execution_count": 164,
   "metadata": {},
   "outputs": [
    {
     "data": {
      "text/html": [
       "<div>\n",
       "<style scoped>\n",
       "    .dataframe tbody tr th:only-of-type {\n",
       "        vertical-align: middle;\n",
       "    }\n",
       "\n",
       "    .dataframe tbody tr th {\n",
       "        vertical-align: top;\n",
       "    }\n",
       "\n",
       "    .dataframe thead th {\n",
       "        text-align: right;\n",
       "    }\n",
       "</style>\n",
       "<table border=\"1\" class=\"dataframe\">\n",
       "  <thead>\n",
       "    <tr style=\"text-align: right;\">\n",
       "      <th></th>\n",
       "      <th>neighborhood</th>\n",
       "      <th>sale_price_sqr_foot</th>\n",
       "      <th>housing_units</th>\n",
       "      <th>gross_rent</th>\n",
       "    </tr>\n",
       "    <tr>\n",
       "      <th>year</th>\n",
       "      <th></th>\n",
       "      <th></th>\n",
       "      <th></th>\n",
       "      <th></th>\n",
       "    </tr>\n",
       "  </thead>\n",
       "  <tbody>\n",
       "    <tr>\n",
       "      <th>2010</th>\n",
       "      <td>Alamo Square</td>\n",
       "      <td>291.182945</td>\n",
       "      <td>372560</td>\n",
       "      <td>1239</td>\n",
       "    </tr>\n",
       "    <tr>\n",
       "      <th>2010</th>\n",
       "      <td>Anza Vista</td>\n",
       "      <td>267.932583</td>\n",
       "      <td>372560</td>\n",
       "      <td>1239</td>\n",
       "    </tr>\n",
       "    <tr>\n",
       "      <th>2010</th>\n",
       "      <td>Bayview</td>\n",
       "      <td>170.098665</td>\n",
       "      <td>372560</td>\n",
       "      <td>1239</td>\n",
       "    </tr>\n",
       "    <tr>\n",
       "      <th>2010</th>\n",
       "      <td>Buena Vista Park</td>\n",
       "      <td>347.394919</td>\n",
       "      <td>372560</td>\n",
       "      <td>1239</td>\n",
       "    </tr>\n",
       "    <tr>\n",
       "      <th>2010</th>\n",
       "      <td>Central Richmond</td>\n",
       "      <td>319.027623</td>\n",
       "      <td>372560</td>\n",
       "      <td>1239</td>\n",
       "    </tr>\n",
       "  </tbody>\n",
       "</table>\n",
       "</div>"
      ],
      "text/plain": [
       "          neighborhood  sale_price_sqr_foot  housing_units  gross_rent\n",
       "year                                                                  \n",
       "2010      Alamo Square           291.182945         372560        1239\n",
       "2010        Anza Vista           267.932583         372560        1239\n",
       "2010           Bayview           170.098665         372560        1239\n",
       "2010  Buena Vista Park           347.394919         372560        1239\n",
       "2010  Central Richmond           319.027623         372560        1239"
      ]
     },
     "execution_count": 164,
     "metadata": {},
     "output_type": "execute_result"
    }
   ],
   "source": [
    "sfo_data.head()"
   ]
  },
  {
   "cell_type": "code",
   "execution_count": 127,
   "metadata": {},
   "outputs": [],
   "source": [
    "housing =sfo_data.groupby([\"year\"])[\"housing_units\"]"
   ]
  },
  {
   "cell_type": "code",
   "execution_count": 128,
   "metadata": {},
   "outputs": [],
   "source": [
    "average_housing = housing.mean()"
   ]
  },
  {
   "cell_type": "code",
   "execution_count": 129,
   "metadata": {},
   "outputs": [
    {
     "data": {
      "text/plain": [
       "year\n",
       "2010    372560\n",
       "2011    374507\n",
       "2012    376454\n",
       "2013    378401\n",
       "2014    380348\n",
       "2015    382295\n",
       "2016    384242\n",
       "Name: housing_units, dtype: int64"
      ]
     },
     "execution_count": 129,
     "metadata": {},
     "output_type": "execute_result"
    }
   ],
   "source": [
    "average_housing"
   ]
  },
  {
   "cell_type": "code",
   "execution_count": 130,
   "metadata": {},
   "outputs": [],
   "source": [
    "min = average_housing.min()\n",
    "max = average_housing.max()"
   ]
  },
  {
   "cell_type": "code",
   "execution_count": 131,
   "metadata": {},
   "outputs": [
    {
     "data": {
      "text/plain": [
       "<AxesSubplot:title={'center':'Average Housing Units/Year in San Francisco'}, xlabel='year'>"
      ]
     },
     "execution_count": 131,
     "metadata": {},
     "output_type": "execute_result"
    },
    {
     "data": {
      "image/png": "[encoded data removed]",
      "text/plain": [
       "<Figure size 864x576 with 1 Axes>"
      ]
     },
     "metadata": {
      "needs_background": "light"
     },
     "output_type": "display_data"
    }
   ],
   "source": [
    "average_housing.plot(kind=\"bar\",ylim =(min-2000,max+2000),title=\"Average Housing Units/Year in San Francisco\", figsize=(12,8))"
   ]
  },
  {
   "cell_type": "code",
   "execution_count": 132,
   "metadata": {},
   "outputs": [],
   "source": [
    "housing_std = average_housing.std()"
   ]
  },
  {
   "cell_type": "code",
   "execution_count": 133,
   "metadata": {},
   "outputs": [
    {
     "data": {
      "text/plain": [
       "<AxesSubplot:title={'center':'Average Housing Units/Year in San Francisco'}, xlabel='year'>"
      ]
     },
     "execution_count": 133,
     "metadata": {},
     "output_type": "execute_result"
    },
    {
     "data": {
      "image/png": "[encoded data removed]",
      "text/plain": [
       "<Figure size 864x576 with 1 Axes>"
      ]
     },
     "metadata": {
      "needs_background": "light"
     },
     "output_type": "display_data"
    }
   ],
   "source": [
    "average_housing.plot(kind=\"bar\",ylim =(min-housing_std,max+housing_std),title=\"Average Housing Units/Year in San Francisco\", figsize=(12,8))"
   ]
  },
  {
   "cell_type": "code",
   "execution_count": 134,
   "metadata": {},
   "outputs": [],
   "source": [
    "avg_gross_rent = sfo_data[[\"sale_price_sqr_foot\", \"gross_rent\"]].groupby([\"year\"]).mean()"
   ]
  },
  {
   "cell_type": "code",
   "execution_count": 135,
   "metadata": {},
   "outputs": [
    {
     "data": {
      "text/html": [
       "<div>\n",
       "<style scoped>\n",
       "    .dataframe tbody tr th:only-of-type {\n",
       "        vertical-align: middle;\n",
       "    }\n",
       "\n",
       "    .dataframe tbody tr th {\n",
       "        vertical-align: top;\n",
       "    }\n",
       "\n",
       "    .dataframe thead th {\n",
       "        text-align: right;\n",
       "    }\n",
       "</style>\n",
       "<table border=\"1\" class=\"dataframe\">\n",
       "  <thead>\n",
       "    <tr style=\"text-align: right;\">\n",
       "      <th></th>\n",
       "      <th>sale_price_sqr_foot</th>\n",
       "      <th>gross_rent</th>\n",
       "    </tr>\n",
       "    <tr>\n",
       "      <th>year</th>\n",
       "      <th></th>\n",
       "      <th></th>\n",
       "    </tr>\n",
       "  </thead>\n",
       "  <tbody>\n",
       "    <tr>\n",
       "      <th>2010</th>\n",
       "      <td>369.344353</td>\n",
       "      <td>1239</td>\n",
       "    </tr>\n",
       "    <tr>\n",
       "      <th>2011</th>\n",
       "      <td>341.903429</td>\n",
       "      <td>1530</td>\n",
       "    </tr>\n",
       "    <tr>\n",
       "      <th>2012</th>\n",
       "      <td>399.389968</td>\n",
       "      <td>2324</td>\n",
       "    </tr>\n",
       "    <tr>\n",
       "      <th>2013</th>\n",
       "      <td>483.600304</td>\n",
       "      <td>2971</td>\n",
       "    </tr>\n",
       "    <tr>\n",
       "      <th>2014</th>\n",
       "      <td>556.277273</td>\n",
       "      <td>3528</td>\n",
       "    </tr>\n",
       "  </tbody>\n",
       "</table>\n",
       "</div>"
      ],
      "text/plain": [
       "      sale_price_sqr_foot  gross_rent\n",
       "year                                 \n",
       "2010           369.344353        1239\n",
       "2011           341.903429        1530\n",
       "2012           399.389968        2324\n",
       "2013           483.600304        2971\n",
       "2014           556.277273        3528"
      ]
     },
     "execution_count": 135,
     "metadata": {},
     "output_type": "execute_result"
    }
   ],
   "source": [
    "avg_gross_rent.head()"
   ]
  },
  {
   "cell_type": "code",
   "execution_count": 157,
   "metadata": {},
   "outputs": [
    {
     "data": {
      "text/plain": [
       "<AxesSubplot:title={'center':' Average Housing Rent In San Francisco'}, xlabel='year', ylabel='rent'>"
      ]
     },
     "execution_count": 157,
     "metadata": {},
     "output_type": "execute_result"
    },
    {
     "data": {
      "image/png": "[encoded data removed]",
      "text/plain": [
       "<Figure size 432x288 with 1 Axes>"
      ]
     },
     "metadata": {
      "needs_background": "light"
     },
     "output_type": "display_data"
    }
   ],
   "source": [
    "avg_gross_rent[\"gross_rent\"].plot(kind=\"line\", xlabel=\"year\", ylabel=\"rent\", title = \" Average Housing Rent In San Francisco\")\n",
    "    "
   ]
  },
  {
   "cell_type": "code",
   "execution_count": 137,
   "metadata": {},
   "outputs": [
    {
     "data": {
      "text/plain": [
       "<AxesSubplot:title={'center':' Average Sale Price Per Square Foot In San Francisco'}, xlabel='year', ylabel='rent'>"
      ]
     },
     "execution_count": 137,
     "metadata": {},
     "output_type": "execute_result"
    },
    {
     "data": {
      "image/png": "[encoded data removed]",
      "text/plain": [
       "<Figure size 432x288 with 1 Axes>"
      ]
     },
     "metadata": {
      "needs_background": "light"
     },
     "output_type": "display_data"
    }
   ],
   "source": [
    "avg_gross_rent[\"sale_price_sqr_foot\"].plot(kind=\"line\", xlabel=\"year\", ylabel=\"rent\", title = \" Average Sale Price Per Square Foot In San Francisco\")\n",
    "    "
   ]
  },
  {
   "cell_type": "code",
   "execution_count": 138,
   "metadata": {},
   "outputs": [],
   "source": [
    "avg_prices_neighbourhood = pd.DataFrame()"
   ]
  },
  {
   "cell_type": "code",
   "execution_count": 139,
   "metadata": {},
   "outputs": [],
   "source": [
    "avg_prices_neighbourhood = sfo_data.groupby([\"year\",\"neighborhood\"]).mean()"
   ]
  },
  {
   "cell_type": "code",
   "execution_count": 140,
   "metadata": {},
   "outputs": [],
   "source": [
    "avg_prices_neighbourhood.reset_index(inplace=True)"
   ]
  },
  {
   "cell_type": "code",
   "execution_count": 141,
   "metadata": {},
   "outputs": [
    {
     "data": {
      "text/html": [
       "<div>\n",
       "<style scoped>\n",
       "    .dataframe tbody tr th:only-of-type {\n",
       "        vertical-align: middle;\n",
       "    }\n",
       "\n",
       "    .dataframe tbody tr th {\n",
       "        vertical-align: top;\n",
       "    }\n",
       "\n",
       "    .dataframe thead th {\n",
       "        text-align: right;\n",
       "    }\n",
       "</style>\n",
       "<table border=\"1\" class=\"dataframe\">\n",
       "  <thead>\n",
       "    <tr style=\"text-align: right;\">\n",
       "      <th></th>\n",
       "      <th>year</th>\n",
       "      <th>neighborhood</th>\n",
       "      <th>sale_price_sqr_foot</th>\n",
       "      <th>housing_units</th>\n",
       "      <th>gross_rent</th>\n",
       "    </tr>\n",
       "  </thead>\n",
       "  <tbody>\n",
       "    <tr>\n",
       "      <th>0</th>\n",
       "      <td>2010</td>\n",
       "      <td>Alamo Square</td>\n",
       "      <td>291.182945</td>\n",
       "      <td>372560</td>\n",
       "      <td>1239</td>\n",
       "    </tr>\n",
       "    <tr>\n",
       "      <th>1</th>\n",
       "      <td>2010</td>\n",
       "      <td>Anza Vista</td>\n",
       "      <td>267.932583</td>\n",
       "      <td>372560</td>\n",
       "      <td>1239</td>\n",
       "    </tr>\n",
       "    <tr>\n",
       "      <th>2</th>\n",
       "      <td>2010</td>\n",
       "      <td>Bayview</td>\n",
       "      <td>170.098665</td>\n",
       "      <td>372560</td>\n",
       "      <td>1239</td>\n",
       "    </tr>\n",
       "    <tr>\n",
       "      <th>3</th>\n",
       "      <td>2010</td>\n",
       "      <td>Buena Vista Park</td>\n",
       "      <td>347.394919</td>\n",
       "      <td>372560</td>\n",
       "      <td>1239</td>\n",
       "    </tr>\n",
       "    <tr>\n",
       "      <th>4</th>\n",
       "      <td>2010</td>\n",
       "      <td>Central Richmond</td>\n",
       "      <td>319.027623</td>\n",
       "      <td>372560</td>\n",
       "      <td>1239</td>\n",
       "    </tr>\n",
       "  </tbody>\n",
       "</table>\n",
       "</div>"
      ],
      "text/plain": [
       "   year      neighborhood  sale_price_sqr_foot  housing_units  gross_rent\n",
       "0  2010      Alamo Square           291.182945         372560        1239\n",
       "1  2010        Anza Vista           267.932583         372560        1239\n",
       "2  2010           Bayview           170.098665         372560        1239\n",
       "3  2010  Buena Vista Park           347.394919         372560        1239\n",
       "4  2010  Central Richmond           319.027623         372560        1239"
      ]
     },
     "execution_count": 141,
     "metadata": {},
     "output_type": "execute_result"
    }
   ],
   "source": [
    "avg_prices_neighbourhood.head()"
   ]
  },
  {
   "cell_type": "code",
   "execution_count": 142,
   "metadata": {},
   "outputs": [
    {
     "data": {},
     "metadata": {},
     "output_type": "display_data"
    },
    {
     "data": {
      "application/vnd.holoviews_exec.v0+json": "",
      "text/html": [
       "<div id='2073'>\n",
       "\n",
       "\n",
       "\n",
       "\n",
       "\n",
       "  <div class=\"bk-root\" id=\"d903d5e2-f339-44b6-b7f7-39a435d78834\" data-root-id=\"2073\"></div>\n",
       "</div>\n",
       "<script type=\"application/javascript\">(function(root) {\n",
       "  function embed_document(root) {\n",
       "    var docs_json = {\"104354c5-ba2d-4058-aec8-787019c9d7f1\":{\"roots\":{\"references\":[{\"attributes\":{\"margin\":[5,5,5,5],\"name\":\"HSpacer03291\",\"sizing_mode\":\"stretch_width\"},\"id\":\"2140\",\"type\":\"Spacer\"},{\"attributes\":{\"margin\":[5,5,5,5],\"name\":\"HSpacer03290\",\"sizing_mode\":\"stretch_width\"},\"id\":\"2074\",\"type\":\"Spacer\"},{\"attributes\":{},\"id\":\"2130\",\"type\":\"UnionRenderers\"},{\"attributes\":{},\"id\":\"2117\",\"type\":\"BasicTickFormatter\"},{\"attributes\":{\"end\":2016.0,\"reset_end\":2016.0,\"reset_start\":2010.0,\"start\":2010.0,\"tags\":[[[\"year\",\"year\",null]]]},\"id\":\"2075\",\"type\":\"Range1d\"},{\"attributes\":{\"text\":\"neighborhood: Alamo Square\",\"text_color\":{\"value\":\"black\"},\"text_font_size\":{\"value\":\"12pt\"}},\"id\":\"2079\",\"type\":\"Title\"},{\"attributes\":{\"bottom_units\":\"screen\",\"fill_alpha\":0.5,\"fill_color\":\"lightgrey\",\"left_units\":\"screen\",\"level\":\"overlay\",\"line_alpha\":1.0,\"line_color\":\"black\",\"line_dash\":[4,4],\"line_width\":2,\"right_units\":\"screen\",\"top_units\":\"screen\"},\"id\":\"2100\",\"type\":\"BoxAnnotation\"},{\"attributes\":{\"end\":644.0175329447045,\"reset_end\":644.0175329447045,\"reset_start\":141.1976609302527,\"start\":141.1976609302527,\"tags\":[[[\"sale_price_sqr_foot\",\"sale_price_sqr_foot\",null]]]},\"id\":\"2076\",\"type\":\"Range1d\"},{\"attributes\":{},\"id\":\"2119\",\"type\":\"BasicTickFormatter\"},{\"attributes\":{\"source\":{\"id\":\"2108\"}},\"id\":\"2115\",\"type\":\"CDSView\"},{\"attributes\":{\"callback\":null,\"renderers\":[{\"id\":\"2114\"}],\"tags\":[\"hv_created\"],\"tooltips\":[[\"year\",\"@{year}\"],[\"sale_price_sqr_foot\",\"@{sale_price_sqr_foot}\"]]},\"id\":\"2077\",\"type\":\"HoverTool\"},{\"attributes\":{},\"id\":\"2109\",\"type\":\"Selection\"},{\"attributes\":{},\"id\":\"2083\",\"type\":\"LinearScale\"},{\"attributes\":{\"client_comm_id\":\"c967ff23cc5e4963b9433693ae97b5f2\",\"comm_id\":\"2f8b1d1356b6463c9b18cac186a3005b\",\"plot_id\":\"2073\"},\"id\":\"2170\",\"type\":\"panel.models.comm_manager.CommManager\"},{\"attributes\":{},\"id\":\"2088\",\"type\":\"BasicTicker\"},{\"attributes\":{\"axis\":{\"id\":\"2087\"},\"grid_line_color\":null,\"ticker\":null},\"id\":\"2090\",\"type\":\"Grid\"},{\"attributes\":{\"below\":[{\"id\":\"2087\"}],\"center\":[{\"id\":\"2090\"},{\"id\":\"2094\"}],\"left\":[{\"id\":\"2091\"}],\"margin\":[5,5,5,5],\"min_border_bottom\":10,\"min_border_left\":10,\"min_border_right\":10,\"min_border_top\":10,\"plot_height\":300,\"plot_width\":700,\"renderers\":[{\"id\":\"2114\"}],\"sizing_mode\":\"fixed\",\"title\":{\"id\":\"2079\"},\"toolbar\":{\"id\":\"2101\"},\"x_range\":{\"id\":\"2075\"},\"x_scale\":{\"id\":\"2083\"},\"y_range\":{\"id\":\"2076\"},\"y_scale\":{\"id\":\"2085\"}},\"id\":\"2078\",\"subtype\":\"Figure\",\"type\":\"Plot\"},{\"attributes\":{},\"id\":\"2096\",\"type\":\"PanTool\"},{\"attributes\":{},\"id\":\"2085\",\"type\":\"LinearScale\"},{\"attributes\":{\"axis_label\":\"Year\",\"bounds\":\"auto\",\"formatter\":{\"id\":\"2117\"},\"major_label_orientation\":\"horizontal\",\"ticker\":{\"id\":\"2088\"}},\"id\":\"2087\",\"type\":\"LinearAxis\"},{\"attributes\":{\"axis\":{\"id\":\"2091\"},\"dimension\":1,\"grid_line_color\":null,\"ticker\":null},\"id\":\"2094\",\"type\":\"Grid\"},{\"attributes\":{\"line_alpha\":0.2,\"line_color\":\"#1f77b3\",\"line_width\":2,\"x\":{\"field\":\"year\"},\"y\":{\"field\":\"sale_price_sqr_foot\"}},\"id\":\"2113\",\"type\":\"Line\"},{\"attributes\":{\"axis_label\":\"Average Sales Prices per Square Foot\",\"bounds\":\"auto\",\"formatter\":{\"id\":\"2119\"},\"major_label_orientation\":\"horizontal\",\"ticker\":{\"id\":\"2092\"}},\"id\":\"2091\",\"type\":\"LinearAxis\"},{\"attributes\":{\"children\":[{\"id\":\"2074\"},{\"id\":\"2078\"},{\"id\":\"2140\"},{\"id\":\"2141\"}],\"margin\":[0,0,0,0],\"name\":\"Row03281\"},\"id\":\"2073\",\"type\":\"Row\"},{\"attributes\":{},\"id\":\"2092\",\"type\":\"BasicTicker\"},{\"attributes\":{},\"id\":\"2097\",\"type\":\"WheelZoomTool\"},{\"attributes\":{\"active_drag\":\"auto\",\"active_inspect\":\"auto\",\"active_multi\":null,\"active_scroll\":\"auto\",\"active_tap\":\"auto\",\"tools\":[{\"id\":\"2077\"},{\"id\":\"2095\"},{\"id\":\"2096\"},{\"id\":\"2097\"},{\"id\":\"2098\"},{\"id\":\"2099\"}]},\"id\":\"2101\",\"type\":\"Toolbar\"},{\"attributes\":{},\"id\":\"2095\",\"type\":\"SaveTool\"},{\"attributes\":{\"overlay\":{\"id\":\"2100\"}},\"id\":\"2098\",\"type\":\"BoxZoomTool\"},{\"attributes\":{\"data\":{\"sale_price_sqr_foot\":{\"__ndarray__\":\"Dkc7WO0yckCafszcbwhxQIGRs5ot42ZAJzog0LQ8eEAWMinKGEd+QI0V5FDt0IJAVCHcmLVPdUA=\",\"dtype\":\"float64\",\"order\":\"little\",\"shape\":[7]},\"year\":[2010,2011,2012,2013,2014,2015,2016]},\"selected\":{\"id\":\"2109\"},\"selection_policy\":{\"id\":\"2130\"}},\"id\":\"2108\",\"type\":\"ColumnDataSource\"},{\"attributes\":{},\"id\":\"2099\",\"type\":\"ResetTool\"},{\"attributes\":{\"line_color\":\"#1f77b3\",\"line_width\":2,\"x\":{\"field\":\"year\"},\"y\":{\"field\":\"sale_price_sqr_foot\"}},\"id\":\"2111\",\"type\":\"Line\"},{\"attributes\":{\"line_alpha\":0.1,\"line_color\":\"#1f77b3\",\"line_width\":2,\"x\":{\"field\":\"year\"},\"y\":{\"field\":\"sale_price_sqr_foot\"}},\"id\":\"2112\",\"type\":\"Line\"},{\"attributes\":{\"children\":[{\"id\":\"2144\"}],\"css_classes\":[\"panel-widget-box\"],\"margin\":[5,5,5,5],\"name\":\"WidgetBox03282\"},\"id\":\"2143\",\"type\":\"Column\"},{\"attributes\":{\"data_source\":{\"id\":\"2108\"},\"glyph\":{\"id\":\"2111\"},\"hover_glyph\":null,\"muted_glyph\":{\"id\":\"2113\"},\"nonselection_glyph\":{\"id\":\"2112\"},\"selection_glyph\":null,\"view\":{\"id\":\"2115\"}},\"id\":\"2114\",\"type\":\"GlyphRenderer\"},{\"attributes\":{\"margin\":[5,5,5,5],\"name\":\"VSpacer03287\",\"sizing_mode\":\"stretch_height\"},\"id\":\"2142\",\"type\":\"Spacer\"},{\"attributes\":{\"margin\":[20,20,20,20],\"min_width\":250,\"options\":[\"Alamo Square\",\"Anza Vista\",\"Bayview\",\"Buena Vista Park\",\"Central Richmond\",\"Central Sunset\",\"Corona Heights\",\"Cow Hollow\",\"Croker Amazon\",\"Diamond Heights\",\"Downtown \",\"Eureka Valley/Dolores Heights\",\"Excelsior\",\"Financial District North\",\"Financial District South\",\"Forest Knolls\",\"Glen Park\",\"Golden Gate Heights\",\"Haight Ashbury\",\"Hayes Valley\",\"Hunters Point\",\"Ingleside \",\"Inner Mission\",\"Inner Parkside\",\"Inner Richmond\",\"Inner Sunset\",\"Jordan Park/Laurel Heights\",\"Lake --The Presidio\",\"Lone Mountain\",\"Lower Pacific Heights\",\"Marina\",\"Miraloma Park\",\"Mission Bay\",\"Mission Dolores\",\"Mission Terrace\",\"Nob Hill\",\"Noe Valley\",\"Oceanview\",\"Outer Parkside\",\"Outer Richmond \",\"Outer Sunset\",\"Pacific Heights\",\"Park North\",\"Parkside\",\"Parnassus/Ashbury Heights\",\"Portola\",\"Potrero Hill\",\"Presidio Heights\",\"Russian Hill\",\"South Beach\",\"South of Market\",\"Sunnyside\",\"Telegraph Hill\",\"Twin Peaks\",\"Union Square District\",\"Van Ness/ Civic Center\",\"West Portal\",\"Western Addition\",\"Yerba Buena\",\"Bernal Heights \",\"Clarendon Heights\",\"Duboce Triangle\",\"Ingleside Heights\",\"North Beach\",\"North Waterfront\",\"Outer Mission\",\"Westwood Highlands\",\"Merced Heights\",\"Midtown Terrace\",\"Visitacion Valley\",\"Silver Terrace\",\"Westwood Park\",\"Bayview Heights\"],\"title\":\"neighborhood\",\"value\":\"Alamo Square\",\"width\":250},\"id\":\"2144\",\"type\":\"Select\"},{\"attributes\":{\"children\":[{\"id\":\"2142\"},{\"id\":\"2143\"},{\"id\":\"2145\"}],\"margin\":[0,0,0,0],\"name\":\"Column03289\"},\"id\":\"2141\",\"type\":\"Column\"},{\"attributes\":{\"margin\":[5,5,5,5],\"name\":\"VSpacer03288\",\"sizing_mode\":\"stretch_height\"},\"id\":\"2145\",\"type\":\"Spacer\"}],\"root_ids\":[\"2073\",\"2170\"]},\"title\":\"Bokeh Application\",\"version\":\"2.2.3\"}};\n",
       "    var render_items = [{\"docid\":\"104354c5-ba2d-4058-aec8-787019c9d7f1\",\"root_ids\":[\"2073\"],\"roots\":{\"2073\":\"d903d5e2-f339-44b6-b7f7-39a435d78834\"}}];\n",
       "    root.Bokeh.embed.embed_items_notebook(docs_json, render_items);\n",
       "  }\n",
       "  if (root.Bokeh !== undefined && root.Bokeh.Panel !== undefined) {\n",
       "    embed_document(root);\n",
       "  } else {\n",
       "    var attempts = 0;\n",
       "    var timer = setInterval(function(root) {\n",
       "      if (root.Bokeh !== undefined && root.Bokeh.Panel !== undefined) {\n",
       "        clearInterval(timer);\n",
       "        embed_document(root);\n",
       "      } else if (document.readyState == \"complete\") {\n",
       "        attempts++;\n",
       "        if (attempts > 100) {\n",
       "          clearInterval(timer);\n",
       "          console.log(\"Bokeh: ERROR: Unable to run BokehJS code because BokehJS library is missing\");\n",
       "        }\n",
       "      }\n",
       "    }, 10, root)\n",
       "  }\n",
       "})(window);</script>"
      ],
      "text/plain": [
       ":DynamicMap   [neighborhood]\n",
       "   :Curve   [year]   (sale_price_sqr_foot)"
      ]
     },
     "execution_count": 142,
     "metadata": {
      "application/vnd.holoviews_exec.v0+json": {
       "id": "2073"
      }
     },
     "output_type": "execute_result"
    }
   ],
   "source": [
    "avg_prices_neighbourhood.hvplot.line(\"year\",\"sale_price_sqr_foot\",xlabel=\"Year\",ylabel=\"Average Sales Prices per Square Foot\", groupby=\"neighborhood\")"
   ]
  },
  {
   "cell_type": "code",
   "execution_count": 143,
   "metadata": {},
   "outputs": [],
   "source": [
    "most_expen_neighborhood = pd.DataFrame()\n",
    "most_expen_neighborhood  = sfo_data.groupby([\"neighborhood\"]).mean().sort_values(\"sale_price_sqr_foot\",ascending=False)"
   ]
  },
  {
   "cell_type": "code",
   "execution_count": 144,
   "metadata": {},
   "outputs": [],
   "source": [
    "most_expen_neighborhood= most_expen_neighborhood.reset_index()"
   ]
  },
  {
   "cell_type": "code",
   "execution_count": 145,
   "metadata": {},
   "outputs": [
    {
     "data": {
      "text/html": [
       "<div>\n",
       "<style scoped>\n",
       "    .dataframe tbody tr th:only-of-type {\n",
       "        vertical-align: middle;\n",
       "    }\n",
       "\n",
       "    .dataframe tbody tr th {\n",
       "        vertical-align: top;\n",
       "    }\n",
       "\n",
       "    .dataframe thead th {\n",
       "        text-align: right;\n",
       "    }\n",
       "</style>\n",
       "<table border=\"1\" class=\"dataframe\">\n",
       "  <thead>\n",
       "    <tr style=\"text-align: right;\">\n",
       "      <th></th>\n",
       "      <th>neighborhood</th>\n",
       "      <th>sale_price_sqr_foot</th>\n",
       "      <th>housing_units</th>\n",
       "      <th>gross_rent</th>\n",
       "    </tr>\n",
       "  </thead>\n",
       "  <tbody>\n",
       "    <tr>\n",
       "      <th>0</th>\n",
       "      <td>Union Square District</td>\n",
       "      <td>903.993258</td>\n",
       "      <td>377427.50</td>\n",
       "      <td>2555.166667</td>\n",
       "    </tr>\n",
       "    <tr>\n",
       "      <th>1</th>\n",
       "      <td>Merced Heights</td>\n",
       "      <td>788.844818</td>\n",
       "      <td>380348.00</td>\n",
       "      <td>3414.000000</td>\n",
       "    </tr>\n",
       "    <tr>\n",
       "      <th>2</th>\n",
       "      <td>Miraloma Park</td>\n",
       "      <td>779.810842</td>\n",
       "      <td>375967.25</td>\n",
       "      <td>2155.250000</td>\n",
       "    </tr>\n",
       "    <tr>\n",
       "      <th>3</th>\n",
       "      <td>Pacific Heights</td>\n",
       "      <td>689.555817</td>\n",
       "      <td>378401.00</td>\n",
       "      <td>2817.285714</td>\n",
       "    </tr>\n",
       "    <tr>\n",
       "      <th>4</th>\n",
       "      <td>Westwood Park</td>\n",
       "      <td>687.087575</td>\n",
       "      <td>382295.00</td>\n",
       "      <td>3959.000000</td>\n",
       "    </tr>\n",
       "    <tr>\n",
       "      <th>5</th>\n",
       "      <td>Telegraph Hill</td>\n",
       "      <td>676.506578</td>\n",
       "      <td>378401.00</td>\n",
       "      <td>2817.285714</td>\n",
       "    </tr>\n",
       "    <tr>\n",
       "      <th>6</th>\n",
       "      <td>Presidio Heights</td>\n",
       "      <td>675.350212</td>\n",
       "      <td>378401.00</td>\n",
       "      <td>2817.285714</td>\n",
       "    </tr>\n",
       "    <tr>\n",
       "      <th>7</th>\n",
       "      <td>Cow Hollow</td>\n",
       "      <td>665.964042</td>\n",
       "      <td>378401.00</td>\n",
       "      <td>2817.285714</td>\n",
       "    </tr>\n",
       "    <tr>\n",
       "      <th>8</th>\n",
       "      <td>Potrero Hill</td>\n",
       "      <td>662.013613</td>\n",
       "      <td>378401.00</td>\n",
       "      <td>2817.285714</td>\n",
       "    </tr>\n",
       "    <tr>\n",
       "      <th>9</th>\n",
       "      <td>South Beach</td>\n",
       "      <td>650.124479</td>\n",
       "      <td>375805.00</td>\n",
       "      <td>2099.000000</td>\n",
       "    </tr>\n",
       "  </tbody>\n",
       "</table>\n",
       "</div>"
      ],
      "text/plain": [
       "            neighborhood  sale_price_sqr_foot  housing_units   gross_rent\n",
       "0  Union Square District           903.993258      377427.50  2555.166667\n",
       "1         Merced Heights           788.844818      380348.00  3414.000000\n",
       "2          Miraloma Park           779.810842      375967.25  2155.250000\n",
       "3        Pacific Heights           689.555817      378401.00  2817.285714\n",
       "4          Westwood Park           687.087575      382295.00  3959.000000\n",
       "5         Telegraph Hill           676.506578      378401.00  2817.285714\n",
       "6       Presidio Heights           675.350212      378401.00  2817.285714\n",
       "7             Cow Hollow           665.964042      378401.00  2817.285714\n",
       "8           Potrero Hill           662.013613      378401.00  2817.285714\n",
       "9            South Beach           650.124479      375805.00  2099.000000"
      ]
     },
     "execution_count": 145,
     "metadata": {},
     "output_type": "execute_result"
    }
   ],
   "source": [
    "top_ten_most_expen_neighborhood=most_expen_neighborhood.head(10)\n",
    "top_ten_most_expen_neighborhood"
   ]
  },
  {
   "cell_type": "code",
   "execution_count": 146,
   "metadata": {},
   "outputs": [
    {
     "data": {},
     "metadata": {},
     "output_type": "display_data"
    },
    {
     "data": {
      "application/vnd.holoviews_exec.v0+json": "",
      "text/html": [
       "<div id='2211'>\n",
       "\n",
       "\n",
       "\n",
       "\n",
       "\n",
       "  <div class=\"bk-root\" id=\"cff8ba41-eb46-4eec-92d2-9de9837be8b3\" data-root-id=\"2211\"></div>\n",
       "</div>\n",
       "<script type=\"application/javascript\">(function(root) {\n",
       "  function embed_document(root) {\n",
       "    var docs_json = {\"4cde5252-8b46-4512-979e-98f65761e09f\":{\"roots\":{\"references\":[{\"attributes\":{\"end\":929.3801355198136,\"reset_end\":929.3801355198136,\"reset_start\":0.0,\"tags\":[[[\"sale_price_sqr_foot\",\"sale_price_sqr_foot\",null]]]},\"id\":\"2214\",\"type\":\"Range1d\"},{\"attributes\":{},\"id\":\"2263\",\"type\":\"UnionRenderers\"},{\"attributes\":{},\"id\":\"2256\",\"type\":\"BasicTickFormatter\"},{\"attributes\":{\"bottom_units\":\"screen\",\"fill_alpha\":0.5,\"fill_color\":\"lightgrey\",\"left_units\":\"screen\",\"level\":\"overlay\",\"line_alpha\":1.0,\"line_color\":\"black\",\"line_dash\":[4,4],\"line_width\":2,\"right_units\":\"screen\",\"top_units\":\"screen\"},\"id\":\"2237\",\"type\":\"BoxAnnotation\"},{\"attributes\":{\"callback\":null,\"renderers\":[{\"id\":\"2251\"}],\"tags\":[\"hv_created\"],\"tooltips\":[[\"neighborhood\",\"@{neighborhood}\"],[\"sale_price_sqr_foot\",\"@{sale_price_sqr_foot}\"]]},\"id\":\"2215\",\"type\":\"HoverTool\"},{\"attributes\":{},\"id\":\"2221\",\"type\":\"CategoricalScale\"},{\"attributes\":{},\"id\":\"2226\",\"type\":\"CategoricalTicker\"},{\"attributes\":{\"text\":\"\",\"text_color\":{\"value\":\"black\"},\"text_font_size\":{\"value\":\"12pt\"}},\"id\":\"2217\",\"type\":\"Title\"},{\"attributes\":{\"data\":{\"neighborhood\":[\"Union Square District\",\"Merced Heights\",\"Miraloma Park\",\"Pacific Heights\",\"Westwood Park\",\"Telegraph Hill\",\"Presidio Heights\",\"Cow Hollow\",\"Potrero Hill\",\"South Beach\"],\"sale_price_sqr_foot\":{\"__ndarray__\":\"JRAUMfI/jEB9IrkvwqaIQFx/3pp8XohAFpsVUHKMhUBs0ERas3iFQL0KhXgNJIVAy835O80ahUANV25bts+EQJrMCuEbsIRAya3y7v5QhEA=\",\"dtype\":\"float64\",\"order\":\"little\",\"shape\":[10]}},\"selected\":{\"id\":\"2246\"},\"selection_policy\":{\"id\":\"2263\"}},\"id\":\"2245\",\"type\":\"ColumnDataSource\"},{\"attributes\":{\"margin\":[5,5,5,5],\"name\":\"HSpacer03595\",\"sizing_mode\":\"stretch_width\"},\"id\":\"2212\",\"type\":\"Spacer\"},{\"attributes\":{\"below\":[{\"id\":\"2225\"}],\"center\":[{\"id\":\"2227\"},{\"id\":\"2231\"}],\"left\":[{\"id\":\"2228\"}],\"margin\":[5,5,5,5],\"min_border_bottom\":10,\"min_border_left\":10,\"min_border_right\":10,\"min_border_top\":10,\"plot_height\":300,\"plot_width\":700,\"renderers\":[{\"id\":\"2251\"}],\"sizing_mode\":\"fixed\",\"title\":{\"id\":\"2217\"},\"toolbar\":{\"id\":\"2238\"},\"x_range\":{\"id\":\"2213\"},\"x_scale\":{\"id\":\"2221\"},\"y_range\":{\"id\":\"2214\"},\"y_scale\":{\"id\":\"2223\"}},\"id\":\"2216\",\"subtype\":\"Figure\",\"type\":\"Plot\"},{\"attributes\":{\"axis_label\":\"Neighborhood\",\"bounds\":\"auto\",\"formatter\":{\"id\":\"2253\"},\"major_label_orientation\":\"horizontal\",\"ticker\":{\"id\":\"2226\"}},\"id\":\"2225\",\"type\":\"CategoricalAxis\"},{\"attributes\":{\"margin\":[5,5,5,5],\"name\":\"HSpacer03596\",\"sizing_mode\":\"stretch_width\"},\"id\":\"2273\",\"type\":\"Spacer\"},{\"attributes\":{\"axis\":{\"id\":\"2228\"},\"dimension\":1,\"grid_line_color\":null,\"ticker\":null},\"id\":\"2231\",\"type\":\"Grid\"},{\"attributes\":{},\"id\":\"2233\",\"type\":\"PanTool\"},{\"attributes\":{},\"id\":\"2223\",\"type\":\"LinearScale\"},{\"attributes\":{\"axis_label\":\"Average Sale Price Per Square Foot\",\"bounds\":\"auto\",\"formatter\":{\"id\":\"2256\"},\"major_label_orientation\":\"horizontal\",\"ticker\":{\"id\":\"2229\"}},\"id\":\"2228\",\"type\":\"LinearAxis\"},{\"attributes\":{},\"id\":\"2229\",\"type\":\"BasicTicker\"},{\"attributes\":{},\"id\":\"2234\",\"type\":\"WheelZoomTool\"},{\"attributes\":{\"children\":[{\"id\":\"2212\"},{\"id\":\"2216\"},{\"id\":\"2273\"}],\"margin\":[0,0,0,0],\"name\":\"Row03591\",\"tags\":[\"embedded\"]},\"id\":\"2211\",\"type\":\"Row\"},{\"attributes\":{},\"id\":\"2232\",\"type\":\"SaveTool\"},{\"attributes\":{\"overlay\":{\"id\":\"2237\"}},\"id\":\"2235\",\"type\":\"BoxZoomTool\"},{\"attributes\":{},\"id\":\"2236\",\"type\":\"ResetTool\"},{\"attributes\":{\"active_drag\":\"auto\",\"active_inspect\":\"auto\",\"active_multi\":null,\"active_scroll\":\"auto\",\"active_tap\":\"auto\",\"tools\":[{\"id\":\"2215\"},{\"id\":\"2232\"},{\"id\":\"2233\"},{\"id\":\"2234\"},{\"id\":\"2235\"},{\"id\":\"2236\"}]},\"id\":\"2238\",\"type\":\"Toolbar\"},{\"attributes\":{\"fill_color\":{\"value\":\"#1f77b3\"},\"top\":{\"field\":\"sale_price_sqr_foot\"},\"width\":{\"value\":0.8},\"x\":{\"field\":\"neighborhood\"}},\"id\":\"2248\",\"type\":\"VBar\"},{\"attributes\":{\"fill_alpha\":{\"value\":0.1},\"fill_color\":{\"value\":\"#1f77b3\"},\"line_alpha\":{\"value\":0.1},\"top\":{\"field\":\"sale_price_sqr_foot\"},\"width\":{\"value\":0.8},\"x\":{\"field\":\"neighborhood\"}},\"id\":\"2249\",\"type\":\"VBar\"},{\"attributes\":{},\"id\":\"2246\",\"type\":\"Selection\"},{\"attributes\":{\"factors\":[\"Union Square District\",\"Merced Heights\",\"Miraloma Park\",\"Pacific Heights\",\"Westwood Park\",\"Telegraph Hill\",\"Presidio Heights\",\"Cow Hollow\",\"Potrero Hill\",\"South Beach\"],\"tags\":[[[\"neighborhood\",\"neighborhood\",null]]]},\"id\":\"2213\",\"type\":\"FactorRange\"},{\"attributes\":{\"axis\":{\"id\":\"2225\"},\"grid_line_color\":null,\"ticker\":null},\"id\":\"2227\",\"type\":\"Grid\"},{\"attributes\":{\"data_source\":{\"id\":\"2245\"},\"glyph\":{\"id\":\"2248\"},\"hover_glyph\":null,\"muted_glyph\":{\"id\":\"2250\"},\"nonselection_glyph\":{\"id\":\"2249\"},\"selection_glyph\":null,\"view\":{\"id\":\"2252\"}},\"id\":\"2251\",\"type\":\"GlyphRenderer\"},{\"attributes\":{\"fill_alpha\":{\"value\":0.2},\"fill_color\":{\"value\":\"#1f77b3\"},\"line_alpha\":{\"value\":0.2},\"top\":{\"field\":\"sale_price_sqr_foot\"},\"width\":{\"value\":0.8},\"x\":{\"field\":\"neighborhood\"}},\"id\":\"2250\",\"type\":\"VBar\"},{\"attributes\":{\"source\":{\"id\":\"2245\"}},\"id\":\"2252\",\"type\":\"CDSView\"},{\"attributes\":{},\"id\":\"2253\",\"type\":\"CategoricalTickFormatter\"}],\"root_ids\":[\"2211\"]},\"title\":\"Bokeh Application\",\"version\":\"2.2.3\"}};\n",
       "    var render_items = [{\"docid\":\"4cde5252-8b46-4512-979e-98f65761e09f\",\"root_ids\":[\"2211\"],\"roots\":{\"2211\":\"cff8ba41-eb46-4eec-92d2-9de9837be8b3\"}}];\n",
       "    root.Bokeh.embed.embed_items_notebook(docs_json, render_items);\n",
       "  }\n",
       "  if (root.Bokeh !== undefined && root.Bokeh.Panel !== undefined) {\n",
       "    embed_document(root);\n",
       "  } else {\n",
       "    var attempts = 0;\n",
       "    var timer = setInterval(function(root) {\n",
       "      if (root.Bokeh !== undefined && root.Bokeh.Panel !== undefined) {\n",
       "        clearInterval(timer);\n",
       "        embed_document(root);\n",
       "      } else if (document.readyState == \"complete\") {\n",
       "        attempts++;\n",
       "        if (attempts > 100) {\n",
       "          clearInterval(timer);\n",
       "          console.log(\"Bokeh: ERROR: Unable to run BokehJS code because BokehJS library is missing\");\n",
       "        }\n",
       "      }\n",
       "    }, 10, root)\n",
       "  }\n",
       "})(window);</script>"
      ],
      "text/plain": [
       ":Bars   [neighborhood]   (sale_price_sqr_foot)"
      ]
     },
     "execution_count": 146,
     "metadata": {
      "application/vnd.holoviews_exec.v0+json": {
       "id": "2211"
      }
     },
     "output_type": "execute_result"
    }
   ],
   "source": [
    "top_ten_most_expen_neighborhood.hvplot.bar(\"neighborhood\",\"sale_price_sqr_foot\", xlabel=\"Neighborhood\",ylabel=\"Average Sale Price Per Square Foot\")"
   ]
  },
  {
   "cell_type": "code",
   "execution_count": 159,
   "metadata": {},
   "outputs": [
    {
     "data": {
      "application/vnd.plotly.v1+json": {
       "config": {
        "plotlyServerURL": "https://plot.ly"
       },
       "data": [
        {
         "dimensions": [
          {
           "label": "year",
           "values": [
            2010,
            2010,
            2010,
            2010,
            2010,
            2010,
            2010,
            2010,
            2010,
            2010,
            2010,
            2010,
            2010,
            2010,
            2010,
            2010,
            2010,
            2010,
            2010,
            2010,
            2010,
            2010,
            2010,
            2010,
            2010,
            2010,
            2010,
            2010,
            2010,
            2010,
            2010,
            2010,
            2010,
            2010,
            2010,
            2010,
            2010,
            2010,
            2010,
            2010,
            2010,
            2010,
            2010,
            2010,
            2010,
            2010,
            2010,
            2010,
            2010,
            2010,
            2010,
            2010,
            2010,
            2010,
            2010,
            2010,
            2010,
            2010,
            2010,
            2011,
            2011,
            2011,
            2011,
            2011,
            2011,
            2011,
            2011,
            2011,
            2011,
            2011,
            2011,
            2011,
            2011,
            2011,
            2011,
            2011,
            2011,
            2011,
            2011,
            2011,
            2011,
            2011,
            2011,
            2011,
            2011,
            2011,
            2011,
            2011,
            2011,
            2011,
            2011,
            2011,
            2011,
            2011,
            2011,
            2011,
            2011,
            2011,
            2011,
            2011,
            2011,
            2011,
            2011,
            2011,
            2011,
            2011,
            2011,
            2011,
            2011,
            2011,
            2011,
            2011,
            2011,
            2011,
            2011,
            2011,
            2011,
            2011,
            2012,
            2012,
            2012,
            2012,
            2012,
            2012,
            2012,
            2012,
            2012,
            2012,
            2012,
            2012,
            2012,
            2012,
            2012,
            2012,
            2012,
            2012,
            2012,
            2012,
            2012,
            2012,
            2012,
            2012,
            2012,
            2012,
            2012,
            2012,
            2012,
            2012,
            2012,
            2012,
            2012,
            2012,
            2012,
            2012,
            2012,
            2012,
            2012,
            2012,
            2012,
            2012,
            2012,
            2012,
            2012,
            2012,
            2012,
            2012,
            2012,
            2012,
            2012,
            2012,
            2012,
            2012,
            2012,
            2012,
            2012,
            2012,
            2013,
            2013,
            2013,
            2013,
            2013,
            2013,
            2013,
            2013,
            2013,
            2013,
            2013,
            2013,
            2013,
            2013,
            2013,
            2013,
            2013,
            2013,
            2013,
            2013,
            2013,
            2013,
            2013,
            2013,
            2013,
            2013,
            2013,
            2013,
            2013,
            2013,
            2013,
            2013,
            2013,
            2013,
            2013,
            2013,
            2013,
            2013,
            2013,
            2013,
            2013,
            2013,
            2013,
            2013,
            2013,
            2013,
            2013,
            2013,
            2013,
            2013,
            2013,
            2013,
            2013,
            2013,
            2013,
            2013,
            2013,
            2014,
            2014,
            2014,
            2014,
            2014,
            2014,
            2014,
            2014,
            2014,
            2014,
            2014,
            2014,
            2014,
            2014,
            2014,
            2014,
            2014,
            2014,
            2014,
            2014,
            2014,
            2014,
            2014,
            2014,
            2014,
            2014,
            2014,
            2014,
            2014,
            2014,
            2014,
            2014,
            2014,
            2014,
            2014,
            2014,
            2014,
            2014,
            2014,
            2014,
            2014,
            2014,
            2014,
            2014,
            2014,
            2014,
            2014,
            2014,
            2014,
            2014,
            2014,
            2014,
            2014,
            2014,
            2014,
            2014,
            2014,
            2014,
            2014,
            2014,
            2015,
            2015,
            2015,
            2015,
            2015,
            2015,
            2015,
            2015,
            2015,
            2015,
            2015,
            2015,
            2015,
            2015,
            2015,
            2015,
            2015,
            2015,
            2015,
            2015,
            2015,
            2015,
            2015,
            2015,
            2015,
            2015,
            2015,
            2015,
            2015,
            2015,
            2015,
            2015,
            2015,
            2015,
            2015,
            2015,
            2015,
            2015,
            2015,
            2015,
            2015,
            2015,
            2015,
            2015,
            2015,
            2015,
            2015,
            2015,
            2015,
            2015,
            2015,
            2015,
            2015,
            2015,
            2015,
            2015,
            2015,
            2015,
            2016,
            2016,
            2016,
            2016,
            2016,
            2016,
            2016,
            2016,
            2016,
            2016,
            2016,
            2016,
            2016,
            2016,
            2016,
            2016,
            2016,
            2016,
            2016,
            2016,
            2016,
            2016,
            2016,
            2016,
            2016,
            2016,
            2016,
            2016,
            2016,
            2016,
            2016,
            2016,
            2016,
            2016,
            2016,
            2016,
            2016,
            2016,
            2016,
            2016,
            2016,
            2016,
            2016,
            2016,
            2016,
            2016
           ]
          },
          {
           "label": "sale_price_sqr_foot",
           "values": [
            291.18294547229095,
            267.9325826799483,
            170.09866536400102,
            347.3949194037114,
            319.0276225530687,
            418.1724927089675,
            369.35933800413665,
            569.3799679261333,
            165.6457300650791,
            456.9308221979013,
            241.80455206485138,
            403.1183126490986,
            364.92833570851764,
            401.7499665916537,
            162.82121004772353,
            209.0493266346945,
            715.5864380979738,
            551.8011188234774,
            254.47377914469143,
            272.28497956385485,
            170.62491987132685,
            275.05668560990915,
            238.35002040677708,
            199.70200378219917,
            285.82235848868265,
            275.76972957461044,
            419.88781187646566,
            320.79691049204627,
            398.4588759923028,
            374.05763601016855,
            387.392839476922,
            680.6087291389301,
            489.80537777998506,
            257.98799863500693,
            262.87602564056425,
            307.67747674427835,
            381.13844514705266,
            282.11967050133603,
            432.19529211245555,
            338.12619999607017,
            368.31155203937294,
            496.51601414694983,
            326.01715041025074,
            274.16674158669116,
            434.25500394602585,
            302.15611319728896,
            491.45000385678617,
            549.4179312485746,
            362.34822391312133,
            1037.0997886617895,
            401.2959764896399,
            542.5316819894505,
            524.7935090952678,
            331.55599614560697,
            569.1934475267735,
            108.0129268765048,
            392.30076417058257,
            215.56913431487555,
            333.12677384193887,
            272.5273101795261,
            172.54056243085552,
            471.9217320911283,
            171.7723466866044,
            261.6638003416518,
            391.42644972996203,
            520.7181675305429,
            222.567848047696,
            390.5956530284181,
            145.85338027594094,
            382.3522610640586,
            234.28162351035442,
            295.77937822922695,
            413.16280403427527,
            281.312904357283,
            354.66555789282774,
            457.41388429762526,
            348.92970004124925,
            392.35345097326814,
            280.73063309393075,
            356.7090091359044,
            198.01587292452027,
            283.17495073168755,
            360.03727240448274,
            302.60448945564127,
            610.7666631577348,
            330.10889435237306,
            313.33845823084727,
            303.5441997161898,
            390.81846895621413,
            414.67606477603755,
            506.95217450146765,
            293.4042461148187,
            340.6425969783877,
            373.97868706755236,
            290.9210327099608,
            346.96116001560216,
            142.14256751724554,
            241.94565649181578,
            271.09013956932756,
            297.2455578459466,
            509.0214800287398,
            289.60560009472283,
            217.55878684527906,
            466.6178976523653,
            208.1679967483858,
            503.13850456030497,
            493.814917282618,
            448.3201042149405,
            388.6443367815385,
            337.91413464365013,
            437.16429949197664,
            483.4057725178001,
            284.56696642681646,
            302.12325280969134,
            384.23680203579306,
            227.41898086494461,
            320.0743330547439,
            438.86054508174806,
            183.09931693145703,
            344.4909139677922,
            165.79806239165433,
            368.26656078838516,
            338.60116351046344,
            279.0301399218751,
            334.4878725198492,
            356.7948135908725,
            644.8183066758803,
            415.0903401095623,
            366.9954275112727,
            269.109528813633,
            452.66002242984047,
            524.8134180834782,
            371.0302152741686,
            286.3519820673892,
            613.8430658201435,
            434.63234651328025,
            418.83037933269526,
            306.3779578647354,
            336.8259501844992,
            373.4668636470579,
            325.82892041816064,
            383.15039609809617,
            380.5214843069476,
            545.9801982412763,
            396.171112391617,
            445.21509554245245,
            421.1412447061912,
            397.9391288956355,
            756.1923725098497,
            689.5233123659036,
            320.9599230279341,
            307.78311439850694,
            428.0219127043747,
            517.1734931165627,
            390.3838567783597,
            442.24265696115737,
            221.881138746669,
            312.83398436239065,
            338.63301173022234,
            413.05871935195154,
            586.2182148097696,
            288.0785187599688,
            378.2738784387478,
            515.9210732061051,
            351.0432256921308,
            466.6478402167172,
            426.60859207171325,
            414.16272789686775,
            463.8098989043553,
            465.80212163177373,
            304.89964760284107,
            445.1967876448791,
            345.95804038831767,
            325.79541506433713,
            274.33846004864847,
            491.8140030500954,
            387.79414379681333,
            453.34049829869934,
            259.54716259308043,
            630.8973025513741,
            455.2180887853926,
            343.0542609770136,
            330.7364310191893,
            453.7716045219721,
            707.4028088888208,
            223.11583290346024,
            533.6884470076521,
            361.45469198221224,
            608.694967227678,
            289.749665708438,
            274.4579436322337,
            458.7213317825408,
            956.1841219171133,
            478.4956365730093,
            491.5892613631572,
            377.51801557551835,
            302.96737702840636,
            435.5456667813491,
            584.0737147409254,
            568.6511487607912,
            376.08359802951554,
            548.0466890413603,
            655.1980415945777,
            703.0815676877947,
            null,
            427.16626614177557,
            591.4020223180053,
            466.02648785310464,
            615.0639297056517,
            393.71733534550384,
            483.16880334240136,
            372.24198616911974,
            332.40781536886453,
            322.0822144332409,
            503.89926133005366,
            512.6307219919141,
            364.62465302417013,
            425.64225533080946,
            235.99759251727426,
            598.704795328917,
            512.8402484358223,
            506.22752218971993,
            420.822184596571,
            505.83481143735054,
            653.3116166908643,
            414.43569251368126,
            1290.472106646641,
            285.0095060630079,
            293.2983722057751,
            588.0747967826295,
            217.0890689540353,
            747.3335378171588,
            753.0114133184368,
            484.44355217067766,
            620.4414065565543,
            254.95866163273848,
            544.5469286452765,
            423.95272693478194,
            456.2419957897522,
            888.1821435177138,
            691.8654114838455,
            428.7265326799175,
            630.3115352378672,
            728.9797158498743,
            358.30523872237734,
            409.9438351783924,
            694.4181461347432,
            553.5627522522698,
            567.3400104586143,
            496.55100121228986,
            428.9237926791115,
            647.6496334575522,
            464.1758436880091,
            597.200528047448,
            430.9396363161629,
            470.85352986706454,
            426.7863811847511,
            432.9627229749631,
            317.2219194303952,
            716.3765095625198,
            642.838478220973,
            528.7265413888829,
            1267.7662026328826,
            220.11108719171108,
            642.2195925518147,
            300.1873092016618,
            478.44335175268515,
            654.801499892284,
            379.92536172660726,
            650.963515967709,
            401.9350222176535,
            490.36358286726374,
            824.6586936349588,
            371.9242451684328,
            446.23924529045684,
            773.4061347806703,
            538.204698577284,
            1045.2015459222662,
            603.4509968798565,
            714.2220737504065,
            170.2925485152069,
            524.6293121403909,
            1119.8388773148026,
            493.45560489574007,
            708.1930316849231,
            562.9112337982453,
            558.2711194060469,
            475.39318681250677,
            282.02546830016496,
            687.7829633004552,
            429.4883174233179,
            742.9797231632554,
            479.9237488133093,
            602.1158769435002,
            465.68627450980387,
            590.7928388746802,
            458.0042993401075,
            551.6956218496264,
            473.1638149617127,
            453.3793770708969,
            1100.7911936704506,
            598.6205414959003,
            301.61864706270705,
            485.8868855757771,
            631.6456863280099,
            790.1803690820187,
            414.35585647200105,
            694.358566653677,
            453.4330812935196,
            612.1061563311456,
            772.7128362001238,
            574.2740565313097,
            536.5571018753241,
            null,
            192.16524813774402,
            435.9007753824155,
            762.5272331154684,
            493.61555763336935,
            639.1464438694404,
            576.4579094375945,
            426.6849522707296,
            918.2882682038704,
            800.0388650775142,
            1132.8373605554546,
            571.7557085689908,
            583.8486362312665,
            529.847319131393,
            544.6002639104154,
            448.86919667679206,
            890.9095931764135,
            265.92982650327014,
            564.6874764662283,
            652.2879690318528,
            438.4677874196749,
            357.8946922463997,
            910.1876901656897,
            616.5723883169862,
            null,
            605.3433249358948,
            821.3009904764873,
            null,
            793.2619915605263,
            717.0825412171872,
            439.7498835483721,
            996.9902204858653,
            417.33537892280015,
            2258.702831998355,
            677.8382318281795,
            302.2218727063018,
            481.46924427394237,
            963.5226061641273,
            340.98183523166995,
            88.40151094606408,
            986.8421052631579,
            851.4014053492668,
            661.0644257703083,
            581.3708750724594,
            1059.0656015492618,
            566.7011760342162,
            718.7768297452345,
            1026.7911075237503,
            534.2262501283425,
            null,
            945.5665024630542,
            531.8350322320708,
            175.06606919629078,
            571.5799833446893,
            647.7704471840341,
            518.1126504655916,
            403.31113221139015,
            445.9238282688497,
            704.5664189758045,
            636.4307703489127,
            431.94460202359033,
            1416.666666666667,
            924.5691159025888,
            879.0170132325142,
            777.0083145338547,
            799.4956512788842,
            407.5533215595707,
            40.7726253518439,
            732.7206841423807,
            1196.645436923929,
            510.5769072143791,
            996.3893635634033,
            211.30136986006568,
            1207.997484708169,
            707.6516094320912,
            1465.9685863874345,
            1024.3398771365157,
            531.1363737279744,
            751.1737089201877,
            903.0497705987848,
            970.08547008547,
            552.6025671312701,
            328.31900668576884,
            631.1954258724091
           ]
          },
          {
           "label": "housing_units",
           "values": [
            372560,
            372560,
            372560,
            372560,
            372560,
            372560,
            372560,
            372560,
            372560,
            372560,
            372560,
            372560,
            372560,
            372560,
            372560,
            372560,
            372560,
            372560,
            372560,
            372560,
            372560,
            372560,
            372560,
            372560,
            372560,
            372560,
            372560,
            372560,
            372560,
            372560,
            372560,
            372560,
            372560,
            372560,
            372560,
            372560,
            372560,
            372560,
            372560,
            372560,
            372560,
            372560,
            372560,
            372560,
            372560,
            372560,
            372560,
            372560,
            372560,
            372560,
            372560,
            372560,
            372560,
            372560,
            372560,
            372560,
            372560,
            372560,
            372560,
            374507,
            374507,
            374507,
            374507,
            374507,
            374507,
            374507,
            374507,
            374507,
            374507,
            374507,
            374507,
            374507,
            374507,
            374507,
            374507,
            374507,
            374507,
            374507,
            374507,
            374507,
            374507,
            374507,
            374507,
            374507,
            374507,
            374507,
            374507,
            374507,
            374507,
            374507,
            374507,
            374507,
            374507,
            374507,
            374507,
            374507,
            374507,
            374507,
            374507,
            374507,
            374507,
            374507,
            374507,
            374507,
            374507,
            374507,
            374507,
            374507,
            374507,
            374507,
            374507,
            374507,
            374507,
            374507,
            374507,
            374507,
            374507,
            374507,
            376454,
            376454,
            376454,
            376454,
            376454,
            376454,
            376454,
            376454,
            376454,
            376454,
            376454,
            376454,
            376454,
            376454,
            376454,
            376454,
            376454,
            376454,
            376454,
            376454,
            376454,
            376454,
            376454,
            376454,
            376454,
            376454,
            376454,
            376454,
            376454,
            376454,
            376454,
            376454,
            376454,
            376454,
            376454,
            376454,
            376454,
            376454,
            376454,
            376454,
            376454,
            376454,
            376454,
            376454,
            376454,
            376454,
            376454,
            376454,
            376454,
            376454,
            376454,
            376454,
            376454,
            376454,
            376454,
            376454,
            376454,
            376454,
            378401,
            378401,
            378401,
            378401,
            378401,
            378401,
            378401,
            378401,
            378401,
            378401,
            378401,
            378401,
            378401,
            378401,
            378401,
            378401,
            378401,
            378401,
            378401,
            378401,
            378401,
            378401,
            378401,
            378401,
            378401,
            378401,
            378401,
            378401,
            378401,
            378401,
            378401,
            378401,
            378401,
            378401,
            378401,
            378401,
            378401,
            378401,
            378401,
            378401,
            378401,
            378401,
            378401,
            378401,
            378401,
            378401,
            378401,
            378401,
            378401,
            378401,
            378401,
            378401,
            378401,
            378401,
            378401,
            378401,
            378401,
            380348,
            380348,
            380348,
            380348,
            380348,
            380348,
            380348,
            380348,
            380348,
            380348,
            380348,
            380348,
            380348,
            380348,
            380348,
            380348,
            380348,
            380348,
            380348,
            380348,
            380348,
            380348,
            380348,
            380348,
            380348,
            380348,
            380348,
            380348,
            380348,
            380348,
            380348,
            380348,
            380348,
            380348,
            380348,
            380348,
            380348,
            380348,
            380348,
            380348,
            380348,
            380348,
            380348,
            380348,
            380348,
            380348,
            380348,
            380348,
            380348,
            380348,
            380348,
            380348,
            380348,
            380348,
            380348,
            380348,
            380348,
            380348,
            380348,
            380348,
            382295,
            382295,
            382295,
            382295,
            382295,
            382295,
            382295,
            382295,
            382295,
            382295,
            382295,
            382295,
            382295,
            382295,
            382295,
            382295,
            382295,
            382295,
            382295,
            382295,
            382295,
            382295,
            382295,
            382295,
            382295,
            382295,
            382295,
            382295,
            382295,
            382295,
            382295,
            382295,
            382295,
            382295,
            382295,
            382295,
            382295,
            382295,
            382295,
            382295,
            382295,
            382295,
            382295,
            382295,
            382295,
            382295,
            382295,
            382295,
            382295,
            382295,
            382295,
            382295,
            382295,
            382295,
            382295,
            382295,
            382295,
            382295,
            384242,
            384242,
            384242,
            384242,
            384242,
            384242,
            384242,
            384242,
            384242,
            384242,
            384242,
            384242,
            384242,
            384242,
            384242,
            384242,
            384242,
            384242,
            384242,
            384242,
            384242,
            384242,
            384242,
            384242,
            384242,
            384242,
            384242,
            384242,
            384242,
            384242,
            384242,
            384242,
            384242,
            384242,
            384242,
            384242,
            384242,
            384242,
            384242,
            384242,
            384242,
            384242,
            384242,
            384242,
            384242,
            384242
           ]
          },
          {
           "label": "gross_rent",
           "values": [
            1239,
            1239,
            1239,
            1239,
            1239,
            1239,
            1239,
            1239,
            1239,
            1239,
            1239,
            1239,
            1239,
            1239,
            1239,
            1239,
            1239,
            1239,
            1239,
            1239,
            1239,
            1239,
            1239,
            1239,
            1239,
            1239,
            1239,
            1239,
            1239,
            1239,
            1239,
            1239,
            1239,
            1239,
            1239,
            1239,
            1239,
            1239,
            1239,
            1239,
            1239,
            1239,
            1239,
            1239,
            1239,
            1239,
            1239,
            1239,
            1239,
            1239,
            1239,
            1239,
            1239,
            1239,
            1239,
            1239,
            1239,
            1239,
            1239,
            1530,
            1530,
            1530,
            1530,
            1530,
            1530,
            1530,
            1530,
            1530,
            1530,
            1530,
            1530,
            1530,
            1530,
            1530,
            1530,
            1530,
            1530,
            1530,
            1530,
            1530,
            1530,
            1530,
            1530,
            1530,
            1530,
            1530,
            1530,
            1530,
            1530,
            1530,
            1530,
            1530,
            1530,
            1530,
            1530,
            1530,
            1530,
            1530,
            1530,
            1530,
            1530,
            1530,
            1530,
            1530,
            1530,
            1530,
            1530,
            1530,
            1530,
            1530,
            1530,
            1530,
            1530,
            1530,
            1530,
            1530,
            1530,
            1530,
            2324,
            2324,
            2324,
            2324,
            2324,
            2324,
            2324,
            2324,
            2324,
            2324,
            2324,
            2324,
            2324,
            2324,
            2324,
            2324,
            2324,
            2324,
            2324,
            2324,
            2324,
            2324,
            2324,
            2324,
            2324,
            2324,
            2324,
            2324,
            2324,
            2324,
            2324,
            2324,
            2324,
            2324,
            2324,
            2324,
            2324,
            2324,
            2324,
            2324,
            2324,
            2324,
            2324,
            2324,
            2324,
            2324,
            2324,
            2324,
            2324,
            2324,
            2324,
            2324,
            2324,
            2324,
            2324,
            2324,
            2324,
            2324,
            2971,
            2971,
            2971,
            2971,
            2971,
            2971,
            2971,
            2971,
            2971,
            2971,
            2971,
            2971,
            2971,
            2971,
            2971,
            2971,
            2971,
            2971,
            2971,
            2971,
            2971,
            2971,
            2971,
            2971,
            2971,
            2971,
            2971,
            2971,
            2971,
            2971,
            2971,
            2971,
            2971,
            2971,
            2971,
            2971,
            2971,
            2971,
            2971,
            2971,
            2971,
            2971,
            2971,
            2971,
            2971,
            2971,
            2971,
            2971,
            2971,
            2971,
            2971,
            2971,
            2971,
            2971,
            2971,
            2971,
            2971,
            3528,
            3528,
            3528,
            3528,
            3528,
            3528,
            3528,
            3528,
            3528,
            3528,
            3528,
            3528,
            3528,
            3528,
            3528,
            3528,
            3528,
            3528,
            3528,
            3528,
            3528,
            3528,
            3528,
            3528,
            3528,
            3528,
            3528,
            3528,
            3528,
            3528,
            3528,
            3528,
            3528,
            3528,
            3528,
            3528,
            3528,
            3528,
            3528,
            3528,
            3528,
            3528,
            3528,
            3528,
            3528,
            3528,
            3528,
            3528,
            3528,
            3528,
            3528,
            3528,
            3528,
            3528,
            3528,
            3528,
            3528,
            3528,
            3528,
            3528,
            3739,
            3739,
            3739,
            3739,
            3739,
            3739,
            3739,
            3739,
            3739,
            3739,
            3739,
            3739,
            3739,
            3739,
            3739,
            3739,
            3739,
            3739,
            3739,
            3739,
            3739,
            3739,
            3739,
            3739,
            3739,
            3739,
            3739,
            3739,
            3739,
            3739,
            3739,
            3739,
            3739,
            3739,
            3739,
            3739,
            3739,
            3739,
            3739,
            3739,
            3739,
            3739,
            3739,
            3739,
            3739,
            3739,
            3739,
            3739,
            3739,
            3739,
            3739,
            3739,
            3739,
            3739,
            3739,
            3739,
            3739,
            3739,
            4390,
            4390,
            4390,
            4390,
            4390,
            4390,
            4390,
            4390,
            4390,
            4390,
            4390,
            4390,
            4390,
            4390,
            4390,
            4390,
            4390,
            4390,
            4390,
            4390,
            4390,
            4390,
            4390,
            4390,
            4390,
            4390,
            4390,
            4390,
            4390,
            4390,
            4390,
            4390,
            4390,
            4390,
            4390,
            4390,
            4390,
            4390,
            4390,
            4390,
            4390,
            4390,
            4390,
            4390,
            4390,
            4390
           ]
          }
         ],
         "domain": {
          "x": [
           0,
           1
          ],
          "y": [
           0,
           1
          ]
         },
         "line": {
          "color": [
           291.18294547229095,
           267.9325826799483,
           170.09866536400102,
           347.3949194037114,
           319.0276225530687,
           418.1724927089675,
           369.35933800413665,
           569.3799679261333,
           165.6457300650791,
           456.9308221979013,
           241.80455206485138,
           403.1183126490986,
           364.92833570851764,
           401.7499665916537,
           162.82121004772353,
           209.0493266346945,
           715.5864380979738,
           551.8011188234774,
           254.47377914469143,
           272.28497956385485,
           170.62491987132685,
           275.05668560990915,
           238.35002040677708,
           199.70200378219917,
           285.82235848868265,
           275.76972957461044,
           419.88781187646566,
           320.79691049204627,
           398.4588759923028,
           374.05763601016855,
           387.392839476922,
           680.6087291389301,
           489.80537777998506,
           257.98799863500693,
           262.87602564056425,
           307.67747674427835,
           381.13844514705266,
           282.11967050133603,
           432.19529211245555,
           338.12619999607017,
           368.31155203937294,
           496.51601414694983,
           326.01715041025074,
           274.16674158669116,
           434.25500394602585,
           302.15611319728896,
           491.45000385678617,
           549.4179312485746,
           362.34822391312133,
           1037.0997886617895,
           401.2959764896399,
           542.5316819894505,
           524.7935090952678,
           331.55599614560697,
           569.1934475267735,
           108.0129268765048,
           392.30076417058257,
           215.56913431487555,
           333.12677384193887,
           272.5273101795261,
           172.54056243085552,
           471.9217320911283,
           171.7723466866044,
           261.6638003416518,
           391.42644972996203,
           520.7181675305429,
           222.567848047696,
           390.5956530284181,
           145.85338027594094,
           382.3522610640586,
           234.28162351035442,
           295.77937822922695,
           413.16280403427527,
           281.312904357283,
           354.66555789282774,
           457.41388429762526,
           348.92970004124925,
           392.35345097326814,
           280.73063309393075,
           356.7090091359044,
           198.01587292452027,
           283.17495073168755,
           360.03727240448274,
           302.60448945564127,
           610.7666631577348,
           330.10889435237306,
           313.33845823084727,
           303.5441997161898,
           390.81846895621413,
           414.67606477603755,
           506.95217450146765,
           293.4042461148187,
           340.6425969783877,
           373.97868706755236,
           290.9210327099608,
           346.96116001560216,
           142.14256751724554,
           241.94565649181578,
           271.09013956932756,
           297.2455578459466,
           509.0214800287398,
           289.60560009472283,
           217.55878684527906,
           466.6178976523653,
           208.1679967483858,
           503.13850456030497,
           493.814917282618,
           448.3201042149405,
           388.6443367815385,
           337.91413464365013,
           437.16429949197664,
           483.4057725178001,
           284.56696642681646,
           302.12325280969134,
           384.23680203579306,
           227.41898086494461,
           320.0743330547439,
           438.86054508174806,
           183.09931693145703,
           344.4909139677922,
           165.79806239165433,
           368.26656078838516,
           338.60116351046344,
           279.0301399218751,
           334.4878725198492,
           356.7948135908725,
           644.8183066758803,
           415.0903401095623,
           366.9954275112727,
           269.109528813633,
           452.66002242984047,
           524.8134180834782,
           371.0302152741686,
           286.3519820673892,
           613.8430658201435,
           434.63234651328025,
           418.83037933269526,
           306.3779578647354,
           336.8259501844992,
           373.4668636470579,
           325.82892041816064,
           383.15039609809617,
           380.5214843069476,
           545.9801982412763,
           396.171112391617,
           445.21509554245245,
           421.1412447061912,
           397.9391288956355,
           756.1923725098497,
           689.5233123659036,
           320.9599230279341,
           307.78311439850694,
           428.0219127043747,
           517.1734931165627,
           390.3838567783597,
           442.24265696115737,
           221.881138746669,
           312.83398436239065,
           338.63301173022234,
           413.05871935195154,
           586.2182148097696,
           288.0785187599688,
           378.2738784387478,
           515.9210732061051,
           351.0432256921308,
           466.6478402167172,
           426.60859207171325,
           414.16272789686775,
           463.8098989043553,
           465.80212163177373,
           304.89964760284107,
           445.1967876448791,
           345.95804038831767,
           325.79541506433713,
           274.33846004864847,
           491.8140030500954,
           387.79414379681333,
           453.34049829869934,
           259.54716259308043,
           630.8973025513741,
           455.2180887853926,
           343.0542609770136,
           330.7364310191893,
           453.7716045219721,
           707.4028088888208,
           223.11583290346024,
           533.6884470076521,
           361.45469198221224,
           608.694967227678,
           289.749665708438,
           274.4579436322337,
           458.7213317825408,
           956.1841219171133,
           478.4956365730093,
           491.5892613631572,
           377.51801557551835,
           302.96737702840636,
           435.5456667813491,
           584.0737147409254,
           568.6511487607912,
           376.08359802951554,
           548.0466890413603,
           655.1980415945777,
           703.0815676877947,
           null,
           427.16626614177557,
           591.4020223180053,
           466.02648785310464,
           615.0639297056517,
           393.71733534550384,
           483.16880334240136,
           372.24198616911974,
           332.40781536886453,
           322.0822144332409,
           503.89926133005366,
           512.6307219919141,
           364.62465302417013,
           425.64225533080946,
           235.99759251727426,
           598.704795328917,
           512.8402484358223,
           506.22752218971993,
           420.822184596571,
           505.83481143735054,
           653.3116166908643,
           414.43569251368126,
           1290.472106646641,
           285.0095060630079,
           293.2983722057751,
           588.0747967826295,
           217.0890689540353,
           747.3335378171588,
           753.0114133184368,
           484.44355217067766,
           620.4414065565543,
           254.95866163273848,
           544.5469286452765,
           423.95272693478194,
           456.2419957897522,
           888.1821435177138,
           691.8654114838455,
           428.7265326799175,
           630.3115352378672,
           728.9797158498743,
           358.30523872237734,
           409.9438351783924,
           694.4181461347432,
           553.5627522522698,
           567.3400104586143,
           496.55100121228986,
           428.9237926791115,
           647.6496334575522,
           464.1758436880091,
           597.200528047448,
           430.9396363161629,
           470.85352986706454,
           426.7863811847511,
           432.9627229749631,
           317.2219194303952,
           716.3765095625198,
           642.838478220973,
           528.7265413888829,
           1267.7662026328826,
           220.11108719171108,
           642.2195925518147,
           300.1873092016618,
           478.44335175268515,
           654.801499892284,
           379.92536172660726,
           650.963515967709,
           401.9350222176535,
           490.36358286726374,
           824.6586936349588,
           371.9242451684328,
           446.23924529045684,
           773.4061347806703,
           538.204698577284,
           1045.2015459222662,
           603.4509968798565,
           714.2220737504065,
           170.2925485152069,
           524.6293121403909,
           1119.8388773148026,
           493.45560489574007,
           708.1930316849231,
           562.9112337982453,
           558.2711194060469,
           475.39318681250677,
           282.02546830016496,
           687.7829633004552,
           429.4883174233179,
           742.9797231632554,
           479.9237488133093,
           602.1158769435002,
           465.68627450980387,
           590.7928388746802,
           458.0042993401075,
           551.6956218496264,
           473.1638149617127,
           453.3793770708969,
           1100.7911936704506,
           598.6205414959003,
           301.61864706270705,
           485.8868855757771,
           631.6456863280099,
           790.1803690820187,
           414.35585647200105,
           694.358566653677,
           453.4330812935196,
           612.1061563311456,
           772.7128362001238,
           574.2740565313097,
           536.5571018753241,
           null,
           192.16524813774402,
           435.9007753824155,
           762.5272331154684,
           493.61555763336935,
           639.1464438694404,
           576.4579094375945,
           426.6849522707296,
           918.2882682038704,
           800.0388650775142,
           1132.8373605554546,
           571.7557085689908,
           583.8486362312665,
           529.847319131393,
           544.6002639104154,
           448.86919667679206,
           890.9095931764135,
           265.92982650327014,
           564.6874764662283,
           652.2879690318528,
           438.4677874196749,
           357.8946922463997,
           910.1876901656897,
           616.5723883169862,
           null,
           605.3433249358948,
           821.3009904764873,
           null,
           793.2619915605263,
           717.0825412171872,
           439.7498835483721,
           996.9902204858653,
           417.33537892280015,
           2258.702831998355,
           677.8382318281795,
           302.2218727063018,
           481.46924427394237,
           963.5226061641273,
           340.98183523166995,
           88.40151094606408,
           986.8421052631579,
           851.4014053492668,
           661.0644257703083,
           581.3708750724594,
           1059.0656015492618,
           566.7011760342162,
           718.7768297452345,
           1026.7911075237503,
           534.2262501283425,
           null,
           945.5665024630542,
           531.8350322320708,
           175.06606919629078,
           571.5799833446893,
           647.7704471840341,
           518.1126504655916,
           403.31113221139015,
           445.9238282688497,
           704.5664189758045,
           636.4307703489127,
           431.94460202359033,
           1416.666666666667,
           924.5691159025888,
           879.0170132325142,
           777.0083145338547,
           799.4956512788842,
           407.5533215595707,
           40.7726253518439,
           732.7206841423807,
           1196.645436923929,
           510.5769072143791,
           996.3893635634033,
           211.30136986006568,
           1207.997484708169,
           707.6516094320912,
           1465.9685863874345,
           1024.3398771365157,
           531.1363737279744,
           751.1737089201877,
           903.0497705987848,
           970.08547008547,
           552.6025671312701,
           328.31900668576884,
           631.1954258724091
          ],
          "coloraxis": "coloraxis"
         },
         "name": "",
         "type": "parcoords"
        }
       ],
       "layout": {
        "coloraxis": {
         "colorbar": {
          "title": {
           "text": "sale_price_sqr_foot"
          }
         },
         "colorscale": [
          [
           0,
           "#000004"
          ],
          [
           0.1111111111111111,
           "#1b0c41"
          ],
          [
           0.2222222222222222,
           "#4a0c6b"
          ],
          [
           0.3333333333333333,
           "#781c6d"
          ],
          [
           0.4444444444444444,
           "#a52c60"
          ],
          [
           0.5555555555555556,
           "#cf4446"
          ],
          [
           0.6666666666666666,
           "#ed6925"
          ],
          [
           0.7777777777777778,
           "#fb9b06"
          ],
          [
           0.8888888888888888,
           "#f7d13d"
          ],
          [
           1,
           "#fcffa4"
          ]
         ]
        },
        "legend": {
         "tracegroupgap": 0
        },
        "margin": {
         "t": 60
        },
        "template": {
         "data": {
          "bar": [
           {
            "error_x": {
             "color": "#2a3f5f"
            },
            "error_y": {
             "color": "#2a3f5f"
            },
            "marker": {
             "line": {
              "color": "#E5ECF6",
              "width": 0.5
             }
            },
            "type": "bar"
           }
          ],
          "barpolar": [
           {
            "marker": {
             "line": {
              "color": "#E5ECF6",
              "width": 0.5
             }
            },
            "type": "barpolar"
           }
          ],
          "carpet": [
           {
            "aaxis": {
             "endlinecolor": "#2a3f5f",
             "gridcolor": "white",
             "linecolor": "white",
             "minorgridcolor": "white",
             "startlinecolor": "#2a3f5f"
            },
            "baxis": {
             "endlinecolor": "#2a3f5f",
             "gridcolor": "white",
             "linecolor": "white",
             "minorgridcolor": "white",
             "startlinecolor": "#2a3f5f"
            },
            "type": "carpet"
           }
          ],
          "choropleth": [
           {
            "colorbar": {
             "outlinewidth": 0,
             "ticks": ""
            },
            "type": "choropleth"
           }
          ],
          "contour": [
           {
            "colorbar": {
             "outlinewidth": 0,
             "ticks": ""
            },
            "colorscale": [
             [
              0,
              "#0d0887"
             ],
             [
              0.1111111111111111,
              "#46039f"
             ],
             [
              0.2222222222222222,
              "#7201a8"
             ],
             [
              0.3333333333333333,
              "#9c179e"
             ],
             [
              0.4444444444444444,
              "#bd3786"
             ],
             [
              0.5555555555555556,
              "#d8576b"
             ],
             [
              0.6666666666666666,
              "#ed7953"
             ],
             [
              0.7777777777777778,
              "#fb9f3a"
             ],
             [
              0.8888888888888888,
              "#fdca26"
             ],
             [
              1,
              "#f0f921"
             ]
            ],
            "type": "contour"
           }
          ],
          "contourcarpet": [
           {
            "colorbar": {
             "outlinewidth": 0,
             "ticks": ""
            },
            "type": "contourcarpet"
           }
          ],
          "heatmap": [
           {
            "colorbar": {
             "outlinewidth": 0,
             "ticks": ""
            },
            "colorscale": [
             [
              0,
              "#0d0887"
             ],
             [
              0.1111111111111111,
              "#46039f"
             ],
             [
              0.2222222222222222,
              "#7201a8"
             ],
             [
              0.3333333333333333,
              "#9c179e"
             ],
             [
              0.4444444444444444,
              "#bd3786"
             ],
             [
              0.5555555555555556,
              "#d8576b"
             ],
             [
              0.6666666666666666,
              "#ed7953"
             ],
             [
              0.7777777777777778,
              "#fb9f3a"
             ],
             [
              0.8888888888888888,
              "#fdca26"
             ],
             [
              1,
              "#f0f921"
             ]
            ],
            "type": "heatmap"
           }
          ],
          "heatmapgl": [
           {
            "colorbar": {
             "outlinewidth": 0,
             "ticks": ""
            },
            "colorscale": [
             [
              0,
              "#0d0887"
             ],
             [
              0.1111111111111111,
              "#46039f"
             ],
             [
              0.2222222222222222,
              "#7201a8"
             ],
             [
              0.3333333333333333,
              "#9c179e"
             ],
             [
              0.4444444444444444,
              "#bd3786"
             ],
             [
              0.5555555555555556,
              "#d8576b"
             ],
             [
              0.6666666666666666,
              "#ed7953"
             ],
             [
              0.7777777777777778,
              "#fb9f3a"
             ],
             [
              0.8888888888888888,
              "#fdca26"
             ],
             [
              1,
              "#f0f921"
             ]
            ],
            "type": "heatmapgl"
           }
          ],
          "histogram": [
           {
            "marker": {
             "colorbar": {
              "outlinewidth": 0,
              "ticks": ""
             }
            },
            "type": "histogram"
           }
          ],
          "histogram2d": [
           {
            "colorbar": {
             "outlinewidth": 0,
             "ticks": ""
            },
            "colorscale": [
             [
              0,
              "#0d0887"
             ],
             [
              0.1111111111111111,
              "#46039f"
             ],
             [
              0.2222222222222222,
              "#7201a8"
             ],
             [
              0.3333333333333333,
              "#9c179e"
             ],
             [
              0.4444444444444444,
              "#bd3786"
             ],
             [
              0.5555555555555556,
              "#d8576b"
             ],
             [
              0.6666666666666666,
              "#ed7953"
             ],
             [
              0.7777777777777778,
              "#fb9f3a"
             ],
             [
              0.8888888888888888,
              "#fdca26"
             ],
             [
              1,
              "#f0f921"
             ]
            ],
            "type": "histogram2d"
           }
          ],
          "histogram2dcontour": [
           {
            "colorbar": {
             "outlinewidth": 0,
             "ticks": ""
            },
            "colorscale": [
             [
              0,
              "#0d0887"
             ],
             [
              0.1111111111111111,
              "#46039f"
             ],
             [
              0.2222222222222222,
              "#7201a8"
             ],
             [
              0.3333333333333333,
              "#9c179e"
             ],
             [
              0.4444444444444444,
              "#bd3786"
             ],
             [
              0.5555555555555556,
              "#d8576b"
             ],
             [
              0.6666666666666666,
              "#ed7953"
             ],
             [
              0.7777777777777778,
              "#fb9f3a"
             ],
             [
              0.8888888888888888,
              "#fdca26"
             ],
             [
              1,
              "#f0f921"
             ]
            ],
            "type": "histogram2dcontour"
           }
          ],
          "mesh3d": [
           {
            "colorbar": {
             "outlinewidth": 0,
             "ticks": ""
            },
            "type": "mesh3d"
           }
          ],
          "parcoords": [
           {
            "line": {
             "colorbar": {
              "outlinewidth": 0,
              "ticks": ""
             }
            },
            "type": "parcoords"
           }
          ],
          "pie": [
           {
            "automargin": true,
            "type": "pie"
           }
          ],
          "scatter": [
           {
            "marker": {
             "colorbar": {
              "outlinewidth": 0,
              "ticks": ""
             }
            },
            "type": "scatter"
           }
          ],
          "scatter3d": [
           {
            "line": {
             "colorbar": {
              "outlinewidth": 0,
              "ticks": ""
             }
            },
            "marker": {
             "colorbar": {
              "outlinewidth": 0,
              "ticks": ""
             }
            },
            "type": "scatter3d"
           }
          ],
          "scattercarpet": [
           {
            "marker": {
             "colorbar": {
              "outlinewidth": 0,
              "ticks": ""
             }
            },
            "type": "scattercarpet"
           }
          ],
          "scattergeo": [
           {
            "marker": {
             "colorbar": {
              "outlinewidth": 0,
              "ticks": ""
             }
            },
            "type": "scattergeo"
           }
          ],
          "scattergl": [
           {
            "marker": {
             "colorbar": {
              "outlinewidth": 0,
              "ticks": ""
             }
            },
            "type": "scattergl"
           }
          ],
          "scattermapbox": [
           {
            "marker": {
             "colorbar": {
              "outlinewidth": 0,
              "ticks": ""
             }
            },
            "type": "scattermapbox"
           }
          ],
          "scatterpolar": [
           {
            "marker": {
             "colorbar": {
              "outlinewidth": 0,
              "ticks": ""
             }
            },
            "type": "scatterpolar"
           }
          ],
          "scatterpolargl": [
           {
            "marker": {
             "colorbar": {
              "outlinewidth": 0,
              "ticks": ""
             }
            },
            "type": "scatterpolargl"
           }
          ],
          "scatterternary": [
           {
            "marker": {
             "colorbar": {
              "outlinewidth": 0,
              "ticks": ""
             }
            },
            "type": "scatterternary"
           }
          ],
          "surface": [
           {
            "colorbar": {
             "outlinewidth": 0,
             "ticks": ""
            },
            "colorscale": [
             [
              0,
              "#0d0887"
             ],
             [
              0.1111111111111111,
              "#46039f"
             ],
             [
              0.2222222222222222,
              "#7201a8"
             ],
             [
              0.3333333333333333,
              "#9c179e"
             ],
             [
              0.4444444444444444,
              "#bd3786"
             ],
             [
              0.5555555555555556,
              "#d8576b"
             ],
             [
              0.6666666666666666,
              "#ed7953"
             ],
             [
              0.7777777777777778,
              "#fb9f3a"
             ],
             [
              0.8888888888888888,
              "#fdca26"
             ],
             [
              1,
              "#f0f921"
             ]
            ],
            "type": "surface"
           }
          ],
          "table": [
           {
            "cells": {
             "fill": {
              "color": "#EBF0F8"
             },
             "line": {
              "color": "white"
             }
            },
            "header": {
             "fill": {
              "color": "#C8D4E3"
             },
             "line": {
              "color": "white"
             }
            },
            "type": "table"
           }
          ]
         },
         "layout": {
          "annotationdefaults": {
           "arrowcolor": "#2a3f5f",
           "arrowhead": 0,
           "arrowwidth": 1
          },
          "autotypenumbers": "strict",
          "coloraxis": {
           "colorbar": {
            "outlinewidth": 0,
            "ticks": ""
           }
          },
          "colorscale": {
           "diverging": [
            [
             0,
             "#8e0152"
            ],
            [
             0.1,
             "#c51b7d"
            ],
            [
             0.2,
             "#de77ae"
            ],
            [
             0.3,
             "#f1b6da"
            ],
            [
             0.4,
             "#fde0ef"
            ],
            [
             0.5,
             "#f7f7f7"
            ],
            [
             0.6,
             "#e6f5d0"
            ],
            [
             0.7,
             "#b8e186"
            ],
            [
             0.8,
             "#7fbc41"
            ],
            [
             0.9,
             "#4d9221"
            ],
            [
             1,
             "#276419"
            ]
           ],
           "sequential": [
            [
             0,
             "#0d0887"
            ],
            [
             0.1111111111111111,
             "#46039f"
            ],
            [
             0.2222222222222222,
             "#7201a8"
            ],
            [
             0.3333333333333333,
             "#9c179e"
            ],
            [
             0.4444444444444444,
             "#bd3786"
            ],
            [
             0.5555555555555556,
             "#d8576b"
            ],
            [
             0.6666666666666666,
             "#ed7953"
            ],
            [
             0.7777777777777778,
             "#fb9f3a"
            ],
            [
             0.8888888888888888,
             "#fdca26"
            ],
            [
             1,
             "#f0f921"
            ]
           ],
           "sequentialminus": [
            [
             0,
             "#0d0887"
            ],
            [
             0.1111111111111111,
             "#46039f"
            ],
            [
             0.2222222222222222,
             "#7201a8"
            ],
            [
             0.3333333333333333,
             "#9c179e"
            ],
            [
             0.4444444444444444,
             "#bd3786"
            ],
            [
             0.5555555555555556,
             "#d8576b"
            ],
            [
             0.6666666666666666,
             "#ed7953"
            ],
            [
             0.7777777777777778,
             "#fb9f3a"
            ],
            [
             0.8888888888888888,
             "#fdca26"
            ],
            [
             1,
             "#f0f921"
            ]
           ]
          },
          "colorway": [
           "#636efa",
           "#EF553B",
           "#00cc96",
           "#ab63fa",
           "#FFA15A",
           "#19d3f3",
           "#FF6692",
           "#B6E880",
           "#FF97FF",
           "#FECB52"
          ],
          "font": {
           "color": "#2a3f5f"
          },
          "geo": {
           "bgcolor": "white",
           "lakecolor": "white",
           "landcolor": "#E5ECF6",
           "showlakes": true,
           "showland": true,
           "subunitcolor": "white"
          },
          "hoverlabel": {
           "align": "left"
          },
          "hovermode": "closest",
          "mapbox": {
           "style": "light"
          },
          "paper_bgcolor": "white",
          "plot_bgcolor": "#E5ECF6",
          "polar": {
           "angularaxis": {
            "gridcolor": "white",
            "linecolor": "white",
            "ticks": ""
           },
           "bgcolor": "#E5ECF6",
           "radialaxis": {
            "gridcolor": "white",
            "linecolor": "white",
            "ticks": ""
           }
          },
          "scene": {
           "xaxis": {
            "backgroundcolor": "#E5ECF6",
            "gridcolor": "white",
            "gridwidth": 2,
            "linecolor": "white",
            "showbackground": true,
            "ticks": "",
            "zerolinecolor": "white"
           },
           "yaxis": {
            "backgroundcolor": "#E5ECF6",
            "gridcolor": "white",
            "gridwidth": 2,
            "linecolor": "white",
            "showbackground": true,
            "ticks": "",
            "zerolinecolor": "white"
           },
           "zaxis": {
            "backgroundcolor": "#E5ECF6",
            "gridcolor": "white",
            "gridwidth": 2,
            "linecolor": "white",
            "showbackground": true,
            "ticks": "",
            "zerolinecolor": "white"
           }
          },
          "shapedefaults": {
           "line": {
            "color": "#2a3f5f"
           }
          },
          "ternary": {
           "aaxis": {
            "gridcolor": "white",
            "linecolor": "white",
            "ticks": ""
           },
           "baxis": {
            "gridcolor": "white",
            "linecolor": "white",
            "ticks": ""
           },
           "bgcolor": "#E5ECF6",
           "caxis": {
            "gridcolor": "white",
            "linecolor": "white",
            "ticks": ""
           }
          },
          "title": {
           "x": 0.05
          },
          "xaxis": {
           "automargin": true,
           "gridcolor": "white",
           "linecolor": "white",
           "ticks": "",
           "title": {
            "standoff": 15
           },
           "zerolinecolor": "white",
           "zerolinewidth": 2
          },
          "yaxis": {
           "automargin": true,
           "gridcolor": "white",
           "linecolor": "white",
           "ticks": "",
           "title": {
            "standoff": 15
           },
           "zerolinecolor": "white",
           "zerolinewidth": 2
          }
         }
        }
       }
      },
      "text/html": [
       "<div>                            <div id=\"838d6ef3-f356-4d25-9efa-81f3e624cc55\" class=\"plotly-graph-div\" style=\"height:525px; width:100%;\"></div>            <script type=\"text/javascript\">                require([\"plotly\"], function(Plotly) {                    window.PLOTLYENV=window.PLOTLYENV || {};                                    if (document.getElementById(\"838d6ef3-f356-4d25-9efa-81f3e624cc55\")) {                    Plotly.newPlot(                        \"838d6ef3-f356-4d25-9efa-81f3e624cc55\",                        [{\"dimensions\": [{\"label\": \"year\", \"values\": [2010, 2010, 2010, 2010, 2010, 2010, 2010, 2010, 2010, 2010, 2010, 2010, 2010, 2010, 2010, 2010, 2010, 2010, 2010, 2010, 2010, 2010, 2010, 2010, 2010, 2010, 2010, 2010, 2010, 2010, 2010, 2010, 2010, 2010, 2010, 2010, 2010, 2010, 2010, 2010, 2010, 2010, 2010, 2010, 2010, 2010, 2010, 2010, 2010, 2010, 2010, 2010, 2010, 2010, 2010, 2010, 2010, 2010, 2010, 2011, 2011, 2011, 2011, 2011, 2011, 2011, 2011, 2011, 2011, 2011, 2011, 2011, 2011, 2011, 2011, 2011, 2011, 2011, 2011, 2011, 2011, 2011, 2011, 2011, 2011, 2011, 2011, 2011, 2011, 2011, 2011, 2011, 2011, 2011, 2011, 2011, 2011, 2011, 2011, 2011, 2011, 2011, 2011, 2011, 2011, 2011, 2011, 2011, 2011, 2011, 2011, 2011, 2011, 2011, 2011, 2011, 2011, 2011, 2012, 2012, 2012, 2012, 2012, 2012, 2012, 2012, 2012, 2012, 2012, 2012, 2012, 2012, 2012, 2012, 2012, 2012, 2012, 2012, 2012, 2012, 2012, 2012, 2012, 2012, 2012, 2012, 2012, 2012, 2012, 2012, 2012, 2012, 2012, 2012, 2012, 2012, 2012, 2012, 2012, 2012, 2012, 2012, 2012, 2012, 2012, 2012, 2012, 2012, 2012, 2012, 2012, 2012, 2012, 2012, 2012, 2012, 2013, 2013, 2013, 2013, 2013, 2013, 2013, 2013, 2013, 2013, 2013, 2013, 2013, 2013, 2013, 2013, 2013, 2013, 2013, 2013, 2013, 2013, 2013, 2013, 2013, 2013, 2013, 2013, 2013, 2013, 2013, 2013, 2013, 2013, 2013, 2013, 2013, 2013, 2013, 2013, 2013, 2013, 2013, 2013, 2013, 2013, 2013, 2013, 2013, 2013, 2013, 2013, 2013, 2013, 2013, 2013, 2013, 2014, 2014, 2014, 2014, 2014, 2014, 2014, 2014, 2014, 2014, 2014, 2014, 2014, 2014, 2014, 2014, 2014, 2014, 2014, 2014, 2014, 2014, 2014, 2014, 2014, 2014, 2014, 2014, 2014, 2014, 2014, 2014, 2014, 2014, 2014, 2014, 2014, 2014, 2014, 2014, 2014, 2014, 2014, 2014, 2014, 2014, 2014, 2014, 2014, 2014, 2014, 2014, 2014, 2014, 2014, 2014, 2014, 2014, 2014, 2014, 2015, 2015, 2015, 2015, 2015, 2015, 2015, 2015, 2015, 2015, 2015, 2015, 2015, 2015, 2015, 2015, 2015, 2015, 2015, 2015, 2015, 2015, 2015, 2015, 2015, 2015, 2015, 2015, 2015, 2015, 2015, 2015, 2015, 2015, 2015, 2015, 2015, 2015, 2015, 2015, 2015, 2015, 2015, 2015, 2015, 2015, 2015, 2015, 2015, 2015, 2015, 2015, 2015, 2015, 2015, 2015, 2015, 2015, 2016, 2016, 2016, 2016, 2016, 2016, 2016, 2016, 2016, 2016, 2016, 2016, 2016, 2016, 2016, 2016, 2016, 2016, 2016, 2016, 2016, 2016, 2016, 2016, 2016, 2016, 2016, 2016, 2016, 2016, 2016, 2016, 2016, 2016, 2016, 2016, 2016, 2016, 2016, 2016, 2016, 2016, 2016, 2016, 2016, 2016]}, {\"label\": \"sale_price_sqr_foot\", \"values\": [291.18294547229095, 267.9325826799483, 170.09866536400102, 347.3949194037114, 319.0276225530687, 418.1724927089675, 369.35933800413665, 569.3799679261333, 165.6457300650791, 456.9308221979013, 241.80455206485138, 403.1183126490986, 364.92833570851764, 401.7499665916537, 162.82121004772353, 209.0493266346945, 715.5864380979738, 551.8011188234774, 254.47377914469143, 272.28497956385485, 170.62491987132685, 275.05668560990915, 238.35002040677708, 199.70200378219917, 285.82235848868265, 275.76972957461044, 419.88781187646566, 320.79691049204627, 398.4588759923028, 374.05763601016855, 387.392839476922, 680.6087291389301, 489.80537777998506, 257.98799863500693, 262.87602564056425, 307.67747674427835, 381.13844514705266, 282.11967050133603, 432.19529211245555, 338.12619999607017, 368.31155203937294, 496.51601414694983, 326.01715041025074, 274.16674158669116, 434.25500394602585, 302.15611319728896, 491.45000385678617, 549.4179312485746, 362.34822391312133, 1037.0997886617895, 401.2959764896399, 542.5316819894505, 524.7935090952678, 331.55599614560697, 569.1934475267735, 108.0129268765048, 392.30076417058257, 215.56913431487555, 333.12677384193887, 272.5273101795261, 172.54056243085552, 471.9217320911283, 171.7723466866044, 261.6638003416518, 391.42644972996203, 520.7181675305429, 222.567848047696, 390.5956530284181, 145.85338027594094, 382.3522610640586, 234.28162351035442, 295.77937822922695, 413.16280403427527, 281.312904357283, 354.66555789282774, 457.41388429762526, 348.92970004124925, 392.35345097326814, 280.73063309393075, 356.7090091359044, 198.01587292452027, 283.17495073168755, 360.03727240448274, 302.60448945564127, 610.7666631577348, 330.10889435237306, 313.33845823084727, 303.5441997161898, 390.81846895621413, 414.67606477603755, 506.95217450146765, 293.4042461148187, 340.6425969783877, 373.97868706755236, 290.9210327099608, 346.96116001560216, 142.14256751724554, 241.94565649181578, 271.09013956932756, 297.2455578459466, 509.0214800287398, 289.60560009472283, 217.55878684527906, 466.6178976523653, 208.1679967483858, 503.13850456030497, 493.814917282618, 448.3201042149405, 388.6443367815385, 337.91413464365013, 437.16429949197664, 483.4057725178001, 284.56696642681646, 302.12325280969134, 384.23680203579306, 227.41898086494461, 320.0743330547439, 438.86054508174806, 183.09931693145703, 344.4909139677922, 165.79806239165433, 368.26656078838516, 338.60116351046344, 279.0301399218751, 334.4878725198492, 356.7948135908725, 644.8183066758803, 415.0903401095623, 366.9954275112727, 269.109528813633, 452.66002242984047, 524.8134180834782, 371.0302152741686, 286.3519820673892, 613.8430658201435, 434.63234651328025, 418.83037933269526, 306.3779578647354, 336.8259501844992, 373.4668636470579, 325.82892041816064, 383.15039609809617, 380.5214843069476, 545.9801982412763, 396.171112391617, 445.21509554245245, 421.1412447061912, 397.9391288956355, 756.1923725098497, 689.5233123659036, 320.9599230279341, 307.78311439850694, 428.0219127043747, 517.1734931165627, 390.3838567783597, 442.24265696115737, 221.881138746669, 312.83398436239065, 338.63301173022234, 413.05871935195154, 586.2182148097696, 288.0785187599688, 378.2738784387478, 515.9210732061051, 351.0432256921308, 466.6478402167172, 426.60859207171325, 414.16272789686775, 463.8098989043553, 465.80212163177373, 304.89964760284107, 445.1967876448791, 345.95804038831767, 325.79541506433713, 274.33846004864847, 491.8140030500954, 387.79414379681333, 453.34049829869934, 259.54716259308043, 630.8973025513741, 455.2180887853926, 343.0542609770136, 330.7364310191893, 453.7716045219721, 707.4028088888208, 223.11583290346024, 533.6884470076521, 361.45469198221224, 608.694967227678, 289.749665708438, 274.4579436322337, 458.7213317825408, 956.1841219171133, 478.4956365730093, 491.5892613631572, 377.51801557551835, 302.96737702840636, 435.5456667813491, 584.0737147409254, 568.6511487607912, 376.08359802951554, 548.0466890413603, 655.1980415945777, 703.0815676877947, null, 427.16626614177557, 591.4020223180053, 466.02648785310464, 615.0639297056517, 393.71733534550384, 483.16880334240136, 372.24198616911974, 332.40781536886453, 322.0822144332409, 503.89926133005366, 512.6307219919141, 364.62465302417013, 425.64225533080946, 235.99759251727426, 598.704795328917, 512.8402484358223, 506.22752218971993, 420.822184596571, 505.83481143735054, 653.3116166908643, 414.43569251368126, 1290.472106646641, 285.0095060630079, 293.2983722057751, 588.0747967826295, 217.0890689540353, 747.3335378171588, 753.0114133184368, 484.44355217067766, 620.4414065565543, 254.95866163273848, 544.5469286452765, 423.95272693478194, 456.2419957897522, 888.1821435177138, 691.8654114838455, 428.7265326799175, 630.3115352378672, 728.9797158498743, 358.30523872237734, 409.9438351783924, 694.4181461347432, 553.5627522522698, 567.3400104586143, 496.55100121228986, 428.9237926791115, 647.6496334575522, 464.1758436880091, 597.200528047448, 430.9396363161629, 470.85352986706454, 426.7863811847511, 432.9627229749631, 317.2219194303952, 716.3765095625198, 642.838478220973, 528.7265413888829, 1267.7662026328826, 220.11108719171108, 642.2195925518147, 300.1873092016618, 478.44335175268515, 654.801499892284, 379.92536172660726, 650.963515967709, 401.9350222176535, 490.36358286726374, 824.6586936349588, 371.9242451684328, 446.23924529045684, 773.4061347806703, 538.204698577284, 1045.2015459222662, 603.4509968798565, 714.2220737504065, 170.2925485152069, 524.6293121403909, 1119.8388773148026, 493.45560489574007, 708.1930316849231, 562.9112337982453, 558.2711194060469, 475.39318681250677, 282.02546830016496, 687.7829633004552, 429.4883174233179, 742.9797231632554, 479.9237488133093, 602.1158769435002, 465.68627450980387, 590.7928388746802, 458.0042993401075, 551.6956218496264, 473.1638149617127, 453.3793770708969, 1100.7911936704506, 598.6205414959003, 301.61864706270705, 485.8868855757771, 631.6456863280099, 790.1803690820187, 414.35585647200105, 694.358566653677, 453.4330812935196, 612.1061563311456, 772.7128362001238, 574.2740565313097, 536.5571018753241, null, 192.16524813774402, 435.9007753824155, 762.5272331154684, 493.61555763336935, 639.1464438694404, 576.4579094375945, 426.6849522707296, 918.2882682038704, 800.0388650775142, 1132.8373605554546, 571.7557085689908, 583.8486362312665, 529.847319131393, 544.6002639104154, 448.86919667679206, 890.9095931764135, 265.92982650327014, 564.6874764662283, 652.2879690318528, 438.4677874196749, 357.8946922463997, 910.1876901656897, 616.5723883169862, null, 605.3433249358948, 821.3009904764873, null, 793.2619915605263, 717.0825412171872, 439.7498835483721, 996.9902204858653, 417.33537892280015, 2258.702831998355, 677.8382318281795, 302.2218727063018, 481.46924427394237, 963.5226061641273, 340.98183523166995, 88.40151094606408, 986.8421052631579, 851.4014053492668, 661.0644257703083, 581.3708750724594, 1059.0656015492618, 566.7011760342162, 718.7768297452345, 1026.7911075237503, 534.2262501283425, null, 945.5665024630542, 531.8350322320708, 175.06606919629078, 571.5799833446893, 647.7704471840341, 518.1126504655916, 403.31113221139015, 445.9238282688497, 704.5664189758045, 636.4307703489127, 431.94460202359033, 1416.666666666667, 924.5691159025888, 879.0170132325142, 777.0083145338547, 799.4956512788842, 407.5533215595707, 40.7726253518439, 732.7206841423807, 1196.645436923929, 510.5769072143791, 996.3893635634033, 211.30136986006568, 1207.997484708169, 707.6516094320912, 1465.9685863874345, 1024.3398771365157, 531.1363737279744, 751.1737089201877, 903.0497705987848, 970.08547008547, 552.6025671312701, 328.31900668576884, 631.1954258724091]}, {\"label\": \"housing_units\", \"values\": [372560, 372560, 372560, 372560, 372560, 372560, 372560, 372560, 372560, 372560, 372560, 372560, 372560, 372560, 372560, 372560, 372560, 372560, 372560, 372560, 372560, 372560, 372560, 372560, 372560, 372560, 372560, 372560, 372560, 372560, 372560, 372560, 372560, 372560, 372560, 372560, 372560, 372560, 372560, 372560, 372560, 372560, 372560, 372560, 372560, 372560, 372560, 372560, 372560, 372560, 372560, 372560, 372560, 372560, 372560, 372560, 372560, 372560, 372560, 374507, 374507, 374507, 374507, 374507, 374507, 374507, 374507, 374507, 374507, 374507, 374507, 374507, 374507, 374507, 374507, 374507, 374507, 374507, 374507, 374507, 374507, 374507, 374507, 374507, 374507, 374507, 374507, 374507, 374507, 374507, 374507, 374507, 374507, 374507, 374507, 374507, 374507, 374507, 374507, 374507, 374507, 374507, 374507, 374507, 374507, 374507, 374507, 374507, 374507, 374507, 374507, 374507, 374507, 374507, 374507, 374507, 374507, 374507, 376454, 376454, 376454, 376454, 376454, 376454, 376454, 376454, 376454, 376454, 376454, 376454, 376454, 376454, 376454, 376454, 376454, 376454, 376454, 376454, 376454, 376454, 376454, 376454, 376454, 376454, 376454, 376454, 376454, 376454, 376454, 376454, 376454, 376454, 376454, 376454, 376454, 376454, 376454, 376454, 376454, 376454, 376454, 376454, 376454, 376454, 376454, 376454, 376454, 376454, 376454, 376454, 376454, 376454, 376454, 376454, 376454, 376454, 378401, 378401, 378401, 378401, 378401, 378401, 378401, 378401, 378401, 378401, 378401, 378401, 378401, 378401, 378401, 378401, 378401, 378401, 378401, 378401, 378401, 378401, 378401, 378401, 378401, 378401, 378401, 378401, 378401, 378401, 378401, 378401, 378401, 378401, 378401, 378401, 378401, 378401, 378401, 378401, 378401, 378401, 378401, 378401, 378401, 378401, 378401, 378401, 378401, 378401, 378401, 378401, 378401, 378401, 378401, 378401, 378401, 380348, 380348, 380348, 380348, 380348, 380348, 380348, 380348, 380348, 380348, 380348, 380348, 380348, 380348, 380348, 380348, 380348, 380348, 380348, 380348, 380348, 380348, 380348, 380348, 380348, 380348, 380348, 380348, 380348, 380348, 380348, 380348, 380348, 380348, 380348, 380348, 380348, 380348, 380348, 380348, 380348, 380348, 380348, 380348, 380348, 380348, 380348, 380348, 380348, 380348, 380348, 380348, 380348, 380348, 380348, 380348, 380348, 380348, 380348, 380348, 382295, 382295, 382295, 382295, 382295, 382295, 382295, 382295, 382295, 382295, 382295, 382295, 382295, 382295, 382295, 382295, 382295, 382295, 382295, 382295, 382295, 382295, 382295, 382295, 382295, 382295, 382295, 382295, 382295, 382295, 382295, 382295, 382295, 382295, 382295, 382295, 382295, 382295, 382295, 382295, 382295, 382295, 382295, 382295, 382295, 382295, 382295, 382295, 382295, 382295, 382295, 382295, 382295, 382295, 382295, 382295, 382295, 382295, 384242, 384242, 384242, 384242, 384242, 384242, 384242, 384242, 384242, 384242, 384242, 384242, 384242, 384242, 384242, 384242, 384242, 384242, 384242, 384242, 384242, 384242, 384242, 384242, 384242, 384242, 384242, 384242, 384242, 384242, 384242, 384242, 384242, 384242, 384242, 384242, 384242, 384242, 384242, 384242, 384242, 384242, 384242, 384242, 384242, 384242]}, {\"label\": \"gross_rent\", \"values\": [1239, 1239, 1239, 1239, 1239, 1239, 1239, 1239, 1239, 1239, 1239, 1239, 1239, 1239, 1239, 1239, 1239, 1239, 1239, 1239, 1239, 1239, 1239, 1239, 1239, 1239, 1239, 1239, 1239, 1239, 1239, 1239, 1239, 1239, 1239, 1239, 1239, 1239, 1239, 1239, 1239, 1239, 1239, 1239, 1239, 1239, 1239, 1239, 1239, 1239, 1239, 1239, 1239, 1239, 1239, 1239, 1239, 1239, 1239, 1530, 1530, 1530, 1530, 1530, 1530, 1530, 1530, 1530, 1530, 1530, 1530, 1530, 1530, 1530, 1530, 1530, 1530, 1530, 1530, 1530, 1530, 1530, 1530, 1530, 1530, 1530, 1530, 1530, 1530, 1530, 1530, 1530, 1530, 1530, 1530, 1530, 1530, 1530, 1530, 1530, 1530, 1530, 1530, 1530, 1530, 1530, 1530, 1530, 1530, 1530, 1530, 1530, 1530, 1530, 1530, 1530, 1530, 1530, 2324, 2324, 2324, 2324, 2324, 2324, 2324, 2324, 2324, 2324, 2324, 2324, 2324, 2324, 2324, 2324, 2324, 2324, 2324, 2324, 2324, 2324, 2324, 2324, 2324, 2324, 2324, 2324, 2324, 2324, 2324, 2324, 2324, 2324, 2324, 2324, 2324, 2324, 2324, 2324, 2324, 2324, 2324, 2324, 2324, 2324, 2324, 2324, 2324, 2324, 2324, 2324, 2324, 2324, 2324, 2324, 2324, 2324, 2971, 2971, 2971, 2971, 2971, 2971, 2971, 2971, 2971, 2971, 2971, 2971, 2971, 2971, 2971, 2971, 2971, 2971, 2971, 2971, 2971, 2971, 2971, 2971, 2971, 2971, 2971, 2971, 2971, 2971, 2971, 2971, 2971, 2971, 2971, 2971, 2971, 2971, 2971, 2971, 2971, 2971, 2971, 2971, 2971, 2971, 2971, 2971, 2971, 2971, 2971, 2971, 2971, 2971, 2971, 2971, 2971, 3528, 3528, 3528, 3528, 3528, 3528, 3528, 3528, 3528, 3528, 3528, 3528, 3528, 3528, 3528, 3528, 3528, 3528, 3528, 3528, 3528, 3528, 3528, 3528, 3528, 3528, 3528, 3528, 3528, 3528, 3528, 3528, 3528, 3528, 3528, 3528, 3528, 3528, 3528, 3528, 3528, 3528, 3528, 3528, 3528, 3528, 3528, 3528, 3528, 3528, 3528, 3528, 3528, 3528, 3528, 3528, 3528, 3528, 3528, 3528, 3739, 3739, 3739, 3739, 3739, 3739, 3739, 3739, 3739, 3739, 3739, 3739, 3739, 3739, 3739, 3739, 3739, 3739, 3739, 3739, 3739, 3739, 3739, 3739, 3739, 3739, 3739, 3739, 3739, 3739, 3739, 3739, 3739, 3739, 3739, 3739, 3739, 3739, 3739, 3739, 3739, 3739, 3739, 3739, 3739, 3739, 3739, 3739, 3739, 3739, 3739, 3739, 3739, 3739, 3739, 3739, 3739, 3739, 4390, 4390, 4390, 4390, 4390, 4390, 4390, 4390, 4390, 4390, 4390, 4390, 4390, 4390, 4390, 4390, 4390, 4390, 4390, 4390, 4390, 4390, 4390, 4390, 4390, 4390, 4390, 4390, 4390, 4390, 4390, 4390, 4390, 4390, 4390, 4390, 4390, 4390, 4390, 4390, 4390, 4390, 4390, 4390, 4390, 4390]}], \"domain\": {\"x\": [0.0, 1.0], \"y\": [0.0, 1.0]}, \"line\": {\"color\": [291.18294547229095, 267.9325826799483, 170.09866536400102, 347.3949194037114, 319.0276225530687, 418.1724927089675, 369.35933800413665, 569.3799679261333, 165.6457300650791, 456.9308221979013, 241.80455206485138, 403.1183126490986, 364.92833570851764, 401.7499665916537, 162.82121004772353, 209.0493266346945, 715.5864380979738, 551.8011188234774, 254.47377914469143, 272.28497956385485, 170.62491987132685, 275.05668560990915, 238.35002040677708, 199.70200378219917, 285.82235848868265, 275.76972957461044, 419.88781187646566, 320.79691049204627, 398.4588759923028, 374.05763601016855, 387.392839476922, 680.6087291389301, 489.80537777998506, 257.98799863500693, 262.87602564056425, 307.67747674427835, 381.13844514705266, 282.11967050133603, 432.19529211245555, 338.12619999607017, 368.31155203937294, 496.51601414694983, 326.01715041025074, 274.16674158669116, 434.25500394602585, 302.15611319728896, 491.45000385678617, 549.4179312485746, 362.34822391312133, 1037.0997886617895, 401.2959764896399, 542.5316819894505, 524.7935090952678, 331.55599614560697, 569.1934475267735, 108.0129268765048, 392.30076417058257, 215.56913431487555, 333.12677384193887, 272.5273101795261, 172.54056243085552, 471.9217320911283, 171.7723466866044, 261.6638003416518, 391.42644972996203, 520.7181675305429, 222.567848047696, 390.5956530284181, 145.85338027594094, 382.3522610640586, 234.28162351035442, 295.77937822922695, 413.16280403427527, 281.312904357283, 354.66555789282774, 457.41388429762526, 348.92970004124925, 392.35345097326814, 280.73063309393075, 356.7090091359044, 198.01587292452027, 283.17495073168755, 360.03727240448274, 302.60448945564127, 610.7666631577348, 330.10889435237306, 313.33845823084727, 303.5441997161898, 390.81846895621413, 414.67606477603755, 506.95217450146765, 293.4042461148187, 340.6425969783877, 373.97868706755236, 290.9210327099608, 346.96116001560216, 142.14256751724554, 241.94565649181578, 271.09013956932756, 297.2455578459466, 509.0214800287398, 289.60560009472283, 217.55878684527906, 466.6178976523653, 208.1679967483858, 503.13850456030497, 493.814917282618, 448.3201042149405, 388.6443367815385, 337.91413464365013, 437.16429949197664, 483.4057725178001, 284.56696642681646, 302.12325280969134, 384.23680203579306, 227.41898086494461, 320.0743330547439, 438.86054508174806, 183.09931693145703, 344.4909139677922, 165.79806239165433, 368.26656078838516, 338.60116351046344, 279.0301399218751, 334.4878725198492, 356.7948135908725, 644.8183066758803, 415.0903401095623, 366.9954275112727, 269.109528813633, 452.66002242984047, 524.8134180834782, 371.0302152741686, 286.3519820673892, 613.8430658201435, 434.63234651328025, 418.83037933269526, 306.3779578647354, 336.8259501844992, 373.4668636470579, 325.82892041816064, 383.15039609809617, 380.5214843069476, 545.9801982412763, 396.171112391617, 445.21509554245245, 421.1412447061912, 397.9391288956355, 756.1923725098497, 689.5233123659036, 320.9599230279341, 307.78311439850694, 428.0219127043747, 517.1734931165627, 390.3838567783597, 442.24265696115737, 221.881138746669, 312.83398436239065, 338.63301173022234, 413.05871935195154, 586.2182148097696, 288.0785187599688, 378.2738784387478, 515.9210732061051, 351.0432256921308, 466.6478402167172, 426.60859207171325, 414.16272789686775, 463.8098989043553, 465.80212163177373, 304.89964760284107, 445.1967876448791, 345.95804038831767, 325.79541506433713, 274.33846004864847, 491.8140030500954, 387.79414379681333, 453.34049829869934, 259.54716259308043, 630.8973025513741, 455.2180887853926, 343.0542609770136, 330.7364310191893, 453.7716045219721, 707.4028088888208, 223.11583290346024, 533.6884470076521, 361.45469198221224, 608.694967227678, 289.749665708438, 274.4579436322337, 458.7213317825408, 956.1841219171133, 478.4956365730093, 491.5892613631572, 377.51801557551835, 302.96737702840636, 435.5456667813491, 584.0737147409254, 568.6511487607912, 376.08359802951554, 548.0466890413603, 655.1980415945777, 703.0815676877947, null, 427.16626614177557, 591.4020223180053, 466.02648785310464, 615.0639297056517, 393.71733534550384, 483.16880334240136, 372.24198616911974, 332.40781536886453, 322.0822144332409, 503.89926133005366, 512.6307219919141, 364.62465302417013, 425.64225533080946, 235.99759251727426, 598.704795328917, 512.8402484358223, 506.22752218971993, 420.822184596571, 505.83481143735054, 653.3116166908643, 414.43569251368126, 1290.472106646641, 285.0095060630079, 293.2983722057751, 588.0747967826295, 217.0890689540353, 747.3335378171588, 753.0114133184368, 484.44355217067766, 620.4414065565543, 254.95866163273848, 544.5469286452765, 423.95272693478194, 456.2419957897522, 888.1821435177138, 691.8654114838455, 428.7265326799175, 630.3115352378672, 728.9797158498743, 358.30523872237734, 409.9438351783924, 694.4181461347432, 553.5627522522698, 567.3400104586143, 496.55100121228986, 428.9237926791115, 647.6496334575522, 464.1758436880091, 597.200528047448, 430.9396363161629, 470.85352986706454, 426.7863811847511, 432.9627229749631, 317.2219194303952, 716.3765095625198, 642.838478220973, 528.7265413888829, 1267.7662026328826, 220.11108719171108, 642.2195925518147, 300.1873092016618, 478.44335175268515, 654.801499892284, 379.92536172660726, 650.963515967709, 401.9350222176535, 490.36358286726374, 824.6586936349588, 371.9242451684328, 446.23924529045684, 773.4061347806703, 538.204698577284, 1045.2015459222662, 603.4509968798565, 714.2220737504065, 170.2925485152069, 524.6293121403909, 1119.8388773148026, 493.45560489574007, 708.1930316849231, 562.9112337982453, 558.2711194060469, 475.39318681250677, 282.02546830016496, 687.7829633004552, 429.4883174233179, 742.9797231632554, 479.9237488133093, 602.1158769435002, 465.68627450980387, 590.7928388746802, 458.0042993401075, 551.6956218496264, 473.1638149617127, 453.3793770708969, 1100.7911936704506, 598.6205414959003, 301.61864706270705, 485.8868855757771, 631.6456863280099, 790.1803690820187, 414.35585647200105, 694.358566653677, 453.4330812935196, 612.1061563311456, 772.7128362001238, 574.2740565313097, 536.5571018753241, null, 192.16524813774402, 435.9007753824155, 762.5272331154684, 493.61555763336935, 639.1464438694404, 576.4579094375945, 426.6849522707296, 918.2882682038704, 800.0388650775142, 1132.8373605554546, 571.7557085689908, 583.8486362312665, 529.847319131393, 544.6002639104154, 448.86919667679206, 890.9095931764135, 265.92982650327014, 564.6874764662283, 652.2879690318528, 438.4677874196749, 357.8946922463997, 910.1876901656897, 616.5723883169862, null, 605.3433249358948, 821.3009904764873, null, 793.2619915605263, 717.0825412171872, 439.7498835483721, 996.9902204858653, 417.33537892280015, 2258.702831998355, 677.8382318281795, 302.2218727063018, 481.46924427394237, 963.5226061641273, 340.98183523166995, 88.40151094606408, 986.8421052631579, 851.4014053492668, 661.0644257703083, 581.3708750724594, 1059.0656015492618, 566.7011760342162, 718.7768297452345, 1026.7911075237503, 534.2262501283425, null, 945.5665024630542, 531.8350322320708, 175.06606919629078, 571.5799833446893, 647.7704471840341, 518.1126504655916, 403.31113221139015, 445.9238282688497, 704.5664189758045, 636.4307703489127, 431.94460202359033, 1416.666666666667, 924.5691159025888, 879.0170132325142, 777.0083145338547, 799.4956512788842, 407.5533215595707, 40.7726253518439, 732.7206841423807, 1196.645436923929, 510.5769072143791, 996.3893635634033, 211.30136986006568, 1207.997484708169, 707.6516094320912, 1465.9685863874345, 1024.3398771365157, 531.1363737279744, 751.1737089201877, 903.0497705987848, 970.08547008547, 552.6025671312701, 328.31900668576884, 631.1954258724091], \"coloraxis\": \"coloraxis\"}, \"name\": \"\", \"type\": \"parcoords\"}],                        {\"coloraxis\": {\"colorbar\": {\"title\": {\"text\": \"sale_price_sqr_foot\"}}, \"colorscale\": [[0.0, \"#000004\"], [0.1111111111111111, \"#1b0c41\"], [0.2222222222222222, \"#4a0c6b\"], [0.3333333333333333, \"#781c6d\"], [0.4444444444444444, \"#a52c60\"], [0.5555555555555556, \"#cf4446\"], [0.6666666666666666, \"#ed6925\"], [0.7777777777777778, \"#fb9b06\"], [0.8888888888888888, \"#f7d13d\"], [1.0, \"#fcffa4\"]]}, \"legend\": {\"tracegroupgap\": 0}, \"margin\": {\"t\": 60}, \"template\": {\"data\": {\"bar\": [{\"error_x\": {\"color\": \"#2a3f5f\"}, \"error_y\": {\"color\": \"#2a3f5f\"}, \"marker\": {\"line\": {\"color\": \"#E5ECF6\", \"width\": 0.5}}, \"type\": \"bar\"}], \"barpolar\": [{\"marker\": {\"line\": {\"color\": \"#E5ECF6\", \"width\": 0.5}}, \"type\": \"barpolar\"}], \"carpet\": [{\"aaxis\": {\"endlinecolor\": \"#2a3f5f\", \"gridcolor\": \"white\", \"linecolor\": \"white\", \"minorgridcolor\": \"white\", \"startlinecolor\": \"#2a3f5f\"}, \"baxis\": {\"endlinecolor\": \"#2a3f5f\", \"gridcolor\": \"white\", \"linecolor\": \"white\", \"minorgridcolor\": \"white\", \"startlinecolor\": \"#2a3f5f\"}, \"type\": \"carpet\"}], \"choropleth\": [{\"colorbar\": {\"outlinewidth\": 0, \"ticks\": \"\"}, \"type\": \"choropleth\"}], \"contour\": [{\"colorbar\": {\"outlinewidth\": 0, \"ticks\": \"\"}, \"colorscale\": [[0.0, \"#0d0887\"], [0.1111111111111111, \"#46039f\"], [0.2222222222222222, \"#7201a8\"], [0.3333333333333333, \"#9c179e\"], [0.4444444444444444, \"#bd3786\"], [0.5555555555555556, \"#d8576b\"], [0.6666666666666666, \"#ed7953\"], [0.7777777777777778, \"#fb9f3a\"], [0.8888888888888888, \"#fdca26\"], [1.0, \"#f0f921\"]], \"type\": \"contour\"}], \"contourcarpet\": [{\"colorbar\": {\"outlinewidth\": 0, \"ticks\": \"\"}, \"type\": \"contourcarpet\"}], \"heatmap\": [{\"colorbar\": {\"outlinewidth\": 0, \"ticks\": \"\"}, \"colorscale\": [[0.0, \"#0d0887\"], [0.1111111111111111, \"#46039f\"], [0.2222222222222222, \"#7201a8\"], [0.3333333333333333, \"#9c179e\"], [0.4444444444444444, \"#bd3786\"], [0.5555555555555556, \"#d8576b\"], [0.6666666666666666, \"#ed7953\"], [0.7777777777777778, \"#fb9f3a\"], [0.8888888888888888, \"#fdca26\"], [1.0, \"#f0f921\"]], \"type\": \"heatmap\"}], \"heatmapgl\": [{\"colorbar\": {\"outlinewidth\": 0, \"ticks\": \"\"}, \"colorscale\": [[0.0, \"#0d0887\"], [0.1111111111111111, \"#46039f\"], [0.2222222222222222, \"#7201a8\"], [0.3333333333333333, \"#9c179e\"], [0.4444444444444444, \"#bd3786\"], [0.5555555555555556, \"#d8576b\"], [0.6666666666666666, \"#ed7953\"], [0.7777777777777778, \"#fb9f3a\"], [0.8888888888888888, \"#fdca26\"], [1.0, \"#f0f921\"]], \"type\": \"heatmapgl\"}], \"histogram\": [{\"marker\": {\"colorbar\": {\"outlinewidth\": 0, \"ticks\": \"\"}}, \"type\": \"histogram\"}], \"histogram2d\": [{\"colorbar\": {\"outlinewidth\": 0, \"ticks\": \"\"}, \"colorscale\": [[0.0, \"#0d0887\"], [0.1111111111111111, \"#46039f\"], [0.2222222222222222, \"#7201a8\"], [0.3333333333333333, \"#9c179e\"], [0.4444444444444444, \"#bd3786\"], [0.5555555555555556, \"#d8576b\"], [0.6666666666666666, \"#ed7953\"], [0.7777777777777778, \"#fb9f3a\"], [0.8888888888888888, \"#fdca26\"], [1.0, \"#f0f921\"]], \"type\": \"histogram2d\"}], \"histogram2dcontour\": [{\"colorbar\": {\"outlinewidth\": 0, \"ticks\": \"\"}, \"colorscale\": [[0.0, \"#0d0887\"], [0.1111111111111111, \"#46039f\"], [0.2222222222222222, \"#7201a8\"], [0.3333333333333333, \"#9c179e\"], [0.4444444444444444, \"#bd3786\"], [0.5555555555555556, \"#d8576b\"], [0.6666666666666666, \"#ed7953\"], [0.7777777777777778, \"#fb9f3a\"], [0.8888888888888888, \"#fdca26\"], [1.0, \"#f0f921\"]], \"type\": \"histogram2dcontour\"}], \"mesh3d\": [{\"colorbar\": {\"outlinewidth\": 0, \"ticks\": \"\"}, \"type\": \"mesh3d\"}], \"parcoords\": [{\"line\": {\"colorbar\": {\"outlinewidth\": 0, \"ticks\": \"\"}}, \"type\": \"parcoords\"}], \"pie\": [{\"automargin\": true, \"type\": \"pie\"}], \"scatter\": [{\"marker\": {\"colorbar\": {\"outlinewidth\": 0, \"ticks\": \"\"}}, \"type\": \"scatter\"}], \"scatter3d\": [{\"line\": {\"colorbar\": {\"outlinewidth\": 0, \"ticks\": \"\"}}, \"marker\": {\"colorbar\": {\"outlinewidth\": 0, \"ticks\": \"\"}}, \"type\": \"scatter3d\"}], \"scattercarpet\": [{\"marker\": {\"colorbar\": {\"outlinewidth\": 0, \"ticks\": \"\"}}, \"type\": \"scattercarpet\"}], \"scattergeo\": [{\"marker\": {\"colorbar\": {\"outlinewidth\": 0, \"ticks\": \"\"}}, \"type\": \"scattergeo\"}], \"scattergl\": [{\"marker\": {\"colorbar\": {\"outlinewidth\": 0, \"ticks\": \"\"}}, \"type\": \"scattergl\"}], \"scattermapbox\": [{\"marker\": {\"colorbar\": {\"outlinewidth\": 0, \"ticks\": \"\"}}, \"type\": \"scattermapbox\"}], \"scatterpolar\": [{\"marker\": {\"colorbar\": {\"outlinewidth\": 0, \"ticks\": \"\"}}, \"type\": \"scatterpolar\"}], \"scatterpolargl\": [{\"marker\": {\"colorbar\": {\"outlinewidth\": 0, \"ticks\": \"\"}}, \"type\": \"scatterpolargl\"}], \"scatterternary\": [{\"marker\": {\"colorbar\": {\"outlinewidth\": 0, \"ticks\": \"\"}}, \"type\": \"scatterternary\"}], \"surface\": [{\"colorbar\": {\"outlinewidth\": 0, \"ticks\": \"\"}, \"colorscale\": [[0.0, \"#0d0887\"], [0.1111111111111111, \"#46039f\"], [0.2222222222222222, \"#7201a8\"], [0.3333333333333333, \"#9c179e\"], [0.4444444444444444, \"#bd3786\"], [0.5555555555555556, \"#d8576b\"], [0.6666666666666666, \"#ed7953\"], [0.7777777777777778, \"#fb9f3a\"], [0.8888888888888888, \"#fdca26\"], [1.0, \"#f0f921\"]], \"type\": \"surface\"}], \"table\": [{\"cells\": {\"fill\": {\"color\": \"#EBF0F8\"}, \"line\": {\"color\": \"white\"}}, \"header\": {\"fill\": {\"color\": \"#C8D4E3\"}, \"line\": {\"color\": \"white\"}}, \"type\": \"table\"}]}, \"layout\": {\"annotationdefaults\": {\"arrowcolor\": \"#2a3f5f\", \"arrowhead\": 0, \"arrowwidth\": 1}, \"autotypenumbers\": \"strict\", \"coloraxis\": {\"colorbar\": {\"outlinewidth\": 0, \"ticks\": \"\"}}, \"colorscale\": {\"diverging\": [[0, \"#8e0152\"], [0.1, \"#c51b7d\"], [0.2, \"#de77ae\"], [0.3, \"#f1b6da\"], [0.4, \"#fde0ef\"], [0.5, \"#f7f7f7\"], [0.6, \"#e6f5d0\"], [0.7, \"#b8e186\"], [0.8, \"#7fbc41\"], [0.9, \"#4d9221\"], [1, \"#276419\"]], \"sequential\": [[0.0, \"#0d0887\"], [0.1111111111111111, \"#46039f\"], [0.2222222222222222, \"#7201a8\"], [0.3333333333333333, \"#9c179e\"], [0.4444444444444444, \"#bd3786\"], [0.5555555555555556, \"#d8576b\"], [0.6666666666666666, \"#ed7953\"], [0.7777777777777778, \"#fb9f3a\"], [0.8888888888888888, \"#fdca26\"], [1.0, \"#f0f921\"]], \"sequentialminus\": [[0.0, \"#0d0887\"], [0.1111111111111111, \"#46039f\"], [0.2222222222222222, \"#7201a8\"], [0.3333333333333333, \"#9c179e\"], [0.4444444444444444, \"#bd3786\"], [0.5555555555555556, \"#d8576b\"], [0.6666666666666666, \"#ed7953\"], [0.7777777777777778, \"#fb9f3a\"], [0.8888888888888888, \"#fdca26\"], [1.0, \"#f0f921\"]]}, \"colorway\": [\"#636efa\", \"#EF553B\", \"#00cc96\", \"#ab63fa\", \"#FFA15A\", \"#19d3f3\", \"#FF6692\", \"#B6E880\", \"#FF97FF\", \"#FECB52\"], \"font\": {\"color\": \"#2a3f5f\"}, \"geo\": {\"bgcolor\": \"white\", \"lakecolor\": \"white\", \"landcolor\": \"#E5ECF6\", \"showlakes\": true, \"showland\": true, \"subunitcolor\": \"white\"}, \"hoverlabel\": {\"align\": \"left\"}, \"hovermode\": \"closest\", \"mapbox\": {\"style\": \"light\"}, \"paper_bgcolor\": \"white\", \"plot_bgcolor\": \"#E5ECF6\", \"polar\": {\"angularaxis\": {\"gridcolor\": \"white\", \"linecolor\": \"white\", \"ticks\": \"\"}, \"bgcolor\": \"#E5ECF6\", \"radialaxis\": {\"gridcolor\": \"white\", \"linecolor\": \"white\", \"ticks\": \"\"}}, \"scene\": {\"xaxis\": {\"backgroundcolor\": \"#E5ECF6\", \"gridcolor\": \"white\", \"gridwidth\": 2, \"linecolor\": \"white\", \"showbackground\": true, \"ticks\": \"\", \"zerolinecolor\": \"white\"}, \"yaxis\": {\"backgroundcolor\": \"#E5ECF6\", \"gridcolor\": \"white\", \"gridwidth\": 2, \"linecolor\": \"white\", \"showbackground\": true, \"ticks\": \"\", \"zerolinecolor\": \"white\"}, \"zaxis\": {\"backgroundcolor\": \"#E5ECF6\", \"gridcolor\": \"white\", \"gridwidth\": 2, \"linecolor\": \"white\", \"showbackground\": true, \"ticks\": \"\", \"zerolinecolor\": \"white\"}}, \"shapedefaults\": {\"line\": {\"color\": \"#2a3f5f\"}}, \"ternary\": {\"aaxis\": {\"gridcolor\": \"white\", \"linecolor\": \"white\", \"ticks\": \"\"}, \"baxis\": {\"gridcolor\": \"white\", \"linecolor\": \"white\", \"ticks\": \"\"}, \"bgcolor\": \"#E5ECF6\", \"caxis\": {\"gridcolor\": \"white\", \"linecolor\": \"white\", \"ticks\": \"\"}}, \"title\": {\"x\": 0.05}, \"xaxis\": {\"automargin\": true, \"gridcolor\": \"white\", \"linecolor\": \"white\", \"ticks\": \"\", \"title\": {\"standoff\": 15}, \"zerolinecolor\": \"white\", \"zerolinewidth\": 2}, \"yaxis\": {\"automargin\": true, \"gridcolor\": \"white\", \"linecolor\": \"white\", \"ticks\": \"\", \"title\": {\"standoff\": 15}, \"zerolinecolor\": \"white\", \"zerolinewidth\": 2}}}},                        {\"responsive\": true}                    ).then(function(){\n",
       "                            \n",
       "var gd = document.getElementById('838d6ef3-f356-4d25-9efa-81f3e624cc55');\n",
       "var x = new MutationObserver(function (mutations, observer) {{\n",
       "        var display = window.getComputedStyle(gd).display;\n",
       "        if (!display || display === 'none') {{\n",
       "            console.log([gd, 'removed!']);\n",
       "            Plotly.purge(gd);\n",
       "            observer.disconnect();\n",
       "        }}\n",
       "}});\n",
       "\n",
       "// Listen for the removal of the full notebook cells\n",
       "var notebookContainer = gd.closest('#notebook-container');\n",
       "if (notebookContainer) {{\n",
       "    x.observe(notebookContainer, {childList: true});\n",
       "}}\n",
       "\n",
       "// Listen for the clearing of the current output cell\n",
       "var outputEl = gd.closest('.output');\n",
       "if (outputEl) {{\n",
       "    x.observe(outputEl, {childList: true});\n",
       "}}\n",
       "\n",
       "                        })                };                });            </script>        </div>"
      ]
     },
     "metadata": {},
     "output_type": "display_data"
    }
   ],
   "source": [
    "px.parallel_coordinates(avg_prices_neighbourhood,color= 'sale_price_sqr_foot', color_continuous_scale=px.colors.sequential.Inferno)"
   ]
  },
  {
   "cell_type": "code",
   "execution_count": 148,
   "metadata": {},
   "outputs": [
    {
     "data": {
      "application/vnd.plotly.v1+json": {
       "config": {
        "plotlyServerURL": "https://plot.ly"
       },
       "data": [
        {
         "dimensions": [
          {
           "label": "year",
           "values": [
            2010,
            2010,
            2010,
            2010,
            2010,
            2010,
            2010,
            2010,
            2010,
            2010,
            2010,
            2010,
            2010,
            2010,
            2010,
            2010,
            2010,
            2010,
            2010,
            2010,
            2010,
            2010,
            2010,
            2010,
            2010,
            2010,
            2010,
            2010,
            2010,
            2010,
            2010,
            2010,
            2010,
            2010,
            2010,
            2010,
            2010,
            2010,
            2010,
            2010,
            2010,
            2010,
            2010,
            2010,
            2010,
            2010,
            2010,
            2010,
            2010,
            2010,
            2010,
            2010,
            2010,
            2010,
            2010,
            2010,
            2010,
            2010,
            2010,
            2011,
            2011,
            2011,
            2011,
            2011,
            2011,
            2011,
            2011,
            2011,
            2011,
            2011,
            2011,
            2011,
            2011,
            2011,
            2011,
            2011,
            2011,
            2011,
            2011,
            2011,
            2011,
            2011,
            2011,
            2011,
            2011,
            2011,
            2011,
            2011,
            2011,
            2011,
            2011,
            2011,
            2011,
            2011,
            2011,
            2011,
            2011,
            2011,
            2011,
            2011,
            2011,
            2011,
            2011,
            2011,
            2011,
            2011,
            2011,
            2011,
            2011,
            2011,
            2011,
            2011,
            2011,
            2011,
            2011,
            2011,
            2011,
            2011,
            2012,
            2012,
            2012,
            2012,
            2012,
            2012,
            2012,
            2012,
            2012,
            2012,
            2012,
            2012,
            2012,
            2012,
            2012,
            2012,
            2012,
            2012,
            2012,
            2012,
            2012,
            2012,
            2012,
            2012,
            2012,
            2012,
            2012,
            2012,
            2012,
            2012,
            2012,
            2012,
            2012,
            2012,
            2012,
            2012,
            2012,
            2012,
            2012,
            2012,
            2012,
            2012,
            2012,
            2012,
            2012,
            2012,
            2012,
            2012,
            2012,
            2012,
            2012,
            2012,
            2012,
            2012,
            2012,
            2012,
            2012,
            2012,
            2013,
            2013,
            2013,
            2013,
            2013,
            2013,
            2013,
            2013,
            2013,
            2013,
            2013,
            2013,
            2013,
            2013,
            2013,
            2013,
            2013,
            2013,
            2013,
            2013,
            2013,
            2013,
            2013,
            2013,
            2013,
            2013,
            2013,
            2013,
            2013,
            2013,
            2013,
            2013,
            2013,
            2013,
            2013,
            2013,
            2013,
            2013,
            2013,
            2013,
            2013,
            2013,
            2013,
            2013,
            2013,
            2013,
            2013,
            2013,
            2013,
            2013,
            2013,
            2013,
            2013,
            2013,
            2013,
            2013,
            2013,
            2014,
            2014,
            2014,
            2014,
            2014,
            2014,
            2014,
            2014,
            2014,
            2014,
            2014,
            2014,
            2014,
            2014,
            2014,
            2014,
            2014,
            2014,
            2014,
            2014,
            2014,
            2014,
            2014,
            2014,
            2014,
            2014,
            2014,
            2014,
            2014,
            2014,
            2014,
            2014,
            2014,
            2014,
            2014,
            2014,
            2014,
            2014,
            2014,
            2014,
            2014,
            2014,
            2014,
            2014,
            2014,
            2014,
            2014,
            2014,
            2014,
            2014,
            2014,
            2014,
            2014,
            2014,
            2014,
            2014,
            2014,
            2014,
            2014,
            2014,
            2015,
            2015,
            2015,
            2015,
            2015,
            2015,
            2015,
            2015,
            2015,
            2015,
            2015,
            2015,
            2015,
            2015,
            2015,
            2015,
            2015,
            2015,
            2015,
            2015,
            2015,
            2015,
            2015,
            2015,
            2015,
            2015,
            2015,
            2015,
            2015,
            2015,
            2015,
            2015,
            2015,
            2015,
            2015,
            2015,
            2015,
            2015,
            2015,
            2015,
            2015,
            2015,
            2015,
            2015,
            2015,
            2015,
            2015,
            2015,
            2015,
            2015,
            2015,
            2015,
            2015,
            2015,
            2015,
            2015,
            2015,
            2015,
            2016,
            2016,
            2016,
            2016,
            2016,
            2016,
            2016,
            2016,
            2016,
            2016,
            2016,
            2016,
            2016,
            2016,
            2016,
            2016,
            2016,
            2016,
            2016,
            2016,
            2016,
            2016,
            2016,
            2016,
            2016,
            2016,
            2016,
            2016,
            2016,
            2016,
            2016,
            2016,
            2016,
            2016,
            2016,
            2016,
            2016,
            2016,
            2016,
            2016,
            2016,
            2016,
            2016,
            2016,
            2016,
            2016
           ]
          },
          {
           "label": "housing_units",
           "values": [
            372560,
            372560,
            372560,
            372560,
            372560,
            372560,
            372560,
            372560,
            372560,
            372560,
            372560,
            372560,
            372560,
            372560,
            372560,
            372560,
            372560,
            372560,
            372560,
            372560,
            372560,
            372560,
            372560,
            372560,
            372560,
            372560,
            372560,
            372560,
            372560,
            372560,
            372560,
            372560,
            372560,
            372560,
            372560,
            372560,
            372560,
            372560,
            372560,
            372560,
            372560,
            372560,
            372560,
            372560,
            372560,
            372560,
            372560,
            372560,
            372560,
            372560,
            372560,
            372560,
            372560,
            372560,
            372560,
            372560,
            372560,
            372560,
            372560,
            374507,
            374507,
            374507,
            374507,
            374507,
            374507,
            374507,
            374507,
            374507,
            374507,
            374507,
            374507,
            374507,
            374507,
            374507,
            374507,
            374507,
            374507,
            374507,
            374507,
            374507,
            374507,
            374507,
            374507,
            374507,
            374507,
            374507,
            374507,
            374507,
            374507,
            374507,
            374507,
            374507,
            374507,
            374507,
            374507,
            374507,
            374507,
            374507,
            374507,
            374507,
            374507,
            374507,
            374507,
            374507,
            374507,
            374507,
            374507,
            374507,
            374507,
            374507,
            374507,
            374507,
            374507,
            374507,
            374507,
            374507,
            374507,
            374507,
            376454,
            376454,
            376454,
            376454,
            376454,
            376454,
            376454,
            376454,
            376454,
            376454,
            376454,
            376454,
            376454,
            376454,
            376454,
            376454,
            376454,
            376454,
            376454,
            376454,
            376454,
            376454,
            376454,
            376454,
            376454,
            376454,
            376454,
            376454,
            376454,
            376454,
            376454,
            376454,
            376454,
            376454,
            376454,
            376454,
            376454,
            376454,
            376454,
            376454,
            376454,
            376454,
            376454,
            376454,
            376454,
            376454,
            376454,
            376454,
            376454,
            376454,
            376454,
            376454,
            376454,
            376454,
            376454,
            376454,
            376454,
            376454,
            378401,
            378401,
            378401,
            378401,
            378401,
            378401,
            378401,
            378401,
            378401,
            378401,
            378401,
            378401,
            378401,
            378401,
            378401,
            378401,
            378401,
            378401,
            378401,
            378401,
            378401,
            378401,
            378401,
            378401,
            378401,
            378401,
            378401,
            378401,
            378401,
            378401,
            378401,
            378401,
            378401,
            378401,
            378401,
            378401,
            378401,
            378401,
            378401,
            378401,
            378401,
            378401,
            378401,
            378401,
            378401,
            378401,
            378401,
            378401,
            378401,
            378401,
            378401,
            378401,
            378401,
            378401,
            378401,
            378401,
            378401,
            380348,
            380348,
            380348,
            380348,
            380348,
            380348,
            380348,
            380348,
            380348,
            380348,
            380348,
            380348,
            380348,
            380348,
            380348,
            380348,
            380348,
            380348,
            380348,
            380348,
            380348,
            380348,
            380348,
            380348,
            380348,
            380348,
            380348,
            380348,
            380348,
            380348,
            380348,
            380348,
            380348,
            380348,
            380348,
            380348,
            380348,
            380348,
            380348,
            380348,
            380348,
            380348,
            380348,
            380348,
            380348,
            380348,
            380348,
            380348,
            380348,
            380348,
            380348,
            380348,
            380348,
            380348,
            380348,
            380348,
            380348,
            380348,
            380348,
            380348,
            382295,
            382295,
            382295,
            382295,
            382295,
            382295,
            382295,
            382295,
            382295,
            382295,
            382295,
            382295,
            382295,
            382295,
            382295,
            382295,
            382295,
            382295,
            382295,
            382295,
            382295,
            382295,
            382295,
            382295,
            382295,
            382295,
            382295,
            382295,
            382295,
            382295,
            382295,
            382295,
            382295,
            382295,
            382295,
            382295,
            382295,
            382295,
            382295,
            382295,
            382295,
            382295,
            382295,
            382295,
            382295,
            382295,
            382295,
            382295,
            382295,
            382295,
            382295,
            382295,
            382295,
            382295,
            382295,
            382295,
            382295,
            382295,
            384242,
            384242,
            384242,
            384242,
            384242,
            384242,
            384242,
            384242,
            384242,
            384242,
            384242,
            384242,
            384242,
            384242,
            384242,
            384242,
            384242,
            384242,
            384242,
            384242,
            384242,
            384242,
            384242,
            384242,
            384242,
            384242,
            384242,
            384242,
            384242,
            384242,
            384242,
            384242,
            384242,
            384242,
            384242,
            384242,
            384242,
            384242,
            384242,
            384242,
            384242,
            384242,
            384242,
            384242,
            384242,
            384242
           ]
          },
          {
           "label": "gross_rent",
           "values": [
            1239,
            1239,
            1239,
            1239,
            1239,
            1239,
            1239,
            1239,
            1239,
            1239,
            1239,
            1239,
            1239,
            1239,
            1239,
            1239,
            1239,
            1239,
            1239,
            1239,
            1239,
            1239,
            1239,
            1239,
            1239,
            1239,
            1239,
            1239,
            1239,
            1239,
            1239,
            1239,
            1239,
            1239,
            1239,
            1239,
            1239,
            1239,
            1239,
            1239,
            1239,
            1239,
            1239,
            1239,
            1239,
            1239,
            1239,
            1239,
            1239,
            1239,
            1239,
            1239,
            1239,
            1239,
            1239,
            1239,
            1239,
            1239,
            1239,
            1530,
            1530,
            1530,
            1530,
            1530,
            1530,
            1530,
            1530,
            1530,
            1530,
            1530,
            1530,
            1530,
            1530,
            1530,
            1530,
            1530,
            1530,
            1530,
            1530,
            1530,
            1530,
            1530,
            1530,
            1530,
            1530,
            1530,
            1530,
            1530,
            1530,
            1530,
            1530,
            1530,
            1530,
            1530,
            1530,
            1530,
            1530,
            1530,
            1530,
            1530,
            1530,
            1530,
            1530,
            1530,
            1530,
            1530,
            1530,
            1530,
            1530,
            1530,
            1530,
            1530,
            1530,
            1530,
            1530,
            1530,
            1530,
            1530,
            2324,
            2324,
            2324,
            2324,
            2324,
            2324,
            2324,
            2324,
            2324,
            2324,
            2324,
            2324,
            2324,
            2324,
            2324,
            2324,
            2324,
            2324,
            2324,
            2324,
            2324,
            2324,
            2324,
            2324,
            2324,
            2324,
            2324,
            2324,
            2324,
            2324,
            2324,
            2324,
            2324,
            2324,
            2324,
            2324,
            2324,
            2324,
            2324,
            2324,
            2324,
            2324,
            2324,
            2324,
            2324,
            2324,
            2324,
            2324,
            2324,
            2324,
            2324,
            2324,
            2324,
            2324,
            2324,
            2324,
            2324,
            2324,
            2971,
            2971,
            2971,
            2971,
            2971,
            2971,
            2971,
            2971,
            2971,
            2971,
            2971,
            2971,
            2971,
            2971,
            2971,
            2971,
            2971,
            2971,
            2971,
            2971,
            2971,
            2971,
            2971,
            2971,
            2971,
            2971,
            2971,
            2971,
            2971,
            2971,
            2971,
            2971,
            2971,
            2971,
            2971,
            2971,
            2971,
            2971,
            2971,
            2971,
            2971,
            2971,
            2971,
            2971,
            2971,
            2971,
            2971,
            2971,
            2971,
            2971,
            2971,
            2971,
            2971,
            2971,
            2971,
            2971,
            2971,
            3528,
            3528,
            3528,
            3528,
            3528,
            3528,
            3528,
            3528,
            3528,
            3528,
            3528,
            3528,
            3528,
            3528,
            3528,
            3528,
            3528,
            3528,
            3528,
            3528,
            3528,
            3528,
            3528,
            3528,
            3528,
            3528,
            3528,
            3528,
            3528,
            3528,
            3528,
            3528,
            3528,
            3528,
            3528,
            3528,
            3528,
            3528,
            3528,
            3528,
            3528,
            3528,
            3528,
            3528,
            3528,
            3528,
            3528,
            3528,
            3528,
            3528,
            3528,
            3528,
            3528,
            3528,
            3528,
            3528,
            3528,
            3528,
            3528,
            3528,
            3739,
            3739,
            3739,
            3739,
            3739,
            3739,
            3739,
            3739,
            3739,
            3739,
            3739,
            3739,
            3739,
            3739,
            3739,
            3739,
            3739,
            3739,
            3739,
            3739,
            3739,
            3739,
            3739,
            3739,
            3739,
            3739,
            3739,
            3739,
            3739,
            3739,
            3739,
            3739,
            3739,
            3739,
            3739,
            3739,
            3739,
            3739,
            3739,
            3739,
            3739,
            3739,
            3739,
            3739,
            3739,
            3739,
            3739,
            3739,
            3739,
            3739,
            3739,
            3739,
            3739,
            3739,
            3739,
            3739,
            3739,
            3739,
            4390,
            4390,
            4390,
            4390,
            4390,
            4390,
            4390,
            4390,
            4390,
            4390,
            4390,
            4390,
            4390,
            4390,
            4390,
            4390,
            4390,
            4390,
            4390,
            4390,
            4390,
            4390,
            4390,
            4390,
            4390,
            4390,
            4390,
            4390,
            4390,
            4390,
            4390,
            4390,
            4390,
            4390,
            4390,
            4390,
            4390,
            4390,
            4390,
            4390,
            4390,
            4390,
            4390,
            4390,
            4390,
            4390
           ]
          }
         ],
         "domain": {
          "x": [
           0,
           1
          ],
          "y": [
           0,
           1
          ]
         },
         "line": {
          "color": [
           291.18294547229095,
           267.9325826799483,
           170.09866536400102,
           347.3949194037114,
           319.0276225530687,
           418.1724927089675,
           369.35933800413665,
           569.3799679261333,
           165.6457300650791,
           456.9308221979013,
           241.80455206485138,
           403.1183126490986,
           364.92833570851764,
           401.7499665916537,
           162.82121004772353,
           209.0493266346945,
           715.5864380979738,
           551.8011188234774,
           254.47377914469143,
           272.28497956385485,
           170.62491987132685,
           275.05668560990915,
           238.35002040677708,
           199.70200378219917,
           285.82235848868265,
           275.76972957461044,
           419.88781187646566,
           320.79691049204627,
           398.4588759923028,
           374.05763601016855,
           387.392839476922,
           680.6087291389301,
           489.80537777998506,
           257.98799863500693,
           262.87602564056425,
           307.67747674427835,
           381.13844514705266,
           282.11967050133603,
           432.19529211245555,
           338.12619999607017,
           368.31155203937294,
           496.51601414694983,
           326.01715041025074,
           274.16674158669116,
           434.25500394602585,
           302.15611319728896,
           491.45000385678617,
           549.4179312485746,
           362.34822391312133,
           1037.0997886617895,
           401.2959764896399,
           542.5316819894505,
           524.7935090952678,
           331.55599614560697,
           569.1934475267735,
           108.0129268765048,
           392.30076417058257,
           215.56913431487555,
           333.12677384193887,
           272.5273101795261,
           172.54056243085552,
           471.9217320911283,
           171.7723466866044,
           261.6638003416518,
           391.42644972996203,
           520.7181675305429,
           222.567848047696,
           390.5956530284181,
           145.85338027594094,
           382.3522610640586,
           234.28162351035442,
           295.77937822922695,
           413.16280403427527,
           281.312904357283,
           354.66555789282774,
           457.41388429762526,
           348.92970004124925,
           392.35345097326814,
           280.73063309393075,
           356.7090091359044,
           198.01587292452027,
           283.17495073168755,
           360.03727240448274,
           302.60448945564127,
           610.7666631577348,
           330.10889435237306,
           313.33845823084727,
           303.5441997161898,
           390.81846895621413,
           414.67606477603755,
           506.95217450146765,
           293.4042461148187,
           340.6425969783877,
           373.97868706755236,
           290.9210327099608,
           346.96116001560216,
           142.14256751724554,
           241.94565649181578,
           271.09013956932756,
           297.2455578459466,
           509.0214800287398,
           289.60560009472283,
           217.55878684527906,
           466.6178976523653,
           208.1679967483858,
           503.13850456030497,
           493.814917282618,
           448.3201042149405,
           388.6443367815385,
           337.91413464365013,
           437.16429949197664,
           483.4057725178001,
           284.56696642681646,
           302.12325280969134,
           384.23680203579306,
           227.41898086494461,
           320.0743330547439,
           438.86054508174806,
           183.09931693145703,
           344.4909139677922,
           165.79806239165433,
           368.26656078838516,
           338.60116351046344,
           279.0301399218751,
           334.4878725198492,
           356.7948135908725,
           644.8183066758803,
           415.0903401095623,
           366.9954275112727,
           269.109528813633,
           452.66002242984047,
           524.8134180834782,
           371.0302152741686,
           286.3519820673892,
           613.8430658201435,
           434.63234651328025,
           418.83037933269526,
           306.3779578647354,
           336.8259501844992,
           373.4668636470579,
           325.82892041816064,
           383.15039609809617,
           380.5214843069476,
           545.9801982412763,
           396.171112391617,
           445.21509554245245,
           421.1412447061912,
           397.9391288956355,
           756.1923725098497,
           689.5233123659036,
           320.9599230279341,
           307.78311439850694,
           428.0219127043747,
           517.1734931165627,
           390.3838567783597,
           442.24265696115737,
           221.881138746669,
           312.83398436239065,
           338.63301173022234,
           413.05871935195154,
           586.2182148097696,
           288.0785187599688,
           378.2738784387478,
           515.9210732061051,
           351.0432256921308,
           466.6478402167172,
           426.60859207171325,
           414.16272789686775,
           463.8098989043553,
           465.80212163177373,
           304.89964760284107,
           445.1967876448791,
           345.95804038831767,
           325.79541506433713,
           274.33846004864847,
           491.8140030500954,
           387.79414379681333,
           453.34049829869934,
           259.54716259308043,
           630.8973025513741,
           455.2180887853926,
           343.0542609770136,
           330.7364310191893,
           453.7716045219721,
           707.4028088888208,
           223.11583290346024,
           533.6884470076521,
           361.45469198221224,
           608.694967227678,
           289.749665708438,
           274.4579436322337,
           458.7213317825408,
           956.1841219171133,
           478.4956365730093,
           491.5892613631572,
           377.51801557551835,
           302.96737702840636,
           435.5456667813491,
           584.0737147409254,
           568.6511487607912,
           376.08359802951554,
           548.0466890413603,
           655.1980415945777,
           703.0815676877947,
           null,
           427.16626614177557,
           591.4020223180053,
           466.02648785310464,
           615.0639297056517,
           393.71733534550384,
           483.16880334240136,
           372.24198616911974,
           332.40781536886453,
           322.0822144332409,
           503.89926133005366,
           512.6307219919141,
           364.62465302417013,
           425.64225533080946,
           235.99759251727426,
           598.704795328917,
           512.8402484358223,
           506.22752218971993,
           420.822184596571,
           505.83481143735054,
           653.3116166908643,
           414.43569251368126,
           1290.472106646641,
           285.0095060630079,
           293.2983722057751,
           588.0747967826295,
           217.0890689540353,
           747.3335378171588,
           753.0114133184368,
           484.44355217067766,
           620.4414065565543,
           254.95866163273848,
           544.5469286452765,
           423.95272693478194,
           456.2419957897522,
           888.1821435177138,
           691.8654114838455,
           428.7265326799175,
           630.3115352378672,
           728.9797158498743,
           358.30523872237734,
           409.9438351783924,
           694.4181461347432,
           553.5627522522698,
           567.3400104586143,
           496.55100121228986,
           428.9237926791115,
           647.6496334575522,
           464.1758436880091,
           597.200528047448,
           430.9396363161629,
           470.85352986706454,
           426.7863811847511,
           432.9627229749631,
           317.2219194303952,
           716.3765095625198,
           642.838478220973,
           528.7265413888829,
           1267.7662026328826,
           220.11108719171108,
           642.2195925518147,
           300.1873092016618,
           478.44335175268515,
           654.801499892284,
           379.92536172660726,
           650.963515967709,
           401.9350222176535,
           490.36358286726374,
           824.6586936349588,
           371.9242451684328,
           446.23924529045684,
           773.4061347806703,
           538.204698577284,
           1045.2015459222662,
           603.4509968798565,
           714.2220737504065,
           170.2925485152069,
           524.6293121403909,
           1119.8388773148026,
           493.45560489574007,
           708.1930316849231,
           562.9112337982453,
           558.2711194060469,
           475.39318681250677,
           282.02546830016496,
           687.7829633004552,
           429.4883174233179,
           742.9797231632554,
           479.9237488133093,
           602.1158769435002,
           465.68627450980387,
           590.7928388746802,
           458.0042993401075,
           551.6956218496264,
           473.1638149617127,
           453.3793770708969,
           1100.7911936704506,
           598.6205414959003,
           301.61864706270705,
           485.8868855757771,
           631.6456863280099,
           790.1803690820187,
           414.35585647200105,
           694.358566653677,
           453.4330812935196,
           612.1061563311456,
           772.7128362001238,
           574.2740565313097,
           536.5571018753241,
           null,
           192.16524813774402,
           435.9007753824155,
           762.5272331154684,
           493.61555763336935,
           639.1464438694404,
           576.4579094375945,
           426.6849522707296,
           918.2882682038704,
           800.0388650775142,
           1132.8373605554546,
           571.7557085689908,
           583.8486362312665,
           529.847319131393,
           544.6002639104154,
           448.86919667679206,
           890.9095931764135,
           265.92982650327014,
           564.6874764662283,
           652.2879690318528,
           438.4677874196749,
           357.8946922463997,
           910.1876901656897,
           616.5723883169862,
           null,
           605.3433249358948,
           821.3009904764873,
           null,
           793.2619915605263,
           717.0825412171872,
           439.7498835483721,
           996.9902204858653,
           417.33537892280015,
           2258.702831998355,
           677.8382318281795,
           302.2218727063018,
           481.46924427394237,
           963.5226061641273,
           340.98183523166995,
           88.40151094606408,
           986.8421052631579,
           851.4014053492668,
           661.0644257703083,
           581.3708750724594,
           1059.0656015492618,
           566.7011760342162,
           718.7768297452345,
           1026.7911075237503,
           534.2262501283425,
           null,
           945.5665024630542,
           531.8350322320708,
           175.06606919629078,
           571.5799833446893,
           647.7704471840341,
           518.1126504655916,
           403.31113221139015,
           445.9238282688497,
           704.5664189758045,
           636.4307703489127,
           431.94460202359033,
           1416.666666666667,
           924.5691159025888,
           879.0170132325142,
           777.0083145338547,
           799.4956512788842,
           407.5533215595707,
           40.7726253518439,
           732.7206841423807,
           1196.645436923929,
           510.5769072143791,
           996.3893635634033,
           211.30136986006568,
           1207.997484708169,
           707.6516094320912,
           1465.9685863874345,
           1024.3398771365157,
           531.1363737279744,
           751.1737089201877,
           903.0497705987848,
           970.08547008547,
           552.6025671312701,
           328.31900668576884,
           631.1954258724091
          ],
          "coloraxis": "coloraxis"
         },
         "name": "",
         "type": "parcats"
        }
       ],
       "layout": {
        "coloraxis": {
         "colorbar": {
          "title": {
           "text": "sale_price_sqr_foot"
          }
         },
         "colorscale": [
          [
           0,
           "#000004"
          ],
          [
           0.1111111111111111,
           "#1b0c41"
          ],
          [
           0.2222222222222222,
           "#4a0c6b"
          ],
          [
           0.3333333333333333,
           "#781c6d"
          ],
          [
           0.4444444444444444,
           "#a52c60"
          ],
          [
           0.5555555555555556,
           "#cf4446"
          ],
          [
           0.6666666666666666,
           "#ed6925"
          ],
          [
           0.7777777777777778,
           "#fb9b06"
          ],
          [
           0.8888888888888888,
           "#f7d13d"
          ],
          [
           1,
           "#fcffa4"
          ]
         ]
        },
        "legend": {
         "tracegroupgap": 0
        },
        "margin": {
         "t": 60
        },
        "template": {
         "data": {
          "bar": [
           {
            "error_x": {
             "color": "#2a3f5f"
            },
            "error_y": {
             "color": "#2a3f5f"
            },
            "marker": {
             "line": {
              "color": "#E5ECF6",
              "width": 0.5
             }
            },
            "type": "bar"
           }
          ],
          "barpolar": [
           {
            "marker": {
             "line": {
              "color": "#E5ECF6",
              "width": 0.5
             }
            },
            "type": "barpolar"
           }
          ],
          "carpet": [
           {
            "aaxis": {
             "endlinecolor": "#2a3f5f",
             "gridcolor": "white",
             "linecolor": "white",
             "minorgridcolor": "white",
             "startlinecolor": "#2a3f5f"
            },
            "baxis": {
             "endlinecolor": "#2a3f5f",
             "gridcolor": "white",
             "linecolor": "white",
             "minorgridcolor": "white",
             "startlinecolor": "#2a3f5f"
            },
            "type": "carpet"
           }
          ],
          "choropleth": [
           {
            "colorbar": {
             "outlinewidth": 0,
             "ticks": ""
            },
            "type": "choropleth"
           }
          ],
          "contour": [
           {
            "colorbar": {
             "outlinewidth": 0,
             "ticks": ""
            },
            "colorscale": [
             [
              0,
              "#0d0887"
             ],
             [
              0.1111111111111111,
              "#46039f"
             ],
             [
              0.2222222222222222,
              "#7201a8"
             ],
             [
              0.3333333333333333,
              "#9c179e"
             ],
             [
              0.4444444444444444,
              "#bd3786"
             ],
             [
              0.5555555555555556,
              "#d8576b"
             ],
             [
              0.6666666666666666,
              "#ed7953"
             ],
             [
              0.7777777777777778,
              "#fb9f3a"
             ],
             [
              0.8888888888888888,
              "#fdca26"
             ],
             [
              1,
              "#f0f921"
             ]
            ],
            "type": "contour"
           }
          ],
          "contourcarpet": [
           {
            "colorbar": {
             "outlinewidth": 0,
             "ticks": ""
            },
            "type": "contourcarpet"
           }
          ],
          "heatmap": [
           {
            "colorbar": {
             "outlinewidth": 0,
             "ticks": ""
            },
            "colorscale": [
             [
              0,
              "#0d0887"
             ],
             [
              0.1111111111111111,
              "#46039f"
             ],
             [
              0.2222222222222222,
              "#7201a8"
             ],
             [
              0.3333333333333333,
              "#9c179e"
             ],
             [
              0.4444444444444444,
              "#bd3786"
             ],
             [
              0.5555555555555556,
              "#d8576b"
             ],
             [
              0.6666666666666666,
              "#ed7953"
             ],
             [
              0.7777777777777778,
              "#fb9f3a"
             ],
             [
              0.8888888888888888,
              "#fdca26"
             ],
             [
              1,
              "#f0f921"
             ]
            ],
            "type": "heatmap"
           }
          ],
          "heatmapgl": [
           {
            "colorbar": {
             "outlinewidth": 0,
             "ticks": ""
            },
            "colorscale": [
             [
              0,
              "#0d0887"
             ],
             [
              0.1111111111111111,
              "#46039f"
             ],
             [
              0.2222222222222222,
              "#7201a8"
             ],
             [
              0.3333333333333333,
              "#9c179e"
             ],
             [
              0.4444444444444444,
              "#bd3786"
             ],
             [
              0.5555555555555556,
              "#d8576b"
             ],
             [
              0.6666666666666666,
              "#ed7953"
             ],
             [
              0.7777777777777778,
              "#fb9f3a"
             ],
             [
              0.8888888888888888,
              "#fdca26"
             ],
             [
              1,
              "#f0f921"
             ]
            ],
            "type": "heatmapgl"
           }
          ],
          "histogram": [
           {
            "marker": {
             "colorbar": {
              "outlinewidth": 0,
              "ticks": ""
             }
            },
            "type": "histogram"
           }
          ],
          "histogram2d": [
           {
            "colorbar": {
             "outlinewidth": 0,
             "ticks": ""
            },
            "colorscale": [
             [
              0,
              "#0d0887"
             ],
             [
              0.1111111111111111,
              "#46039f"
             ],
             [
              0.2222222222222222,
              "#7201a8"
             ],
             [
              0.3333333333333333,
              "#9c179e"
             ],
             [
              0.4444444444444444,
              "#bd3786"
             ],
             [
              0.5555555555555556,
              "#d8576b"
             ],
             [
              0.6666666666666666,
              "#ed7953"
             ],
             [
              0.7777777777777778,
              "#fb9f3a"
             ],
             [
              0.8888888888888888,
              "#fdca26"
             ],
             [
              1,
              "#f0f921"
             ]
            ],
            "type": "histogram2d"
           }
          ],
          "histogram2dcontour": [
           {
            "colorbar": {
             "outlinewidth": 0,
             "ticks": ""
            },
            "colorscale": [
             [
              0,
              "#0d0887"
             ],
             [
              0.1111111111111111,
              "#46039f"
             ],
             [
              0.2222222222222222,
              "#7201a8"
             ],
             [
              0.3333333333333333,
              "#9c179e"
             ],
             [
              0.4444444444444444,
              "#bd3786"
             ],
             [
              0.5555555555555556,
              "#d8576b"
             ],
             [
              0.6666666666666666,
              "#ed7953"
             ],
             [
              0.7777777777777778,
              "#fb9f3a"
             ],
             [
              0.8888888888888888,
              "#fdca26"
             ],
             [
              1,
              "#f0f921"
             ]
            ],
            "type": "histogram2dcontour"
           }
          ],
          "mesh3d": [
           {
            "colorbar": {
             "outlinewidth": 0,
             "ticks": ""
            },
            "type": "mesh3d"
           }
          ],
          "parcoords": [
           {
            "line": {
             "colorbar": {
              "outlinewidth": 0,
              "ticks": ""
             }
            },
            "type": "parcoords"
           }
          ],
          "pie": [
           {
            "automargin": true,
            "type": "pie"
           }
          ],
          "scatter": [
           {
            "marker": {
             "colorbar": {
              "outlinewidth": 0,
              "ticks": ""
             }
            },
            "type": "scatter"
           }
          ],
          "scatter3d": [
           {
            "line": {
             "colorbar": {
              "outlinewidth": 0,
              "ticks": ""
             }
            },
            "marker": {
             "colorbar": {
              "outlinewidth": 0,
              "ticks": ""
             }
            },
            "type": "scatter3d"
           }
          ],
          "scattercarpet": [
           {
            "marker": {
             "colorbar": {
              "outlinewidth": 0,
              "ticks": ""
             }
            },
            "type": "scattercarpet"
           }
          ],
          "scattergeo": [
           {
            "marker": {
             "colorbar": {
              "outlinewidth": 0,
              "ticks": ""
             }
            },
            "type": "scattergeo"
           }
          ],
          "scattergl": [
           {
            "marker": {
             "colorbar": {
              "outlinewidth": 0,
              "ticks": ""
             }
            },
            "type": "scattergl"
           }
          ],
          "scattermapbox": [
           {
            "marker": {
             "colorbar": {
              "outlinewidth": 0,
              "ticks": ""
             }
            },
            "type": "scattermapbox"
           }
          ],
          "scatterpolar": [
           {
            "marker": {
             "colorbar": {
              "outlinewidth": 0,
              "ticks": ""
             }
            },
            "type": "scatterpolar"
           }
          ],
          "scatterpolargl": [
           {
            "marker": {
             "colorbar": {
              "outlinewidth": 0,
              "ticks": ""
             }
            },
            "type": "scatterpolargl"
           }
          ],
          "scatterternary": [
           {
            "marker": {
             "colorbar": {
              "outlinewidth": 0,
              "ticks": ""
             }
            },
            "type": "scatterternary"
           }
          ],
          "surface": [
           {
            "colorbar": {
             "outlinewidth": 0,
             "ticks": ""
            },
            "colorscale": [
             [
              0,
              "#0d0887"
             ],
             [
              0.1111111111111111,
              "#46039f"
             ],
             [
              0.2222222222222222,
              "#7201a8"
             ],
             [
              0.3333333333333333,
              "#9c179e"
             ],
             [
              0.4444444444444444,
              "#bd3786"
             ],
             [
              0.5555555555555556,
              "#d8576b"
             ],
             [
              0.6666666666666666,
              "#ed7953"
             ],
             [
              0.7777777777777778,
              "#fb9f3a"
             ],
             [
              0.8888888888888888,
              "#fdca26"
             ],
             [
              1,
              "#f0f921"
             ]
            ],
            "type": "surface"
           }
          ],
          "table": [
           {
            "cells": {
             "fill": {
              "color": "#EBF0F8"
             },
             "line": {
              "color": "white"
             }
            },
            "header": {
             "fill": {
              "color": "#C8D4E3"
             },
             "line": {
              "color": "white"
             }
            },
            "type": "table"
           }
          ]
         },
         "layout": {
          "annotationdefaults": {
           "arrowcolor": "#2a3f5f",
           "arrowhead": 0,
           "arrowwidth": 1
          },
          "autotypenumbers": "strict",
          "coloraxis": {
           "colorbar": {
            "outlinewidth": 0,
            "ticks": ""
           }
          },
          "colorscale": {
           "diverging": [
            [
             0,
             "#8e0152"
            ],
            [
             0.1,
             "#c51b7d"
            ],
            [
             0.2,
             "#de77ae"
            ],
            [
             0.3,
             "#f1b6da"
            ],
            [
             0.4,
             "#fde0ef"
            ],
            [
             0.5,
             "#f7f7f7"
            ],
            [
             0.6,
             "#e6f5d0"
            ],
            [
             0.7,
             "#b8e186"
            ],
            [
             0.8,
             "#7fbc41"
            ],
            [
             0.9,
             "#4d9221"
            ],
            [
             1,
             "#276419"
            ]
           ],
           "sequential": [
            [
             0,
             "#0d0887"
            ],
            [
             0.1111111111111111,
             "#46039f"
            ],
            [
             0.2222222222222222,
             "#7201a8"
            ],
            [
             0.3333333333333333,
             "#9c179e"
            ],
            [
             0.4444444444444444,
             "#bd3786"
            ],
            [
             0.5555555555555556,
             "#d8576b"
            ],
            [
             0.6666666666666666,
             "#ed7953"
            ],
            [
             0.7777777777777778,
             "#fb9f3a"
            ],
            [
             0.8888888888888888,
             "#fdca26"
            ],
            [
             1,
             "#f0f921"
            ]
           ],
           "sequentialminus": [
            [
             0,
             "#0d0887"
            ],
            [
             0.1111111111111111,
             "#46039f"
            ],
            [
             0.2222222222222222,
             "#7201a8"
            ],
            [
             0.3333333333333333,
             "#9c179e"
            ],
            [
             0.4444444444444444,
             "#bd3786"
            ],
            [
             0.5555555555555556,
             "#d8576b"
            ],
            [
             0.6666666666666666,
             "#ed7953"
            ],
            [
             0.7777777777777778,
             "#fb9f3a"
            ],
            [
             0.8888888888888888,
             "#fdca26"
            ],
            [
             1,
             "#f0f921"
            ]
           ]
          },
          "colorway": [
           "#636efa",
           "#EF553B",
           "#00cc96",
           "#ab63fa",
           "#FFA15A",
           "#19d3f3",
           "#FF6692",
           "#B6E880",
           "#FF97FF",
           "#FECB52"
          ],
          "font": {
           "color": "#2a3f5f"
          },
          "geo": {
           "bgcolor": "white",
           "lakecolor": "white",
           "landcolor": "#E5ECF6",
           "showlakes": true,
           "showland": true,
           "subunitcolor": "white"
          },
          "hoverlabel": {
           "align": "left"
          },
          "hovermode": "closest",
          "mapbox": {
           "style": "light"
          },
          "paper_bgcolor": "white",
          "plot_bgcolor": "#E5ECF6",
          "polar": {
           "angularaxis": {
            "gridcolor": "white",
            "linecolor": "white",
            "ticks": ""
           },
           "bgcolor": "#E5ECF6",
           "radialaxis": {
            "gridcolor": "white",
            "linecolor": "white",
            "ticks": ""
           }
          },
          "scene": {
           "xaxis": {
            "backgroundcolor": "#E5ECF6",
            "gridcolor": "white",
            "gridwidth": 2,
            "linecolor": "white",
            "showbackground": true,
            "ticks": "",
            "zerolinecolor": "white"
           },
           "yaxis": {
            "backgroundcolor": "#E5ECF6",
            "gridcolor": "white",
            "gridwidth": 2,
            "linecolor": "white",
            "showbackground": true,
            "ticks": "",
            "zerolinecolor": "white"
           },
           "zaxis": {
            "backgroundcolor": "#E5ECF6",
            "gridcolor": "white",
            "gridwidth": 2,
            "linecolor": "white",
            "showbackground": true,
            "ticks": "",
            "zerolinecolor": "white"
           }
          },
          "shapedefaults": {
           "line": {
            "color": "#2a3f5f"
           }
          },
          "ternary": {
           "aaxis": {
            "gridcolor": "white",
            "linecolor": "white",
            "ticks": ""
           },
           "baxis": {
            "gridcolor": "white",
            "linecolor": "white",
            "ticks": ""
           },
           "bgcolor": "#E5ECF6",
           "caxis": {
            "gridcolor": "white",
            "linecolor": "white",
            "ticks": ""
           }
          },
          "title": {
           "x": 0.05
          },
          "xaxis": {
           "automargin": true,
           "gridcolor": "white",
           "linecolor": "white",
           "ticks": "",
           "title": {
            "standoff": 15
           },
           "zerolinecolor": "white",
           "zerolinewidth": 2
          },
          "yaxis": {
           "automargin": true,
           "gridcolor": "white",
           "linecolor": "white",
           "ticks": "",
           "title": {
            "standoff": 15
           },
           "zerolinecolor": "white",
           "zerolinewidth": 2
          }
         }
        }
       }
      },
      "text/html": [
       "<div>                            <div id=\"8dd664f1-ae27-4702-99ec-d16109f56e78\" class=\"plotly-graph-div\" style=\"height:525px; width:100%;\"></div>            <script type=\"text/javascript\">                require([\"plotly\"], function(Plotly) {                    window.PLOTLYENV=window.PLOTLYENV || {};                                    if (document.getElementById(\"8dd664f1-ae27-4702-99ec-d16109f56e78\")) {                    Plotly.newPlot(                        \"8dd664f1-ae27-4702-99ec-d16109f56e78\",                        [{\"dimensions\": [{\"label\": \"year\", \"values\": [2010, 2010, 2010, 2010, 2010, 2010, 2010, 2010, 2010, 2010, 2010, 2010, 2010, 2010, 2010, 2010, 2010, 2010, 2010, 2010, 2010, 2010, 2010, 2010, 2010, 2010, 2010, 2010, 2010, 2010, 2010, 2010, 2010, 2010, 2010, 2010, 2010, 2010, 2010, 2010, 2010, 2010, 2010, 2010, 2010, 2010, 2010, 2010, 2010, 2010, 2010, 2010, 2010, 2010, 2010, 2010, 2010, 2010, 2010, 2011, 2011, 2011, 2011, 2011, 2011, 2011, 2011, 2011, 2011, 2011, 2011, 2011, 2011, 2011, 2011, 2011, 2011, 2011, 2011, 2011, 2011, 2011, 2011, 2011, 2011, 2011, 2011, 2011, 2011, 2011, 2011, 2011, 2011, 2011, 2011, 2011, 2011, 2011, 2011, 2011, 2011, 2011, 2011, 2011, 2011, 2011, 2011, 2011, 2011, 2011, 2011, 2011, 2011, 2011, 2011, 2011, 2011, 2011, 2012, 2012, 2012, 2012, 2012, 2012, 2012, 2012, 2012, 2012, 2012, 2012, 2012, 2012, 2012, 2012, 2012, 2012, 2012, 2012, 2012, 2012, 2012, 2012, 2012, 2012, 2012, 2012, 2012, 2012, 2012, 2012, 2012, 2012, 2012, 2012, 2012, 2012, 2012, 2012, 2012, 2012, 2012, 2012, 2012, 2012, 2012, 2012, 2012, 2012, 2012, 2012, 2012, 2012, 2012, 2012, 2012, 2012, 2013, 2013, 2013, 2013, 2013, 2013, 2013, 2013, 2013, 2013, 2013, 2013, 2013, 2013, 2013, 2013, 2013, 2013, 2013, 2013, 2013, 2013, 2013, 2013, 2013, 2013, 2013, 2013, 2013, 2013, 2013, 2013, 2013, 2013, 2013, 2013, 2013, 2013, 2013, 2013, 2013, 2013, 2013, 2013, 2013, 2013, 2013, 2013, 2013, 2013, 2013, 2013, 2013, 2013, 2013, 2013, 2013, 2014, 2014, 2014, 2014, 2014, 2014, 2014, 2014, 2014, 2014, 2014, 2014, 2014, 2014, 2014, 2014, 2014, 2014, 2014, 2014, 2014, 2014, 2014, 2014, 2014, 2014, 2014, 2014, 2014, 2014, 2014, 2014, 2014, 2014, 2014, 2014, 2014, 2014, 2014, 2014, 2014, 2014, 2014, 2014, 2014, 2014, 2014, 2014, 2014, 2014, 2014, 2014, 2014, 2014, 2014, 2014, 2014, 2014, 2014, 2014, 2015, 2015, 2015, 2015, 2015, 2015, 2015, 2015, 2015, 2015, 2015, 2015, 2015, 2015, 2015, 2015, 2015, 2015, 2015, 2015, 2015, 2015, 2015, 2015, 2015, 2015, 2015, 2015, 2015, 2015, 2015, 2015, 2015, 2015, 2015, 2015, 2015, 2015, 2015, 2015, 2015, 2015, 2015, 2015, 2015, 2015, 2015, 2015, 2015, 2015, 2015, 2015, 2015, 2015, 2015, 2015, 2015, 2015, 2016, 2016, 2016, 2016, 2016, 2016, 2016, 2016, 2016, 2016, 2016, 2016, 2016, 2016, 2016, 2016, 2016, 2016, 2016, 2016, 2016, 2016, 2016, 2016, 2016, 2016, 2016, 2016, 2016, 2016, 2016, 2016, 2016, 2016, 2016, 2016, 2016, 2016, 2016, 2016, 2016, 2016, 2016, 2016, 2016, 2016]}, {\"label\": \"housing_units\", \"values\": [372560, 372560, 372560, 372560, 372560, 372560, 372560, 372560, 372560, 372560, 372560, 372560, 372560, 372560, 372560, 372560, 372560, 372560, 372560, 372560, 372560, 372560, 372560, 372560, 372560, 372560, 372560, 372560, 372560, 372560, 372560, 372560, 372560, 372560, 372560, 372560, 372560, 372560, 372560, 372560, 372560, 372560, 372560, 372560, 372560, 372560, 372560, 372560, 372560, 372560, 372560, 372560, 372560, 372560, 372560, 372560, 372560, 372560, 372560, 374507, 374507, 374507, 374507, 374507, 374507, 374507, 374507, 374507, 374507, 374507, 374507, 374507, 374507, 374507, 374507, 374507, 374507, 374507, 374507, 374507, 374507, 374507, 374507, 374507, 374507, 374507, 374507, 374507, 374507, 374507, 374507, 374507, 374507, 374507, 374507, 374507, 374507, 374507, 374507, 374507, 374507, 374507, 374507, 374507, 374507, 374507, 374507, 374507, 374507, 374507, 374507, 374507, 374507, 374507, 374507, 374507, 374507, 374507, 376454, 376454, 376454, 376454, 376454, 376454, 376454, 376454, 376454, 376454, 376454, 376454, 376454, 376454, 376454, 376454, 376454, 376454, 376454, 376454, 376454, 376454, 376454, 376454, 376454, 376454, 376454, 376454, 376454, 376454, 376454, 376454, 376454, 376454, 376454, 376454, 376454, 376454, 376454, 376454, 376454, 376454, 376454, 376454, 376454, 376454, 376454, 376454, 376454, 376454, 376454, 376454, 376454, 376454, 376454, 376454, 376454, 376454, 378401, 378401, 378401, 378401, 378401, 378401, 378401, 378401, 378401, 378401, 378401, 378401, 378401, 378401, 378401, 378401, 378401, 378401, 378401, 378401, 378401, 378401, 378401, 378401, 378401, 378401, 378401, 378401, 378401, 378401, 378401, 378401, 378401, 378401, 378401, 378401, 378401, 378401, 378401, 378401, 378401, 378401, 378401, 378401, 378401, 378401, 378401, 378401, 378401, 378401, 378401, 378401, 378401, 378401, 378401, 378401, 378401, 380348, 380348, 380348, 380348, 380348, 380348, 380348, 380348, 380348, 380348, 380348, 380348, 380348, 380348, 380348, 380348, 380348, 380348, 380348, 380348, 380348, 380348, 380348, 380348, 380348, 380348, 380348, 380348, 380348, 380348, 380348, 380348, 380348, 380348, 380348, 380348, 380348, 380348, 380348, 380348, 380348, 380348, 380348, 380348, 380348, 380348, 380348, 380348, 380348, 380348, 380348, 380348, 380348, 380348, 380348, 380348, 380348, 380348, 380348, 380348, 382295, 382295, 382295, 382295, 382295, 382295, 382295, 382295, 382295, 382295, 382295, 382295, 382295, 382295, 382295, 382295, 382295, 382295, 382295, 382295, 382295, 382295, 382295, 382295, 382295, 382295, 382295, 382295, 382295, 382295, 382295, 382295, 382295, 382295, 382295, 382295, 382295, 382295, 382295, 382295, 382295, 382295, 382295, 382295, 382295, 382295, 382295, 382295, 382295, 382295, 382295, 382295, 382295, 382295, 382295, 382295, 382295, 382295, 384242, 384242, 384242, 384242, 384242, 384242, 384242, 384242, 384242, 384242, 384242, 384242, 384242, 384242, 384242, 384242, 384242, 384242, 384242, 384242, 384242, 384242, 384242, 384242, 384242, 384242, 384242, 384242, 384242, 384242, 384242, 384242, 384242, 384242, 384242, 384242, 384242, 384242, 384242, 384242, 384242, 384242, 384242, 384242, 384242, 384242]}, {\"label\": \"gross_rent\", \"values\": [1239, 1239, 1239, 1239, 1239, 1239, 1239, 1239, 1239, 1239, 1239, 1239, 1239, 1239, 1239, 1239, 1239, 1239, 1239, 1239, 1239, 1239, 1239, 1239, 1239, 1239, 1239, 1239, 1239, 1239, 1239, 1239, 1239, 1239, 1239, 1239, 1239, 1239, 1239, 1239, 1239, 1239, 1239, 1239, 1239, 1239, 1239, 1239, 1239, 1239, 1239, 1239, 1239, 1239, 1239, 1239, 1239, 1239, 1239, 1530, 1530, 1530, 1530, 1530, 1530, 1530, 1530, 1530, 1530, 1530, 1530, 1530, 1530, 1530, 1530, 1530, 1530, 1530, 1530, 1530, 1530, 1530, 1530, 1530, 1530, 1530, 1530, 1530, 1530, 1530, 1530, 1530, 1530, 1530, 1530, 1530, 1530, 1530, 1530, 1530, 1530, 1530, 1530, 1530, 1530, 1530, 1530, 1530, 1530, 1530, 1530, 1530, 1530, 1530, 1530, 1530, 1530, 1530, 2324, 2324, 2324, 2324, 2324, 2324, 2324, 2324, 2324, 2324, 2324, 2324, 2324, 2324, 2324, 2324, 2324, 2324, 2324, 2324, 2324, 2324, 2324, 2324, 2324, 2324, 2324, 2324, 2324, 2324, 2324, 2324, 2324, 2324, 2324, 2324, 2324, 2324, 2324, 2324, 2324, 2324, 2324, 2324, 2324, 2324, 2324, 2324, 2324, 2324, 2324, 2324, 2324, 2324, 2324, 2324, 2324, 2324, 2971, 2971, 2971, 2971, 2971, 2971, 2971, 2971, 2971, 2971, 2971, 2971, 2971, 2971, 2971, 2971, 2971, 2971, 2971, 2971, 2971, 2971, 2971, 2971, 2971, 2971, 2971, 2971, 2971, 2971, 2971, 2971, 2971, 2971, 2971, 2971, 2971, 2971, 2971, 2971, 2971, 2971, 2971, 2971, 2971, 2971, 2971, 2971, 2971, 2971, 2971, 2971, 2971, 2971, 2971, 2971, 2971, 3528, 3528, 3528, 3528, 3528, 3528, 3528, 3528, 3528, 3528, 3528, 3528, 3528, 3528, 3528, 3528, 3528, 3528, 3528, 3528, 3528, 3528, 3528, 3528, 3528, 3528, 3528, 3528, 3528, 3528, 3528, 3528, 3528, 3528, 3528, 3528, 3528, 3528, 3528, 3528, 3528, 3528, 3528, 3528, 3528, 3528, 3528, 3528, 3528, 3528, 3528, 3528, 3528, 3528, 3528, 3528, 3528, 3528, 3528, 3528, 3739, 3739, 3739, 3739, 3739, 3739, 3739, 3739, 3739, 3739, 3739, 3739, 3739, 3739, 3739, 3739, 3739, 3739, 3739, 3739, 3739, 3739, 3739, 3739, 3739, 3739, 3739, 3739, 3739, 3739, 3739, 3739, 3739, 3739, 3739, 3739, 3739, 3739, 3739, 3739, 3739, 3739, 3739, 3739, 3739, 3739, 3739, 3739, 3739, 3739, 3739, 3739, 3739, 3739, 3739, 3739, 3739, 3739, 4390, 4390, 4390, 4390, 4390, 4390, 4390, 4390, 4390, 4390, 4390, 4390, 4390, 4390, 4390, 4390, 4390, 4390, 4390, 4390, 4390, 4390, 4390, 4390, 4390, 4390, 4390, 4390, 4390, 4390, 4390, 4390, 4390, 4390, 4390, 4390, 4390, 4390, 4390, 4390, 4390, 4390, 4390, 4390, 4390, 4390]}], \"domain\": {\"x\": [0.0, 1.0], \"y\": [0.0, 1.0]}, \"line\": {\"color\": [291.18294547229095, 267.9325826799483, 170.09866536400102, 347.3949194037114, 319.0276225530687, 418.1724927089675, 369.35933800413665, 569.3799679261333, 165.6457300650791, 456.9308221979013, 241.80455206485138, 403.1183126490986, 364.92833570851764, 401.7499665916537, 162.82121004772353, 209.0493266346945, 715.5864380979738, 551.8011188234774, 254.47377914469143, 272.28497956385485, 170.62491987132685, 275.05668560990915, 238.35002040677708, 199.70200378219917, 285.82235848868265, 275.76972957461044, 419.88781187646566, 320.79691049204627, 398.4588759923028, 374.05763601016855, 387.392839476922, 680.6087291389301, 489.80537777998506, 257.98799863500693, 262.87602564056425, 307.67747674427835, 381.13844514705266, 282.11967050133603, 432.19529211245555, 338.12619999607017, 368.31155203937294, 496.51601414694983, 326.01715041025074, 274.16674158669116, 434.25500394602585, 302.15611319728896, 491.45000385678617, 549.4179312485746, 362.34822391312133, 1037.0997886617895, 401.2959764896399, 542.5316819894505, 524.7935090952678, 331.55599614560697, 569.1934475267735, 108.0129268765048, 392.30076417058257, 215.56913431487555, 333.12677384193887, 272.5273101795261, 172.54056243085552, 471.9217320911283, 171.7723466866044, 261.6638003416518, 391.42644972996203, 520.7181675305429, 222.567848047696, 390.5956530284181, 145.85338027594094, 382.3522610640586, 234.28162351035442, 295.77937822922695, 413.16280403427527, 281.312904357283, 354.66555789282774, 457.41388429762526, 348.92970004124925, 392.35345097326814, 280.73063309393075, 356.7090091359044, 198.01587292452027, 283.17495073168755, 360.03727240448274, 302.60448945564127, 610.7666631577348, 330.10889435237306, 313.33845823084727, 303.5441997161898, 390.81846895621413, 414.67606477603755, 506.95217450146765, 293.4042461148187, 340.6425969783877, 373.97868706755236, 290.9210327099608, 346.96116001560216, 142.14256751724554, 241.94565649181578, 271.09013956932756, 297.2455578459466, 509.0214800287398, 289.60560009472283, 217.55878684527906, 466.6178976523653, 208.1679967483858, 503.13850456030497, 493.814917282618, 448.3201042149405, 388.6443367815385, 337.91413464365013, 437.16429949197664, 483.4057725178001, 284.56696642681646, 302.12325280969134, 384.23680203579306, 227.41898086494461, 320.0743330547439, 438.86054508174806, 183.09931693145703, 344.4909139677922, 165.79806239165433, 368.26656078838516, 338.60116351046344, 279.0301399218751, 334.4878725198492, 356.7948135908725, 644.8183066758803, 415.0903401095623, 366.9954275112727, 269.109528813633, 452.66002242984047, 524.8134180834782, 371.0302152741686, 286.3519820673892, 613.8430658201435, 434.63234651328025, 418.83037933269526, 306.3779578647354, 336.8259501844992, 373.4668636470579, 325.82892041816064, 383.15039609809617, 380.5214843069476, 545.9801982412763, 396.171112391617, 445.21509554245245, 421.1412447061912, 397.9391288956355, 756.1923725098497, 689.5233123659036, 320.9599230279341, 307.78311439850694, 428.0219127043747, 517.1734931165627, 390.3838567783597, 442.24265696115737, 221.881138746669, 312.83398436239065, 338.63301173022234, 413.05871935195154, 586.2182148097696, 288.0785187599688, 378.2738784387478, 515.9210732061051, 351.0432256921308, 466.6478402167172, 426.60859207171325, 414.16272789686775, 463.8098989043553, 465.80212163177373, 304.89964760284107, 445.1967876448791, 345.95804038831767, 325.79541506433713, 274.33846004864847, 491.8140030500954, 387.79414379681333, 453.34049829869934, 259.54716259308043, 630.8973025513741, 455.2180887853926, 343.0542609770136, 330.7364310191893, 453.7716045219721, 707.4028088888208, 223.11583290346024, 533.6884470076521, 361.45469198221224, 608.694967227678, 289.749665708438, 274.4579436322337, 458.7213317825408, 956.1841219171133, 478.4956365730093, 491.5892613631572, 377.51801557551835, 302.96737702840636, 435.5456667813491, 584.0737147409254, 568.6511487607912, 376.08359802951554, 548.0466890413603, 655.1980415945777, 703.0815676877947, null, 427.16626614177557, 591.4020223180053, 466.02648785310464, 615.0639297056517, 393.71733534550384, 483.16880334240136, 372.24198616911974, 332.40781536886453, 322.0822144332409, 503.89926133005366, 512.6307219919141, 364.62465302417013, 425.64225533080946, 235.99759251727426, 598.704795328917, 512.8402484358223, 506.22752218971993, 420.822184596571, 505.83481143735054, 653.3116166908643, 414.43569251368126, 1290.472106646641, 285.0095060630079, 293.2983722057751, 588.0747967826295, 217.0890689540353, 747.3335378171588, 753.0114133184368, 484.44355217067766, 620.4414065565543, 254.95866163273848, 544.5469286452765, 423.95272693478194, 456.2419957897522, 888.1821435177138, 691.8654114838455, 428.7265326799175, 630.3115352378672, 728.9797158498743, 358.30523872237734, 409.9438351783924, 694.4181461347432, 553.5627522522698, 567.3400104586143, 496.55100121228986, 428.9237926791115, 647.6496334575522, 464.1758436880091, 597.200528047448, 430.9396363161629, 470.85352986706454, 426.7863811847511, 432.9627229749631, 317.2219194303952, 716.3765095625198, 642.838478220973, 528.7265413888829, 1267.7662026328826, 220.11108719171108, 642.2195925518147, 300.1873092016618, 478.44335175268515, 654.801499892284, 379.92536172660726, 650.963515967709, 401.9350222176535, 490.36358286726374, 824.6586936349588, 371.9242451684328, 446.23924529045684, 773.4061347806703, 538.204698577284, 1045.2015459222662, 603.4509968798565, 714.2220737504065, 170.2925485152069, 524.6293121403909, 1119.8388773148026, 493.45560489574007, 708.1930316849231, 562.9112337982453, 558.2711194060469, 475.39318681250677, 282.02546830016496, 687.7829633004552, 429.4883174233179, 742.9797231632554, 479.9237488133093, 602.1158769435002, 465.68627450980387, 590.7928388746802, 458.0042993401075, 551.6956218496264, 473.1638149617127, 453.3793770708969, 1100.7911936704506, 598.6205414959003, 301.61864706270705, 485.8868855757771, 631.6456863280099, 790.1803690820187, 414.35585647200105, 694.358566653677, 453.4330812935196, 612.1061563311456, 772.7128362001238, 574.2740565313097, 536.5571018753241, null, 192.16524813774402, 435.9007753824155, 762.5272331154684, 493.61555763336935, 639.1464438694404, 576.4579094375945, 426.6849522707296, 918.2882682038704, 800.0388650775142, 1132.8373605554546, 571.7557085689908, 583.8486362312665, 529.847319131393, 544.6002639104154, 448.86919667679206, 890.9095931764135, 265.92982650327014, 564.6874764662283, 652.2879690318528, 438.4677874196749, 357.8946922463997, 910.1876901656897, 616.5723883169862, null, 605.3433249358948, 821.3009904764873, null, 793.2619915605263, 717.0825412171872, 439.7498835483721, 996.9902204858653, 417.33537892280015, 2258.702831998355, 677.8382318281795, 302.2218727063018, 481.46924427394237, 963.5226061641273, 340.98183523166995, 88.40151094606408, 986.8421052631579, 851.4014053492668, 661.0644257703083, 581.3708750724594, 1059.0656015492618, 566.7011760342162, 718.7768297452345, 1026.7911075237503, 534.2262501283425, null, 945.5665024630542, 531.8350322320708, 175.06606919629078, 571.5799833446893, 647.7704471840341, 518.1126504655916, 403.31113221139015, 445.9238282688497, 704.5664189758045, 636.4307703489127, 431.94460202359033, 1416.666666666667, 924.5691159025888, 879.0170132325142, 777.0083145338547, 799.4956512788842, 407.5533215595707, 40.7726253518439, 732.7206841423807, 1196.645436923929, 510.5769072143791, 996.3893635634033, 211.30136986006568, 1207.997484708169, 707.6516094320912, 1465.9685863874345, 1024.3398771365157, 531.1363737279744, 751.1737089201877, 903.0497705987848, 970.08547008547, 552.6025671312701, 328.31900668576884, 631.1954258724091], \"coloraxis\": \"coloraxis\"}, \"name\": \"\", \"type\": \"parcats\"}],                        {\"coloraxis\": {\"colorbar\": {\"title\": {\"text\": \"sale_price_sqr_foot\"}}, \"colorscale\": [[0.0, \"#000004\"], [0.1111111111111111, \"#1b0c41\"], [0.2222222222222222, \"#4a0c6b\"], [0.3333333333333333, \"#781c6d\"], [0.4444444444444444, \"#a52c60\"], [0.5555555555555556, \"#cf4446\"], [0.6666666666666666, \"#ed6925\"], [0.7777777777777778, \"#fb9b06\"], [0.8888888888888888, \"#f7d13d\"], [1.0, \"#fcffa4\"]]}, \"legend\": {\"tracegroupgap\": 0}, \"margin\": {\"t\": 60}, \"template\": {\"data\": {\"bar\": [{\"error_x\": {\"color\": \"#2a3f5f\"}, \"error_y\": {\"color\": \"#2a3f5f\"}, \"marker\": {\"line\": {\"color\": \"#E5ECF6\", \"width\": 0.5}}, \"type\": \"bar\"}], \"barpolar\": [{\"marker\": {\"line\": {\"color\": \"#E5ECF6\", \"width\": 0.5}}, \"type\": \"barpolar\"}], \"carpet\": [{\"aaxis\": {\"endlinecolor\": \"#2a3f5f\", \"gridcolor\": \"white\", \"linecolor\": \"white\", \"minorgridcolor\": \"white\", \"startlinecolor\": \"#2a3f5f\"}, \"baxis\": {\"endlinecolor\": \"#2a3f5f\", \"gridcolor\": \"white\", \"linecolor\": \"white\", \"minorgridcolor\": \"white\", \"startlinecolor\": \"#2a3f5f\"}, \"type\": \"carpet\"}], \"choropleth\": [{\"colorbar\": {\"outlinewidth\": 0, \"ticks\": \"\"}, \"type\": \"choropleth\"}], \"contour\": [{\"colorbar\": {\"outlinewidth\": 0, \"ticks\": \"\"}, \"colorscale\": [[0.0, \"#0d0887\"], [0.1111111111111111, \"#46039f\"], [0.2222222222222222, \"#7201a8\"], [0.3333333333333333, \"#9c179e\"], [0.4444444444444444, \"#bd3786\"], [0.5555555555555556, \"#d8576b\"], [0.6666666666666666, \"#ed7953\"], [0.7777777777777778, \"#fb9f3a\"], [0.8888888888888888, \"#fdca26\"], [1.0, \"#f0f921\"]], \"type\": \"contour\"}], \"contourcarpet\": [{\"colorbar\": {\"outlinewidth\": 0, \"ticks\": \"\"}, \"type\": \"contourcarpet\"}], \"heatmap\": [{\"colorbar\": {\"outlinewidth\": 0, \"ticks\": \"\"}, \"colorscale\": [[0.0, \"#0d0887\"], [0.1111111111111111, \"#46039f\"], [0.2222222222222222, \"#7201a8\"], [0.3333333333333333, \"#9c179e\"], [0.4444444444444444, \"#bd3786\"], [0.5555555555555556, \"#d8576b\"], [0.6666666666666666, \"#ed7953\"], [0.7777777777777778, \"#fb9f3a\"], [0.8888888888888888, \"#fdca26\"], [1.0, \"#f0f921\"]], \"type\": \"heatmap\"}], \"heatmapgl\": [{\"colorbar\": {\"outlinewidth\": 0, \"ticks\": \"\"}, \"colorscale\": [[0.0, \"#0d0887\"], [0.1111111111111111, \"#46039f\"], [0.2222222222222222, \"#7201a8\"], [0.3333333333333333, \"#9c179e\"], [0.4444444444444444, \"#bd3786\"], [0.5555555555555556, \"#d8576b\"], [0.6666666666666666, \"#ed7953\"], [0.7777777777777778, \"#fb9f3a\"], [0.8888888888888888, \"#fdca26\"], [1.0, \"#f0f921\"]], \"type\": \"heatmapgl\"}], \"histogram\": [{\"marker\": {\"colorbar\": {\"outlinewidth\": 0, \"ticks\": \"\"}}, \"type\": \"histogram\"}], \"histogram2d\": [{\"colorbar\": {\"outlinewidth\": 0, \"ticks\": \"\"}, \"colorscale\": [[0.0, \"#0d0887\"], [0.1111111111111111, \"#46039f\"], [0.2222222222222222, \"#7201a8\"], [0.3333333333333333, \"#9c179e\"], [0.4444444444444444, \"#bd3786\"], [0.5555555555555556, \"#d8576b\"], [0.6666666666666666, \"#ed7953\"], [0.7777777777777778, \"#fb9f3a\"], [0.8888888888888888, \"#fdca26\"], [1.0, \"#f0f921\"]], \"type\": \"histogram2d\"}], \"histogram2dcontour\": [{\"colorbar\": {\"outlinewidth\": 0, \"ticks\": \"\"}, \"colorscale\": [[0.0, \"#0d0887\"], [0.1111111111111111, \"#46039f\"], [0.2222222222222222, \"#7201a8\"], [0.3333333333333333, \"#9c179e\"], [0.4444444444444444, \"#bd3786\"], [0.5555555555555556, \"#d8576b\"], [0.6666666666666666, \"#ed7953\"], [0.7777777777777778, \"#fb9f3a\"], [0.8888888888888888, \"#fdca26\"], [1.0, \"#f0f921\"]], \"type\": \"histogram2dcontour\"}], \"mesh3d\": [{\"colorbar\": {\"outlinewidth\": 0, \"ticks\": \"\"}, \"type\": \"mesh3d\"}], \"parcoords\": [{\"line\": {\"colorbar\": {\"outlinewidth\": 0, \"ticks\": \"\"}}, \"type\": \"parcoords\"}], \"pie\": [{\"automargin\": true, \"type\": \"pie\"}], \"scatter\": [{\"marker\": {\"colorbar\": {\"outlinewidth\": 0, \"ticks\": \"\"}}, \"type\": \"scatter\"}], \"scatter3d\": [{\"line\": {\"colorbar\": {\"outlinewidth\": 0, \"ticks\": \"\"}}, \"marker\": {\"colorbar\": {\"outlinewidth\": 0, \"ticks\": \"\"}}, \"type\": \"scatter3d\"}], \"scattercarpet\": [{\"marker\": {\"colorbar\": {\"outlinewidth\": 0, \"ticks\": \"\"}}, \"type\": \"scattercarpet\"}], \"scattergeo\": [{\"marker\": {\"colorbar\": {\"outlinewidth\": 0, \"ticks\": \"\"}}, \"type\": \"scattergeo\"}], \"scattergl\": [{\"marker\": {\"colorbar\": {\"outlinewidth\": 0, \"ticks\": \"\"}}, \"type\": \"scattergl\"}], \"scattermapbox\": [{\"marker\": {\"colorbar\": {\"outlinewidth\": 0, \"ticks\": \"\"}}, \"type\": \"scattermapbox\"}], \"scatterpolar\": [{\"marker\": {\"colorbar\": {\"outlinewidth\": 0, \"ticks\": \"\"}}, \"type\": \"scatterpolar\"}], \"scatterpolargl\": [{\"marker\": {\"colorbar\": {\"outlinewidth\": 0, \"ticks\": \"\"}}, \"type\": \"scatterpolargl\"}], \"scatterternary\": [{\"marker\": {\"colorbar\": {\"outlinewidth\": 0, \"ticks\": \"\"}}, \"type\": \"scatterternary\"}], \"surface\": [{\"colorbar\": {\"outlinewidth\": 0, \"ticks\": \"\"}, \"colorscale\": [[0.0, \"#0d0887\"], [0.1111111111111111, \"#46039f\"], [0.2222222222222222, \"#7201a8\"], [0.3333333333333333, \"#9c179e\"], [0.4444444444444444, \"#bd3786\"], [0.5555555555555556, \"#d8576b\"], [0.6666666666666666, \"#ed7953\"], [0.7777777777777778, \"#fb9f3a\"], [0.8888888888888888, \"#fdca26\"], [1.0, \"#f0f921\"]], \"type\": \"surface\"}], \"table\": [{\"cells\": {\"fill\": {\"color\": \"#EBF0F8\"}, \"line\": {\"color\": \"white\"}}, \"header\": {\"fill\": {\"color\": \"#C8D4E3\"}, \"line\": {\"color\": \"white\"}}, \"type\": \"table\"}]}, \"layout\": {\"annotationdefaults\": {\"arrowcolor\": \"#2a3f5f\", \"arrowhead\": 0, \"arrowwidth\": 1}, \"autotypenumbers\": \"strict\", \"coloraxis\": {\"colorbar\": {\"outlinewidth\": 0, \"ticks\": \"\"}}, \"colorscale\": {\"diverging\": [[0, \"#8e0152\"], [0.1, \"#c51b7d\"], [0.2, \"#de77ae\"], [0.3, \"#f1b6da\"], [0.4, \"#fde0ef\"], [0.5, \"#f7f7f7\"], [0.6, \"#e6f5d0\"], [0.7, \"#b8e186\"], [0.8, \"#7fbc41\"], [0.9, \"#4d9221\"], [1, \"#276419\"]], \"sequential\": [[0.0, \"#0d0887\"], [0.1111111111111111, \"#46039f\"], [0.2222222222222222, \"#7201a8\"], [0.3333333333333333, \"#9c179e\"], [0.4444444444444444, \"#bd3786\"], [0.5555555555555556, \"#d8576b\"], [0.6666666666666666, \"#ed7953\"], [0.7777777777777778, \"#fb9f3a\"], [0.8888888888888888, \"#fdca26\"], [1.0, \"#f0f921\"]], \"sequentialminus\": [[0.0, \"#0d0887\"], [0.1111111111111111, \"#46039f\"], [0.2222222222222222, \"#7201a8\"], [0.3333333333333333, \"#9c179e\"], [0.4444444444444444, \"#bd3786\"], [0.5555555555555556, \"#d8576b\"], [0.6666666666666666, \"#ed7953\"], [0.7777777777777778, \"#fb9f3a\"], [0.8888888888888888, \"#fdca26\"], [1.0, \"#f0f921\"]]}, \"colorway\": [\"#636efa\", \"#EF553B\", \"#00cc96\", \"#ab63fa\", \"#FFA15A\", \"#19d3f3\", \"#FF6692\", \"#B6E880\", \"#FF97FF\", \"#FECB52\"], \"font\": {\"color\": \"#2a3f5f\"}, \"geo\": {\"bgcolor\": \"white\", \"lakecolor\": \"white\", \"landcolor\": \"#E5ECF6\", \"showlakes\": true, \"showland\": true, \"subunitcolor\": \"white\"}, \"hoverlabel\": {\"align\": \"left\"}, \"hovermode\": \"closest\", \"mapbox\": {\"style\": \"light\"}, \"paper_bgcolor\": \"white\", \"plot_bgcolor\": \"#E5ECF6\", \"polar\": {\"angularaxis\": {\"gridcolor\": \"white\", \"linecolor\": \"white\", \"ticks\": \"\"}, \"bgcolor\": \"#E5ECF6\", \"radialaxis\": {\"gridcolor\": \"white\", \"linecolor\": \"white\", \"ticks\": \"\"}}, \"scene\": {\"xaxis\": {\"backgroundcolor\": \"#E5ECF6\", \"gridcolor\": \"white\", \"gridwidth\": 2, \"linecolor\": \"white\", \"showbackground\": true, \"ticks\": \"\", \"zerolinecolor\": \"white\"}, \"yaxis\": {\"backgroundcolor\": \"#E5ECF6\", \"gridcolor\": \"white\", \"gridwidth\": 2, \"linecolor\": \"white\", \"showbackground\": true, \"ticks\": \"\", \"zerolinecolor\": \"white\"}, \"zaxis\": {\"backgroundcolor\": \"#E5ECF6\", \"gridcolor\": \"white\", \"gridwidth\": 2, \"linecolor\": \"white\", \"showbackground\": true, \"ticks\": \"\", \"zerolinecolor\": \"white\"}}, \"shapedefaults\": {\"line\": {\"color\": \"#2a3f5f\"}}, \"ternary\": {\"aaxis\": {\"gridcolor\": \"white\", \"linecolor\": \"white\", \"ticks\": \"\"}, \"baxis\": {\"gridcolor\": \"white\", \"linecolor\": \"white\", \"ticks\": \"\"}, \"bgcolor\": \"#E5ECF6\", \"caxis\": {\"gridcolor\": \"white\", \"linecolor\": \"white\", \"ticks\": \"\"}}, \"title\": {\"x\": 0.05}, \"xaxis\": {\"automargin\": true, \"gridcolor\": \"white\", \"linecolor\": \"white\", \"ticks\": \"\", \"title\": {\"standoff\": 15}, \"zerolinecolor\": \"white\", \"zerolinewidth\": 2}, \"yaxis\": {\"automargin\": true, \"gridcolor\": \"white\", \"linecolor\": \"white\", \"ticks\": \"\", \"title\": {\"standoff\": 15}, \"zerolinecolor\": \"white\", \"zerolinewidth\": 2}}}},                        {\"responsive\": true}                    ).then(function(){\n",
       "                            \n",
       "var gd = document.getElementById('8dd664f1-ae27-4702-99ec-d16109f56e78');\n",
       "var x = new MutationObserver(function (mutations, observer) {{\n",
       "        var display = window.getComputedStyle(gd).display;\n",
       "        if (!display || display === 'none') {{\n",
       "            console.log([gd, 'removed!']);\n",
       "            Plotly.purge(gd);\n",
       "            observer.disconnect();\n",
       "        }}\n",
       "}});\n",
       "\n",
       "// Listen for the removal of the full notebook cells\n",
       "var notebookContainer = gd.closest('#notebook-container');\n",
       "if (notebookContainer) {{\n",
       "    x.observe(notebookContainer, {childList: true});\n",
       "}}\n",
       "\n",
       "// Listen for the clearing of the current output cell\n",
       "var outputEl = gd.closest('.output');\n",
       "if (outputEl) {{\n",
       "    x.observe(outputEl, {childList: true});\n",
       "}}\n",
       "\n",
       "                        })                };                });            </script>        </div>"
      ]
     },
     "metadata": {},
     "output_type": "display_data"
    }
   ],
   "source": [
    "px.parallel_categories(avg_prices_neighbourhood,color=\"sale_price_sqr_foot\", color_continuous_scale=px.colors.sequential.Inferno)"
   ]
  },
  {
   "cell_type": "code",
   "execution_count": 149,
   "metadata": {},
   "outputs": [],
   "source": [
    "df_neighborhood_locations = pd.read_csv(\"neighborhoods_coordinates.csv\")"
   ]
  },
  {
   "cell_type": "code",
   "execution_count": 150,
   "metadata": {},
   "outputs": [
    {
     "data": {
      "text/html": [
       "<div>\n",
       "<style scoped>\n",
       "    .dataframe tbody tr th:only-of-type {\n",
       "        vertical-align: middle;\n",
       "    }\n",
       "\n",
       "    .dataframe tbody tr th {\n",
       "        vertical-align: top;\n",
       "    }\n",
       "\n",
       "    .dataframe thead th {\n",
       "        text-align: right;\n",
       "    }\n",
       "</style>\n",
       "<table border=\"1\" class=\"dataframe\">\n",
       "  <thead>\n",
       "    <tr style=\"text-align: right;\">\n",
       "      <th></th>\n",
       "      <th>Neighborhood</th>\n",
       "      <th>Lat</th>\n",
       "      <th>Lon</th>\n",
       "    </tr>\n",
       "  </thead>\n",
       "  <tbody>\n",
       "    <tr>\n",
       "      <th>0</th>\n",
       "      <td>Alamo Square</td>\n",
       "      <td>37.791012</td>\n",
       "      <td>-122.402100</td>\n",
       "    </tr>\n",
       "    <tr>\n",
       "      <th>1</th>\n",
       "      <td>Anza Vista</td>\n",
       "      <td>37.779598</td>\n",
       "      <td>-122.443451</td>\n",
       "    </tr>\n",
       "    <tr>\n",
       "      <th>2</th>\n",
       "      <td>Bayview</td>\n",
       "      <td>37.734670</td>\n",
       "      <td>-122.401060</td>\n",
       "    </tr>\n",
       "    <tr>\n",
       "      <th>3</th>\n",
       "      <td>Bayview Heights</td>\n",
       "      <td>37.728740</td>\n",
       "      <td>-122.410980</td>\n",
       "    </tr>\n",
       "    <tr>\n",
       "      <th>4</th>\n",
       "      <td>Bernal Heights</td>\n",
       "      <td>37.728630</td>\n",
       "      <td>-122.443050</td>\n",
       "    </tr>\n",
       "  </tbody>\n",
       "</table>\n",
       "</div>"
      ],
      "text/plain": [
       "      Neighborhood        Lat         Lon\n",
       "0     Alamo Square  37.791012 -122.402100\n",
       "1       Anza Vista  37.779598 -122.443451\n",
       "2          Bayview  37.734670 -122.401060\n",
       "3  Bayview Heights  37.728740 -122.410980\n",
       "4   Bernal Heights  37.728630 -122.443050"
      ]
     },
     "execution_count": 150,
     "metadata": {},
     "output_type": "execute_result"
    }
   ],
   "source": [
    "df_neighborhood_locations.head()"
   ]
  },
  {
   "cell_type": "code",
   "execution_count": 151,
   "metadata": {},
   "outputs": [
    {
     "data": {
      "text/html": [
       "<div>\n",
       "<style scoped>\n",
       "    .dataframe tbody tr th:only-of-type {\n",
       "        vertical-align: middle;\n",
       "    }\n",
       "\n",
       "    .dataframe tbody tr th {\n",
       "        vertical-align: top;\n",
       "    }\n",
       "\n",
       "    .dataframe thead th {\n",
       "        text-align: right;\n",
       "    }\n",
       "</style>\n",
       "<table border=\"1\" class=\"dataframe\">\n",
       "  <thead>\n",
       "    <tr style=\"text-align: right;\">\n",
       "      <th></th>\n",
       "      <th>Neighborhood</th>\n",
       "      <th>sale_price_sqr_foot</th>\n",
       "      <th>housing_units</th>\n",
       "      <th>gross_rent</th>\n",
       "    </tr>\n",
       "  </thead>\n",
       "  <tbody>\n",
       "    <tr>\n",
       "      <th>0</th>\n",
       "      <td>Alamo Square</td>\n",
       "      <td>366.020712</td>\n",
       "      <td>378401.0</td>\n",
       "      <td>2817.285714</td>\n",
       "    </tr>\n",
       "    <tr>\n",
       "      <th>1</th>\n",
       "      <td>Anza Vista</td>\n",
       "      <td>373.382198</td>\n",
       "      <td>379050.0</td>\n",
       "      <td>3031.833333</td>\n",
       "    </tr>\n",
       "    <tr>\n",
       "      <th>2</th>\n",
       "      <td>Bayview</td>\n",
       "      <td>204.588623</td>\n",
       "      <td>376454.0</td>\n",
       "      <td>2318.400000</td>\n",
       "    </tr>\n",
       "    <tr>\n",
       "      <th>3</th>\n",
       "      <td>Bayview Heights</td>\n",
       "      <td>590.792839</td>\n",
       "      <td>382295.0</td>\n",
       "      <td>3739.000000</td>\n",
       "    </tr>\n",
       "    <tr>\n",
       "      <th>4</th>\n",
       "      <td>Bernal Heights</td>\n",
       "      <td>576.746488</td>\n",
       "      <td>379374.5</td>\n",
       "      <td>3080.333333</td>\n",
       "    </tr>\n",
       "  </tbody>\n",
       "</table>\n",
       "</div>"
      ],
      "text/plain": [
       "      Neighborhood  sale_price_sqr_foot  housing_units   gross_rent\n",
       "0     Alamo Square           366.020712       378401.0  2817.285714\n",
       "1       Anza Vista           373.382198       379050.0  3031.833333\n",
       "2          Bayview           204.588623       376454.0  2318.400000\n",
       "3  Bayview Heights           590.792839       382295.0  3739.000000\n",
       "4  Bernal Heights            576.746488       379374.5  3080.333333"
      ]
     },
     "execution_count": 151,
     "metadata": {},
     "output_type": "execute_result"
    }
   ],
   "source": [
    "average_prices = sfo_data.groupby([\"neighborhood\"]).mean()\n",
    "average_prices.reset_index(inplace=True)\n",
    "average_prices.rename(columns={\"neighborhood\":'Neighborhood'},inplace=True)\n",
    "average_prices.head()"
   ]
  },
  {
   "cell_type": "code",
   "execution_count": 152,
   "metadata": {},
   "outputs": [],
   "source": [
    "combined_data= pd.merge(average_prices,df_neighborhood_locations,on=\"Neighborhood\")"
   ]
  },
  {
   "cell_type": "code",
   "execution_count": 153,
   "metadata": {},
   "outputs": [
    {
     "data": {
      "text/html": [
       "<div>\n",
       "<style scoped>\n",
       "    .dataframe tbody tr th:only-of-type {\n",
       "        vertical-align: middle;\n",
       "    }\n",
       "\n",
       "    .dataframe tbody tr th {\n",
       "        vertical-align: top;\n",
       "    }\n",
       "\n",
       "    .dataframe thead th {\n",
       "        text-align: right;\n",
       "    }\n",
       "</style>\n",
       "<table border=\"1\" class=\"dataframe\">\n",
       "  <thead>\n",
       "    <tr style=\"text-align: right;\">\n",
       "      <th></th>\n",
       "      <th>Neighborhood</th>\n",
       "      <th>sale_price_sqr_foot</th>\n",
       "      <th>housing_units</th>\n",
       "      <th>gross_rent</th>\n",
       "      <th>Lat</th>\n",
       "      <th>Lon</th>\n",
       "    </tr>\n",
       "  </thead>\n",
       "  <tbody>\n",
       "    <tr>\n",
       "      <th>0</th>\n",
       "      <td>Alamo Square</td>\n",
       "      <td>366.020712</td>\n",
       "      <td>378401.00</td>\n",
       "      <td>2817.285714</td>\n",
       "      <td>37.791012</td>\n",
       "      <td>-122.402100</td>\n",
       "    </tr>\n",
       "    <tr>\n",
       "      <th>1</th>\n",
       "      <td>Anza Vista</td>\n",
       "      <td>373.382198</td>\n",
       "      <td>379050.00</td>\n",
       "      <td>3031.833333</td>\n",
       "      <td>37.779598</td>\n",
       "      <td>-122.443451</td>\n",
       "    </tr>\n",
       "    <tr>\n",
       "      <th>2</th>\n",
       "      <td>Bayview</td>\n",
       "      <td>204.588623</td>\n",
       "      <td>376454.00</td>\n",
       "      <td>2318.400000</td>\n",
       "      <td>37.734670</td>\n",
       "      <td>-122.401060</td>\n",
       "    </tr>\n",
       "    <tr>\n",
       "      <th>3</th>\n",
       "      <td>Bayview Heights</td>\n",
       "      <td>590.792839</td>\n",
       "      <td>382295.00</td>\n",
       "      <td>3739.000000</td>\n",
       "      <td>37.728740</td>\n",
       "      <td>-122.410980</td>\n",
       "    </tr>\n",
       "    <tr>\n",
       "      <th>4</th>\n",
       "      <td>Buena Vista Park</td>\n",
       "      <td>452.680591</td>\n",
       "      <td>378076.50</td>\n",
       "      <td>2698.833333</td>\n",
       "      <td>37.768160</td>\n",
       "      <td>-122.439330</td>\n",
       "    </tr>\n",
       "    <tr>\n",
       "      <th>...</th>\n",
       "      <td>...</td>\n",
       "      <td>...</td>\n",
       "      <td>...</td>\n",
       "      <td>...</td>\n",
       "      <td>...</td>\n",
       "      <td>...</td>\n",
       "    </tr>\n",
       "    <tr>\n",
       "      <th>64</th>\n",
       "      <td>West Portal</td>\n",
       "      <td>498.488485</td>\n",
       "      <td>376940.75</td>\n",
       "      <td>2515.500000</td>\n",
       "      <td>37.740260</td>\n",
       "      <td>-122.463880</td>\n",
       "    </tr>\n",
       "    <tr>\n",
       "      <th>65</th>\n",
       "      <td>Western Addition</td>\n",
       "      <td>307.562201</td>\n",
       "      <td>377427.50</td>\n",
       "      <td>2555.166667</td>\n",
       "      <td>37.792980</td>\n",
       "      <td>-122.435790</td>\n",
       "    </tr>\n",
       "    <tr>\n",
       "      <th>66</th>\n",
       "      <td>Westwood Highlands</td>\n",
       "      <td>533.703935</td>\n",
       "      <td>376454.00</td>\n",
       "      <td>2250.500000</td>\n",
       "      <td>37.734700</td>\n",
       "      <td>-122.456854</td>\n",
       "    </tr>\n",
       "    <tr>\n",
       "      <th>67</th>\n",
       "      <td>Westwood Park</td>\n",
       "      <td>687.087575</td>\n",
       "      <td>382295.00</td>\n",
       "      <td>3959.000000</td>\n",
       "      <td>37.734150</td>\n",
       "      <td>-122.457000</td>\n",
       "    </tr>\n",
       "    <tr>\n",
       "      <th>68</th>\n",
       "      <td>Yerba Buena</td>\n",
       "      <td>576.709848</td>\n",
       "      <td>377427.50</td>\n",
       "      <td>2555.166667</td>\n",
       "      <td>37.792980</td>\n",
       "      <td>-122.396360</td>\n",
       "    </tr>\n",
       "  </tbody>\n",
       "</table>\n",
       "<p>69 rows × 6 columns</p>\n",
       "</div>"
      ],
      "text/plain": [
       "          Neighborhood  sale_price_sqr_foot  housing_units   gross_rent  \\\n",
       "0         Alamo Square           366.020712      378401.00  2817.285714   \n",
       "1           Anza Vista           373.382198      379050.00  3031.833333   \n",
       "2              Bayview           204.588623      376454.00  2318.400000   \n",
       "3      Bayview Heights           590.792839      382295.00  3739.000000   \n",
       "4     Buena Vista Park           452.680591      378076.50  2698.833333   \n",
       "..                 ...                  ...            ...          ...   \n",
       "64         West Portal           498.488485      376940.75  2515.500000   \n",
       "65    Western Addition           307.562201      377427.50  2555.166667   \n",
       "66  Westwood Highlands           533.703935      376454.00  2250.500000   \n",
       "67       Westwood Park           687.087575      382295.00  3959.000000   \n",
       "68         Yerba Buena           576.709848      377427.50  2555.166667   \n",
       "\n",
       "          Lat         Lon  \n",
       "0   37.791012 -122.402100  \n",
       "1   37.779598 -122.443451  \n",
       "2   37.734670 -122.401060  \n",
       "3   37.728740 -122.410980  \n",
       "4   37.768160 -122.439330  \n",
       "..        ...         ...  \n",
       "64  37.740260 -122.463880  \n",
       "65  37.792980 -122.435790  \n",
       "66  37.734700 -122.456854  \n",
       "67  37.734150 -122.457000  \n",
       "68  37.792980 -122.396360  \n",
       "\n",
       "[69 rows x 6 columns]"
      ]
     },
     "execution_count": 153,
     "metadata": {},
     "output_type": "execute_result"
    }
   ],
   "source": [
    "combined_data"
   ]
  },
  {
   "cell_type": "code",
   "execution_count": 154,
   "metadata": {},
   "outputs": [],
   "source": [
    "px.set_mapbox_access_token(\"mapbox_token\")"
   ]
  },
  {
   "cell_type": "code",
   "execution_count": 155,
   "metadata": {},
   "outputs": [],
   "source": [
    "mp_plot= px.scatter_mapbox(combined_data,lat=\"Lat\",lon=\"Lon\",size=\"sale_price_sqr_foot\",color=\"gross_rent\", title=\"Average Sale Price per Square Foot and Gross Rent in San Francisco\")"
   ]
  },
  {
   "cell_type": "code",
   "execution_count": 158,
   "metadata": {},
   "outputs": [
    {
     "data": {
      "application/vnd.plotly.v1+json": {
       "config": {
        "plotlyServerURL": "https://plot.ly"
       },
       "data": [
        {
         "hovertemplate": "sale_price_sqr_foot=%{marker.size}<br>Lat=%{lat}<br>Lon=%{lon}<br>gross_rent=%{marker.color}<extra></extra>",
         "lat": [
          37.791012,
          37.779598,
          37.73467,
          37.72874,
          37.768159999999995,
          37.77789,
          37.74961,
          37.75331,
          37.78553,
          37.79298,
          37.7228,
          37.728629999999995,
          37.76964,
          37.75554,
          37.72874,
          37.79101,
          37.79101,
          37.757059999999996,
          37.728629999999995,
          37.757912,
          37.76525,
          37.76525,
          37.72551,
          37.72116,
          37.75416,
          37.74961,
          37.769112,
          37.74961,
          37.78553,
          37.801520000000004,
          37.7789,
          37.79298,
          37.79972,
          37.71993,
          37.75331,
          37.73415,
          37.783229999999996,
          37.75184,
          37.728629999999995,
          37.79298,
          37.75331,
          37.80055,
          37.80055,
          37.71993,
          37.7228,
          37.7517,
          37.74961,
          37.79298,
          37.72838,
          37.74961,
          37.76355,
          37.73467,
          37.73196,
          37.78553,
          37.79298,
          37.73467,
          37.783229999999996,
          37.79101,
          37.73415,
          37.80055,
          37.753311,
          37.79101,
          37.779509999999995,
          37.72874,
          37.74026,
          37.79298,
          37.7347,
          37.73415,
          37.79298
         ],
         "legendgroup": "",
         "lon": [
          -122.4021,
          -122.443451,
          -122.40106000000002,
          -122.41098000000001,
          -122.43933,
          -122.44516999999999,
          -122.48998999999999,
          -122.44703,
          -122.456,
          -122.43579,
          -122.43869,
          -122.44305,
          -122.42611000000001,
          -122.43778999999999,
          -122.41098000000001,
          -122.4021,
          -122.4021,
          -122.45508999999998,
          -122.44305,
          -122.46401999999999,
          -122.43596000000001,
          -122.43596000000001,
          -122.37178,
          -122.48706999999999,
          -122.41946999999999,
          -122.48998999999999,
          -122.483566,
          -122.48997,
          -122.456,
          -122.45456999999999,
          -122.45496000000001,
          -122.43579,
          -122.46688999999999,
          -122.46595,
          -122.44703,
          -122.45700000000001,
          -122.40065,
          -122.42522,
          -122.44305,
          -122.43579,
          -122.44703,
          -122.40433,
          -122.40433,
          -122.46595,
          -122.43869,
          -122.446,
          -122.48998999999999,
          -122.43579,
          -122.47851000000001,
          -122.48998999999999,
          -122.45765,
          -122.40106000000002,
          -122.38323999999999,
          -122.456,
          -122.43579,
          -122.40106000000002,
          -122.40065,
          -122.4021,
          -122.45700000000001,
          -122.40433,
          -122.447029,
          -122.4021,
          -122.42022,
          -122.41098000000001,
          -122.46388,
          -122.43579,
          -122.456854,
          -122.45700000000001,
          -122.39636000000002
         ],
         "marker": {
          "color": [
           2817.285714285714,
           3031.8333333333335,
           2318.4,
           3739,
           2698.8333333333335,
           2817.285714285714,
           2817.285714285714,
           2250.5,
           2472,
           2817.285714285714,
           2698.8333333333335,
           2016,
           2780.25,
           2817.285714285714,
           3031.8333333333335,
           2817.285714285714,
           2472,
           1781.5,
           2899.5,
           2601.4,
           2817.285714285714,
           2817.285714285714,
           2489,
           2960,
           2817.285714285714,
           3224,
           2817.285714285714,
           2817.285714285714,
           2817.285714285714,
           2555.1666666666665,
           2555.1666666666665,
           2817.285714285714,
           2817.285714285714,
           3414,
           2647.5,
           2155.25,
           2663.6666666666665,
           2555.1666666666665,
           3173.4,
           2817.285714285714,
           2817.285714285714,
           2990.8,
           2818.4,
           2434,
           2995.75,
           2817.285714285714,
           2817.285714285714,
           2817.285714285714,
           2817.285714285714,
           2555.1666666666665,
           2817.285714285714,
           2318.4,
           2817.285714285714,
           2817.285714285714,
           2817.285714285714,
           3528,
           2099,
           2817.285714285714,
           2899.5,
           2817.285714285714,
           2817.285714285714,
           2555.1666666666665,
           2817.285714285714,
           3657,
           2515.5,
           2555.1666666666665,
           2250.5,
           3959,
           2555.1666666666665
          ],
          "coloraxis": "coloraxis",
          "size": [
           366.02071153227644,
           373.38219782647707,
           204.58862288246596,
           590.7928388746802,
           452.6805909308442,
           394.4223987800589,
           423.6879277015824,
           487.2448860262575,
           587.5390673661739,
           665.964041578323,
           303.00418440849427,
           434.99173944522124,
           502.59915555623616,
           642.2486706357391,
           388.76592700230754,
           391.36253308010487,
           455.83621223779153,
           321.84083657398736,
           623.826177537435,
           639.3935574881156,
           449.5447622856192,
           355.9328279480578,
           170.62491987132685,
           384.7979281346048,
           397.67371473613446,
           519.3856038526768,
           378.59431396136455,
           413.66751546215943,
           529.3841850673389,
           409.95435219297514,
           478.2285530213679,
           539.2379688783261,
           583.7492694814549,
           788.8448175872469,
           550.5103482917151,
           779.810842264425,
           566.1922135483312,
           418.9156225067234,
           523.4662013248023,
           458.2040944846015,
           542.4429128151736,
           411.646875881678,
           498.26975500787677,
           330.0973846552545,
           242.37095202049667,
           485.0270126111035,
           394.21903228550775,
           689.5558168113664,
           373.732856371763,
           336.172661037069,
           632.740453508577,
           327.11392534647274,
           662.0136128276529,
           675.3502120510033,
           608.9832172374425,
           170.2925485152069,
           650.1244791945729,
           570.2714266991686,
           528.3183317138463,
           676.5065775293257,
           469.39862649935156,
           903.9932576720645,
           404.1501801622257,
           301.46617997450267,
           498.4884848295011,
           307.56220097996066,
           533.7039354359513,
           687.0875745178323,
           576.709848378276
          ],
          "sizemode": "area",
          "sizeref": 2.259983144180161
         },
         "mode": "markers",
         "name": "",
         "showlegend": false,
         "subplot": "mapbox",
         "type": "scattermapbox"
        }
       ],
       "layout": {
        "coloraxis": {
         "colorbar": {
          "title": {
           "text": "gross_rent"
          }
         },
         "colorscale": [
          [
           0,
           "#0d0887"
          ],
          [
           0.1111111111111111,
           "#46039f"
          ],
          [
           0.2222222222222222,
           "#7201a8"
          ],
          [
           0.3333333333333333,
           "#9c179e"
          ],
          [
           0.4444444444444444,
           "#bd3786"
          ],
          [
           0.5555555555555556,
           "#d8576b"
          ],
          [
           0.6666666666666666,
           "#ed7953"
          ],
          [
           0.7777777777777778,
           "#fb9f3a"
          ],
          [
           0.8888888888888888,
           "#fdca26"
          ],
          [
           1,
           "#f0f921"
          ]
         ]
        },
        "legend": {
         "itemsizing": "constant",
         "tracegroupgap": 0
        },
        "mapbox": {
         "accesstoken": "mapbox_token",
         "center": {
          "lat": 37.76064079710145,
          "lon": -122.43826449275363
         },
         "domain": {
          "x": [
           0,
           1
          ],
          "y": [
           0,
           1
          ]
         },
         "zoom": 8
        },
        "template": {
         "data": {
          "bar": [
           {
            "error_x": {
             "color": "#2a3f5f"
            },
            "error_y": {
             "color": "#2a3f5f"
            },
            "marker": {
             "line": {
              "color": "#E5ECF6",
              "width": 0.5
             }
            },
            "type": "bar"
           }
          ],
          "barpolar": [
           {
            "marker": {
             "line": {
              "color": "#E5ECF6",
              "width": 0.5
             }
            },
            "type": "barpolar"
           }
          ],
          "carpet": [
           {
            "aaxis": {
             "endlinecolor": "#2a3f5f",
             "gridcolor": "white",
             "linecolor": "white",
             "minorgridcolor": "white",
             "startlinecolor": "#2a3f5f"
            },
            "baxis": {
             "endlinecolor": "#2a3f5f",
             "gridcolor": "white",
             "linecolor": "white",
             "minorgridcolor": "white",
             "startlinecolor": "#2a3f5f"
            },
            "type": "carpet"
           }
          ],
          "choropleth": [
           {
            "colorbar": {
             "outlinewidth": 0,
             "ticks": ""
            },
            "type": "choropleth"
           }
          ],
          "contour": [
           {
            "colorbar": {
             "outlinewidth": 0,
             "ticks": ""
            },
            "colorscale": [
             [
              0,
              "#0d0887"
             ],
             [
              0.1111111111111111,
              "#46039f"
             ],
             [
              0.2222222222222222,
              "#7201a8"
             ],
             [
              0.3333333333333333,
              "#9c179e"
             ],
             [
              0.4444444444444444,
              "#bd3786"
             ],
             [
              0.5555555555555556,
              "#d8576b"
             ],
             [
              0.6666666666666666,
              "#ed7953"
             ],
             [
              0.7777777777777778,
              "#fb9f3a"
             ],
             [
              0.8888888888888888,
              "#fdca26"
             ],
             [
              1,
              "#f0f921"
             ]
            ],
            "type": "contour"
           }
          ],
          "contourcarpet": [
           {
            "colorbar": {
             "outlinewidth": 0,
             "ticks": ""
            },
            "type": "contourcarpet"
           }
          ],
          "heatmap": [
           {
            "colorbar": {
             "outlinewidth": 0,
             "ticks": ""
            },
            "colorscale": [
             [
              0,
              "#0d0887"
             ],
             [
              0.1111111111111111,
              "#46039f"
             ],
             [
              0.2222222222222222,
              "#7201a8"
             ],
             [
              0.3333333333333333,
              "#9c179e"
             ],
             [
              0.4444444444444444,
              "#bd3786"
             ],
             [
              0.5555555555555556,
              "#d8576b"
             ],
             [
              0.6666666666666666,
              "#ed7953"
             ],
             [
              0.7777777777777778,
              "#fb9f3a"
             ],
             [
              0.8888888888888888,
              "#fdca26"
             ],
             [
              1,
              "#f0f921"
             ]
            ],
            "type": "heatmap"
           }
          ],
          "heatmapgl": [
           {
            "colorbar": {
             "outlinewidth": 0,
             "ticks": ""
            },
            "colorscale": [
             [
              0,
              "#0d0887"
             ],
             [
              0.1111111111111111,
              "#46039f"
             ],
             [
              0.2222222222222222,
              "#7201a8"
             ],
             [
              0.3333333333333333,
              "#9c179e"
             ],
             [
              0.4444444444444444,
              "#bd3786"
             ],
             [
              0.5555555555555556,
              "#d8576b"
             ],
             [
              0.6666666666666666,
              "#ed7953"
             ],
             [
              0.7777777777777778,
              "#fb9f3a"
             ],
             [
              0.8888888888888888,
              "#fdca26"
             ],
             [
              1,
              "#f0f921"
             ]
            ],
            "type": "heatmapgl"
           }
          ],
          "histogram": [
           {
            "marker": {
             "colorbar": {
              "outlinewidth": 0,
              "ticks": ""
             }
            },
            "type": "histogram"
           }
          ],
          "histogram2d": [
           {
            "colorbar": {
             "outlinewidth": 0,
             "ticks": ""
            },
            "colorscale": [
             [
              0,
              "#0d0887"
             ],
             [
              0.1111111111111111,
              "#46039f"
             ],
             [
              0.2222222222222222,
              "#7201a8"
             ],
             [
              0.3333333333333333,
              "#9c179e"
             ],
             [
              0.4444444444444444,
              "#bd3786"
             ],
             [
              0.5555555555555556,
              "#d8576b"
             ],
             [
              0.6666666666666666,
              "#ed7953"
             ],
             [
              0.7777777777777778,
              "#fb9f3a"
             ],
             [
              0.8888888888888888,
              "#fdca26"
             ],
             [
              1,
              "#f0f921"
             ]
            ],
            "type": "histogram2d"
           }
          ],
          "histogram2dcontour": [
           {
            "colorbar": {
             "outlinewidth": 0,
             "ticks": ""
            },
            "colorscale": [
             [
              0,
              "#0d0887"
             ],
             [
              0.1111111111111111,
              "#46039f"
             ],
             [
              0.2222222222222222,
              "#7201a8"
             ],
             [
              0.3333333333333333,
              "#9c179e"
             ],
             [
              0.4444444444444444,
              "#bd3786"
             ],
             [
              0.5555555555555556,
              "#d8576b"
             ],
             [
              0.6666666666666666,
              "#ed7953"
             ],
             [
              0.7777777777777778,
              "#fb9f3a"
             ],
             [
              0.8888888888888888,
              "#fdca26"
             ],
             [
              1,
              "#f0f921"
             ]
            ],
            "type": "histogram2dcontour"
           }
          ],
          "mesh3d": [
           {
            "colorbar": {
             "outlinewidth": 0,
             "ticks": ""
            },
            "type": "mesh3d"
           }
          ],
          "parcoords": [
           {
            "line": {
             "colorbar": {
              "outlinewidth": 0,
              "ticks": ""
             }
            },
            "type": "parcoords"
           }
          ],
          "pie": [
           {
            "automargin": true,
            "type": "pie"
           }
          ],
          "scatter": [
           {
            "marker": {
             "colorbar": {
              "outlinewidth": 0,
              "ticks": ""
             }
            },
            "type": "scatter"
           }
          ],
          "scatter3d": [
           {
            "line": {
             "colorbar": {
              "outlinewidth": 0,
              "ticks": ""
             }
            },
            "marker": {
             "colorbar": {
              "outlinewidth": 0,
              "ticks": ""
             }
            },
            "type": "scatter3d"
           }
          ],
          "scattercarpet": [
           {
            "marker": {
             "colorbar": {
              "outlinewidth": 0,
              "ticks": ""
             }
            },
            "type": "scattercarpet"
           }
          ],
          "scattergeo": [
           {
            "marker": {
             "colorbar": {
              "outlinewidth": 0,
              "ticks": ""
             }
            },
            "type": "scattergeo"
           }
          ],
          "scattergl": [
           {
            "marker": {
             "colorbar": {
              "outlinewidth": 0,
              "ticks": ""
             }
            },
            "type": "scattergl"
           }
          ],
          "scattermapbox": [
           {
            "marker": {
             "colorbar": {
              "outlinewidth": 0,
              "ticks": ""
             }
            },
            "type": "scattermapbox"
           }
          ],
          "scatterpolar": [
           {
            "marker": {
             "colorbar": {
              "outlinewidth": 0,
              "ticks": ""
             }
            },
            "type": "scatterpolar"
           }
          ],
          "scatterpolargl": [
           {
            "marker": {
             "colorbar": {
              "outlinewidth": 0,
              "ticks": ""
             }
            },
            "type": "scatterpolargl"
           }
          ],
          "scatterternary": [
           {
            "marker": {
             "colorbar": {
              "outlinewidth": 0,
              "ticks": ""
             }
            },
            "type": "scatterternary"
           }
          ],
          "surface": [
           {
            "colorbar": {
             "outlinewidth": 0,
             "ticks": ""
            },
            "colorscale": [
             [
              0,
              "#0d0887"
             ],
             [
              0.1111111111111111,
              "#46039f"
             ],
             [
              0.2222222222222222,
              "#7201a8"
             ],
             [
              0.3333333333333333,
              "#9c179e"
             ],
             [
              0.4444444444444444,
              "#bd3786"
             ],
             [
              0.5555555555555556,
              "#d8576b"
             ],
             [
              0.6666666666666666,
              "#ed7953"
             ],
             [
              0.7777777777777778,
              "#fb9f3a"
             ],
             [
              0.8888888888888888,
              "#fdca26"
             ],
             [
              1,
              "#f0f921"
             ]
            ],
            "type": "surface"
           }
          ],
          "table": [
           {
            "cells": {
             "fill": {
              "color": "#EBF0F8"
             },
             "line": {
              "color": "white"
             }
            },
            "header": {
             "fill": {
              "color": "#C8D4E3"
             },
             "line": {
              "color": "white"
             }
            },
            "type": "table"
           }
          ]
         },
         "layout": {
          "annotationdefaults": {
           "arrowcolor": "#2a3f5f",
           "arrowhead": 0,
           "arrowwidth": 1
          },
          "autotypenumbers": "strict",
          "coloraxis": {
           "colorbar": {
            "outlinewidth": 0,
            "ticks": ""
           }
          },
          "colorscale": {
           "diverging": [
            [
             0,
             "#8e0152"
            ],
            [
             0.1,
             "#c51b7d"
            ],
            [
             0.2,
             "#de77ae"
            ],
            [
             0.3,
             "#f1b6da"
            ],
            [
             0.4,
             "#fde0ef"
            ],
            [
             0.5,
             "#f7f7f7"
            ],
            [
             0.6,
             "#e6f5d0"
            ],
            [
             0.7,
             "#b8e186"
            ],
            [
             0.8,
             "#7fbc41"
            ],
            [
             0.9,
             "#4d9221"
            ],
            [
             1,
             "#276419"
            ]
           ],
           "sequential": [
            [
             0,
             "#0d0887"
            ],
            [
             0.1111111111111111,
             "#46039f"
            ],
            [
             0.2222222222222222,
             "#7201a8"
            ],
            [
             0.3333333333333333,
             "#9c179e"
            ],
            [
             0.4444444444444444,
             "#bd3786"
            ],
            [
             0.5555555555555556,
             "#d8576b"
            ],
            [
             0.6666666666666666,
             "#ed7953"
            ],
            [
             0.7777777777777778,
             "#fb9f3a"
            ],
            [
             0.8888888888888888,
             "#fdca26"
            ],
            [
             1,
             "#f0f921"
            ]
           ],
           "sequentialminus": [
            [
             0,
             "#0d0887"
            ],
            [
             0.1111111111111111,
             "#46039f"
            ],
            [
             0.2222222222222222,
             "#7201a8"
            ],
            [
             0.3333333333333333,
             "#9c179e"
            ],
            [
             0.4444444444444444,
             "#bd3786"
            ],
            [
             0.5555555555555556,
             "#d8576b"
            ],
            [
             0.6666666666666666,
             "#ed7953"
            ],
            [
             0.7777777777777778,
             "#fb9f3a"
            ],
            [
             0.8888888888888888,
             "#fdca26"
            ],
            [
             1,
             "#f0f921"
            ]
           ]
          },
          "colorway": [
           "#636efa",
           "#EF553B",
           "#00cc96",
           "#ab63fa",
           "#FFA15A",
           "#19d3f3",
           "#FF6692",
           "#B6E880",
           "#FF97FF",
           "#FECB52"
          ],
          "font": {
           "color": "#2a3f5f"
          },
          "geo": {
           "bgcolor": "white",
           "lakecolor": "white",
           "landcolor": "#E5ECF6",
           "showlakes": true,
           "showland": true,
           "subunitcolor": "white"
          },
          "hoverlabel": {
           "align": "left"
          },
          "hovermode": "closest",
          "mapbox": {
           "style": "light"
          },
          "paper_bgcolor": "white",
          "plot_bgcolor": "#E5ECF6",
          "polar": {
           "angularaxis": {
            "gridcolor": "white",
            "linecolor": "white",
            "ticks": ""
           },
           "bgcolor": "#E5ECF6",
           "radialaxis": {
            "gridcolor": "white",
            "linecolor": "white",
            "ticks": ""
           }
          },
          "scene": {
           "xaxis": {
            "backgroundcolor": "#E5ECF6",
            "gridcolor": "white",
            "gridwidth": 2,
            "linecolor": "white",
            "showbackground": true,
            "ticks": "",
            "zerolinecolor": "white"
           },
           "yaxis": {
            "backgroundcolor": "#E5ECF6",
            "gridcolor": "white",
            "gridwidth": 2,
            "linecolor": "white",
            "showbackground": true,
            "ticks": "",
            "zerolinecolor": "white"
           },
           "zaxis": {
            "backgroundcolor": "#E5ECF6",
            "gridcolor": "white",
            "gridwidth": 2,
            "linecolor": "white",
            "showbackground": true,
            "ticks": "",
            "zerolinecolor": "white"
           }
          },
          "shapedefaults": {
           "line": {
            "color": "#2a3f5f"
           }
          },
          "ternary": {
           "aaxis": {
            "gridcolor": "white",
            "linecolor": "white",
            "ticks": ""
           },
           "baxis": {
            "gridcolor": "white",
            "linecolor": "white",
            "ticks": ""
           },
           "bgcolor": "#E5ECF6",
           "caxis": {
            "gridcolor": "white",
            "linecolor": "white",
            "ticks": ""
           }
          },
          "title": {
           "x": 0.05
          },
          "xaxis": {
           "automargin": true,
           "gridcolor": "white",
           "linecolor": "white",
           "ticks": "",
           "title": {
            "standoff": 15
           },
           "zerolinecolor": "white",
           "zerolinewidth": 2
          },
          "yaxis": {
           "automargin": true,
           "gridcolor": "white",
           "linecolor": "white",
           "ticks": "",
           "title": {
            "standoff": 15
           },
           "zerolinecolor": "white",
           "zerolinewidth": 2
          }
         }
        },
        "title": {
         "text": "Average Sale Price per Square Foot and Gross Rent in San Francisco"
        }
       }
      },
      "text/html": [
       "<div>                            <div id=\"43b67274-3fa5-4e19-9d7d-20648142204b\" class=\"plotly-graph-div\" style=\"height:525px; width:100%;\"></div>            <script type=\"text/javascript\">                require([\"plotly\"], function(Plotly) {                    window.PLOTLYENV=window.PLOTLYENV || {};                                    if (document.getElementById(\"43b67274-3fa5-4e19-9d7d-20648142204b\")) {                    Plotly.newPlot(                        \"43b67274-3fa5-4e19-9d7d-20648142204b\",                        [{\"hovertemplate\": \"sale_price_sqr_foot=%{marker.size}<br>Lat=%{lat}<br>Lon=%{lon}<br>gross_rent=%{marker.color}<extra></extra>\", \"lat\": [37.791012, 37.779598, 37.73467, 37.72874, 37.768159999999995, 37.77789, 37.74961, 37.75331, 37.78553, 37.79298, 37.7228, 37.728629999999995, 37.76964, 37.75554, 37.72874, 37.79101, 37.79101, 37.757059999999996, 37.728629999999995, 37.757912, 37.76525, 37.76525, 37.72551, 37.72116, 37.75416, 37.74961, 37.769112, 37.74961, 37.78553, 37.801520000000004, 37.7789, 37.79298, 37.79972, 37.71993, 37.75331, 37.73415, 37.783229999999996, 37.75184, 37.728629999999995, 37.79298, 37.75331, 37.80055, 37.80055, 37.71993, 37.7228, 37.7517, 37.74961, 37.79298, 37.72838, 37.74961, 37.76355, 37.73467, 37.73196, 37.78553, 37.79298, 37.73467, 37.783229999999996, 37.79101, 37.73415, 37.80055, 37.753311, 37.79101, 37.779509999999995, 37.72874, 37.74026, 37.79298, 37.7347, 37.73415, 37.79298], \"legendgroup\": \"\", \"lon\": [-122.4021, -122.443451, -122.40106000000002, -122.41098000000001, -122.43933, -122.44516999999999, -122.48998999999999, -122.44703, -122.456, -122.43579, -122.43869, -122.44305, -122.42611000000001, -122.43778999999999, -122.41098000000001, -122.4021, -122.4021, -122.45508999999998, -122.44305, -122.46401999999999, -122.43596000000001, -122.43596000000001, -122.37178, -122.48706999999999, -122.41946999999999, -122.48998999999999, -122.483566, -122.48997, -122.456, -122.45456999999999, -122.45496000000001, -122.43579, -122.46688999999999, -122.46595, -122.44703, -122.45700000000001, -122.40065, -122.42522, -122.44305, -122.43579, -122.44703, -122.40433, -122.40433, -122.46595, -122.43869, -122.446, -122.48998999999999, -122.43579, -122.47851000000001, -122.48998999999999, -122.45765, -122.40106000000002, -122.38323999999999, -122.456, -122.43579, -122.40106000000002, -122.40065, -122.4021, -122.45700000000001, -122.40433, -122.447029, -122.4021, -122.42022, -122.41098000000001, -122.46388, -122.43579, -122.456854, -122.45700000000001, -122.39636000000002], \"marker\": {\"color\": [2817.285714285714, 3031.8333333333335, 2318.4, 3739.0, 2698.8333333333335, 2817.285714285714, 2817.285714285714, 2250.5, 2472.0, 2817.285714285714, 2698.8333333333335, 2016.0, 2780.25, 2817.285714285714, 3031.8333333333335, 2817.285714285714, 2472.0, 1781.5, 2899.5, 2601.4, 2817.285714285714, 2817.285714285714, 2489.0, 2960.0, 2817.285714285714, 3224.0, 2817.285714285714, 2817.285714285714, 2817.285714285714, 2555.1666666666665, 2555.1666666666665, 2817.285714285714, 2817.285714285714, 3414.0, 2647.5, 2155.25, 2663.6666666666665, 2555.1666666666665, 3173.4, 2817.285714285714, 2817.285714285714, 2990.8, 2818.4, 2434.0, 2995.75, 2817.285714285714, 2817.285714285714, 2817.285714285714, 2817.285714285714, 2555.1666666666665, 2817.285714285714, 2318.4, 2817.285714285714, 2817.285714285714, 2817.285714285714, 3528.0, 2099.0, 2817.285714285714, 2899.5, 2817.285714285714, 2817.285714285714, 2555.1666666666665, 2817.285714285714, 3657.0, 2515.5, 2555.1666666666665, 2250.5, 3959.0, 2555.1666666666665], \"coloraxis\": \"coloraxis\", \"size\": [366.02071153227644, 373.38219782647707, 204.58862288246596, 590.7928388746802, 452.6805909308442, 394.4223987800589, 423.6879277015824, 487.2448860262575, 587.5390673661739, 665.964041578323, 303.00418440849427, 434.99173944522124, 502.59915555623616, 642.2486706357391, 388.76592700230754, 391.36253308010487, 455.83621223779153, 321.84083657398736, 623.826177537435, 639.3935574881156, 449.5447622856192, 355.9328279480578, 170.62491987132685, 384.7979281346048, 397.67371473613446, 519.3856038526768, 378.59431396136455, 413.66751546215943, 529.3841850673389, 409.95435219297514, 478.2285530213679, 539.2379688783261, 583.7492694814549, 788.8448175872469, 550.5103482917151, 779.810842264425, 566.1922135483312, 418.9156225067234, 523.4662013248023, 458.2040944846015, 542.4429128151736, 411.646875881678, 498.26975500787677, 330.0973846552545, 242.37095202049667, 485.0270126111035, 394.21903228550775, 689.5558168113664, 373.732856371763, 336.172661037069, 632.740453508577, 327.11392534647274, 662.0136128276529, 675.3502120510033, 608.9832172374425, 170.2925485152069, 650.1244791945729, 570.2714266991686, 528.3183317138463, 676.5065775293257, 469.39862649935156, 903.9932576720645, 404.1501801622257, 301.46617997450267, 498.4884848295011, 307.56220097996066, 533.7039354359513, 687.0875745178323, 576.709848378276], \"sizemode\": \"area\", \"sizeref\": 2.259983144180161}, \"mode\": \"markers\", \"name\": \"\", \"showlegend\": false, \"subplot\": \"mapbox\", \"type\": \"scattermapbox\"}],                        {\"coloraxis\": {\"colorbar\": {\"title\": {\"text\": \"gross_rent\"}}, \"colorscale\": [[0.0, \"#0d0887\"], [0.1111111111111111, \"#46039f\"], [0.2222222222222222, \"#7201a8\"], [0.3333333333333333, \"#9c179e\"], [0.4444444444444444, \"#bd3786\"], [0.5555555555555556, \"#d8576b\"], [0.6666666666666666, \"#ed7953\"], [0.7777777777777778, \"#fb9f3a\"], [0.8888888888888888, \"#fdca26\"], [1.0, \"#f0f921\"]]}, \"legend\": {\"itemsizing\": \"constant\", \"tracegroupgap\": 0}, \"mapbox\": {\"accesstoken\": \"mapbox_token\", \"center\": {\"lat\": 37.76064079710145, \"lon\": -122.43826449275363}, \"domain\": {\"x\": [0.0, 1.0], \"y\": [0.0, 1.0]}, \"zoom\": 8}, \"template\": {\"data\": {\"bar\": [{\"error_x\": {\"color\": \"#2a3f5f\"}, \"error_y\": {\"color\": \"#2a3f5f\"}, \"marker\": {\"line\": {\"color\": \"#E5ECF6\", \"width\": 0.5}}, \"type\": \"bar\"}], \"barpolar\": [{\"marker\": {\"line\": {\"color\": \"#E5ECF6\", \"width\": 0.5}}, \"type\": \"barpolar\"}], \"carpet\": [{\"aaxis\": {\"endlinecolor\": \"#2a3f5f\", \"gridcolor\": \"white\", \"linecolor\": \"white\", \"minorgridcolor\": \"white\", \"startlinecolor\": \"#2a3f5f\"}, \"baxis\": {\"endlinecolor\": \"#2a3f5f\", \"gridcolor\": \"white\", \"linecolor\": \"white\", \"minorgridcolor\": \"white\", \"startlinecolor\": \"#2a3f5f\"}, \"type\": \"carpet\"}], \"choropleth\": [{\"colorbar\": {\"outlinewidth\": 0, \"ticks\": \"\"}, \"type\": \"choropleth\"}], \"contour\": [{\"colorbar\": {\"outlinewidth\": 0, \"ticks\": \"\"}, \"colorscale\": [[0.0, \"#0d0887\"], [0.1111111111111111, \"#46039f\"], [0.2222222222222222, \"#7201a8\"], [0.3333333333333333, \"#9c179e\"], [0.4444444444444444, \"#bd3786\"], [0.5555555555555556, \"#d8576b\"], [0.6666666666666666, \"#ed7953\"], [0.7777777777777778, \"#fb9f3a\"], [0.8888888888888888, \"#fdca26\"], [1.0, \"#f0f921\"]], \"type\": \"contour\"}], \"contourcarpet\": [{\"colorbar\": {\"outlinewidth\": 0, \"ticks\": \"\"}, \"type\": \"contourcarpet\"}], \"heatmap\": [{\"colorbar\": {\"outlinewidth\": 0, \"ticks\": \"\"}, \"colorscale\": [[0.0, \"#0d0887\"], [0.1111111111111111, \"#46039f\"], [0.2222222222222222, \"#7201a8\"], [0.3333333333333333, \"#9c179e\"], [0.4444444444444444, \"#bd3786\"], [0.5555555555555556, \"#d8576b\"], [0.6666666666666666, \"#ed7953\"], [0.7777777777777778, \"#fb9f3a\"], [0.8888888888888888, \"#fdca26\"], [1.0, \"#f0f921\"]], \"type\": \"heatmap\"}], \"heatmapgl\": [{\"colorbar\": {\"outlinewidth\": 0, \"ticks\": \"\"}, \"colorscale\": [[0.0, \"#0d0887\"], [0.1111111111111111, \"#46039f\"], [0.2222222222222222, \"#7201a8\"], [0.3333333333333333, \"#9c179e\"], [0.4444444444444444, \"#bd3786\"], [0.5555555555555556, \"#d8576b\"], [0.6666666666666666, \"#ed7953\"], [0.7777777777777778, \"#fb9f3a\"], [0.8888888888888888, \"#fdca26\"], [1.0, \"#f0f921\"]], \"type\": \"heatmapgl\"}], \"histogram\": [{\"marker\": {\"colorbar\": {\"outlinewidth\": 0, \"ticks\": \"\"}}, \"type\": \"histogram\"}], \"histogram2d\": [{\"colorbar\": {\"outlinewidth\": 0, \"ticks\": \"\"}, \"colorscale\": [[0.0, \"#0d0887\"], [0.1111111111111111, \"#46039f\"], [0.2222222222222222, \"#7201a8\"], [0.3333333333333333, \"#9c179e\"], [0.4444444444444444, \"#bd3786\"], [0.5555555555555556, \"#d8576b\"], [0.6666666666666666, \"#ed7953\"], [0.7777777777777778, \"#fb9f3a\"], [0.8888888888888888, \"#fdca26\"], [1.0, \"#f0f921\"]], \"type\": \"histogram2d\"}], \"histogram2dcontour\": [{\"colorbar\": {\"outlinewidth\": 0, \"ticks\": \"\"}, \"colorscale\": [[0.0, \"#0d0887\"], [0.1111111111111111, \"#46039f\"], [0.2222222222222222, \"#7201a8\"], [0.3333333333333333, \"#9c179e\"], [0.4444444444444444, \"#bd3786\"], [0.5555555555555556, \"#d8576b\"], [0.6666666666666666, \"#ed7953\"], [0.7777777777777778, \"#fb9f3a\"], [0.8888888888888888, \"#fdca26\"], [1.0, \"#f0f921\"]], \"type\": \"histogram2dcontour\"}], \"mesh3d\": [{\"colorbar\": {\"outlinewidth\": 0, \"ticks\": \"\"}, \"type\": \"mesh3d\"}], \"parcoords\": [{\"line\": {\"colorbar\": {\"outlinewidth\": 0, \"ticks\": \"\"}}, \"type\": \"parcoords\"}], \"pie\": [{\"automargin\": true, \"type\": \"pie\"}], \"scatter\": [{\"marker\": {\"colorbar\": {\"outlinewidth\": 0, \"ticks\": \"\"}}, \"type\": \"scatter\"}], \"scatter3d\": [{\"line\": {\"colorbar\": {\"outlinewidth\": 0, \"ticks\": \"\"}}, \"marker\": {\"colorbar\": {\"outlinewidth\": 0, \"ticks\": \"\"}}, \"type\": \"scatter3d\"}], \"scattercarpet\": [{\"marker\": {\"colorbar\": {\"outlinewidth\": 0, \"ticks\": \"\"}}, \"type\": \"scattercarpet\"}], \"scattergeo\": [{\"marker\": {\"colorbar\": {\"outlinewidth\": 0, \"ticks\": \"\"}}, \"type\": \"scattergeo\"}], \"scattergl\": [{\"marker\": {\"colorbar\": {\"outlinewidth\": 0, \"ticks\": \"\"}}, \"type\": \"scattergl\"}], \"scattermapbox\": [{\"marker\": {\"colorbar\": {\"outlinewidth\": 0, \"ticks\": \"\"}}, \"type\": \"scattermapbox\"}], \"scatterpolar\": [{\"marker\": {\"colorbar\": {\"outlinewidth\": 0, \"ticks\": \"\"}}, \"type\": \"scatterpolar\"}], \"scatterpolargl\": [{\"marker\": {\"colorbar\": {\"outlinewidth\": 0, \"ticks\": \"\"}}, \"type\": \"scatterpolargl\"}], \"scatterternary\": [{\"marker\": {\"colorbar\": {\"outlinewidth\": 0, \"ticks\": \"\"}}, \"type\": \"scatterternary\"}], \"surface\": [{\"colorbar\": {\"outlinewidth\": 0, \"ticks\": \"\"}, \"colorscale\": [[0.0, \"#0d0887\"], [0.1111111111111111, \"#46039f\"], [0.2222222222222222, \"#7201a8\"], [0.3333333333333333, \"#9c179e\"], [0.4444444444444444, \"#bd3786\"], [0.5555555555555556, \"#d8576b\"], [0.6666666666666666, \"#ed7953\"], [0.7777777777777778, \"#fb9f3a\"], [0.8888888888888888, \"#fdca26\"], [1.0, \"#f0f921\"]], \"type\": \"surface\"}], \"table\": [{\"cells\": {\"fill\": {\"color\": \"#EBF0F8\"}, \"line\": {\"color\": \"white\"}}, \"header\": {\"fill\": {\"color\": \"#C8D4E3\"}, \"line\": {\"color\": \"white\"}}, \"type\": \"table\"}]}, \"layout\": {\"annotationdefaults\": {\"arrowcolor\": \"#2a3f5f\", \"arrowhead\": 0, \"arrowwidth\": 1}, \"autotypenumbers\": \"strict\", \"coloraxis\": {\"colorbar\": {\"outlinewidth\": 0, \"ticks\": \"\"}}, \"colorscale\": {\"diverging\": [[0, \"#8e0152\"], [0.1, \"#c51b7d\"], [0.2, \"#de77ae\"], [0.3, \"#f1b6da\"], [0.4, \"#fde0ef\"], [0.5, \"#f7f7f7\"], [0.6, \"#e6f5d0\"], [0.7, \"#b8e186\"], [0.8, \"#7fbc41\"], [0.9, \"#4d9221\"], [1, \"#276419\"]], \"sequential\": [[0.0, \"#0d0887\"], [0.1111111111111111, \"#46039f\"], [0.2222222222222222, \"#7201a8\"], [0.3333333333333333, \"#9c179e\"], [0.4444444444444444, \"#bd3786\"], [0.5555555555555556, \"#d8576b\"], [0.6666666666666666, \"#ed7953\"], [0.7777777777777778, \"#fb9f3a\"], [0.8888888888888888, \"#fdca26\"], [1.0, \"#f0f921\"]], \"sequentialminus\": [[0.0, \"#0d0887\"], [0.1111111111111111, \"#46039f\"], [0.2222222222222222, \"#7201a8\"], [0.3333333333333333, \"#9c179e\"], [0.4444444444444444, \"#bd3786\"], [0.5555555555555556, \"#d8576b\"], [0.6666666666666666, \"#ed7953\"], [0.7777777777777778, \"#fb9f3a\"], [0.8888888888888888, \"#fdca26\"], [1.0, \"#f0f921\"]]}, \"colorway\": [\"#636efa\", \"#EF553B\", \"#00cc96\", \"#ab63fa\", \"#FFA15A\", \"#19d3f3\", \"#FF6692\", \"#B6E880\", \"#FF97FF\", \"#FECB52\"], \"font\": {\"color\": \"#2a3f5f\"}, \"geo\": {\"bgcolor\": \"white\", \"lakecolor\": \"white\", \"landcolor\": \"#E5ECF6\", \"showlakes\": true, \"showland\": true, \"subunitcolor\": \"white\"}, \"hoverlabel\": {\"align\": \"left\"}, \"hovermode\": \"closest\", \"mapbox\": {\"style\": \"light\"}, \"paper_bgcolor\": \"white\", \"plot_bgcolor\": \"#E5ECF6\", \"polar\": {\"angularaxis\": {\"gridcolor\": \"white\", \"linecolor\": \"white\", \"ticks\": \"\"}, \"bgcolor\": \"#E5ECF6\", \"radialaxis\": {\"gridcolor\": \"white\", \"linecolor\": \"white\", \"ticks\": \"\"}}, \"scene\": {\"xaxis\": {\"backgroundcolor\": \"#E5ECF6\", \"gridcolor\": \"white\", \"gridwidth\": 2, \"linecolor\": \"white\", \"showbackground\": true, \"ticks\": \"\", \"zerolinecolor\": \"white\"}, \"yaxis\": {\"backgroundcolor\": \"#E5ECF6\", \"gridcolor\": \"white\", \"gridwidth\": 2, \"linecolor\": \"white\", \"showbackground\": true, \"ticks\": \"\", \"zerolinecolor\": \"white\"}, \"zaxis\": {\"backgroundcolor\": \"#E5ECF6\", \"gridcolor\": \"white\", \"gridwidth\": 2, \"linecolor\": \"white\", \"showbackground\": true, \"ticks\": \"\", \"zerolinecolor\": \"white\"}}, \"shapedefaults\": {\"line\": {\"color\": \"#2a3f5f\"}}, \"ternary\": {\"aaxis\": {\"gridcolor\": \"white\", \"linecolor\": \"white\", \"ticks\": \"\"}, \"baxis\": {\"gridcolor\": \"white\", \"linecolor\": \"white\", \"ticks\": \"\"}, \"bgcolor\": \"#E5ECF6\", \"caxis\": {\"gridcolor\": \"white\", \"linecolor\": \"white\", \"ticks\": \"\"}}, \"title\": {\"x\": 0.05}, \"xaxis\": {\"automargin\": true, \"gridcolor\": \"white\", \"linecolor\": \"white\", \"ticks\": \"\", \"title\": {\"standoff\": 15}, \"zerolinecolor\": \"white\", \"zerolinewidth\": 2}, \"yaxis\": {\"automargin\": true, \"gridcolor\": \"white\", \"linecolor\": \"white\", \"ticks\": \"\", \"title\": {\"standoff\": 15}, \"zerolinecolor\": \"white\", \"zerolinewidth\": 2}}}, \"title\": {\"text\": \"Average Sale Price per Square Foot and Gross Rent in San Francisco\"}},                        {\"responsive\": true}                    ).then(function(){\n",
       "                            \n",
       "var gd = document.getElementById('43b67274-3fa5-4e19-9d7d-20648142204b');\n",
       "var x = new MutationObserver(function (mutations, observer) {{\n",
       "        var display = window.getComputedStyle(gd).display;\n",
       "        if (!display || display === 'none') {{\n",
       "            console.log([gd, 'removed!']);\n",
       "            Plotly.purge(gd);\n",
       "            observer.disconnect();\n",
       "        }}\n",
       "}});\n",
       "\n",
       "// Listen for the removal of the full notebook cells\n",
       "var notebookContainer = gd.closest('#notebook-container');\n",
       "if (notebookContainer) {{\n",
       "    x.observe(notebookContainer, {childList: true});\n",
       "}}\n",
       "\n",
       "// Listen for the clearing of the current output cell\n",
       "var outputEl = gd.closest('.output');\n",
       "if (outputEl) {{\n",
       "    x.observe(outputEl, {childList: true});\n",
       "}}\n",
       "\n",
       "                        })                };                });            </script>        </div>"
      ]
     },
     "metadata": {},
     "output_type": "display_data"
    }
   ],
   "source": [
    "mp_plot.show()"
   ]
  },
  {
   "cell_type": "code",
   "execution_count": null,
   "metadata": {},
   "outputs": [],
   "source": []
  },
  {
   "cell_type": "code",
   "execution_count": null,
   "metadata": {},
   "outputs": [],
   "source": []
  }
 ],
 "metadata": {
  "kernelspec": {
   "display_name": "Python [conda env:dev]",
   "language": "python",
   "name": "conda-env-dev-py"
  },
  "language_info": {
   "codemirror_mode": {
    "name": "ipython",
    "version": 3
   },
   "file_extension": ".py",
   "mimetype": "text/x-python",
   "name": "python",
   "nbconvert_exporter": "python",
   "pygments_lexer": "ipython3",
   "version": "3.8.5"
  }
 },
 "nbformat": 4,
 "nbformat_minor": 4
}
