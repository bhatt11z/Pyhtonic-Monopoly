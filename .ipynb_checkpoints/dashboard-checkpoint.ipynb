{
 "cells": [
  {
   "cell_type": "markdown",
   "metadata": {},
   "source": [
    "## Intial Imports"
   ]
  },
  {
   "cell_type": "code",
   "execution_count": 38,
   "metadata": {},
   "outputs": [
    {
     "name": "stderr",
     "output_type": "stream",
     "text": [
      "WARNING:param.panel_extension: A HoloViz extension was loaded previously. This means the extension is already initialized and the following Panel extensions could not be properly loaded: ['plotly']. If you are loading custom extensions with pn.extension(...) ensure that this is called before any other HoloViz extension such as hvPlot or HoloViews.\n"
     ]
    }
   ],
   "source": [
    "import matplotlib.pyplot as plt\n",
    "import plotly.express as px\n",
    "from pathlib import Path\n",
    "from dotenv import load_dotenv\n",
    "import os\n",
    "%matplotlib inline\n",
    "import panel as pn\n",
    "from panel import widgets\n",
    "pn.extension(\"plotly\")\n",
    "from panel.interact import interact\n",
    "import pandas as pd\n",
    "pn.extension()\n",
    "import hvplot.pandas"
   ]
  },
  {
   "cell_type": "code",
   "execution_count": 39,
   "metadata": {},
   "outputs": [
    {
     "data": {
      "text/plain": [
       "True"
      ]
     },
     "execution_count": 39,
     "metadata": {},
     "output_type": "execute_result"
    }
   ],
   "source": [
    "load_dotenv()"
   ]
  },
  {
   "cell_type": "markdown",
   "metadata": {},
   "source": [
    "- Loading Data"
   ]
  },
  {
   "cell_type": "code",
   "execution_count": 40,
   "metadata": {},
   "outputs": [
    {
     "data": {
      "text/html": [
       "<div>\n",
       "<style scoped>\n",
       "    .dataframe tbody tr th:only-of-type {\n",
       "        vertical-align: middle;\n",
       "    }\n",
       "\n",
       "    .dataframe tbody tr th {\n",
       "        vertical-align: top;\n",
       "    }\n",
       "\n",
       "    .dataframe thead th {\n",
       "        text-align: right;\n",
       "    }\n",
       "</style>\n",
       "<table border=\"1\" class=\"dataframe\">\n",
       "  <thead>\n",
       "    <tr style=\"text-align: right;\">\n",
       "      <th></th>\n",
       "      <th>neighborhood</th>\n",
       "      <th>sale_price_sqr_foot</th>\n",
       "      <th>housing_units</th>\n",
       "      <th>gross_rent</th>\n",
       "    </tr>\n",
       "    <tr>\n",
       "      <th>year</th>\n",
       "      <th></th>\n",
       "      <th></th>\n",
       "      <th></th>\n",
       "      <th></th>\n",
       "    </tr>\n",
       "  </thead>\n",
       "  <tbody>\n",
       "    <tr>\n",
       "      <th>2010</th>\n",
       "      <td>Alamo Square</td>\n",
       "      <td>291.182945</td>\n",
       "      <td>372560</td>\n",
       "      <td>1239</td>\n",
       "    </tr>\n",
       "    <tr>\n",
       "      <th>2010</th>\n",
       "      <td>Anza Vista</td>\n",
       "      <td>267.932583</td>\n",
       "      <td>372560</td>\n",
       "      <td>1239</td>\n",
       "    </tr>\n",
       "    <tr>\n",
       "      <th>2010</th>\n",
       "      <td>Bayview</td>\n",
       "      <td>170.098665</td>\n",
       "      <td>372560</td>\n",
       "      <td>1239</td>\n",
       "    </tr>\n",
       "    <tr>\n",
       "      <th>2010</th>\n",
       "      <td>Buena Vista Park</td>\n",
       "      <td>347.394919</td>\n",
       "      <td>372560</td>\n",
       "      <td>1239</td>\n",
       "    </tr>\n",
       "    <tr>\n",
       "      <th>2010</th>\n",
       "      <td>Central Richmond</td>\n",
       "      <td>319.027623</td>\n",
       "      <td>372560</td>\n",
       "      <td>1239</td>\n",
       "    </tr>\n",
       "  </tbody>\n",
       "</table>\n",
       "</div>"
      ],
      "text/plain": [
       "          neighborhood  sale_price_sqr_foot  housing_units  gross_rent\n",
       "year                                                                  \n",
       "2010      Alamo Square           291.182945         372560        1239\n",
       "2010        Anza Vista           267.932583         372560        1239\n",
       "2010           Bayview           170.098665         372560        1239\n",
       "2010  Buena Vista Park           347.394919         372560        1239\n",
       "2010  Central Richmond           319.027623         372560        1239"
      ]
     },
     "execution_count": 40,
     "metadata": {},
     "output_type": "execute_result"
    }
   ],
   "source": [
    "mapbox_token = os.getenv(\"mapbox\")\n",
    "sfo_data = pd.read_csv(\"neighborhoods_census_data.csv\", index_col=\"year\")\n",
    "sfo_data.head()"
   ]
  },
  {
   "cell_type": "markdown",
   "metadata": {},
   "source": [
    "### Data Prep"
   ]
  },
  {
   "cell_type": "markdown",
   "metadata": {},
   "source": [
    "- Housing units per year"
   ]
  },
  {
   "cell_type": "code",
   "execution_count": 41,
   "metadata": {},
   "outputs": [],
   "source": [
    "housing =sfo_data.groupby([\"year\"])[\"housing_units\"]\n",
    "average_housing = housing.mean()\n",
    "min = average_housing.min()\n",
    "max = average_housing.max()\n",
    "housing_plot = average_housing.hvplot(kind=\"bar\",ylim =(min-2000,max+2000),title=\"Average Housing Units/Year in San Francisco\", figsize=(12,8))"
   ]
  },
  {
   "cell_type": "code",
   "execution_count": 42,
   "metadata": {},
   "outputs": [
    {
     "data": {},
     "metadata": {},
     "output_type": "display_data"
    },
    {
     "data": {
      "application/vnd.holoviews_exec.v0+json": "",
      "text/html": [
       "<div id='2422'>\n",
       "\n",
       "\n",
       "\n",
       "\n",
       "\n",
       "  <div class=\"bk-root\" id=\"d790e668-b2c9-47d5-98e0-6e33cedf8970\" data-root-id=\"2422\"></div>\n",
       "</div>\n",
       "<script type=\"application/javascript\">(function(root) {\n",
       "  function embed_document(root) {\n",
       "    var docs_json = {\"a7715d9c-1169-4322-8f85-b5a0bee84af0\":{\"roots\":{\"references\":[{\"attributes\":{},\"id\":\"2445\",\"type\":\"WheelZoomTool\"},{\"attributes\":{\"axis\":{\"id\":\"2439\"},\"dimension\":1,\"grid_line_color\":null,\"ticker\":null},\"id\":\"2442\",\"type\":\"Grid\"},{\"attributes\":{},\"id\":\"2434\",\"type\":\"LinearScale\"},{\"attributes\":{\"children\":[{\"id\":\"2423\"},{\"id\":\"2427\"},{\"id\":\"2484\"}],\"margin\":[0,0,0,0],\"name\":\"Row03245\",\"tags\":[\"embedded\"]},\"id\":\"2422\",\"type\":\"Row\"},{\"attributes\":{\"overlay\":{\"id\":\"2448\"}},\"id\":\"2446\",\"type\":\"BoxZoomTool\"},{\"attributes\":{\"data\":{\"housing_units\":[372560,374507,376454,378401,380348,382295,384242],\"year\":[\"2010\",\"2011\",\"2012\",\"2013\",\"2014\",\"2015\",\"2016\"]},\"selected\":{\"id\":\"2457\"},\"selection_policy\":{\"id\":\"2475\"}},\"id\":\"2456\",\"type\":\"ColumnDataSource\"},{\"attributes\":{\"axis_label\":\"year\",\"bounds\":\"auto\",\"formatter\":{\"id\":\"2465\"},\"major_label_orientation\":\"horizontal\",\"ticker\":{\"id\":\"2437\"}},\"id\":\"2436\",\"type\":\"CategoricalAxis\"},{\"attributes\":{\"fill_alpha\":{\"value\":0.2},\"fill_color\":{\"value\":\"#1f77b3\"},\"line_alpha\":{\"value\":0.2},\"top\":{\"field\":\"housing_units\"},\"width\":{\"value\":0.8},\"x\":{\"field\":\"year\"}},\"id\":\"2461\",\"type\":\"VBar\"},{\"attributes\":{\"margin\":[5,5,5,5],\"name\":\"HSpacer03250\",\"sizing_mode\":\"stretch_width\"},\"id\":\"2484\",\"type\":\"Spacer\"},{\"attributes\":{\"end\":386242,\"reset_end\":386242,\"reset_start\":370560,\"start\":370560,\"tags\":[[[\"housing_units\",\"housing_units\",null]]]},\"id\":\"2425\",\"type\":\"Range1d\"},{\"attributes\":{},\"id\":\"2432\",\"type\":\"CategoricalScale\"},{\"attributes\":{},\"id\":\"2444\",\"type\":\"PanTool\"},{\"attributes\":{},\"id\":\"2447\",\"type\":\"ResetTool\"},{\"attributes\":{},\"id\":\"2437\",\"type\":\"CategoricalTicker\"},{\"attributes\":{\"callback\":null,\"renderers\":[{\"id\":\"2462\"}],\"tags\":[\"hv_created\"],\"tooltips\":[[\"year\",\"@{year}\"],[\"housing_units\",\"@{housing_units}\"]]},\"id\":\"2426\",\"type\":\"HoverTool\"},{\"attributes\":{\"axis_label\":\"\",\"bounds\":\"auto\",\"formatter\":{\"id\":\"2467\"},\"major_label_orientation\":\"horizontal\",\"ticker\":{\"id\":\"2440\"}},\"id\":\"2439\",\"type\":\"LinearAxis\"},{\"attributes\":{},\"id\":\"2465\",\"type\":\"CategoricalTickFormatter\"},{\"attributes\":{\"fill_color\":{\"value\":\"#1f77b3\"},\"top\":{\"field\":\"housing_units\"},\"width\":{\"value\":0.8},\"x\":{\"field\":\"year\"}},\"id\":\"2459\",\"type\":\"VBar\"},{\"attributes\":{\"margin\":[5,5,5,5],\"name\":\"HSpacer03249\",\"sizing_mode\":\"stretch_width\"},\"id\":\"2423\",\"type\":\"Spacer\"},{\"attributes\":{\"text\":\"Average Housing Units/Year in San Francisco\",\"text_color\":{\"value\":\"black\"},\"text_font_size\":{\"value\":\"12pt\"}},\"id\":\"2428\",\"type\":\"Title\"},{\"attributes\":{},\"id\":\"2440\",\"type\":\"BasicTicker\"},{\"attributes\":{\"factors\":[\"2010\",\"2011\",\"2012\",\"2013\",\"2014\",\"2015\",\"2016\"],\"tags\":[[[\"year\",\"year\",null]]]},\"id\":\"2424\",\"type\":\"FactorRange\"},{\"attributes\":{\"data_source\":{\"id\":\"2456\"},\"glyph\":{\"id\":\"2459\"},\"hover_glyph\":null,\"muted_glyph\":{\"id\":\"2461\"},\"nonselection_glyph\":{\"id\":\"2460\"},\"selection_glyph\":null,\"view\":{\"id\":\"2463\"}},\"id\":\"2462\",\"type\":\"GlyphRenderer\"},{\"attributes\":{},\"id\":\"2475\",\"type\":\"UnionRenderers\"},{\"attributes\":{},\"id\":\"2443\",\"type\":\"SaveTool\"},{\"attributes\":{\"below\":[{\"id\":\"2436\"}],\"center\":[{\"id\":\"2438\"},{\"id\":\"2442\"}],\"left\":[{\"id\":\"2439\"}],\"margin\":[5,5,5,5],\"min_border_bottom\":10,\"min_border_left\":10,\"min_border_right\":10,\"min_border_top\":10,\"plot_height\":300,\"plot_width\":700,\"renderers\":[{\"id\":\"2462\"}],\"sizing_mode\":\"fixed\",\"title\":{\"id\":\"2428\"},\"toolbar\":{\"id\":\"2449\"},\"x_range\":{\"id\":\"2424\"},\"x_scale\":{\"id\":\"2432\"},\"y_range\":{\"id\":\"2425\"},\"y_scale\":{\"id\":\"2434\"}},\"id\":\"2427\",\"subtype\":\"Figure\",\"type\":\"Plot\"},{\"attributes\":{\"axis\":{\"id\":\"2436\"},\"grid_line_color\":null,\"ticker\":null},\"id\":\"2438\",\"type\":\"Grid\"},{\"attributes\":{\"bottom_units\":\"screen\",\"fill_alpha\":0.5,\"fill_color\":\"lightgrey\",\"left_units\":\"screen\",\"level\":\"overlay\",\"line_alpha\":1.0,\"line_color\":\"black\",\"line_dash\":[4,4],\"line_width\":2,\"right_units\":\"screen\",\"top_units\":\"screen\"},\"id\":\"2448\",\"type\":\"BoxAnnotation\"},{\"attributes\":{\"fill_alpha\":{\"value\":0.1},\"fill_color\":{\"value\":\"#1f77b3\"},\"line_alpha\":{\"value\":0.1},\"top\":{\"field\":\"housing_units\"},\"width\":{\"value\":0.8},\"x\":{\"field\":\"year\"}},\"id\":\"2460\",\"type\":\"VBar\"},{\"attributes\":{\"source\":{\"id\":\"2456\"}},\"id\":\"2463\",\"type\":\"CDSView\"},{\"attributes\":{\"active_drag\":\"auto\",\"active_inspect\":\"auto\",\"active_multi\":null,\"active_scroll\":\"auto\",\"active_tap\":\"auto\",\"tools\":[{\"id\":\"2426\"},{\"id\":\"2443\"},{\"id\":\"2444\"},{\"id\":\"2445\"},{\"id\":\"2446\"},{\"id\":\"2447\"}]},\"id\":\"2449\",\"type\":\"Toolbar\"},{\"attributes\":{},\"id\":\"2457\",\"type\":\"Selection\"},{\"attributes\":{},\"id\":\"2467\",\"type\":\"BasicTickFormatter\"}],\"root_ids\":[\"2422\"]},\"title\":\"Bokeh Application\",\"version\":\"2.2.3\"}};\n",
       "    var render_items = [{\"docid\":\"a7715d9c-1169-4322-8f85-b5a0bee84af0\",\"root_ids\":[\"2422\"],\"roots\":{\"2422\":\"d790e668-b2c9-47d5-98e0-6e33cedf8970\"}}];\n",
       "    root.Bokeh.embed.embed_items_notebook(docs_json, render_items);\n",
       "  }\n",
       "  if (root.Bokeh !== undefined && root.Bokeh.Panel !== undefined) {\n",
       "    embed_document(root);\n",
       "  } else {\n",
       "    var attempts = 0;\n",
       "    var timer = setInterval(function(root) {\n",
       "      if (root.Bokeh !== undefined && root.Bokeh.Panel !== undefined) {\n",
       "        clearInterval(timer);\n",
       "        embed_document(root);\n",
       "      } else if (document.readyState == \"complete\") {\n",
       "        attempts++;\n",
       "        if (attempts > 100) {\n",
       "          clearInterval(timer);\n",
       "          console.log(\"Bokeh: ERROR: Unable to run BokehJS code because BokehJS library is missing\");\n",
       "        }\n",
       "      }\n",
       "    }, 10, root)\n",
       "  }\n",
       "})(window);</script>"
      ],
      "text/plain": [
       ":Bars   [year]   (housing_units)"
      ]
     },
     "execution_count": 42,
     "metadata": {
      "application/vnd.holoviews_exec.v0+json": {
       "id": "2422"
      }
     },
     "output_type": "execute_result"
    }
   ],
   "source": [
    "housing_plot"
   ]
  },
  {
   "cell_type": "markdown",
   "metadata": {},
   "source": [
    "- Average Gross Rent in San Francisco Per Year"
   ]
  },
  {
   "cell_type": "code",
   "execution_count": 43,
   "metadata": {},
   "outputs": [
    {
     "data": {},
     "metadata": {},
     "output_type": "display_data"
    },
    {
     "data": {
      "application/vnd.holoviews_exec.v0+json": "",
      "text/html": [
       "<div id='2526'>\n",
       "\n",
       "\n",
       "\n",
       "\n",
       "\n",
       "  <div class=\"bk-root\" id=\"c9380873-decb-4924-998e-00b86584397d\" data-root-id=\"2526\"></div>\n",
       "</div>\n",
       "<script type=\"application/javascript\">(function(root) {\n",
       "  function embed_document(root) {\n",
       "    var docs_json = {\"6699e433-3d77-4602-82f2-f7448f6d3a8d\":{\"roots\":{\"references\":[{\"attributes\":{},\"id\":\"2550\",\"type\":\"WheelZoomTool\"},{\"attributes\":{\"margin\":[5,5,5,5],\"name\":\"HSpacer03400\",\"sizing_mode\":\"stretch_width\"},\"id\":\"2589\",\"type\":\"Spacer\"},{\"attributes\":{\"overlay\":{\"id\":\"2553\"}},\"id\":\"2551\",\"type\":\"BoxZoomTool\"},{\"attributes\":{},\"id\":\"2580\",\"type\":\"UnionRenderers\"},{\"attributes\":{\"axis\":{\"id\":\"2544\"},\"dimension\":1,\"grid_line_color\":null,\"ticker\":null},\"id\":\"2547\",\"type\":\"Grid\"},{\"attributes\":{\"line_alpha\":0.1,\"line_color\":\"#1f77b3\",\"line_width\":2,\"x\":{\"field\":\"year\"},\"y\":{\"field\":\"gross_rent\"}},\"id\":\"2565\",\"type\":\"Line\"},{\"attributes\":{\"text\":\"Average Housing Rent In San Francisco\",\"text_color\":{\"value\":\"black\"},\"text_font_size\":{\"value\":\"12pt\"}},\"id\":\"2532\",\"type\":\"Title\"},{\"attributes\":{},\"id\":\"2562\",\"type\":\"Selection\"},{\"attributes\":{},\"id\":\"2536\",\"type\":\"LinearScale\"},{\"attributes\":{},\"id\":\"2552\",\"type\":\"ResetTool\"},{\"attributes\":{},\"id\":\"2538\",\"type\":\"LinearScale\"},{\"attributes\":{\"callback\":null,\"renderers\":[{\"id\":\"2567\"}],\"tags\":[\"hv_created\"],\"tooltips\":[[\"year\",\"@{year}\"],[\"gross_rent\",\"@{gross_rent}\"]]},\"id\":\"2530\",\"type\":\"HoverTool\"},{\"attributes\":{\"axis_label\":\"year\",\"bounds\":\"auto\",\"formatter\":{\"id\":\"2570\"},\"major_label_orientation\":\"horizontal\",\"ticker\":{\"id\":\"2541\"}},\"id\":\"2540\",\"type\":\"LinearAxis\"},{\"attributes\":{},\"id\":\"2541\",\"type\":\"BasicTicker\"},{\"attributes\":{\"children\":[{\"id\":\"2527\"},{\"id\":\"2531\"},{\"id\":\"2589\"}],\"margin\":[0,0,0,0],\"name\":\"Row03395\",\"tags\":[\"embedded\"]},\"id\":\"2526\",\"type\":\"Row\"},{\"attributes\":{\"axis\":{\"id\":\"2540\"},\"grid_line_color\":null,\"ticker\":null},\"id\":\"2543\",\"type\":\"Grid\"},{\"attributes\":{\"line_color\":\"#1f77b3\",\"line_width\":2,\"x\":{\"field\":\"year\"},\"y\":{\"field\":\"gross_rent\"}},\"id\":\"2564\",\"type\":\"Line\"},{\"attributes\":{},\"id\":\"2545\",\"type\":\"BasicTicker\"},{\"attributes\":{\"axis_label\":\"\",\"bounds\":\"auto\",\"formatter\":{\"id\":\"2572\"},\"major_label_orientation\":\"horizontal\",\"ticker\":{\"id\":\"2545\"}},\"id\":\"2544\",\"type\":\"LinearAxis\"},{\"attributes\":{\"data\":{\"gross_rent\":[1239,1530,2324,2971,3528,3739,4390],\"year\":[2010,2011,2012,2013,2014,2015,2016]},\"selected\":{\"id\":\"2562\"},\"selection_policy\":{\"id\":\"2580\"}},\"id\":\"2561\",\"type\":\"ColumnDataSource\"},{\"attributes\":{\"data_source\":{\"id\":\"2561\"},\"glyph\":{\"id\":\"2564\"},\"hover_glyph\":null,\"muted_glyph\":{\"id\":\"2566\"},\"nonselection_glyph\":{\"id\":\"2565\"},\"selection_glyph\":null,\"view\":{\"id\":\"2568\"}},\"id\":\"2567\",\"type\":\"GlyphRenderer\"},{\"attributes\":{\"end\":2016.0,\"reset_end\":2016.0,\"reset_start\":2010.0,\"start\":2010.0,\"tags\":[[[\"year\",\"year\",null]]]},\"id\":\"2528\",\"type\":\"Range1d\"},{\"attributes\":{\"below\":[{\"id\":\"2540\"}],\"center\":[{\"id\":\"2543\"},{\"id\":\"2547\"}],\"left\":[{\"id\":\"2544\"}],\"margin\":[5,5,5,5],\"min_border_bottom\":10,\"min_border_left\":10,\"min_border_right\":10,\"min_border_top\":10,\"plot_height\":300,\"plot_width\":700,\"renderers\":[{\"id\":\"2567\"}],\"sizing_mode\":\"fixed\",\"title\":{\"id\":\"2532\"},\"toolbar\":{\"id\":\"2554\"},\"x_range\":{\"id\":\"2528\"},\"x_scale\":{\"id\":\"2536\"},\"y_range\":{\"id\":\"2529\"},\"y_scale\":{\"id\":\"2538\"}},\"id\":\"2531\",\"subtype\":\"Figure\",\"type\":\"Plot\"},{\"attributes\":{\"bottom_units\":\"screen\",\"fill_alpha\":0.5,\"fill_color\":\"lightgrey\",\"left_units\":\"screen\",\"level\":\"overlay\",\"line_alpha\":1.0,\"line_color\":\"black\",\"line_dash\":[4,4],\"line_width\":2,\"right_units\":\"screen\",\"top_units\":\"screen\"},\"id\":\"2553\",\"type\":\"BoxAnnotation\"},{\"attributes\":{},\"id\":\"2572\",\"type\":\"BasicTickFormatter\"},{\"attributes\":{\"margin\":[5,5,5,5],\"name\":\"HSpacer03399\",\"sizing_mode\":\"stretch_width\"},\"id\":\"2527\",\"type\":\"Spacer\"},{\"attributes\":{\"active_drag\":\"auto\",\"active_inspect\":\"auto\",\"active_multi\":null,\"active_scroll\":\"auto\",\"active_tap\":\"auto\",\"tools\":[{\"id\":\"2530\"},{\"id\":\"2548\"},{\"id\":\"2549\"},{\"id\":\"2550\"},{\"id\":\"2551\"},{\"id\":\"2552\"}]},\"id\":\"2554\",\"type\":\"Toolbar\"},{\"attributes\":{\"source\":{\"id\":\"2561\"}},\"id\":\"2568\",\"type\":\"CDSView\"},{\"attributes\":{\"end\":4705.1,\"reset_end\":4705.1,\"reset_start\":923.9,\"start\":923.9,\"tags\":[[[\"gross_rent\",\"gross_rent\",null]]]},\"id\":\"2529\",\"type\":\"Range1d\"},{\"attributes\":{},\"id\":\"2570\",\"type\":\"BasicTickFormatter\"},{\"attributes\":{},\"id\":\"2548\",\"type\":\"SaveTool\"},{\"attributes\":{\"line_alpha\":0.2,\"line_color\":\"#1f77b3\",\"line_width\":2,\"x\":{\"field\":\"year\"},\"y\":{\"field\":\"gross_rent\"}},\"id\":\"2566\",\"type\":\"Line\"},{\"attributes\":{},\"id\":\"2549\",\"type\":\"PanTool\"}],\"root_ids\":[\"2526\"]},\"title\":\"Bokeh Application\",\"version\":\"2.2.3\"}};\n",
       "    var render_items = [{\"docid\":\"6699e433-3d77-4602-82f2-f7448f6d3a8d\",\"root_ids\":[\"2526\"],\"roots\":{\"2526\":\"c9380873-decb-4924-998e-00b86584397d\"}}];\n",
       "    root.Bokeh.embed.embed_items_notebook(docs_json, render_items);\n",
       "  }\n",
       "  if (root.Bokeh !== undefined && root.Bokeh.Panel !== undefined) {\n",
       "    embed_document(root);\n",
       "  } else {\n",
       "    var attempts = 0;\n",
       "    var timer = setInterval(function(root) {\n",
       "      if (root.Bokeh !== undefined && root.Bokeh.Panel !== undefined) {\n",
       "        clearInterval(timer);\n",
       "        embed_document(root);\n",
       "      } else if (document.readyState == \"complete\") {\n",
       "        attempts++;\n",
       "        if (attempts > 100) {\n",
       "          clearInterval(timer);\n",
       "          console.log(\"Bokeh: ERROR: Unable to run BokehJS code because BokehJS library is missing\");\n",
       "        }\n",
       "      }\n",
       "    }, 10, root)\n",
       "  }\n",
       "})(window);</script>"
      ],
      "text/plain": [
       ":Curve   [year]   (gross_rent)"
      ]
     },
     "execution_count": 43,
     "metadata": {
      "application/vnd.holoviews_exec.v0+json": {
       "id": "2526"
      }
     },
     "output_type": "execute_result"
    }
   ],
   "source": [
    "avg_gross_rent = sfo_data[[\"sale_price_sqr_foot\", \"gross_rent\"]].groupby([\"year\"]).mean()\n",
    "avg_rent_plot= avg_gross_rent[\"gross_rent\"].hvplot(kind=\"line\", title = \" Average Housing Rent In San Francisco\")\n",
    "avg_rent_plot"
   ]
  },
  {
   "cell_type": "markdown",
   "metadata": {},
   "source": [
    "- Average Prices by Neighborhood"
   ]
  },
  {
   "cell_type": "code",
   "execution_count": 44,
   "metadata": {},
   "outputs": [
    {
     "data": {},
     "metadata": {},
     "output_type": "display_data"
    },
    {
     "data": {
      "application/vnd.holoviews_exec.v0+json": "",
      "text/html": [
       "<div id='2631'>\n",
       "\n",
       "\n",
       "\n",
       "\n",
       "\n",
       "  <div class=\"bk-root\" id=\"127a05e7-2099-444f-ba63-3ddb83a8bdb1\" data-root-id=\"2631\"></div>\n",
       "</div>\n",
       "<script type=\"application/javascript\">(function(root) {\n",
       "  function embed_document(root) {\n",
       "    var docs_json = {\"61ae6994-8176-4bb8-98e6-d9ccb8abb85f\":{\"roots\":{\"references\":[{\"attributes\":{\"line_alpha\":0.1,\"line_color\":\"#1f77b3\",\"line_width\":2,\"x\":{\"field\":\"year\"},\"y\":{\"field\":\"sale_price_sqr_foot\"}},\"id\":\"2670\",\"type\":\"Line\"},{\"attributes\":{\"children\":[{\"id\":\"2632\"},{\"id\":\"2636\"},{\"id\":\"2698\"},{\"id\":\"2699\"}],\"margin\":[0,0,0,0],\"name\":\"Row03524\"},\"id\":\"2631\",\"type\":\"Row\"},{\"attributes\":{\"line_alpha\":0.2,\"line_color\":\"#1f77b3\",\"line_width\":2,\"x\":{\"field\":\"year\"},\"y\":{\"field\":\"sale_price_sqr_foot\"}},\"id\":\"2671\",\"type\":\"Line\"},{\"attributes\":{\"bottom_units\":\"screen\",\"fill_alpha\":0.5,\"fill_color\":\"lightgrey\",\"left_units\":\"screen\",\"level\":\"overlay\",\"line_alpha\":1.0,\"line_color\":\"black\",\"line_dash\":[4,4],\"line_width\":2,\"right_units\":\"screen\",\"top_units\":\"screen\"},\"id\":\"2658\",\"type\":\"BoxAnnotation\"},{\"attributes\":{\"callback\":null,\"renderers\":[{\"id\":\"2672\"}],\"tags\":[\"hv_created\"],\"tooltips\":[[\"year\",\"@{year}\"],[\"sale_price_sqr_foot\",\"@{sale_price_sqr_foot}\"]]},\"id\":\"2635\",\"type\":\"HoverTool\"},{\"attributes\":{\"source\":{\"id\":\"2666\"}},\"id\":\"2673\",\"type\":\"CDSView\"},{\"attributes\":{\"data_source\":{\"id\":\"2666\"},\"glyph\":{\"id\":\"2669\"},\"hover_glyph\":null,\"muted_glyph\":{\"id\":\"2671\"},\"nonselection_glyph\":{\"id\":\"2670\"},\"selection_glyph\":null,\"view\":{\"id\":\"2673\"}},\"id\":\"2672\",\"type\":\"GlyphRenderer\"},{\"attributes\":{},\"id\":\"2653\",\"type\":\"SaveTool\"},{\"attributes\":{\"line_color\":\"#1f77b3\",\"line_width\":2,\"x\":{\"field\":\"year\"},\"y\":{\"field\":\"sale_price_sqr_foot\"}},\"id\":\"2669\",\"type\":\"Line\"},{\"attributes\":{},\"id\":\"2675\",\"type\":\"BasicTickFormatter\"},{\"attributes\":{\"axis_label\":\"Year\",\"bounds\":\"auto\",\"formatter\":{\"id\":\"2675\"},\"major_label_orientation\":\"horizontal\",\"ticker\":{\"id\":\"2646\"}},\"id\":\"2645\",\"type\":\"LinearAxis\"},{\"attributes\":{},\"id\":\"2654\",\"type\":\"PanTool\"},{\"attributes\":{},\"id\":\"2689\",\"type\":\"UnionRenderers\"},{\"attributes\":{\"data\":{\"sale_price_sqr_foot\":{\"__ndarray__\":\"Dkc7WO0yckCafszcbwhxQIGRs5ot42ZAJzog0LQ8eEAWMinKGEd+QI0V5FDt0IJAVCHcmLVPdUA=\",\"dtype\":\"float64\",\"order\":\"little\",\"shape\":[7]},\"year\":[2010,2011,2012,2013,2014,2015,2016]},\"selected\":{\"id\":\"2667\"},\"selection_policy\":{\"id\":\"2689\"}},\"id\":\"2666\",\"type\":\"ColumnDataSource\"},{\"attributes\":{\"below\":[{\"id\":\"2645\"}],\"center\":[{\"id\":\"2648\"},{\"id\":\"2652\"}],\"left\":[{\"id\":\"2649\"}],\"margin\":[5,5,5,5],\"min_border_bottom\":10,\"min_border_left\":10,\"min_border_right\":10,\"min_border_top\":10,\"plot_height\":300,\"plot_width\":700,\"renderers\":[{\"id\":\"2672\"}],\"sizing_mode\":\"fixed\",\"title\":{\"id\":\"2637\"},\"toolbar\":{\"id\":\"2659\"},\"x_range\":{\"id\":\"2633\"},\"x_scale\":{\"id\":\"2641\"},\"y_range\":{\"id\":\"2634\"},\"y_scale\":{\"id\":\"2643\"}},\"id\":\"2636\",\"subtype\":\"Figure\",\"type\":\"Plot\"},{\"attributes\":{},\"id\":\"2655\",\"type\":\"WheelZoomTool\"},{\"attributes\":{\"children\":[{\"id\":\"2700\"},{\"id\":\"2701\"},{\"id\":\"2703\"}],\"margin\":[0,0,0,0],\"name\":\"Column03532\"},\"id\":\"2699\",\"type\":\"Column\"},{\"attributes\":{\"active_drag\":\"auto\",\"active_inspect\":\"auto\",\"active_multi\":null,\"active_scroll\":\"auto\",\"active_tap\":\"auto\",\"tools\":[{\"id\":\"2635\"},{\"id\":\"2653\"},{\"id\":\"2654\"},{\"id\":\"2655\"},{\"id\":\"2656\"},{\"id\":\"2657\"}]},\"id\":\"2659\",\"type\":\"Toolbar\"},{\"attributes\":{\"overlay\":{\"id\":\"2658\"}},\"id\":\"2656\",\"type\":\"BoxZoomTool\"},{\"attributes\":{},\"id\":\"2667\",\"type\":\"Selection\"},{\"attributes\":{},\"id\":\"2641\",\"type\":\"LinearScale\"},{\"attributes\":{\"axis\":{\"id\":\"2649\"},\"dimension\":1,\"grid_line_color\":null,\"ticker\":null},\"id\":\"2652\",\"type\":\"Grid\"},{\"attributes\":{\"margin\":[5,5,5,5],\"name\":\"VSpacer03531\",\"sizing_mode\":\"stretch_height\"},\"id\":\"2703\",\"type\":\"Spacer\"},{\"attributes\":{},\"id\":\"2657\",\"type\":\"ResetTool\"},{\"attributes\":{\"client_comm_id\":\"b89e1d80b7db4341bd95c4d3464e930a\",\"comm_id\":\"b4a2aa7bc8bd4a80bf2d2a018940337b\",\"plot_id\":\"2631\"},\"id\":\"2728\",\"type\":\"panel.models.comm_manager.CommManager\"},{\"attributes\":{},\"id\":\"2677\",\"type\":\"BasicTickFormatter\"},{\"attributes\":{},\"id\":\"2650\",\"type\":\"BasicTicker\"},{\"attributes\":{},\"id\":\"2643\",\"type\":\"LinearScale\"},{\"attributes\":{\"margin\":[20,20,20,20],\"min_width\":250,\"options\":[\"Alamo Square\",\"Anza Vista\",\"Bayview\",\"Buena Vista Park\",\"Central Richmond\",\"Central Sunset\",\"Corona Heights\",\"Cow Hollow\",\"Croker Amazon\",\"Diamond Heights\",\"Downtown \",\"Eureka Valley/Dolores Heights\",\"Excelsior\",\"Financial District North\",\"Financial District South\",\"Forest Knolls\",\"Glen Park\",\"Golden Gate Heights\",\"Haight Ashbury\",\"Hayes Valley\",\"Hunters Point\",\"Ingleside \",\"Inner Mission\",\"Inner Parkside\",\"Inner Richmond\",\"Inner Sunset\",\"Jordan Park/Laurel Heights\",\"Lake --The Presidio\",\"Lone Mountain\",\"Lower Pacific Heights\",\"Marina\",\"Miraloma Park\",\"Mission Bay\",\"Mission Dolores\",\"Mission Terrace\",\"Nob Hill\",\"Noe Valley\",\"Oceanview\",\"Outer Parkside\",\"Outer Richmond \",\"Outer Sunset\",\"Pacific Heights\",\"Park North\",\"Parkside\",\"Parnassus/Ashbury Heights\",\"Portola\",\"Potrero Hill\",\"Presidio Heights\",\"Russian Hill\",\"South Beach\",\"South of Market\",\"Sunnyside\",\"Telegraph Hill\",\"Twin Peaks\",\"Union Square District\",\"Van Ness/ Civic Center\",\"West Portal\",\"Western Addition\",\"Yerba Buena\",\"Bernal Heights \",\"Clarendon Heights\",\"Duboce Triangle\",\"Ingleside Heights\",\"North Beach\",\"North Waterfront\",\"Outer Mission\",\"Westwood Highlands\",\"Merced Heights\",\"Midtown Terrace\",\"Visitacion Valley\",\"Silver Terrace\",\"Westwood Park\",\"Bayview Heights\"],\"title\":\"neighborhood\",\"value\":\"Alamo Square\",\"width\":250},\"id\":\"2702\",\"type\":\"Select\"},{\"attributes\":{\"margin\":[5,5,5,5],\"name\":\"HSpacer03533\",\"sizing_mode\":\"stretch_width\"},\"id\":\"2632\",\"type\":\"Spacer\"},{\"attributes\":{\"end\":644.0175329447045,\"reset_end\":644.0175329447045,\"reset_start\":141.1976609302527,\"start\":141.1976609302527,\"tags\":[[[\"sale_price_sqr_foot\",\"sale_price_sqr_foot\",null]]]},\"id\":\"2634\",\"type\":\"Range1d\"},{\"attributes\":{\"end\":2016.0,\"reset_end\":2016.0,\"reset_start\":2010.0,\"start\":2010.0,\"tags\":[[[\"year\",\"year\",null]]]},\"id\":\"2633\",\"type\":\"Range1d\"},{\"attributes\":{\"text\":\"neighborhood: Alamo Square\",\"text_color\":{\"value\":\"black\"},\"text_font_size\":{\"value\":\"12pt\"}},\"id\":\"2637\",\"type\":\"Title\"},{\"attributes\":{\"children\":[{\"id\":\"2702\"}],\"css_classes\":[\"panel-widget-box\"],\"margin\":[5,5,5,5],\"name\":\"WidgetBox03525\"},\"id\":\"2701\",\"type\":\"Column\"},{\"attributes\":{},\"id\":\"2646\",\"type\":\"BasicTicker\"},{\"attributes\":{\"margin\":[5,5,5,5],\"name\":\"VSpacer03530\",\"sizing_mode\":\"stretch_height\"},\"id\":\"2700\",\"type\":\"Spacer\"},{\"attributes\":{\"axis\":{\"id\":\"2645\"},\"grid_line_color\":null,\"ticker\":null},\"id\":\"2648\",\"type\":\"Grid\"},{\"attributes\":{\"margin\":[5,5,5,5],\"name\":\"HSpacer03534\",\"sizing_mode\":\"stretch_width\"},\"id\":\"2698\",\"type\":\"Spacer\"},{\"attributes\":{\"axis_label\":\"Average Sales Prices per Square Foot\",\"bounds\":\"auto\",\"formatter\":{\"id\":\"2677\"},\"major_label_orientation\":\"horizontal\",\"ticker\":{\"id\":\"2650\"}},\"id\":\"2649\",\"type\":\"LinearAxis\"}],\"root_ids\":[\"2631\",\"2728\"]},\"title\":\"Bokeh Application\",\"version\":\"2.2.3\"}};\n",
       "    var render_items = [{\"docid\":\"61ae6994-8176-4bb8-98e6-d9ccb8abb85f\",\"root_ids\":[\"2631\"],\"roots\":{\"2631\":\"127a05e7-2099-444f-ba63-3ddb83a8bdb1\"}}];\n",
       "    root.Bokeh.embed.embed_items_notebook(docs_json, render_items);\n",
       "  }\n",
       "  if (root.Bokeh !== undefined && root.Bokeh.Panel !== undefined) {\n",
       "    embed_document(root);\n",
       "  } else {\n",
       "    var attempts = 0;\n",
       "    var timer = setInterval(function(root) {\n",
       "      if (root.Bokeh !== undefined && root.Bokeh.Panel !== undefined) {\n",
       "        clearInterval(timer);\n",
       "        embed_document(root);\n",
       "      } else if (document.readyState == \"complete\") {\n",
       "        attempts++;\n",
       "        if (attempts > 100) {\n",
       "          clearInterval(timer);\n",
       "          console.log(\"Bokeh: ERROR: Unable to run BokehJS code because BokehJS library is missing\");\n",
       "        }\n",
       "      }\n",
       "    }, 10, root)\n",
       "  }\n",
       "})(window);</script>"
      ],
      "text/plain": [
       ":DynamicMap   [neighborhood]\n",
       "   :Curve   [year]   (sale_price_sqr_foot)"
      ]
     },
     "execution_count": 44,
     "metadata": {
      "application/vnd.holoviews_exec.v0+json": {
       "id": "2631"
      }
     },
     "output_type": "execute_result"
    }
   ],
   "source": [
    "vg_prices_neighbourhood = pd.DataFrame()\n",
    "avg_prices_neighbourhood = sfo_data.groupby([\"year\",\"neighborhood\"]).mean()\n",
    "avg_prices_neighbourhood.reset_index(inplace=True) \n",
    "avg_price_plot= avg_prices_neighbourhood.hvplot.line(\"year\",\"sale_price_sqr_foot\",xlabel=\"Year\",ylabel=\"Average Sales Prices per Square Foot\", groupby=\"neighborhood\")\n",
    "avg_price_plot"
   ]
  },
  {
   "cell_type": "markdown",
   "metadata": {},
   "source": [
    "- Top Ten Houses"
   ]
  },
  {
   "cell_type": "code",
   "execution_count": 45,
   "metadata": {},
   "outputs": [
    {
     "data": {},
     "metadata": {},
     "output_type": "display_data"
    },
    {
     "data": {
      "application/vnd.holoviews_exec.v0+json": "",
      "text/html": [
       "<div id='2769'>\n",
       "\n",
       "\n",
       "\n",
       "\n",
       "\n",
       "  <div class=\"bk-root\" id=\"a80a85e6-a593-4e02-95cc-6e4925c4fbab\" data-root-id=\"2769\"></div>\n",
       "</div>\n",
       "<script type=\"application/javascript\">(function(root) {\n",
       "  function embed_document(root) {\n",
       "    var docs_json = {\"90444ab6-5e3c-42fe-9202-4dd503db2b33\":{\"roots\":{\"references\":[{\"attributes\":{\"below\":[{\"id\":\"2783\"}],\"center\":[{\"id\":\"2785\"},{\"id\":\"2789\"}],\"left\":[{\"id\":\"2786\"}],\"margin\":[5,5,5,5],\"min_border_bottom\":10,\"min_border_left\":10,\"min_border_right\":10,\"min_border_top\":10,\"plot_height\":300,\"plot_width\":700,\"renderers\":[{\"id\":\"2809\"}],\"sizing_mode\":\"fixed\",\"title\":{\"id\":\"2775\"},\"toolbar\":{\"id\":\"2796\"},\"x_range\":{\"id\":\"2771\"},\"x_scale\":{\"id\":\"2779\"},\"y_range\":{\"id\":\"2772\"},\"y_scale\":{\"id\":\"2781\"}},\"id\":\"2774\",\"subtype\":\"Figure\",\"type\":\"Plot\"},{\"attributes\":{\"bottom_units\":\"screen\",\"fill_alpha\":0.5,\"fill_color\":\"lightgrey\",\"left_units\":\"screen\",\"level\":\"overlay\",\"line_alpha\":1.0,\"line_color\":\"black\",\"line_dash\":[4,4],\"line_width\":2,\"right_units\":\"screen\",\"top_units\":\"screen\"},\"id\":\"2795\",\"type\":\"BoxAnnotation\"},{\"attributes\":{\"children\":[{\"id\":\"2770\"},{\"id\":\"2774\"},{\"id\":\"2831\"}],\"margin\":[0,0,0,0],\"name\":\"Row03834\",\"tags\":[\"embedded\"]},\"id\":\"2769\",\"type\":\"Row\"},{\"attributes\":{\"fill_alpha\":{\"value\":0.2},\"fill_color\":{\"value\":\"#1f77b3\"},\"line_alpha\":{\"value\":0.2},\"top\":{\"field\":\"sale_price_sqr_foot\"},\"width\":{\"value\":0.8},\"x\":{\"field\":\"neighborhood\"}},\"id\":\"2808\",\"type\":\"VBar\"},{\"attributes\":{\"data_source\":{\"id\":\"2803\"},\"glyph\":{\"id\":\"2806\"},\"hover_glyph\":null,\"muted_glyph\":{\"id\":\"2808\"},\"nonselection_glyph\":{\"id\":\"2807\"},\"selection_glyph\":null,\"view\":{\"id\":\"2810\"}},\"id\":\"2809\",\"type\":\"GlyphRenderer\"},{\"attributes\":{},\"id\":\"2812\",\"type\":\"CategoricalTickFormatter\"},{\"attributes\":{\"active_drag\":\"auto\",\"active_inspect\":\"auto\",\"active_multi\":null,\"active_scroll\":\"auto\",\"active_tap\":\"auto\",\"tools\":[{\"id\":\"2773\"},{\"id\":\"2790\"},{\"id\":\"2791\"},{\"id\":\"2792\"},{\"id\":\"2793\"},{\"id\":\"2794\"}]},\"id\":\"2796\",\"type\":\"Toolbar\"},{\"attributes\":{\"margin\":[5,5,5,5],\"name\":\"HSpacer03838\",\"sizing_mode\":\"stretch_width\"},\"id\":\"2770\",\"type\":\"Spacer\"},{\"attributes\":{\"source\":{\"id\":\"2803\"}},\"id\":\"2810\",\"type\":\"CDSView\"},{\"attributes\":{},\"id\":\"2784\",\"type\":\"CategoricalTicker\"},{\"attributes\":{},\"id\":\"2790\",\"type\":\"SaveTool\"},{\"attributes\":{},\"id\":\"2791\",\"type\":\"PanTool\"},{\"attributes\":{\"end\":929.3801355198136,\"reset_end\":929.3801355198136,\"reset_start\":0.0,\"tags\":[[[\"sale_price_sqr_foot\",\"sale_price_sqr_foot\",null]]]},\"id\":\"2772\",\"type\":\"Range1d\"},{\"attributes\":{},\"id\":\"2814\",\"type\":\"BasicTickFormatter\"},{\"attributes\":{},\"id\":\"2792\",\"type\":\"WheelZoomTool\"},{\"attributes\":{},\"id\":\"2804\",\"type\":\"Selection\"},{\"attributes\":{},\"id\":\"2779\",\"type\":\"CategoricalScale\"},{\"attributes\":{\"overlay\":{\"id\":\"2795\"}},\"id\":\"2793\",\"type\":\"BoxZoomTool\"},{\"attributes\":{\"fill_color\":{\"value\":\"#1f77b3\"},\"top\":{\"field\":\"sale_price_sqr_foot\"},\"width\":{\"value\":0.8},\"x\":{\"field\":\"neighborhood\"}},\"id\":\"2806\",\"type\":\"VBar\"},{\"attributes\":{\"fill_alpha\":{\"value\":0.1},\"fill_color\":{\"value\":\"#1f77b3\"},\"line_alpha\":{\"value\":0.1},\"top\":{\"field\":\"sale_price_sqr_foot\"},\"width\":{\"value\":0.8},\"x\":{\"field\":\"neighborhood\"}},\"id\":\"2807\",\"type\":\"VBar\"},{\"attributes\":{\"axis\":{\"id\":\"2786\"},\"dimension\":1,\"grid_line_color\":null,\"ticker\":null},\"id\":\"2789\",\"type\":\"Grid\"},{\"attributes\":{},\"id\":\"2794\",\"type\":\"ResetTool\"},{\"attributes\":{\"axis_label\":\"Neighborhood\",\"bounds\":\"auto\",\"formatter\":{\"id\":\"2812\"},\"major_label_orientation\":\"horizontal\",\"ticker\":{\"id\":\"2784\"}},\"id\":\"2783\",\"type\":\"CategoricalAxis\"},{\"attributes\":{},\"id\":\"2822\",\"type\":\"UnionRenderers\"},{\"attributes\":{},\"id\":\"2781\",\"type\":\"LinearScale\"},{\"attributes\":{\"text\":\"\",\"text_color\":{\"value\":\"black\"},\"text_font_size\":{\"value\":\"12pt\"}},\"id\":\"2775\",\"type\":\"Title\"},{\"attributes\":{\"data\":{\"neighborhood\":[\"Union Square District\",\"Merced Heights\",\"Miraloma Park\",\"Pacific Heights\",\"Westwood Park\",\"Telegraph Hill\",\"Presidio Heights\",\"Cow Hollow\",\"Potrero Hill\",\"South Beach\"],\"sale_price_sqr_foot\":{\"__ndarray__\":\"JRAUMfI/jEB9IrkvwqaIQFx/3pp8XohAFpsVUHKMhUBs0ERas3iFQL0KhXgNJIVAy835O80ahUANV25bts+EQJrMCuEbsIRAya3y7v5QhEA=\",\"dtype\":\"float64\",\"order\":\"little\",\"shape\":[10]}},\"selected\":{\"id\":\"2804\"},\"selection_policy\":{\"id\":\"2822\"}},\"id\":\"2803\",\"type\":\"ColumnDataSource\"},{\"attributes\":{\"callback\":null,\"renderers\":[{\"id\":\"2809\"}],\"tags\":[\"hv_created\"],\"tooltips\":[[\"neighborhood\",\"@{neighborhood}\"],[\"sale_price_sqr_foot\",\"@{sale_price_sqr_foot}\"]]},\"id\":\"2773\",\"type\":\"HoverTool\"},{\"attributes\":{\"axis\":{\"id\":\"2783\"},\"grid_line_color\":null,\"ticker\":null},\"id\":\"2785\",\"type\":\"Grid\"},{\"attributes\":{},\"id\":\"2787\",\"type\":\"BasicTicker\"},{\"attributes\":{\"axis_label\":\"Average Sale Price Per Square Foot\",\"bounds\":\"auto\",\"formatter\":{\"id\":\"2814\"},\"major_label_orientation\":\"horizontal\",\"ticker\":{\"id\":\"2787\"}},\"id\":\"2786\",\"type\":\"LinearAxis\"},{\"attributes\":{\"factors\":[\"Union Square District\",\"Merced Heights\",\"Miraloma Park\",\"Pacific Heights\",\"Westwood Park\",\"Telegraph Hill\",\"Presidio Heights\",\"Cow Hollow\",\"Potrero Hill\",\"South Beach\"],\"tags\":[[[\"neighborhood\",\"neighborhood\",null]]]},\"id\":\"2771\",\"type\":\"FactorRange\"},{\"attributes\":{\"margin\":[5,5,5,5],\"name\":\"HSpacer03839\",\"sizing_mode\":\"stretch_width\"},\"id\":\"2831\",\"type\":\"Spacer\"}],\"root_ids\":[\"2769\"]},\"title\":\"Bokeh Application\",\"version\":\"2.2.3\"}};\n",
       "    var render_items = [{\"docid\":\"90444ab6-5e3c-42fe-9202-4dd503db2b33\",\"root_ids\":[\"2769\"],\"roots\":{\"2769\":\"a80a85e6-a593-4e02-95cc-6e4925c4fbab\"}}];\n",
       "    root.Bokeh.embed.embed_items_notebook(docs_json, render_items);\n",
       "  }\n",
       "  if (root.Bokeh !== undefined && root.Bokeh.Panel !== undefined) {\n",
       "    embed_document(root);\n",
       "  } else {\n",
       "    var attempts = 0;\n",
       "    var timer = setInterval(function(root) {\n",
       "      if (root.Bokeh !== undefined && root.Bokeh.Panel !== undefined) {\n",
       "        clearInterval(timer);\n",
       "        embed_document(root);\n",
       "      } else if (document.readyState == \"complete\") {\n",
       "        attempts++;\n",
       "        if (attempts > 100) {\n",
       "          clearInterval(timer);\n",
       "          console.log(\"Bokeh: ERROR: Unable to run BokehJS code because BokehJS library is missing\");\n",
       "        }\n",
       "      }\n",
       "    }, 10, root)\n",
       "  }\n",
       "})(window);</script>"
      ],
      "text/plain": [
       ":Bars   [neighborhood]   (sale_price_sqr_foot)"
      ]
     },
     "execution_count": 45,
     "metadata": {
      "application/vnd.holoviews_exec.v0+json": {
       "id": "2769"
      }
     },
     "output_type": "execute_result"
    }
   ],
   "source": [
    "most_expen_neighborhood = pd.DataFrame()\n",
    "most_expen_neighborhood  = sfo_data.groupby([\"neighborhood\"]).mean().sort_values(\"sale_price_sqr_foot\",ascending=False)\n",
    "most_expen_neighborhood= most_expen_neighborhood.reset_index()\n",
    "top_ten_most_expen_neighborhood=most_expen_neighborhood.head(10)\n",
    "top_ten_plot = top_ten_most_expen_neighborhood.hvplot.bar(\"neighborhood\",\"sale_price_sqr_foot\", xlabel=\"Neighborhood\",ylabel=\"Average Sale Price Per Square Foot\")\n",
    "top_ten_plot"
   ]
  },
  {
   "cell_type": "markdown",
   "metadata": {},
   "source": [
    "- Parallel Coordinates Plot"
   ]
  },
  {
   "cell_type": "code",
   "execution_count": 46,
   "metadata": {},
   "outputs": [
    {
     "data": {
      "application/vnd.plotly.v1+json": {
       "config": {
        "plotlyServerURL": "https://plot.ly"
       },
       "data": [
        {
         "dimensions": [
          {
           "label": "year",
           "values": [
            2010,
            2010,
            2010,
            2010,
            2010,
            2010,
            2010,
            2010,
            2010,
            2010,
            2010,
            2010,
            2010,
            2010,
            2010,
            2010,
            2010,
            2010,
            2010,
            2010,
            2010,
            2010,
            2010,
            2010,
            2010,
            2010,
            2010,
            2010,
            2010,
            2010,
            2010,
            2010,
            2010,
            2010,
            2010,
            2010,
            2010,
            2010,
            2010,
            2010,
            2010,
            2010,
            2010,
            2010,
            2010,
            2010,
            2010,
            2010,
            2010,
            2010,
            2010,
            2010,
            2010,
            2010,
            2010,
            2010,
            2010,
            2010,
            2010,
            2011,
            2011,
            2011,
            2011,
            2011,
            2011,
            2011,
            2011,
            2011,
            2011,
            2011,
            2011,
            2011,
            2011,
            2011,
            2011,
            2011,
            2011,
            2011,
            2011,
            2011,
            2011,
            2011,
            2011,
            2011,
            2011,
            2011,
            2011,
            2011,
            2011,
            2011,
            2011,
            2011,
            2011,
            2011,
            2011,
            2011,
            2011,
            2011,
            2011,
            2011,
            2011,
            2011,
            2011,
            2011,
            2011,
            2011,
            2011,
            2011,
            2011,
            2011,
            2011,
            2011,
            2011,
            2011,
            2011,
            2011,
            2011,
            2011,
            2012,
            2012,
            2012,
            2012,
            2012,
            2012,
            2012,
            2012,
            2012,
            2012,
            2012,
            2012,
            2012,
            2012,
            2012,
            2012,
            2012,
            2012,
            2012,
            2012,
            2012,
            2012,
            2012,
            2012,
            2012,
            2012,
            2012,
            2012,
            2012,
            2012,
            2012,
            2012,
            2012,
            2012,
            2012,
            2012,
            2012,
            2012,
            2012,
            2012,
            2012,
            2012,
            2012,
            2012,
            2012,
            2012,
            2012,
            2012,
            2012,
            2012,
            2012,
            2012,
            2012,
            2012,
            2012,
            2012,
            2012,
            2012,
            2013,
            2013,
            2013,
            2013,
            2013,
            2013,
            2013,
            2013,
            2013,
            2013,
            2013,
            2013,
            2013,
            2013,
            2013,
            2013,
            2013,
            2013,
            2013,
            2013,
            2013,
            2013,
            2013,
            2013,
            2013,
            2013,
            2013,
            2013,
            2013,
            2013,
            2013,
            2013,
            2013,
            2013,
            2013,
            2013,
            2013,
            2013,
            2013,
            2013,
            2013,
            2013,
            2013,
            2013,
            2013,
            2013,
            2013,
            2013,
            2013,
            2013,
            2013,
            2013,
            2013,
            2013,
            2013,
            2013,
            2013,
            2014,
            2014,
            2014,
            2014,
            2014,
            2014,
            2014,
            2014,
            2014,
            2014,
            2014,
            2014,
            2014,
            2014,
            2014,
            2014,
            2014,
            2014,
            2014,
            2014,
            2014,
            2014,
            2014,
            2014,
            2014,
            2014,
            2014,
            2014,
            2014,
            2014,
            2014,
            2014,
            2014,
            2014,
            2014,
            2014,
            2014,
            2014,
            2014,
            2014,
            2014,
            2014,
            2014,
            2014,
            2014,
            2014,
            2014,
            2014,
            2014,
            2014,
            2014,
            2014,
            2014,
            2014,
            2014,
            2014,
            2014,
            2014,
            2014,
            2014,
            2015,
            2015,
            2015,
            2015,
            2015,
            2015,
            2015,
            2015,
            2015,
            2015,
            2015,
            2015,
            2015,
            2015,
            2015,
            2015,
            2015,
            2015,
            2015,
            2015,
            2015,
            2015,
            2015,
            2015,
            2015,
            2015,
            2015,
            2015,
            2015,
            2015,
            2015,
            2015,
            2015,
            2015,
            2015,
            2015,
            2015,
            2015,
            2015,
            2015,
            2015,
            2015,
            2015,
            2015,
            2015,
            2015,
            2015,
            2015,
            2015,
            2015,
            2015,
            2015,
            2015,
            2015,
            2015,
            2015,
            2015,
            2015,
            2016,
            2016,
            2016,
            2016,
            2016,
            2016,
            2016,
            2016,
            2016,
            2016,
            2016,
            2016,
            2016,
            2016,
            2016,
            2016,
            2016,
            2016,
            2016,
            2016,
            2016,
            2016,
            2016,
            2016,
            2016,
            2016,
            2016,
            2016,
            2016,
            2016,
            2016,
            2016,
            2016,
            2016,
            2016,
            2016,
            2016,
            2016,
            2016,
            2016,
            2016,
            2016,
            2016,
            2016,
            2016,
            2016
           ]
          },
          {
           "label": "sale_price_sqr_foot",
           "values": [
            291.18294547229095,
            267.9325826799483,
            170.09866536400102,
            347.3949194037114,
            319.0276225530687,
            418.1724927089675,
            369.35933800413665,
            569.3799679261333,
            165.6457300650791,
            456.9308221979013,
            241.80455206485138,
            403.1183126490986,
            364.92833570851764,
            401.7499665916537,
            162.82121004772353,
            209.0493266346945,
            715.5864380979738,
            551.8011188234774,
            254.47377914469143,
            272.28497956385485,
            170.62491987132685,
            275.05668560990915,
            238.35002040677708,
            199.70200378219917,
            285.82235848868265,
            275.76972957461044,
            419.88781187646566,
            320.79691049204627,
            398.4588759923028,
            374.05763601016855,
            387.392839476922,
            680.6087291389301,
            489.80537777998506,
            257.98799863500693,
            262.87602564056425,
            307.67747674427835,
            381.13844514705266,
            282.11967050133603,
            432.19529211245555,
            338.12619999607017,
            368.31155203937294,
            496.51601414694983,
            326.01715041025074,
            274.16674158669116,
            434.25500394602585,
            302.15611319728896,
            491.45000385678617,
            549.4179312485746,
            362.34822391312133,
            1037.0997886617895,
            401.2959764896399,
            542.5316819894505,
            524.7935090952678,
            331.55599614560697,
            569.1934475267735,
            108.0129268765048,
            392.30076417058257,
            215.56913431487555,
            333.12677384193887,
            272.5273101795261,
            172.54056243085552,
            471.9217320911283,
            171.7723466866044,
            261.6638003416518,
            391.42644972996203,
            520.7181675305429,
            222.567848047696,
            390.5956530284181,
            145.85338027594094,
            382.3522610640586,
            234.28162351035442,
            295.77937822922695,
            413.16280403427527,
            281.312904357283,
            354.66555789282774,
            457.41388429762526,
            348.92970004124925,
            392.35345097326814,
            280.73063309393075,
            356.7090091359044,
            198.01587292452027,
            283.17495073168755,
            360.03727240448274,
            302.60448945564127,
            610.7666631577348,
            330.10889435237306,
            313.33845823084727,
            303.5441997161898,
            390.81846895621413,
            414.67606477603755,
            506.95217450146765,
            293.4042461148187,
            340.6425969783877,
            373.97868706755236,
            290.9210327099608,
            346.96116001560216,
            142.14256751724554,
            241.94565649181578,
            271.09013956932756,
            297.2455578459466,
            509.0214800287398,
            289.60560009472283,
            217.55878684527906,
            466.6178976523653,
            208.1679967483858,
            503.13850456030497,
            493.814917282618,
            448.3201042149405,
            388.6443367815385,
            337.91413464365013,
            437.16429949197664,
            483.4057725178001,
            284.56696642681646,
            302.12325280969134,
            384.23680203579306,
            227.41898086494461,
            320.0743330547439,
            438.86054508174806,
            183.09931693145703,
            344.4909139677922,
            165.79806239165433,
            368.26656078838516,
            338.60116351046344,
            279.0301399218751,
            334.4878725198492,
            356.7948135908725,
            644.8183066758803,
            415.0903401095623,
            366.9954275112727,
            269.109528813633,
            452.66002242984047,
            524.8134180834782,
            371.0302152741686,
            286.3519820673892,
            613.8430658201435,
            434.63234651328025,
            418.83037933269526,
            306.3779578647354,
            336.8259501844992,
            373.4668636470579,
            325.82892041816064,
            383.15039609809617,
            380.5214843069476,
            545.9801982412763,
            396.171112391617,
            445.21509554245245,
            421.1412447061912,
            397.9391288956355,
            756.1923725098497,
            689.5233123659036,
            320.9599230279341,
            307.78311439850694,
            428.0219127043747,
            517.1734931165627,
            390.3838567783597,
            442.24265696115737,
            221.881138746669,
            312.83398436239065,
            338.63301173022234,
            413.05871935195154,
            586.2182148097696,
            288.0785187599688,
            378.2738784387478,
            515.9210732061051,
            351.0432256921308,
            466.6478402167172,
            426.60859207171325,
            414.16272789686775,
            463.8098989043553,
            465.80212163177373,
            304.89964760284107,
            445.1967876448791,
            345.95804038831767,
            325.79541506433713,
            274.33846004864847,
            491.8140030500954,
            387.79414379681333,
            453.34049829869934,
            259.54716259308043,
            630.8973025513741,
            455.2180887853926,
            343.0542609770136,
            330.7364310191893,
            453.7716045219721,
            707.4028088888208,
            223.11583290346024,
            533.6884470076521,
            361.45469198221224,
            608.694967227678,
            289.749665708438,
            274.4579436322337,
            458.7213317825408,
            956.1841219171133,
            478.4956365730093,
            491.5892613631572,
            377.51801557551835,
            302.96737702840636,
            435.5456667813491,
            584.0737147409254,
            568.6511487607912,
            376.08359802951554,
            548.0466890413603,
            655.1980415945777,
            703.0815676877947,
            null,
            427.16626614177557,
            591.4020223180053,
            466.02648785310464,
            615.0639297056517,
            393.71733534550384,
            483.16880334240136,
            372.24198616911974,
            332.40781536886453,
            322.0822144332409,
            503.89926133005366,
            512.6307219919141,
            364.62465302417013,
            425.64225533080946,
            235.99759251727426,
            598.704795328917,
            512.8402484358223,
            506.22752218971993,
            420.822184596571,
            505.83481143735054,
            653.3116166908643,
            414.43569251368126,
            1290.472106646641,
            285.0095060630079,
            293.2983722057751,
            588.0747967826295,
            217.0890689540353,
            747.3335378171588,
            753.0114133184368,
            484.44355217067766,
            620.4414065565543,
            254.95866163273848,
            544.5469286452765,
            423.95272693478194,
            456.2419957897522,
            888.1821435177138,
            691.8654114838455,
            428.7265326799175,
            630.3115352378672,
            728.9797158498743,
            358.30523872237734,
            409.9438351783924,
            694.4181461347432,
            553.5627522522698,
            567.3400104586143,
            496.55100121228986,
            428.9237926791115,
            647.6496334575522,
            464.1758436880091,
            597.200528047448,
            430.9396363161629,
            470.85352986706454,
            426.7863811847511,
            432.9627229749631,
            317.2219194303952,
            716.3765095625198,
            642.838478220973,
            528.7265413888829,
            1267.7662026328826,
            220.11108719171108,
            642.2195925518147,
            300.1873092016618,
            478.44335175268515,
            654.801499892284,
            379.92536172660726,
            650.963515967709,
            401.9350222176535,
            490.36358286726374,
            824.6586936349588,
            371.9242451684328,
            446.23924529045684,
            773.4061347806703,
            538.204698577284,
            1045.2015459222662,
            603.4509968798565,
            714.2220737504065,
            170.2925485152069,
            524.6293121403909,
            1119.8388773148026,
            493.45560489574007,
            708.1930316849231,
            562.9112337982453,
            558.2711194060469,
            475.39318681250677,
            282.02546830016496,
            687.7829633004552,
            429.4883174233179,
            742.9797231632554,
            479.9237488133093,
            602.1158769435002,
            465.68627450980387,
            590.7928388746802,
            458.0042993401075,
            551.6956218496264,
            473.1638149617127,
            453.3793770708969,
            1100.7911936704506,
            598.6205414959003,
            301.61864706270705,
            485.8868855757771,
            631.6456863280099,
            790.1803690820187,
            414.35585647200105,
            694.358566653677,
            453.4330812935196,
            612.1061563311456,
            772.7128362001238,
            574.2740565313097,
            536.5571018753241,
            null,
            192.16524813774402,
            435.9007753824155,
            762.5272331154684,
            493.61555763336935,
            639.1464438694404,
            576.4579094375945,
            426.6849522707296,
            918.2882682038704,
            800.0388650775142,
            1132.8373605554546,
            571.7557085689908,
            583.8486362312665,
            529.847319131393,
            544.6002639104154,
            448.86919667679206,
            890.9095931764135,
            265.92982650327014,
            564.6874764662283,
            652.2879690318528,
            438.4677874196749,
            357.8946922463997,
            910.1876901656897,
            616.5723883169862,
            null,
            605.3433249358948,
            821.3009904764873,
            null,
            793.2619915605263,
            717.0825412171872,
            439.7498835483721,
            996.9902204858653,
            417.33537892280015,
            2258.702831998355,
            677.8382318281795,
            302.2218727063018,
            481.46924427394237,
            963.5226061641273,
            340.98183523166995,
            88.40151094606408,
            986.8421052631579,
            851.4014053492668,
            661.0644257703083,
            581.3708750724594,
            1059.0656015492618,
            566.7011760342162,
            718.7768297452345,
            1026.7911075237503,
            534.2262501283425,
            null,
            945.5665024630542,
            531.8350322320708,
            175.06606919629078,
            571.5799833446893,
            647.7704471840341,
            518.1126504655916,
            403.31113221139015,
            445.9238282688497,
            704.5664189758045,
            636.4307703489127,
            431.94460202359033,
            1416.666666666667,
            924.5691159025888,
            879.0170132325142,
            777.0083145338547,
            799.4956512788842,
            407.5533215595707,
            40.7726253518439,
            732.7206841423807,
            1196.645436923929,
            510.5769072143791,
            996.3893635634033,
            211.30136986006568,
            1207.997484708169,
            707.6516094320912,
            1465.9685863874345,
            1024.3398771365157,
            531.1363737279744,
            751.1737089201877,
            903.0497705987848,
            970.08547008547,
            552.6025671312701,
            328.31900668576884,
            631.1954258724091
           ]
          },
          {
           "label": "housing_units",
           "values": [
            372560,
            372560,
            372560,
            372560,
            372560,
            372560,
            372560,
            372560,
            372560,
            372560,
            372560,
            372560,
            372560,
            372560,
            372560,
            372560,
            372560,
            372560,
            372560,
            372560,
            372560,
            372560,
            372560,
            372560,
            372560,
            372560,
            372560,
            372560,
            372560,
            372560,
            372560,
            372560,
            372560,
            372560,
            372560,
            372560,
            372560,
            372560,
            372560,
            372560,
            372560,
            372560,
            372560,
            372560,
            372560,
            372560,
            372560,
            372560,
            372560,
            372560,
            372560,
            372560,
            372560,
            372560,
            372560,
            372560,
            372560,
            372560,
            372560,
            374507,
            374507,
            374507,
            374507,
            374507,
            374507,
            374507,
            374507,
            374507,
            374507,
            374507,
            374507,
            374507,
            374507,
            374507,
            374507,
            374507,
            374507,
            374507,
            374507,
            374507,
            374507,
            374507,
            374507,
            374507,
            374507,
            374507,
            374507,
            374507,
            374507,
            374507,
            374507,
            374507,
            374507,
            374507,
            374507,
            374507,
            374507,
            374507,
            374507,
            374507,
            374507,
            374507,
            374507,
            374507,
            374507,
            374507,
            374507,
            374507,
            374507,
            374507,
            374507,
            374507,
            374507,
            374507,
            374507,
            374507,
            374507,
            374507,
            376454,
            376454,
            376454,
            376454,
            376454,
            376454,
            376454,
            376454,
            376454,
            376454,
            376454,
            376454,
            376454,
            376454,
            376454,
            376454,
            376454,
            376454,
            376454,
            376454,
            376454,
            376454,
            376454,
            376454,
            376454,
            376454,
            376454,
            376454,
            376454,
            376454,
            376454,
            376454,
            376454,
            376454,
            376454,
            376454,
            376454,
            376454,
            376454,
            376454,
            376454,
            376454,
            376454,
            376454,
            376454,
            376454,
            376454,
            376454,
            376454,
            376454,
            376454,
            376454,
            376454,
            376454,
            376454,
            376454,
            376454,
            376454,
            378401,
            378401,
            378401,
            378401,
            378401,
            378401,
            378401,
            378401,
            378401,
            378401,
            378401,
            378401,
            378401,
            378401,
            378401,
            378401,
            378401,
            378401,
            378401,
            378401,
            378401,
            378401,
            378401,
            378401,
            378401,
            378401,
            378401,
            378401,
            378401,
            378401,
            378401,
            378401,
            378401,
            378401,
            378401,
            378401,
            378401,
            378401,
            378401,
            378401,
            378401,
            378401,
            378401,
            378401,
            378401,
            378401,
            378401,
            378401,
            378401,
            378401,
            378401,
            378401,
            378401,
            378401,
            378401,
            378401,
            378401,
            380348,
            380348,
            380348,
            380348,
            380348,
            380348,
            380348,
            380348,
            380348,
            380348,
            380348,
            380348,
            380348,
            380348,
            380348,
            380348,
            380348,
            380348,
            380348,
            380348,
            380348,
            380348,
            380348,
            380348,
            380348,
            380348,
            380348,
            380348,
            380348,
            380348,
            380348,
            380348,
            380348,
            380348,
            380348,
            380348,
            380348,
            380348,
            380348,
            380348,
            380348,
            380348,
            380348,
            380348,
            380348,
            380348,
            380348,
            380348,
            380348,
            380348,
            380348,
            380348,
            380348,
            380348,
            380348,
            380348,
            380348,
            380348,
            380348,
            380348,
            382295,
            382295,
            382295,
            382295,
            382295,
            382295,
            382295,
            382295,
            382295,
            382295,
            382295,
            382295,
            382295,
            382295,
            382295,
            382295,
            382295,
            382295,
            382295,
            382295,
            382295,
            382295,
            382295,
            382295,
            382295,
            382295,
            382295,
            382295,
            382295,
            382295,
            382295,
            382295,
            382295,
            382295,
            382295,
            382295,
            382295,
            382295,
            382295,
            382295,
            382295,
            382295,
            382295,
            382295,
            382295,
            382295,
            382295,
            382295,
            382295,
            382295,
            382295,
            382295,
            382295,
            382295,
            382295,
            382295,
            382295,
            382295,
            384242,
            384242,
            384242,
            384242,
            384242,
            384242,
            384242,
            384242,
            384242,
            384242,
            384242,
            384242,
            384242,
            384242,
            384242,
            384242,
            384242,
            384242,
            384242,
            384242,
            384242,
            384242,
            384242,
            384242,
            384242,
            384242,
            384242,
            384242,
            384242,
            384242,
            384242,
            384242,
            384242,
            384242,
            384242,
            384242,
            384242,
            384242,
            384242,
            384242,
            384242,
            384242,
            384242,
            384242,
            384242,
            384242
           ]
          },
          {
           "label": "gross_rent",
           "values": [
            1239,
            1239,
            1239,
            1239,
            1239,
            1239,
            1239,
            1239,
            1239,
            1239,
            1239,
            1239,
            1239,
            1239,
            1239,
            1239,
            1239,
            1239,
            1239,
            1239,
            1239,
            1239,
            1239,
            1239,
            1239,
            1239,
            1239,
            1239,
            1239,
            1239,
            1239,
            1239,
            1239,
            1239,
            1239,
            1239,
            1239,
            1239,
            1239,
            1239,
            1239,
            1239,
            1239,
            1239,
            1239,
            1239,
            1239,
            1239,
            1239,
            1239,
            1239,
            1239,
            1239,
            1239,
            1239,
            1239,
            1239,
            1239,
            1239,
            1530,
            1530,
            1530,
            1530,
            1530,
            1530,
            1530,
            1530,
            1530,
            1530,
            1530,
            1530,
            1530,
            1530,
            1530,
            1530,
            1530,
            1530,
            1530,
            1530,
            1530,
            1530,
            1530,
            1530,
            1530,
            1530,
            1530,
            1530,
            1530,
            1530,
            1530,
            1530,
            1530,
            1530,
            1530,
            1530,
            1530,
            1530,
            1530,
            1530,
            1530,
            1530,
            1530,
            1530,
            1530,
            1530,
            1530,
            1530,
            1530,
            1530,
            1530,
            1530,
            1530,
            1530,
            1530,
            1530,
            1530,
            1530,
            1530,
            2324,
            2324,
            2324,
            2324,
            2324,
            2324,
            2324,
            2324,
            2324,
            2324,
            2324,
            2324,
            2324,
            2324,
            2324,
            2324,
            2324,
            2324,
            2324,
            2324,
            2324,
            2324,
            2324,
            2324,
            2324,
            2324,
            2324,
            2324,
            2324,
            2324,
            2324,
            2324,
            2324,
            2324,
            2324,
            2324,
            2324,
            2324,
            2324,
            2324,
            2324,
            2324,
            2324,
            2324,
            2324,
            2324,
            2324,
            2324,
            2324,
            2324,
            2324,
            2324,
            2324,
            2324,
            2324,
            2324,
            2324,
            2324,
            2971,
            2971,
            2971,
            2971,
            2971,
            2971,
            2971,
            2971,
            2971,
            2971,
            2971,
            2971,
            2971,
            2971,
            2971,
            2971,
            2971,
            2971,
            2971,
            2971,
            2971,
            2971,
            2971,
            2971,
            2971,
            2971,
            2971,
            2971,
            2971,
            2971,
            2971,
            2971,
            2971,
            2971,
            2971,
            2971,
            2971,
            2971,
            2971,
            2971,
            2971,
            2971,
            2971,
            2971,
            2971,
            2971,
            2971,
            2971,
            2971,
            2971,
            2971,
            2971,
            2971,
            2971,
            2971,
            2971,
            2971,
            3528,
            3528,
            3528,
            3528,
            3528,
            3528,
            3528,
            3528,
            3528,
            3528,
            3528,
            3528,
            3528,
            3528,
            3528,
            3528,
            3528,
            3528,
            3528,
            3528,
            3528,
            3528,
            3528,
            3528,
            3528,
            3528,
            3528,
            3528,
            3528,
            3528,
            3528,
            3528,
            3528,
            3528,
            3528,
            3528,
            3528,
            3528,
            3528,
            3528,
            3528,
            3528,
            3528,
            3528,
            3528,
            3528,
            3528,
            3528,
            3528,
            3528,
            3528,
            3528,
            3528,
            3528,
            3528,
            3528,
            3528,
            3528,
            3528,
            3528,
            3739,
            3739,
            3739,
            3739,
            3739,
            3739,
            3739,
            3739,
            3739,
            3739,
            3739,
            3739,
            3739,
            3739,
            3739,
            3739,
            3739,
            3739,
            3739,
            3739,
            3739,
            3739,
            3739,
            3739,
            3739,
            3739,
            3739,
            3739,
            3739,
            3739,
            3739,
            3739,
            3739,
            3739,
            3739,
            3739,
            3739,
            3739,
            3739,
            3739,
            3739,
            3739,
            3739,
            3739,
            3739,
            3739,
            3739,
            3739,
            3739,
            3739,
            3739,
            3739,
            3739,
            3739,
            3739,
            3739,
            3739,
            3739,
            4390,
            4390,
            4390,
            4390,
            4390,
            4390,
            4390,
            4390,
            4390,
            4390,
            4390,
            4390,
            4390,
            4390,
            4390,
            4390,
            4390,
            4390,
            4390,
            4390,
            4390,
            4390,
            4390,
            4390,
            4390,
            4390,
            4390,
            4390,
            4390,
            4390,
            4390,
            4390,
            4390,
            4390,
            4390,
            4390,
            4390,
            4390,
            4390,
            4390,
            4390,
            4390,
            4390,
            4390,
            4390,
            4390
           ]
          }
         ],
         "domain": {
          "x": [
           0,
           1
          ],
          "y": [
           0,
           1
          ]
         },
         "line": {
          "color": [
           291.18294547229095,
           267.9325826799483,
           170.09866536400102,
           347.3949194037114,
           319.0276225530687,
           418.1724927089675,
           369.35933800413665,
           569.3799679261333,
           165.6457300650791,
           456.9308221979013,
           241.80455206485138,
           403.1183126490986,
           364.92833570851764,
           401.7499665916537,
           162.82121004772353,
           209.0493266346945,
           715.5864380979738,
           551.8011188234774,
           254.47377914469143,
           272.28497956385485,
           170.62491987132685,
           275.05668560990915,
           238.35002040677708,
           199.70200378219917,
           285.82235848868265,
           275.76972957461044,
           419.88781187646566,
           320.79691049204627,
           398.4588759923028,
           374.05763601016855,
           387.392839476922,
           680.6087291389301,
           489.80537777998506,
           257.98799863500693,
           262.87602564056425,
           307.67747674427835,
           381.13844514705266,
           282.11967050133603,
           432.19529211245555,
           338.12619999607017,
           368.31155203937294,
           496.51601414694983,
           326.01715041025074,
           274.16674158669116,
           434.25500394602585,
           302.15611319728896,
           491.45000385678617,
           549.4179312485746,
           362.34822391312133,
           1037.0997886617895,
           401.2959764896399,
           542.5316819894505,
           524.7935090952678,
           331.55599614560697,
           569.1934475267735,
           108.0129268765048,
           392.30076417058257,
           215.56913431487555,
           333.12677384193887,
           272.5273101795261,
           172.54056243085552,
           471.9217320911283,
           171.7723466866044,
           261.6638003416518,
           391.42644972996203,
           520.7181675305429,
           222.567848047696,
           390.5956530284181,
           145.85338027594094,
           382.3522610640586,
           234.28162351035442,
           295.77937822922695,
           413.16280403427527,
           281.312904357283,
           354.66555789282774,
           457.41388429762526,
           348.92970004124925,
           392.35345097326814,
           280.73063309393075,
           356.7090091359044,
           198.01587292452027,
           283.17495073168755,
           360.03727240448274,
           302.60448945564127,
           610.7666631577348,
           330.10889435237306,
           313.33845823084727,
           303.5441997161898,
           390.81846895621413,
           414.67606477603755,
           506.95217450146765,
           293.4042461148187,
           340.6425969783877,
           373.97868706755236,
           290.9210327099608,
           346.96116001560216,
           142.14256751724554,
           241.94565649181578,
           271.09013956932756,
           297.2455578459466,
           509.0214800287398,
           289.60560009472283,
           217.55878684527906,
           466.6178976523653,
           208.1679967483858,
           503.13850456030497,
           493.814917282618,
           448.3201042149405,
           388.6443367815385,
           337.91413464365013,
           437.16429949197664,
           483.4057725178001,
           284.56696642681646,
           302.12325280969134,
           384.23680203579306,
           227.41898086494461,
           320.0743330547439,
           438.86054508174806,
           183.09931693145703,
           344.4909139677922,
           165.79806239165433,
           368.26656078838516,
           338.60116351046344,
           279.0301399218751,
           334.4878725198492,
           356.7948135908725,
           644.8183066758803,
           415.0903401095623,
           366.9954275112727,
           269.109528813633,
           452.66002242984047,
           524.8134180834782,
           371.0302152741686,
           286.3519820673892,
           613.8430658201435,
           434.63234651328025,
           418.83037933269526,
           306.3779578647354,
           336.8259501844992,
           373.4668636470579,
           325.82892041816064,
           383.15039609809617,
           380.5214843069476,
           545.9801982412763,
           396.171112391617,
           445.21509554245245,
           421.1412447061912,
           397.9391288956355,
           756.1923725098497,
           689.5233123659036,
           320.9599230279341,
           307.78311439850694,
           428.0219127043747,
           517.1734931165627,
           390.3838567783597,
           442.24265696115737,
           221.881138746669,
           312.83398436239065,
           338.63301173022234,
           413.05871935195154,
           586.2182148097696,
           288.0785187599688,
           378.2738784387478,
           515.9210732061051,
           351.0432256921308,
           466.6478402167172,
           426.60859207171325,
           414.16272789686775,
           463.8098989043553,
           465.80212163177373,
           304.89964760284107,
           445.1967876448791,
           345.95804038831767,
           325.79541506433713,
           274.33846004864847,
           491.8140030500954,
           387.79414379681333,
           453.34049829869934,
           259.54716259308043,
           630.8973025513741,
           455.2180887853926,
           343.0542609770136,
           330.7364310191893,
           453.7716045219721,
           707.4028088888208,
           223.11583290346024,
           533.6884470076521,
           361.45469198221224,
           608.694967227678,
           289.749665708438,
           274.4579436322337,
           458.7213317825408,
           956.1841219171133,
           478.4956365730093,
           491.5892613631572,
           377.51801557551835,
           302.96737702840636,
           435.5456667813491,
           584.0737147409254,
           568.6511487607912,
           376.08359802951554,
           548.0466890413603,
           655.1980415945777,
           703.0815676877947,
           null,
           427.16626614177557,
           591.4020223180053,
           466.02648785310464,
           615.0639297056517,
           393.71733534550384,
           483.16880334240136,
           372.24198616911974,
           332.40781536886453,
           322.0822144332409,
           503.89926133005366,
           512.6307219919141,
           364.62465302417013,
           425.64225533080946,
           235.99759251727426,
           598.704795328917,
           512.8402484358223,
           506.22752218971993,
           420.822184596571,
           505.83481143735054,
           653.3116166908643,
           414.43569251368126,
           1290.472106646641,
           285.0095060630079,
           293.2983722057751,
           588.0747967826295,
           217.0890689540353,
           747.3335378171588,
           753.0114133184368,
           484.44355217067766,
           620.4414065565543,
           254.95866163273848,
           544.5469286452765,
           423.95272693478194,
           456.2419957897522,
           888.1821435177138,
           691.8654114838455,
           428.7265326799175,
           630.3115352378672,
           728.9797158498743,
           358.30523872237734,
           409.9438351783924,
           694.4181461347432,
           553.5627522522698,
           567.3400104586143,
           496.55100121228986,
           428.9237926791115,
           647.6496334575522,
           464.1758436880091,
           597.200528047448,
           430.9396363161629,
           470.85352986706454,
           426.7863811847511,
           432.9627229749631,
           317.2219194303952,
           716.3765095625198,
           642.838478220973,
           528.7265413888829,
           1267.7662026328826,
           220.11108719171108,
           642.2195925518147,
           300.1873092016618,
           478.44335175268515,
           654.801499892284,
           379.92536172660726,
           650.963515967709,
           401.9350222176535,
           490.36358286726374,
           824.6586936349588,
           371.9242451684328,
           446.23924529045684,
           773.4061347806703,
           538.204698577284,
           1045.2015459222662,
           603.4509968798565,
           714.2220737504065,
           170.2925485152069,
           524.6293121403909,
           1119.8388773148026,
           493.45560489574007,
           708.1930316849231,
           562.9112337982453,
           558.2711194060469,
           475.39318681250677,
           282.02546830016496,
           687.7829633004552,
           429.4883174233179,
           742.9797231632554,
           479.9237488133093,
           602.1158769435002,
           465.68627450980387,
           590.7928388746802,
           458.0042993401075,
           551.6956218496264,
           473.1638149617127,
           453.3793770708969,
           1100.7911936704506,
           598.6205414959003,
           301.61864706270705,
           485.8868855757771,
           631.6456863280099,
           790.1803690820187,
           414.35585647200105,
           694.358566653677,
           453.4330812935196,
           612.1061563311456,
           772.7128362001238,
           574.2740565313097,
           536.5571018753241,
           null,
           192.16524813774402,
           435.9007753824155,
           762.5272331154684,
           493.61555763336935,
           639.1464438694404,
           576.4579094375945,
           426.6849522707296,
           918.2882682038704,
           800.0388650775142,
           1132.8373605554546,
           571.7557085689908,
           583.8486362312665,
           529.847319131393,
           544.6002639104154,
           448.86919667679206,
           890.9095931764135,
           265.92982650327014,
           564.6874764662283,
           652.2879690318528,
           438.4677874196749,
           357.8946922463997,
           910.1876901656897,
           616.5723883169862,
           null,
           605.3433249358948,
           821.3009904764873,
           null,
           793.2619915605263,
           717.0825412171872,
           439.7498835483721,
           996.9902204858653,
           417.33537892280015,
           2258.702831998355,
           677.8382318281795,
           302.2218727063018,
           481.46924427394237,
           963.5226061641273,
           340.98183523166995,
           88.40151094606408,
           986.8421052631579,
           851.4014053492668,
           661.0644257703083,
           581.3708750724594,
           1059.0656015492618,
           566.7011760342162,
           718.7768297452345,
           1026.7911075237503,
           534.2262501283425,
           null,
           945.5665024630542,
           531.8350322320708,
           175.06606919629078,
           571.5799833446893,
           647.7704471840341,
           518.1126504655916,
           403.31113221139015,
           445.9238282688497,
           704.5664189758045,
           636.4307703489127,
           431.94460202359033,
           1416.666666666667,
           924.5691159025888,
           879.0170132325142,
           777.0083145338547,
           799.4956512788842,
           407.5533215595707,
           40.7726253518439,
           732.7206841423807,
           1196.645436923929,
           510.5769072143791,
           996.3893635634033,
           211.30136986006568,
           1207.997484708169,
           707.6516094320912,
           1465.9685863874345,
           1024.3398771365157,
           531.1363737279744,
           751.1737089201877,
           903.0497705987848,
           970.08547008547,
           552.6025671312701,
           328.31900668576884,
           631.1954258724091
          ],
          "coloraxis": "coloraxis"
         },
         "name": "",
         "type": "parcoords"
        }
       ],
       "layout": {
        "coloraxis": {
         "colorbar": {
          "title": {
           "text": "sale_price_sqr_foot"
          }
         },
         "colorscale": [
          [
           0,
           "#000004"
          ],
          [
           0.1111111111111111,
           "#1b0c41"
          ],
          [
           0.2222222222222222,
           "#4a0c6b"
          ],
          [
           0.3333333333333333,
           "#781c6d"
          ],
          [
           0.4444444444444444,
           "#a52c60"
          ],
          [
           0.5555555555555556,
           "#cf4446"
          ],
          [
           0.6666666666666666,
           "#ed6925"
          ],
          [
           0.7777777777777778,
           "#fb9b06"
          ],
          [
           0.8888888888888888,
           "#f7d13d"
          ],
          [
           1,
           "#fcffa4"
          ]
         ]
        },
        "legend": {
         "tracegroupgap": 0
        },
        "margin": {
         "t": 60
        },
        "template": {
         "data": {
          "bar": [
           {
            "error_x": {
             "color": "#2a3f5f"
            },
            "error_y": {
             "color": "#2a3f5f"
            },
            "marker": {
             "line": {
              "color": "#E5ECF6",
              "width": 0.5
             }
            },
            "type": "bar"
           }
          ],
          "barpolar": [
           {
            "marker": {
             "line": {
              "color": "#E5ECF6",
              "width": 0.5
             }
            },
            "type": "barpolar"
           }
          ],
          "carpet": [
           {
            "aaxis": {
             "endlinecolor": "#2a3f5f",
             "gridcolor": "white",
             "linecolor": "white",
             "minorgridcolor": "white",
             "startlinecolor": "#2a3f5f"
            },
            "baxis": {
             "endlinecolor": "#2a3f5f",
             "gridcolor": "white",
             "linecolor": "white",
             "minorgridcolor": "white",
             "startlinecolor": "#2a3f5f"
            },
            "type": "carpet"
           }
          ],
          "choropleth": [
           {
            "colorbar": {
             "outlinewidth": 0,
             "ticks": ""
            },
            "type": "choropleth"
           }
          ],
          "contour": [
           {
            "colorbar": {
             "outlinewidth": 0,
             "ticks": ""
            },
            "colorscale": [
             [
              0,
              "#0d0887"
             ],
             [
              0.1111111111111111,
              "#46039f"
             ],
             [
              0.2222222222222222,
              "#7201a8"
             ],
             [
              0.3333333333333333,
              "#9c179e"
             ],
             [
              0.4444444444444444,
              "#bd3786"
             ],
             [
              0.5555555555555556,
              "#d8576b"
             ],
             [
              0.6666666666666666,
              "#ed7953"
             ],
             [
              0.7777777777777778,
              "#fb9f3a"
             ],
             [
              0.8888888888888888,
              "#fdca26"
             ],
             [
              1,
              "#f0f921"
             ]
            ],
            "type": "contour"
           }
          ],
          "contourcarpet": [
           {
            "colorbar": {
             "outlinewidth": 0,
             "ticks": ""
            },
            "type": "contourcarpet"
           }
          ],
          "heatmap": [
           {
            "colorbar": {
             "outlinewidth": 0,
             "ticks": ""
            },
            "colorscale": [
             [
              0,
              "#0d0887"
             ],
             [
              0.1111111111111111,
              "#46039f"
             ],
             [
              0.2222222222222222,
              "#7201a8"
             ],
             [
              0.3333333333333333,
              "#9c179e"
             ],
             [
              0.4444444444444444,
              "#bd3786"
             ],
             [
              0.5555555555555556,
              "#d8576b"
             ],
             [
              0.6666666666666666,
              "#ed7953"
             ],
             [
              0.7777777777777778,
              "#fb9f3a"
             ],
             [
              0.8888888888888888,
              "#fdca26"
             ],
             [
              1,
              "#f0f921"
             ]
            ],
            "type": "heatmap"
           }
          ],
          "heatmapgl": [
           {
            "colorbar": {
             "outlinewidth": 0,
             "ticks": ""
            },
            "colorscale": [
             [
              0,
              "#0d0887"
             ],
             [
              0.1111111111111111,
              "#46039f"
             ],
             [
              0.2222222222222222,
              "#7201a8"
             ],
             [
              0.3333333333333333,
              "#9c179e"
             ],
             [
              0.4444444444444444,
              "#bd3786"
             ],
             [
              0.5555555555555556,
              "#d8576b"
             ],
             [
              0.6666666666666666,
              "#ed7953"
             ],
             [
              0.7777777777777778,
              "#fb9f3a"
             ],
             [
              0.8888888888888888,
              "#fdca26"
             ],
             [
              1,
              "#f0f921"
             ]
            ],
            "type": "heatmapgl"
           }
          ],
          "histogram": [
           {
            "marker": {
             "colorbar": {
              "outlinewidth": 0,
              "ticks": ""
             }
            },
            "type": "histogram"
           }
          ],
          "histogram2d": [
           {
            "colorbar": {
             "outlinewidth": 0,
             "ticks": ""
            },
            "colorscale": [
             [
              0,
              "#0d0887"
             ],
             [
              0.1111111111111111,
              "#46039f"
             ],
             [
              0.2222222222222222,
              "#7201a8"
             ],
             [
              0.3333333333333333,
              "#9c179e"
             ],
             [
              0.4444444444444444,
              "#bd3786"
             ],
             [
              0.5555555555555556,
              "#d8576b"
             ],
             [
              0.6666666666666666,
              "#ed7953"
             ],
             [
              0.7777777777777778,
              "#fb9f3a"
             ],
             [
              0.8888888888888888,
              "#fdca26"
             ],
             [
              1,
              "#f0f921"
             ]
            ],
            "type": "histogram2d"
           }
          ],
          "histogram2dcontour": [
           {
            "colorbar": {
             "outlinewidth": 0,
             "ticks": ""
            },
            "colorscale": [
             [
              0,
              "#0d0887"
             ],
             [
              0.1111111111111111,
              "#46039f"
             ],
             [
              0.2222222222222222,
              "#7201a8"
             ],
             [
              0.3333333333333333,
              "#9c179e"
             ],
             [
              0.4444444444444444,
              "#bd3786"
             ],
             [
              0.5555555555555556,
              "#d8576b"
             ],
             [
              0.6666666666666666,
              "#ed7953"
             ],
             [
              0.7777777777777778,
              "#fb9f3a"
             ],
             [
              0.8888888888888888,
              "#fdca26"
             ],
             [
              1,
              "#f0f921"
             ]
            ],
            "type": "histogram2dcontour"
           }
          ],
          "mesh3d": [
           {
            "colorbar": {
             "outlinewidth": 0,
             "ticks": ""
            },
            "type": "mesh3d"
           }
          ],
          "parcoords": [
           {
            "line": {
             "colorbar": {
              "outlinewidth": 0,
              "ticks": ""
             }
            },
            "type": "parcoords"
           }
          ],
          "pie": [
           {
            "automargin": true,
            "type": "pie"
           }
          ],
          "scatter": [
           {
            "marker": {
             "colorbar": {
              "outlinewidth": 0,
              "ticks": ""
             }
            },
            "type": "scatter"
           }
          ],
          "scatter3d": [
           {
            "line": {
             "colorbar": {
              "outlinewidth": 0,
              "ticks": ""
             }
            },
            "marker": {
             "colorbar": {
              "outlinewidth": 0,
              "ticks": ""
             }
            },
            "type": "scatter3d"
           }
          ],
          "scattercarpet": [
           {
            "marker": {
             "colorbar": {
              "outlinewidth": 0,
              "ticks": ""
             }
            },
            "type": "scattercarpet"
           }
          ],
          "scattergeo": [
           {
            "marker": {
             "colorbar": {
              "outlinewidth": 0,
              "ticks": ""
             }
            },
            "type": "scattergeo"
           }
          ],
          "scattergl": [
           {
            "marker": {
             "colorbar": {
              "outlinewidth": 0,
              "ticks": ""
             }
            },
            "type": "scattergl"
           }
          ],
          "scattermapbox": [
           {
            "marker": {
             "colorbar": {
              "outlinewidth": 0,
              "ticks": ""
             }
            },
            "type": "scattermapbox"
           }
          ],
          "scatterpolar": [
           {
            "marker": {
             "colorbar": {
              "outlinewidth": 0,
              "ticks": ""
             }
            },
            "type": "scatterpolar"
           }
          ],
          "scatterpolargl": [
           {
            "marker": {
             "colorbar": {
              "outlinewidth": 0,
              "ticks": ""
             }
            },
            "type": "scatterpolargl"
           }
          ],
          "scatterternary": [
           {
            "marker": {
             "colorbar": {
              "outlinewidth": 0,
              "ticks": ""
             }
            },
            "type": "scatterternary"
           }
          ],
          "surface": [
           {
            "colorbar": {
             "outlinewidth": 0,
             "ticks": ""
            },
            "colorscale": [
             [
              0,
              "#0d0887"
             ],
             [
              0.1111111111111111,
              "#46039f"
             ],
             [
              0.2222222222222222,
              "#7201a8"
             ],
             [
              0.3333333333333333,
              "#9c179e"
             ],
             [
              0.4444444444444444,
              "#bd3786"
             ],
             [
              0.5555555555555556,
              "#d8576b"
             ],
             [
              0.6666666666666666,
              "#ed7953"
             ],
             [
              0.7777777777777778,
              "#fb9f3a"
             ],
             [
              0.8888888888888888,
              "#fdca26"
             ],
             [
              1,
              "#f0f921"
             ]
            ],
            "type": "surface"
           }
          ],
          "table": [
           {
            "cells": {
             "fill": {
              "color": "#EBF0F8"
             },
             "line": {
              "color": "white"
             }
            },
            "header": {
             "fill": {
              "color": "#C8D4E3"
             },
             "line": {
              "color": "white"
             }
            },
            "type": "table"
           }
          ]
         },
         "layout": {
          "annotationdefaults": {
           "arrowcolor": "#2a3f5f",
           "arrowhead": 0,
           "arrowwidth": 1
          },
          "autotypenumbers": "strict",
          "coloraxis": {
           "colorbar": {
            "outlinewidth": 0,
            "ticks": ""
           }
          },
          "colorscale": {
           "diverging": [
            [
             0,
             "#8e0152"
            ],
            [
             0.1,
             "#c51b7d"
            ],
            [
             0.2,
             "#de77ae"
            ],
            [
             0.3,
             "#f1b6da"
            ],
            [
             0.4,
             "#fde0ef"
            ],
            [
             0.5,
             "#f7f7f7"
            ],
            [
             0.6,
             "#e6f5d0"
            ],
            [
             0.7,
             "#b8e186"
            ],
            [
             0.8,
             "#7fbc41"
            ],
            [
             0.9,
             "#4d9221"
            ],
            [
             1,
             "#276419"
            ]
           ],
           "sequential": [
            [
             0,
             "#0d0887"
            ],
            [
             0.1111111111111111,
             "#46039f"
            ],
            [
             0.2222222222222222,
             "#7201a8"
            ],
            [
             0.3333333333333333,
             "#9c179e"
            ],
            [
             0.4444444444444444,
             "#bd3786"
            ],
            [
             0.5555555555555556,
             "#d8576b"
            ],
            [
             0.6666666666666666,
             "#ed7953"
            ],
            [
             0.7777777777777778,
             "#fb9f3a"
            ],
            [
             0.8888888888888888,
             "#fdca26"
            ],
            [
             1,
             "#f0f921"
            ]
           ],
           "sequentialminus": [
            [
             0,
             "#0d0887"
            ],
            [
             0.1111111111111111,
             "#46039f"
            ],
            [
             0.2222222222222222,
             "#7201a8"
            ],
            [
             0.3333333333333333,
             "#9c179e"
            ],
            [
             0.4444444444444444,
             "#bd3786"
            ],
            [
             0.5555555555555556,
             "#d8576b"
            ],
            [
             0.6666666666666666,
             "#ed7953"
            ],
            [
             0.7777777777777778,
             "#fb9f3a"
            ],
            [
             0.8888888888888888,
             "#fdca26"
            ],
            [
             1,
             "#f0f921"
            ]
           ]
          },
          "colorway": [
           "#636efa",
           "#EF553B",
           "#00cc96",
           "#ab63fa",
           "#FFA15A",
           "#19d3f3",
           "#FF6692",
           "#B6E880",
           "#FF97FF",
           "#FECB52"
          ],
          "font": {
           "color": "#2a3f5f"
          },
          "geo": {
           "bgcolor": "white",
           "lakecolor": "white",
           "landcolor": "#E5ECF6",
           "showlakes": true,
           "showland": true,
           "subunitcolor": "white"
          },
          "hoverlabel": {
           "align": "left"
          },
          "hovermode": "closest",
          "mapbox": {
           "style": "light"
          },
          "paper_bgcolor": "white",
          "plot_bgcolor": "#E5ECF6",
          "polar": {
           "angularaxis": {
            "gridcolor": "white",
            "linecolor": "white",
            "ticks": ""
           },
           "bgcolor": "#E5ECF6",
           "radialaxis": {
            "gridcolor": "white",
            "linecolor": "white",
            "ticks": ""
           }
          },
          "scene": {
           "xaxis": {
            "backgroundcolor": "#E5ECF6",
            "gridcolor": "white",
            "gridwidth": 2,
            "linecolor": "white",
            "showbackground": true,
            "ticks": "",
            "zerolinecolor": "white"
           },
           "yaxis": {
            "backgroundcolor": "#E5ECF6",
            "gridcolor": "white",
            "gridwidth": 2,
            "linecolor": "white",
            "showbackground": true,
            "ticks": "",
            "zerolinecolor": "white"
           },
           "zaxis": {
            "backgroundcolor": "#E5ECF6",
            "gridcolor": "white",
            "gridwidth": 2,
            "linecolor": "white",
            "showbackground": true,
            "ticks": "",
            "zerolinecolor": "white"
           }
          },
          "shapedefaults": {
           "line": {
            "color": "#2a3f5f"
           }
          },
          "ternary": {
           "aaxis": {
            "gridcolor": "white",
            "linecolor": "white",
            "ticks": ""
           },
           "baxis": {
            "gridcolor": "white",
            "linecolor": "white",
            "ticks": ""
           },
           "bgcolor": "#E5ECF6",
           "caxis": {
            "gridcolor": "white",
            "linecolor": "white",
            "ticks": ""
           }
          },
          "title": {
           "x": 0.05
          },
          "xaxis": {
           "automargin": true,
           "gridcolor": "white",
           "linecolor": "white",
           "ticks": "",
           "title": {
            "standoff": 15
           },
           "zerolinecolor": "white",
           "zerolinewidth": 2
          },
          "yaxis": {
           "automargin": true,
           "gridcolor": "white",
           "linecolor": "white",
           "ticks": "",
           "title": {
            "standoff": 15
           },
           "zerolinecolor": "white",
           "zerolinewidth": 2
          }
         }
        }
       }
      },
      "text/html": [
       "<div>                            <div id=\"ddf6d1d8-f0db-413e-bcc3-905743b7cbaf\" class=\"plotly-graph-div\" style=\"height:525px; width:100%;\"></div>            <script type=\"text/javascript\">                require([\"plotly\"], function(Plotly) {                    window.PLOTLYENV=window.PLOTLYENV || {};                                    if (document.getElementById(\"ddf6d1d8-f0db-413e-bcc3-905743b7cbaf\")) {                    Plotly.newPlot(                        \"ddf6d1d8-f0db-413e-bcc3-905743b7cbaf\",                        [{\"dimensions\": [{\"label\": \"year\", \"values\": [2010, 2010, 2010, 2010, 2010, 2010, 2010, 2010, 2010, 2010, 2010, 2010, 2010, 2010, 2010, 2010, 2010, 2010, 2010, 2010, 2010, 2010, 2010, 2010, 2010, 2010, 2010, 2010, 2010, 2010, 2010, 2010, 2010, 2010, 2010, 2010, 2010, 2010, 2010, 2010, 2010, 2010, 2010, 2010, 2010, 2010, 2010, 2010, 2010, 2010, 2010, 2010, 2010, 2010, 2010, 2010, 2010, 2010, 2010, 2011, 2011, 2011, 2011, 2011, 2011, 2011, 2011, 2011, 2011, 2011, 2011, 2011, 2011, 2011, 2011, 2011, 2011, 2011, 2011, 2011, 2011, 2011, 2011, 2011, 2011, 2011, 2011, 2011, 2011, 2011, 2011, 2011, 2011, 2011, 2011, 2011, 2011, 2011, 2011, 2011, 2011, 2011, 2011, 2011, 2011, 2011, 2011, 2011, 2011, 2011, 2011, 2011, 2011, 2011, 2011, 2011, 2011, 2011, 2012, 2012, 2012, 2012, 2012, 2012, 2012, 2012, 2012, 2012, 2012, 2012, 2012, 2012, 2012, 2012, 2012, 2012, 2012, 2012, 2012, 2012, 2012, 2012, 2012, 2012, 2012, 2012, 2012, 2012, 2012, 2012, 2012, 2012, 2012, 2012, 2012, 2012, 2012, 2012, 2012, 2012, 2012, 2012, 2012, 2012, 2012, 2012, 2012, 2012, 2012, 2012, 2012, 2012, 2012, 2012, 2012, 2012, 2013, 2013, 2013, 2013, 2013, 2013, 2013, 2013, 2013, 2013, 2013, 2013, 2013, 2013, 2013, 2013, 2013, 2013, 2013, 2013, 2013, 2013, 2013, 2013, 2013, 2013, 2013, 2013, 2013, 2013, 2013, 2013, 2013, 2013, 2013, 2013, 2013, 2013, 2013, 2013, 2013, 2013, 2013, 2013, 2013, 2013, 2013, 2013, 2013, 2013, 2013, 2013, 2013, 2013, 2013, 2013, 2013, 2014, 2014, 2014, 2014, 2014, 2014, 2014, 2014, 2014, 2014, 2014, 2014, 2014, 2014, 2014, 2014, 2014, 2014, 2014, 2014, 2014, 2014, 2014, 2014, 2014, 2014, 2014, 2014, 2014, 2014, 2014, 2014, 2014, 2014, 2014, 2014, 2014, 2014, 2014, 2014, 2014, 2014, 2014, 2014, 2014, 2014, 2014, 2014, 2014, 2014, 2014, 2014, 2014, 2014, 2014, 2014, 2014, 2014, 2014, 2014, 2015, 2015, 2015, 2015, 2015, 2015, 2015, 2015, 2015, 2015, 2015, 2015, 2015, 2015, 2015, 2015, 2015, 2015, 2015, 2015, 2015, 2015, 2015, 2015, 2015, 2015, 2015, 2015, 2015, 2015, 2015, 2015, 2015, 2015, 2015, 2015, 2015, 2015, 2015, 2015, 2015, 2015, 2015, 2015, 2015, 2015, 2015, 2015, 2015, 2015, 2015, 2015, 2015, 2015, 2015, 2015, 2015, 2015, 2016, 2016, 2016, 2016, 2016, 2016, 2016, 2016, 2016, 2016, 2016, 2016, 2016, 2016, 2016, 2016, 2016, 2016, 2016, 2016, 2016, 2016, 2016, 2016, 2016, 2016, 2016, 2016, 2016, 2016, 2016, 2016, 2016, 2016, 2016, 2016, 2016, 2016, 2016, 2016, 2016, 2016, 2016, 2016, 2016, 2016]}, {\"label\": \"sale_price_sqr_foot\", \"values\": [291.18294547229095, 267.9325826799483, 170.09866536400102, 347.3949194037114, 319.0276225530687, 418.1724927089675, 369.35933800413665, 569.3799679261333, 165.6457300650791, 456.9308221979013, 241.80455206485138, 403.1183126490986, 364.92833570851764, 401.7499665916537, 162.82121004772353, 209.0493266346945, 715.5864380979738, 551.8011188234774, 254.47377914469143, 272.28497956385485, 170.62491987132685, 275.05668560990915, 238.35002040677708, 199.70200378219917, 285.82235848868265, 275.76972957461044, 419.88781187646566, 320.79691049204627, 398.4588759923028, 374.05763601016855, 387.392839476922, 680.6087291389301, 489.80537777998506, 257.98799863500693, 262.87602564056425, 307.67747674427835, 381.13844514705266, 282.11967050133603, 432.19529211245555, 338.12619999607017, 368.31155203937294, 496.51601414694983, 326.01715041025074, 274.16674158669116, 434.25500394602585, 302.15611319728896, 491.45000385678617, 549.4179312485746, 362.34822391312133, 1037.0997886617895, 401.2959764896399, 542.5316819894505, 524.7935090952678, 331.55599614560697, 569.1934475267735, 108.0129268765048, 392.30076417058257, 215.56913431487555, 333.12677384193887, 272.5273101795261, 172.54056243085552, 471.9217320911283, 171.7723466866044, 261.6638003416518, 391.42644972996203, 520.7181675305429, 222.567848047696, 390.5956530284181, 145.85338027594094, 382.3522610640586, 234.28162351035442, 295.77937822922695, 413.16280403427527, 281.312904357283, 354.66555789282774, 457.41388429762526, 348.92970004124925, 392.35345097326814, 280.73063309393075, 356.7090091359044, 198.01587292452027, 283.17495073168755, 360.03727240448274, 302.60448945564127, 610.7666631577348, 330.10889435237306, 313.33845823084727, 303.5441997161898, 390.81846895621413, 414.67606477603755, 506.95217450146765, 293.4042461148187, 340.6425969783877, 373.97868706755236, 290.9210327099608, 346.96116001560216, 142.14256751724554, 241.94565649181578, 271.09013956932756, 297.2455578459466, 509.0214800287398, 289.60560009472283, 217.55878684527906, 466.6178976523653, 208.1679967483858, 503.13850456030497, 493.814917282618, 448.3201042149405, 388.6443367815385, 337.91413464365013, 437.16429949197664, 483.4057725178001, 284.56696642681646, 302.12325280969134, 384.23680203579306, 227.41898086494461, 320.0743330547439, 438.86054508174806, 183.09931693145703, 344.4909139677922, 165.79806239165433, 368.26656078838516, 338.60116351046344, 279.0301399218751, 334.4878725198492, 356.7948135908725, 644.8183066758803, 415.0903401095623, 366.9954275112727, 269.109528813633, 452.66002242984047, 524.8134180834782, 371.0302152741686, 286.3519820673892, 613.8430658201435, 434.63234651328025, 418.83037933269526, 306.3779578647354, 336.8259501844992, 373.4668636470579, 325.82892041816064, 383.15039609809617, 380.5214843069476, 545.9801982412763, 396.171112391617, 445.21509554245245, 421.1412447061912, 397.9391288956355, 756.1923725098497, 689.5233123659036, 320.9599230279341, 307.78311439850694, 428.0219127043747, 517.1734931165627, 390.3838567783597, 442.24265696115737, 221.881138746669, 312.83398436239065, 338.63301173022234, 413.05871935195154, 586.2182148097696, 288.0785187599688, 378.2738784387478, 515.9210732061051, 351.0432256921308, 466.6478402167172, 426.60859207171325, 414.16272789686775, 463.8098989043553, 465.80212163177373, 304.89964760284107, 445.1967876448791, 345.95804038831767, 325.79541506433713, 274.33846004864847, 491.8140030500954, 387.79414379681333, 453.34049829869934, 259.54716259308043, 630.8973025513741, 455.2180887853926, 343.0542609770136, 330.7364310191893, 453.7716045219721, 707.4028088888208, 223.11583290346024, 533.6884470076521, 361.45469198221224, 608.694967227678, 289.749665708438, 274.4579436322337, 458.7213317825408, 956.1841219171133, 478.4956365730093, 491.5892613631572, 377.51801557551835, 302.96737702840636, 435.5456667813491, 584.0737147409254, 568.6511487607912, 376.08359802951554, 548.0466890413603, 655.1980415945777, 703.0815676877947, null, 427.16626614177557, 591.4020223180053, 466.02648785310464, 615.0639297056517, 393.71733534550384, 483.16880334240136, 372.24198616911974, 332.40781536886453, 322.0822144332409, 503.89926133005366, 512.6307219919141, 364.62465302417013, 425.64225533080946, 235.99759251727426, 598.704795328917, 512.8402484358223, 506.22752218971993, 420.822184596571, 505.83481143735054, 653.3116166908643, 414.43569251368126, 1290.472106646641, 285.0095060630079, 293.2983722057751, 588.0747967826295, 217.0890689540353, 747.3335378171588, 753.0114133184368, 484.44355217067766, 620.4414065565543, 254.95866163273848, 544.5469286452765, 423.95272693478194, 456.2419957897522, 888.1821435177138, 691.8654114838455, 428.7265326799175, 630.3115352378672, 728.9797158498743, 358.30523872237734, 409.9438351783924, 694.4181461347432, 553.5627522522698, 567.3400104586143, 496.55100121228986, 428.9237926791115, 647.6496334575522, 464.1758436880091, 597.200528047448, 430.9396363161629, 470.85352986706454, 426.7863811847511, 432.9627229749631, 317.2219194303952, 716.3765095625198, 642.838478220973, 528.7265413888829, 1267.7662026328826, 220.11108719171108, 642.2195925518147, 300.1873092016618, 478.44335175268515, 654.801499892284, 379.92536172660726, 650.963515967709, 401.9350222176535, 490.36358286726374, 824.6586936349588, 371.9242451684328, 446.23924529045684, 773.4061347806703, 538.204698577284, 1045.2015459222662, 603.4509968798565, 714.2220737504065, 170.2925485152069, 524.6293121403909, 1119.8388773148026, 493.45560489574007, 708.1930316849231, 562.9112337982453, 558.2711194060469, 475.39318681250677, 282.02546830016496, 687.7829633004552, 429.4883174233179, 742.9797231632554, 479.9237488133093, 602.1158769435002, 465.68627450980387, 590.7928388746802, 458.0042993401075, 551.6956218496264, 473.1638149617127, 453.3793770708969, 1100.7911936704506, 598.6205414959003, 301.61864706270705, 485.8868855757771, 631.6456863280099, 790.1803690820187, 414.35585647200105, 694.358566653677, 453.4330812935196, 612.1061563311456, 772.7128362001238, 574.2740565313097, 536.5571018753241, null, 192.16524813774402, 435.9007753824155, 762.5272331154684, 493.61555763336935, 639.1464438694404, 576.4579094375945, 426.6849522707296, 918.2882682038704, 800.0388650775142, 1132.8373605554546, 571.7557085689908, 583.8486362312665, 529.847319131393, 544.6002639104154, 448.86919667679206, 890.9095931764135, 265.92982650327014, 564.6874764662283, 652.2879690318528, 438.4677874196749, 357.8946922463997, 910.1876901656897, 616.5723883169862, null, 605.3433249358948, 821.3009904764873, null, 793.2619915605263, 717.0825412171872, 439.7498835483721, 996.9902204858653, 417.33537892280015, 2258.702831998355, 677.8382318281795, 302.2218727063018, 481.46924427394237, 963.5226061641273, 340.98183523166995, 88.40151094606408, 986.8421052631579, 851.4014053492668, 661.0644257703083, 581.3708750724594, 1059.0656015492618, 566.7011760342162, 718.7768297452345, 1026.7911075237503, 534.2262501283425, null, 945.5665024630542, 531.8350322320708, 175.06606919629078, 571.5799833446893, 647.7704471840341, 518.1126504655916, 403.31113221139015, 445.9238282688497, 704.5664189758045, 636.4307703489127, 431.94460202359033, 1416.666666666667, 924.5691159025888, 879.0170132325142, 777.0083145338547, 799.4956512788842, 407.5533215595707, 40.7726253518439, 732.7206841423807, 1196.645436923929, 510.5769072143791, 996.3893635634033, 211.30136986006568, 1207.997484708169, 707.6516094320912, 1465.9685863874345, 1024.3398771365157, 531.1363737279744, 751.1737089201877, 903.0497705987848, 970.08547008547, 552.6025671312701, 328.31900668576884, 631.1954258724091]}, {\"label\": \"housing_units\", \"values\": [372560, 372560, 372560, 372560, 372560, 372560, 372560, 372560, 372560, 372560, 372560, 372560, 372560, 372560, 372560, 372560, 372560, 372560, 372560, 372560, 372560, 372560, 372560, 372560, 372560, 372560, 372560, 372560, 372560, 372560, 372560, 372560, 372560, 372560, 372560, 372560, 372560, 372560, 372560, 372560, 372560, 372560, 372560, 372560, 372560, 372560, 372560, 372560, 372560, 372560, 372560, 372560, 372560, 372560, 372560, 372560, 372560, 372560, 372560, 374507, 374507, 374507, 374507, 374507, 374507, 374507, 374507, 374507, 374507, 374507, 374507, 374507, 374507, 374507, 374507, 374507, 374507, 374507, 374507, 374507, 374507, 374507, 374507, 374507, 374507, 374507, 374507, 374507, 374507, 374507, 374507, 374507, 374507, 374507, 374507, 374507, 374507, 374507, 374507, 374507, 374507, 374507, 374507, 374507, 374507, 374507, 374507, 374507, 374507, 374507, 374507, 374507, 374507, 374507, 374507, 374507, 374507, 374507, 376454, 376454, 376454, 376454, 376454, 376454, 376454, 376454, 376454, 376454, 376454, 376454, 376454, 376454, 376454, 376454, 376454, 376454, 376454, 376454, 376454, 376454, 376454, 376454, 376454, 376454, 376454, 376454, 376454, 376454, 376454, 376454, 376454, 376454, 376454, 376454, 376454, 376454, 376454, 376454, 376454, 376454, 376454, 376454, 376454, 376454, 376454, 376454, 376454, 376454, 376454, 376454, 376454, 376454, 376454, 376454, 376454, 376454, 378401, 378401, 378401, 378401, 378401, 378401, 378401, 378401, 378401, 378401, 378401, 378401, 378401, 378401, 378401, 378401, 378401, 378401, 378401, 378401, 378401, 378401, 378401, 378401, 378401, 378401, 378401, 378401, 378401, 378401, 378401, 378401, 378401, 378401, 378401, 378401, 378401, 378401, 378401, 378401, 378401, 378401, 378401, 378401, 378401, 378401, 378401, 378401, 378401, 378401, 378401, 378401, 378401, 378401, 378401, 378401, 378401, 380348, 380348, 380348, 380348, 380348, 380348, 380348, 380348, 380348, 380348, 380348, 380348, 380348, 380348, 380348, 380348, 380348, 380348, 380348, 380348, 380348, 380348, 380348, 380348, 380348, 380348, 380348, 380348, 380348, 380348, 380348, 380348, 380348, 380348, 380348, 380348, 380348, 380348, 380348, 380348, 380348, 380348, 380348, 380348, 380348, 380348, 380348, 380348, 380348, 380348, 380348, 380348, 380348, 380348, 380348, 380348, 380348, 380348, 380348, 380348, 382295, 382295, 382295, 382295, 382295, 382295, 382295, 382295, 382295, 382295, 382295, 382295, 382295, 382295, 382295, 382295, 382295, 382295, 382295, 382295, 382295, 382295, 382295, 382295, 382295, 382295, 382295, 382295, 382295, 382295, 382295, 382295, 382295, 382295, 382295, 382295, 382295, 382295, 382295, 382295, 382295, 382295, 382295, 382295, 382295, 382295, 382295, 382295, 382295, 382295, 382295, 382295, 382295, 382295, 382295, 382295, 382295, 382295, 384242, 384242, 384242, 384242, 384242, 384242, 384242, 384242, 384242, 384242, 384242, 384242, 384242, 384242, 384242, 384242, 384242, 384242, 384242, 384242, 384242, 384242, 384242, 384242, 384242, 384242, 384242, 384242, 384242, 384242, 384242, 384242, 384242, 384242, 384242, 384242, 384242, 384242, 384242, 384242, 384242, 384242, 384242, 384242, 384242, 384242]}, {\"label\": \"gross_rent\", \"values\": [1239, 1239, 1239, 1239, 1239, 1239, 1239, 1239, 1239, 1239, 1239, 1239, 1239, 1239, 1239, 1239, 1239, 1239, 1239, 1239, 1239, 1239, 1239, 1239, 1239, 1239, 1239, 1239, 1239, 1239, 1239, 1239, 1239, 1239, 1239, 1239, 1239, 1239, 1239, 1239, 1239, 1239, 1239, 1239, 1239, 1239, 1239, 1239, 1239, 1239, 1239, 1239, 1239, 1239, 1239, 1239, 1239, 1239, 1239, 1530, 1530, 1530, 1530, 1530, 1530, 1530, 1530, 1530, 1530, 1530, 1530, 1530, 1530, 1530, 1530, 1530, 1530, 1530, 1530, 1530, 1530, 1530, 1530, 1530, 1530, 1530, 1530, 1530, 1530, 1530, 1530, 1530, 1530, 1530, 1530, 1530, 1530, 1530, 1530, 1530, 1530, 1530, 1530, 1530, 1530, 1530, 1530, 1530, 1530, 1530, 1530, 1530, 1530, 1530, 1530, 1530, 1530, 1530, 2324, 2324, 2324, 2324, 2324, 2324, 2324, 2324, 2324, 2324, 2324, 2324, 2324, 2324, 2324, 2324, 2324, 2324, 2324, 2324, 2324, 2324, 2324, 2324, 2324, 2324, 2324, 2324, 2324, 2324, 2324, 2324, 2324, 2324, 2324, 2324, 2324, 2324, 2324, 2324, 2324, 2324, 2324, 2324, 2324, 2324, 2324, 2324, 2324, 2324, 2324, 2324, 2324, 2324, 2324, 2324, 2324, 2324, 2971, 2971, 2971, 2971, 2971, 2971, 2971, 2971, 2971, 2971, 2971, 2971, 2971, 2971, 2971, 2971, 2971, 2971, 2971, 2971, 2971, 2971, 2971, 2971, 2971, 2971, 2971, 2971, 2971, 2971, 2971, 2971, 2971, 2971, 2971, 2971, 2971, 2971, 2971, 2971, 2971, 2971, 2971, 2971, 2971, 2971, 2971, 2971, 2971, 2971, 2971, 2971, 2971, 2971, 2971, 2971, 2971, 3528, 3528, 3528, 3528, 3528, 3528, 3528, 3528, 3528, 3528, 3528, 3528, 3528, 3528, 3528, 3528, 3528, 3528, 3528, 3528, 3528, 3528, 3528, 3528, 3528, 3528, 3528, 3528, 3528, 3528, 3528, 3528, 3528, 3528, 3528, 3528, 3528, 3528, 3528, 3528, 3528, 3528, 3528, 3528, 3528, 3528, 3528, 3528, 3528, 3528, 3528, 3528, 3528, 3528, 3528, 3528, 3528, 3528, 3528, 3528, 3739, 3739, 3739, 3739, 3739, 3739, 3739, 3739, 3739, 3739, 3739, 3739, 3739, 3739, 3739, 3739, 3739, 3739, 3739, 3739, 3739, 3739, 3739, 3739, 3739, 3739, 3739, 3739, 3739, 3739, 3739, 3739, 3739, 3739, 3739, 3739, 3739, 3739, 3739, 3739, 3739, 3739, 3739, 3739, 3739, 3739, 3739, 3739, 3739, 3739, 3739, 3739, 3739, 3739, 3739, 3739, 3739, 3739, 4390, 4390, 4390, 4390, 4390, 4390, 4390, 4390, 4390, 4390, 4390, 4390, 4390, 4390, 4390, 4390, 4390, 4390, 4390, 4390, 4390, 4390, 4390, 4390, 4390, 4390, 4390, 4390, 4390, 4390, 4390, 4390, 4390, 4390, 4390, 4390, 4390, 4390, 4390, 4390, 4390, 4390, 4390, 4390, 4390, 4390]}], \"domain\": {\"x\": [0.0, 1.0], \"y\": [0.0, 1.0]}, \"line\": {\"color\": [291.18294547229095, 267.9325826799483, 170.09866536400102, 347.3949194037114, 319.0276225530687, 418.1724927089675, 369.35933800413665, 569.3799679261333, 165.6457300650791, 456.9308221979013, 241.80455206485138, 403.1183126490986, 364.92833570851764, 401.7499665916537, 162.82121004772353, 209.0493266346945, 715.5864380979738, 551.8011188234774, 254.47377914469143, 272.28497956385485, 170.62491987132685, 275.05668560990915, 238.35002040677708, 199.70200378219917, 285.82235848868265, 275.76972957461044, 419.88781187646566, 320.79691049204627, 398.4588759923028, 374.05763601016855, 387.392839476922, 680.6087291389301, 489.80537777998506, 257.98799863500693, 262.87602564056425, 307.67747674427835, 381.13844514705266, 282.11967050133603, 432.19529211245555, 338.12619999607017, 368.31155203937294, 496.51601414694983, 326.01715041025074, 274.16674158669116, 434.25500394602585, 302.15611319728896, 491.45000385678617, 549.4179312485746, 362.34822391312133, 1037.0997886617895, 401.2959764896399, 542.5316819894505, 524.7935090952678, 331.55599614560697, 569.1934475267735, 108.0129268765048, 392.30076417058257, 215.56913431487555, 333.12677384193887, 272.5273101795261, 172.54056243085552, 471.9217320911283, 171.7723466866044, 261.6638003416518, 391.42644972996203, 520.7181675305429, 222.567848047696, 390.5956530284181, 145.85338027594094, 382.3522610640586, 234.28162351035442, 295.77937822922695, 413.16280403427527, 281.312904357283, 354.66555789282774, 457.41388429762526, 348.92970004124925, 392.35345097326814, 280.73063309393075, 356.7090091359044, 198.01587292452027, 283.17495073168755, 360.03727240448274, 302.60448945564127, 610.7666631577348, 330.10889435237306, 313.33845823084727, 303.5441997161898, 390.81846895621413, 414.67606477603755, 506.95217450146765, 293.4042461148187, 340.6425969783877, 373.97868706755236, 290.9210327099608, 346.96116001560216, 142.14256751724554, 241.94565649181578, 271.09013956932756, 297.2455578459466, 509.0214800287398, 289.60560009472283, 217.55878684527906, 466.6178976523653, 208.1679967483858, 503.13850456030497, 493.814917282618, 448.3201042149405, 388.6443367815385, 337.91413464365013, 437.16429949197664, 483.4057725178001, 284.56696642681646, 302.12325280969134, 384.23680203579306, 227.41898086494461, 320.0743330547439, 438.86054508174806, 183.09931693145703, 344.4909139677922, 165.79806239165433, 368.26656078838516, 338.60116351046344, 279.0301399218751, 334.4878725198492, 356.7948135908725, 644.8183066758803, 415.0903401095623, 366.9954275112727, 269.109528813633, 452.66002242984047, 524.8134180834782, 371.0302152741686, 286.3519820673892, 613.8430658201435, 434.63234651328025, 418.83037933269526, 306.3779578647354, 336.8259501844992, 373.4668636470579, 325.82892041816064, 383.15039609809617, 380.5214843069476, 545.9801982412763, 396.171112391617, 445.21509554245245, 421.1412447061912, 397.9391288956355, 756.1923725098497, 689.5233123659036, 320.9599230279341, 307.78311439850694, 428.0219127043747, 517.1734931165627, 390.3838567783597, 442.24265696115737, 221.881138746669, 312.83398436239065, 338.63301173022234, 413.05871935195154, 586.2182148097696, 288.0785187599688, 378.2738784387478, 515.9210732061051, 351.0432256921308, 466.6478402167172, 426.60859207171325, 414.16272789686775, 463.8098989043553, 465.80212163177373, 304.89964760284107, 445.1967876448791, 345.95804038831767, 325.79541506433713, 274.33846004864847, 491.8140030500954, 387.79414379681333, 453.34049829869934, 259.54716259308043, 630.8973025513741, 455.2180887853926, 343.0542609770136, 330.7364310191893, 453.7716045219721, 707.4028088888208, 223.11583290346024, 533.6884470076521, 361.45469198221224, 608.694967227678, 289.749665708438, 274.4579436322337, 458.7213317825408, 956.1841219171133, 478.4956365730093, 491.5892613631572, 377.51801557551835, 302.96737702840636, 435.5456667813491, 584.0737147409254, 568.6511487607912, 376.08359802951554, 548.0466890413603, 655.1980415945777, 703.0815676877947, null, 427.16626614177557, 591.4020223180053, 466.02648785310464, 615.0639297056517, 393.71733534550384, 483.16880334240136, 372.24198616911974, 332.40781536886453, 322.0822144332409, 503.89926133005366, 512.6307219919141, 364.62465302417013, 425.64225533080946, 235.99759251727426, 598.704795328917, 512.8402484358223, 506.22752218971993, 420.822184596571, 505.83481143735054, 653.3116166908643, 414.43569251368126, 1290.472106646641, 285.0095060630079, 293.2983722057751, 588.0747967826295, 217.0890689540353, 747.3335378171588, 753.0114133184368, 484.44355217067766, 620.4414065565543, 254.95866163273848, 544.5469286452765, 423.95272693478194, 456.2419957897522, 888.1821435177138, 691.8654114838455, 428.7265326799175, 630.3115352378672, 728.9797158498743, 358.30523872237734, 409.9438351783924, 694.4181461347432, 553.5627522522698, 567.3400104586143, 496.55100121228986, 428.9237926791115, 647.6496334575522, 464.1758436880091, 597.200528047448, 430.9396363161629, 470.85352986706454, 426.7863811847511, 432.9627229749631, 317.2219194303952, 716.3765095625198, 642.838478220973, 528.7265413888829, 1267.7662026328826, 220.11108719171108, 642.2195925518147, 300.1873092016618, 478.44335175268515, 654.801499892284, 379.92536172660726, 650.963515967709, 401.9350222176535, 490.36358286726374, 824.6586936349588, 371.9242451684328, 446.23924529045684, 773.4061347806703, 538.204698577284, 1045.2015459222662, 603.4509968798565, 714.2220737504065, 170.2925485152069, 524.6293121403909, 1119.8388773148026, 493.45560489574007, 708.1930316849231, 562.9112337982453, 558.2711194060469, 475.39318681250677, 282.02546830016496, 687.7829633004552, 429.4883174233179, 742.9797231632554, 479.9237488133093, 602.1158769435002, 465.68627450980387, 590.7928388746802, 458.0042993401075, 551.6956218496264, 473.1638149617127, 453.3793770708969, 1100.7911936704506, 598.6205414959003, 301.61864706270705, 485.8868855757771, 631.6456863280099, 790.1803690820187, 414.35585647200105, 694.358566653677, 453.4330812935196, 612.1061563311456, 772.7128362001238, 574.2740565313097, 536.5571018753241, null, 192.16524813774402, 435.9007753824155, 762.5272331154684, 493.61555763336935, 639.1464438694404, 576.4579094375945, 426.6849522707296, 918.2882682038704, 800.0388650775142, 1132.8373605554546, 571.7557085689908, 583.8486362312665, 529.847319131393, 544.6002639104154, 448.86919667679206, 890.9095931764135, 265.92982650327014, 564.6874764662283, 652.2879690318528, 438.4677874196749, 357.8946922463997, 910.1876901656897, 616.5723883169862, null, 605.3433249358948, 821.3009904764873, null, 793.2619915605263, 717.0825412171872, 439.7498835483721, 996.9902204858653, 417.33537892280015, 2258.702831998355, 677.8382318281795, 302.2218727063018, 481.46924427394237, 963.5226061641273, 340.98183523166995, 88.40151094606408, 986.8421052631579, 851.4014053492668, 661.0644257703083, 581.3708750724594, 1059.0656015492618, 566.7011760342162, 718.7768297452345, 1026.7911075237503, 534.2262501283425, null, 945.5665024630542, 531.8350322320708, 175.06606919629078, 571.5799833446893, 647.7704471840341, 518.1126504655916, 403.31113221139015, 445.9238282688497, 704.5664189758045, 636.4307703489127, 431.94460202359033, 1416.666666666667, 924.5691159025888, 879.0170132325142, 777.0083145338547, 799.4956512788842, 407.5533215595707, 40.7726253518439, 732.7206841423807, 1196.645436923929, 510.5769072143791, 996.3893635634033, 211.30136986006568, 1207.997484708169, 707.6516094320912, 1465.9685863874345, 1024.3398771365157, 531.1363737279744, 751.1737089201877, 903.0497705987848, 970.08547008547, 552.6025671312701, 328.31900668576884, 631.1954258724091], \"coloraxis\": \"coloraxis\"}, \"name\": \"\", \"type\": \"parcoords\"}],                        {\"coloraxis\": {\"colorbar\": {\"title\": {\"text\": \"sale_price_sqr_foot\"}}, \"colorscale\": [[0.0, \"#000004\"], [0.1111111111111111, \"#1b0c41\"], [0.2222222222222222, \"#4a0c6b\"], [0.3333333333333333, \"#781c6d\"], [0.4444444444444444, \"#a52c60\"], [0.5555555555555556, \"#cf4446\"], [0.6666666666666666, \"#ed6925\"], [0.7777777777777778, \"#fb9b06\"], [0.8888888888888888, \"#f7d13d\"], [1.0, \"#fcffa4\"]]}, \"legend\": {\"tracegroupgap\": 0}, \"margin\": {\"t\": 60}, \"template\": {\"data\": {\"bar\": [{\"error_x\": {\"color\": \"#2a3f5f\"}, \"error_y\": {\"color\": \"#2a3f5f\"}, \"marker\": {\"line\": {\"color\": \"#E5ECF6\", \"width\": 0.5}}, \"type\": \"bar\"}], \"barpolar\": [{\"marker\": {\"line\": {\"color\": \"#E5ECF6\", \"width\": 0.5}}, \"type\": \"barpolar\"}], \"carpet\": [{\"aaxis\": {\"endlinecolor\": \"#2a3f5f\", \"gridcolor\": \"white\", \"linecolor\": \"white\", \"minorgridcolor\": \"white\", \"startlinecolor\": \"#2a3f5f\"}, \"baxis\": {\"endlinecolor\": \"#2a3f5f\", \"gridcolor\": \"white\", \"linecolor\": \"white\", \"minorgridcolor\": \"white\", \"startlinecolor\": \"#2a3f5f\"}, \"type\": \"carpet\"}], \"choropleth\": [{\"colorbar\": {\"outlinewidth\": 0, \"ticks\": \"\"}, \"type\": \"choropleth\"}], \"contour\": [{\"colorbar\": {\"outlinewidth\": 0, \"ticks\": \"\"}, \"colorscale\": [[0.0, \"#0d0887\"], [0.1111111111111111, \"#46039f\"], [0.2222222222222222, \"#7201a8\"], [0.3333333333333333, \"#9c179e\"], [0.4444444444444444, \"#bd3786\"], [0.5555555555555556, \"#d8576b\"], [0.6666666666666666, \"#ed7953\"], [0.7777777777777778, \"#fb9f3a\"], [0.8888888888888888, \"#fdca26\"], [1.0, \"#f0f921\"]], \"type\": \"contour\"}], \"contourcarpet\": [{\"colorbar\": {\"outlinewidth\": 0, \"ticks\": \"\"}, \"type\": \"contourcarpet\"}], \"heatmap\": [{\"colorbar\": {\"outlinewidth\": 0, \"ticks\": \"\"}, \"colorscale\": [[0.0, \"#0d0887\"], [0.1111111111111111, \"#46039f\"], [0.2222222222222222, \"#7201a8\"], [0.3333333333333333, \"#9c179e\"], [0.4444444444444444, \"#bd3786\"], [0.5555555555555556, \"#d8576b\"], [0.6666666666666666, \"#ed7953\"], [0.7777777777777778, \"#fb9f3a\"], [0.8888888888888888, \"#fdca26\"], [1.0, \"#f0f921\"]], \"type\": \"heatmap\"}], \"heatmapgl\": [{\"colorbar\": {\"outlinewidth\": 0, \"ticks\": \"\"}, \"colorscale\": [[0.0, \"#0d0887\"], [0.1111111111111111, \"#46039f\"], [0.2222222222222222, \"#7201a8\"], [0.3333333333333333, \"#9c179e\"], [0.4444444444444444, \"#bd3786\"], [0.5555555555555556, \"#d8576b\"], [0.6666666666666666, \"#ed7953\"], [0.7777777777777778, \"#fb9f3a\"], [0.8888888888888888, \"#fdca26\"], [1.0, \"#f0f921\"]], \"type\": \"heatmapgl\"}], \"histogram\": [{\"marker\": {\"colorbar\": {\"outlinewidth\": 0, \"ticks\": \"\"}}, \"type\": \"histogram\"}], \"histogram2d\": [{\"colorbar\": {\"outlinewidth\": 0, \"ticks\": \"\"}, \"colorscale\": [[0.0, \"#0d0887\"], [0.1111111111111111, \"#46039f\"], [0.2222222222222222, \"#7201a8\"], [0.3333333333333333, \"#9c179e\"], [0.4444444444444444, \"#bd3786\"], [0.5555555555555556, \"#d8576b\"], [0.6666666666666666, \"#ed7953\"], [0.7777777777777778, \"#fb9f3a\"], [0.8888888888888888, \"#fdca26\"], [1.0, \"#f0f921\"]], \"type\": \"histogram2d\"}], \"histogram2dcontour\": [{\"colorbar\": {\"outlinewidth\": 0, \"ticks\": \"\"}, \"colorscale\": [[0.0, \"#0d0887\"], [0.1111111111111111, \"#46039f\"], [0.2222222222222222, \"#7201a8\"], [0.3333333333333333, \"#9c179e\"], [0.4444444444444444, \"#bd3786\"], [0.5555555555555556, \"#d8576b\"], [0.6666666666666666, \"#ed7953\"], [0.7777777777777778, \"#fb9f3a\"], [0.8888888888888888, \"#fdca26\"], [1.0, \"#f0f921\"]], \"type\": \"histogram2dcontour\"}], \"mesh3d\": [{\"colorbar\": {\"outlinewidth\": 0, \"ticks\": \"\"}, \"type\": \"mesh3d\"}], \"parcoords\": [{\"line\": {\"colorbar\": {\"outlinewidth\": 0, \"ticks\": \"\"}}, \"type\": \"parcoords\"}], \"pie\": [{\"automargin\": true, \"type\": \"pie\"}], \"scatter\": [{\"marker\": {\"colorbar\": {\"outlinewidth\": 0, \"ticks\": \"\"}}, \"type\": \"scatter\"}], \"scatter3d\": [{\"line\": {\"colorbar\": {\"outlinewidth\": 0, \"ticks\": \"\"}}, \"marker\": {\"colorbar\": {\"outlinewidth\": 0, \"ticks\": \"\"}}, \"type\": \"scatter3d\"}], \"scattercarpet\": [{\"marker\": {\"colorbar\": {\"outlinewidth\": 0, \"ticks\": \"\"}}, \"type\": \"scattercarpet\"}], \"scattergeo\": [{\"marker\": {\"colorbar\": {\"outlinewidth\": 0, \"ticks\": \"\"}}, \"type\": \"scattergeo\"}], \"scattergl\": [{\"marker\": {\"colorbar\": {\"outlinewidth\": 0, \"ticks\": \"\"}}, \"type\": \"scattergl\"}], \"scattermapbox\": [{\"marker\": {\"colorbar\": {\"outlinewidth\": 0, \"ticks\": \"\"}}, \"type\": \"scattermapbox\"}], \"scatterpolar\": [{\"marker\": {\"colorbar\": {\"outlinewidth\": 0, \"ticks\": \"\"}}, \"type\": \"scatterpolar\"}], \"scatterpolargl\": [{\"marker\": {\"colorbar\": {\"outlinewidth\": 0, \"ticks\": \"\"}}, \"type\": \"scatterpolargl\"}], \"scatterternary\": [{\"marker\": {\"colorbar\": {\"outlinewidth\": 0, \"ticks\": \"\"}}, \"type\": \"scatterternary\"}], \"surface\": [{\"colorbar\": {\"outlinewidth\": 0, \"ticks\": \"\"}, \"colorscale\": [[0.0, \"#0d0887\"], [0.1111111111111111, \"#46039f\"], [0.2222222222222222, \"#7201a8\"], [0.3333333333333333, \"#9c179e\"], [0.4444444444444444, \"#bd3786\"], [0.5555555555555556, \"#d8576b\"], [0.6666666666666666, \"#ed7953\"], [0.7777777777777778, \"#fb9f3a\"], [0.8888888888888888, \"#fdca26\"], [1.0, \"#f0f921\"]], \"type\": \"surface\"}], \"table\": [{\"cells\": {\"fill\": {\"color\": \"#EBF0F8\"}, \"line\": {\"color\": \"white\"}}, \"header\": {\"fill\": {\"color\": \"#C8D4E3\"}, \"line\": {\"color\": \"white\"}}, \"type\": \"table\"}]}, \"layout\": {\"annotationdefaults\": {\"arrowcolor\": \"#2a3f5f\", \"arrowhead\": 0, \"arrowwidth\": 1}, \"autotypenumbers\": \"strict\", \"coloraxis\": {\"colorbar\": {\"outlinewidth\": 0, \"ticks\": \"\"}}, \"colorscale\": {\"diverging\": [[0, \"#8e0152\"], [0.1, \"#c51b7d\"], [0.2, \"#de77ae\"], [0.3, \"#f1b6da\"], [0.4, \"#fde0ef\"], [0.5, \"#f7f7f7\"], [0.6, \"#e6f5d0\"], [0.7, \"#b8e186\"], [0.8, \"#7fbc41\"], [0.9, \"#4d9221\"], [1, \"#276419\"]], \"sequential\": [[0.0, \"#0d0887\"], [0.1111111111111111, \"#46039f\"], [0.2222222222222222, \"#7201a8\"], [0.3333333333333333, \"#9c179e\"], [0.4444444444444444, \"#bd3786\"], [0.5555555555555556, \"#d8576b\"], [0.6666666666666666, \"#ed7953\"], [0.7777777777777778, \"#fb9f3a\"], [0.8888888888888888, \"#fdca26\"], [1.0, \"#f0f921\"]], \"sequentialminus\": [[0.0, \"#0d0887\"], [0.1111111111111111, \"#46039f\"], [0.2222222222222222, \"#7201a8\"], [0.3333333333333333, \"#9c179e\"], [0.4444444444444444, \"#bd3786\"], [0.5555555555555556, \"#d8576b\"], [0.6666666666666666, \"#ed7953\"], [0.7777777777777778, \"#fb9f3a\"], [0.8888888888888888, \"#fdca26\"], [1.0, \"#f0f921\"]]}, \"colorway\": [\"#636efa\", \"#EF553B\", \"#00cc96\", \"#ab63fa\", \"#FFA15A\", \"#19d3f3\", \"#FF6692\", \"#B6E880\", \"#FF97FF\", \"#FECB52\"], \"font\": {\"color\": \"#2a3f5f\"}, \"geo\": {\"bgcolor\": \"white\", \"lakecolor\": \"white\", \"landcolor\": \"#E5ECF6\", \"showlakes\": true, \"showland\": true, \"subunitcolor\": \"white\"}, \"hoverlabel\": {\"align\": \"left\"}, \"hovermode\": \"closest\", \"mapbox\": {\"style\": \"light\"}, \"paper_bgcolor\": \"white\", \"plot_bgcolor\": \"#E5ECF6\", \"polar\": {\"angularaxis\": {\"gridcolor\": \"white\", \"linecolor\": \"white\", \"ticks\": \"\"}, \"bgcolor\": \"#E5ECF6\", \"radialaxis\": {\"gridcolor\": \"white\", \"linecolor\": \"white\", \"ticks\": \"\"}}, \"scene\": {\"xaxis\": {\"backgroundcolor\": \"#E5ECF6\", \"gridcolor\": \"white\", \"gridwidth\": 2, \"linecolor\": \"white\", \"showbackground\": true, \"ticks\": \"\", \"zerolinecolor\": \"white\"}, \"yaxis\": {\"backgroundcolor\": \"#E5ECF6\", \"gridcolor\": \"white\", \"gridwidth\": 2, \"linecolor\": \"white\", \"showbackground\": true, \"ticks\": \"\", \"zerolinecolor\": \"white\"}, \"zaxis\": {\"backgroundcolor\": \"#E5ECF6\", \"gridcolor\": \"white\", \"gridwidth\": 2, \"linecolor\": \"white\", \"showbackground\": true, \"ticks\": \"\", \"zerolinecolor\": \"white\"}}, \"shapedefaults\": {\"line\": {\"color\": \"#2a3f5f\"}}, \"ternary\": {\"aaxis\": {\"gridcolor\": \"white\", \"linecolor\": \"white\", \"ticks\": \"\"}, \"baxis\": {\"gridcolor\": \"white\", \"linecolor\": \"white\", \"ticks\": \"\"}, \"bgcolor\": \"#E5ECF6\", \"caxis\": {\"gridcolor\": \"white\", \"linecolor\": \"white\", \"ticks\": \"\"}}, \"title\": {\"x\": 0.05}, \"xaxis\": {\"automargin\": true, \"gridcolor\": \"white\", \"linecolor\": \"white\", \"ticks\": \"\", \"title\": {\"standoff\": 15}, \"zerolinecolor\": \"white\", \"zerolinewidth\": 2}, \"yaxis\": {\"automargin\": true, \"gridcolor\": \"white\", \"linecolor\": \"white\", \"ticks\": \"\", \"title\": {\"standoff\": 15}, \"zerolinecolor\": \"white\", \"zerolinewidth\": 2}}}},                        {\"responsive\": true}                    ).then(function(){\n",
       "                            \n",
       "var gd = document.getElementById('ddf6d1d8-f0db-413e-bcc3-905743b7cbaf');\n",
       "var x = new MutationObserver(function (mutations, observer) {{\n",
       "        var display = window.getComputedStyle(gd).display;\n",
       "        if (!display || display === 'none') {{\n",
       "            console.log([gd, 'removed!']);\n",
       "            Plotly.purge(gd);\n",
       "            observer.disconnect();\n",
       "        }}\n",
       "}});\n",
       "\n",
       "// Listen for the removal of the full notebook cells\n",
       "var notebookContainer = gd.closest('#notebook-container');\n",
       "if (notebookContainer) {{\n",
       "    x.observe(notebookContainer, {childList: true});\n",
       "}}\n",
       "\n",
       "// Listen for the clearing of the current output cell\n",
       "var outputEl = gd.closest('.output');\n",
       "if (outputEl) {{\n",
       "    x.observe(outputEl, {childList: true});\n",
       "}}\n",
       "\n",
       "                        })                };                });            </script>        </div>"
      ]
     },
     "metadata": {},
     "output_type": "display_data"
    }
   ],
   "source": [
    "mp_plot= px.parallel_coordinates(avg_prices_neighbourhood,color= 'sale_price_sqr_foot', color_continuous_scale=px.colors.sequential.Inferno)\n",
    "# From some reason it gives blank result\n",
    "mp_plot"
   ]
  },
  {
   "cell_type": "markdown",
   "metadata": {},
   "source": [
    "- Parallel Categories Plot"
   ]
  },
  {
   "cell_type": "code",
   "execution_count": 47,
   "metadata": {},
   "outputs": [
    {
     "data": {
      "application/vnd.plotly.v1+json": {
       "config": {
        "plotlyServerURL": "https://plot.ly"
       },
       "data": [
        {
         "dimensions": [
          {
           "label": "year",
           "values": [
            2010,
            2010,
            2010,
            2010,
            2010,
            2010,
            2010,
            2010,
            2010,
            2010,
            2010,
            2010,
            2010,
            2010,
            2010,
            2010,
            2010,
            2010,
            2010,
            2010,
            2010,
            2010,
            2010,
            2010,
            2010,
            2010,
            2010,
            2010,
            2010,
            2010,
            2010,
            2010,
            2010,
            2010,
            2010,
            2010,
            2010,
            2010,
            2010,
            2010,
            2010,
            2010,
            2010,
            2010,
            2010,
            2010,
            2010,
            2010,
            2010,
            2010,
            2010,
            2010,
            2010,
            2010,
            2010,
            2010,
            2010,
            2010,
            2010,
            2011,
            2011,
            2011,
            2011,
            2011,
            2011,
            2011,
            2011,
            2011,
            2011,
            2011,
            2011,
            2011,
            2011,
            2011,
            2011,
            2011,
            2011,
            2011,
            2011,
            2011,
            2011,
            2011,
            2011,
            2011,
            2011,
            2011,
            2011,
            2011,
            2011,
            2011,
            2011,
            2011,
            2011,
            2011,
            2011,
            2011,
            2011,
            2011,
            2011,
            2011,
            2011,
            2011,
            2011,
            2011,
            2011,
            2011,
            2011,
            2011,
            2011,
            2011,
            2011,
            2011,
            2011,
            2011,
            2011,
            2011,
            2011,
            2011,
            2012,
            2012,
            2012,
            2012,
            2012,
            2012,
            2012,
            2012,
            2012,
            2012,
            2012,
            2012,
            2012,
            2012,
            2012,
            2012,
            2012,
            2012,
            2012,
            2012,
            2012,
            2012,
            2012,
            2012,
            2012,
            2012,
            2012,
            2012,
            2012,
            2012,
            2012,
            2012,
            2012,
            2012,
            2012,
            2012,
            2012,
            2012,
            2012,
            2012,
            2012,
            2012,
            2012,
            2012,
            2012,
            2012,
            2012,
            2012,
            2012,
            2012,
            2012,
            2012,
            2012,
            2012,
            2012,
            2012,
            2012,
            2012,
            2013,
            2013,
            2013,
            2013,
            2013,
            2013,
            2013,
            2013,
            2013,
            2013,
            2013,
            2013,
            2013,
            2013,
            2013,
            2013,
            2013,
            2013,
            2013,
            2013,
            2013,
            2013,
            2013,
            2013,
            2013,
            2013,
            2013,
            2013,
            2013,
            2013,
            2013,
            2013,
            2013,
            2013,
            2013,
            2013,
            2013,
            2013,
            2013,
            2013,
            2013,
            2013,
            2013,
            2013,
            2013,
            2013,
            2013,
            2013,
            2013,
            2013,
            2013,
            2013,
            2013,
            2013,
            2013,
            2013,
            2013,
            2014,
            2014,
            2014,
            2014,
            2014,
            2014,
            2014,
            2014,
            2014,
            2014,
            2014,
            2014,
            2014,
            2014,
            2014,
            2014,
            2014,
            2014,
            2014,
            2014,
            2014,
            2014,
            2014,
            2014,
            2014,
            2014,
            2014,
            2014,
            2014,
            2014,
            2014,
            2014,
            2014,
            2014,
            2014,
            2014,
            2014,
            2014,
            2014,
            2014,
            2014,
            2014,
            2014,
            2014,
            2014,
            2014,
            2014,
            2014,
            2014,
            2014,
            2014,
            2014,
            2014,
            2014,
            2014,
            2014,
            2014,
            2014,
            2014,
            2014,
            2015,
            2015,
            2015,
            2015,
            2015,
            2015,
            2015,
            2015,
            2015,
            2015,
            2015,
            2015,
            2015,
            2015,
            2015,
            2015,
            2015,
            2015,
            2015,
            2015,
            2015,
            2015,
            2015,
            2015,
            2015,
            2015,
            2015,
            2015,
            2015,
            2015,
            2015,
            2015,
            2015,
            2015,
            2015,
            2015,
            2015,
            2015,
            2015,
            2015,
            2015,
            2015,
            2015,
            2015,
            2015,
            2015,
            2015,
            2015,
            2015,
            2015,
            2015,
            2015,
            2015,
            2015,
            2015,
            2015,
            2015,
            2015,
            2016,
            2016,
            2016,
            2016,
            2016,
            2016,
            2016,
            2016,
            2016,
            2016,
            2016,
            2016,
            2016,
            2016,
            2016,
            2016,
            2016,
            2016,
            2016,
            2016,
            2016,
            2016,
            2016,
            2016,
            2016,
            2016,
            2016,
            2016,
            2016,
            2016,
            2016,
            2016,
            2016,
            2016,
            2016,
            2016,
            2016,
            2016,
            2016,
            2016,
            2016,
            2016,
            2016,
            2016,
            2016,
            2016
           ]
          },
          {
           "label": "housing_units",
           "values": [
            372560,
            372560,
            372560,
            372560,
            372560,
            372560,
            372560,
            372560,
            372560,
            372560,
            372560,
            372560,
            372560,
            372560,
            372560,
            372560,
            372560,
            372560,
            372560,
            372560,
            372560,
            372560,
            372560,
            372560,
            372560,
            372560,
            372560,
            372560,
            372560,
            372560,
            372560,
            372560,
            372560,
            372560,
            372560,
            372560,
            372560,
            372560,
            372560,
            372560,
            372560,
            372560,
            372560,
            372560,
            372560,
            372560,
            372560,
            372560,
            372560,
            372560,
            372560,
            372560,
            372560,
            372560,
            372560,
            372560,
            372560,
            372560,
            372560,
            374507,
            374507,
            374507,
            374507,
            374507,
            374507,
            374507,
            374507,
            374507,
            374507,
            374507,
            374507,
            374507,
            374507,
            374507,
            374507,
            374507,
            374507,
            374507,
            374507,
            374507,
            374507,
            374507,
            374507,
            374507,
            374507,
            374507,
            374507,
            374507,
            374507,
            374507,
            374507,
            374507,
            374507,
            374507,
            374507,
            374507,
            374507,
            374507,
            374507,
            374507,
            374507,
            374507,
            374507,
            374507,
            374507,
            374507,
            374507,
            374507,
            374507,
            374507,
            374507,
            374507,
            374507,
            374507,
            374507,
            374507,
            374507,
            374507,
            376454,
            376454,
            376454,
            376454,
            376454,
            376454,
            376454,
            376454,
            376454,
            376454,
            376454,
            376454,
            376454,
            376454,
            376454,
            376454,
            376454,
            376454,
            376454,
            376454,
            376454,
            376454,
            376454,
            376454,
            376454,
            376454,
            376454,
            376454,
            376454,
            376454,
            376454,
            376454,
            376454,
            376454,
            376454,
            376454,
            376454,
            376454,
            376454,
            376454,
            376454,
            376454,
            376454,
            376454,
            376454,
            376454,
            376454,
            376454,
            376454,
            376454,
            376454,
            376454,
            376454,
            376454,
            376454,
            376454,
            376454,
            376454,
            378401,
            378401,
            378401,
            378401,
            378401,
            378401,
            378401,
            378401,
            378401,
            378401,
            378401,
            378401,
            378401,
            378401,
            378401,
            378401,
            378401,
            378401,
            378401,
            378401,
            378401,
            378401,
            378401,
            378401,
            378401,
            378401,
            378401,
            378401,
            378401,
            378401,
            378401,
            378401,
            378401,
            378401,
            378401,
            378401,
            378401,
            378401,
            378401,
            378401,
            378401,
            378401,
            378401,
            378401,
            378401,
            378401,
            378401,
            378401,
            378401,
            378401,
            378401,
            378401,
            378401,
            378401,
            378401,
            378401,
            378401,
            380348,
            380348,
            380348,
            380348,
            380348,
            380348,
            380348,
            380348,
            380348,
            380348,
            380348,
            380348,
            380348,
            380348,
            380348,
            380348,
            380348,
            380348,
            380348,
            380348,
            380348,
            380348,
            380348,
            380348,
            380348,
            380348,
            380348,
            380348,
            380348,
            380348,
            380348,
            380348,
            380348,
            380348,
            380348,
            380348,
            380348,
            380348,
            380348,
            380348,
            380348,
            380348,
            380348,
            380348,
            380348,
            380348,
            380348,
            380348,
            380348,
            380348,
            380348,
            380348,
            380348,
            380348,
            380348,
            380348,
            380348,
            380348,
            380348,
            380348,
            382295,
            382295,
            382295,
            382295,
            382295,
            382295,
            382295,
            382295,
            382295,
            382295,
            382295,
            382295,
            382295,
            382295,
            382295,
            382295,
            382295,
            382295,
            382295,
            382295,
            382295,
            382295,
            382295,
            382295,
            382295,
            382295,
            382295,
            382295,
            382295,
            382295,
            382295,
            382295,
            382295,
            382295,
            382295,
            382295,
            382295,
            382295,
            382295,
            382295,
            382295,
            382295,
            382295,
            382295,
            382295,
            382295,
            382295,
            382295,
            382295,
            382295,
            382295,
            382295,
            382295,
            382295,
            382295,
            382295,
            382295,
            382295,
            384242,
            384242,
            384242,
            384242,
            384242,
            384242,
            384242,
            384242,
            384242,
            384242,
            384242,
            384242,
            384242,
            384242,
            384242,
            384242,
            384242,
            384242,
            384242,
            384242,
            384242,
            384242,
            384242,
            384242,
            384242,
            384242,
            384242,
            384242,
            384242,
            384242,
            384242,
            384242,
            384242,
            384242,
            384242,
            384242,
            384242,
            384242,
            384242,
            384242,
            384242,
            384242,
            384242,
            384242,
            384242,
            384242
           ]
          },
          {
           "label": "gross_rent",
           "values": [
            1239,
            1239,
            1239,
            1239,
            1239,
            1239,
            1239,
            1239,
            1239,
            1239,
            1239,
            1239,
            1239,
            1239,
            1239,
            1239,
            1239,
            1239,
            1239,
            1239,
            1239,
            1239,
            1239,
            1239,
            1239,
            1239,
            1239,
            1239,
            1239,
            1239,
            1239,
            1239,
            1239,
            1239,
            1239,
            1239,
            1239,
            1239,
            1239,
            1239,
            1239,
            1239,
            1239,
            1239,
            1239,
            1239,
            1239,
            1239,
            1239,
            1239,
            1239,
            1239,
            1239,
            1239,
            1239,
            1239,
            1239,
            1239,
            1239,
            1530,
            1530,
            1530,
            1530,
            1530,
            1530,
            1530,
            1530,
            1530,
            1530,
            1530,
            1530,
            1530,
            1530,
            1530,
            1530,
            1530,
            1530,
            1530,
            1530,
            1530,
            1530,
            1530,
            1530,
            1530,
            1530,
            1530,
            1530,
            1530,
            1530,
            1530,
            1530,
            1530,
            1530,
            1530,
            1530,
            1530,
            1530,
            1530,
            1530,
            1530,
            1530,
            1530,
            1530,
            1530,
            1530,
            1530,
            1530,
            1530,
            1530,
            1530,
            1530,
            1530,
            1530,
            1530,
            1530,
            1530,
            1530,
            1530,
            2324,
            2324,
            2324,
            2324,
            2324,
            2324,
            2324,
            2324,
            2324,
            2324,
            2324,
            2324,
            2324,
            2324,
            2324,
            2324,
            2324,
            2324,
            2324,
            2324,
            2324,
            2324,
            2324,
            2324,
            2324,
            2324,
            2324,
            2324,
            2324,
            2324,
            2324,
            2324,
            2324,
            2324,
            2324,
            2324,
            2324,
            2324,
            2324,
            2324,
            2324,
            2324,
            2324,
            2324,
            2324,
            2324,
            2324,
            2324,
            2324,
            2324,
            2324,
            2324,
            2324,
            2324,
            2324,
            2324,
            2324,
            2324,
            2971,
            2971,
            2971,
            2971,
            2971,
            2971,
            2971,
            2971,
            2971,
            2971,
            2971,
            2971,
            2971,
            2971,
            2971,
            2971,
            2971,
            2971,
            2971,
            2971,
            2971,
            2971,
            2971,
            2971,
            2971,
            2971,
            2971,
            2971,
            2971,
            2971,
            2971,
            2971,
            2971,
            2971,
            2971,
            2971,
            2971,
            2971,
            2971,
            2971,
            2971,
            2971,
            2971,
            2971,
            2971,
            2971,
            2971,
            2971,
            2971,
            2971,
            2971,
            2971,
            2971,
            2971,
            2971,
            2971,
            2971,
            3528,
            3528,
            3528,
            3528,
            3528,
            3528,
            3528,
            3528,
            3528,
            3528,
            3528,
            3528,
            3528,
            3528,
            3528,
            3528,
            3528,
            3528,
            3528,
            3528,
            3528,
            3528,
            3528,
            3528,
            3528,
            3528,
            3528,
            3528,
            3528,
            3528,
            3528,
            3528,
            3528,
            3528,
            3528,
            3528,
            3528,
            3528,
            3528,
            3528,
            3528,
            3528,
            3528,
            3528,
            3528,
            3528,
            3528,
            3528,
            3528,
            3528,
            3528,
            3528,
            3528,
            3528,
            3528,
            3528,
            3528,
            3528,
            3528,
            3528,
            3739,
            3739,
            3739,
            3739,
            3739,
            3739,
            3739,
            3739,
            3739,
            3739,
            3739,
            3739,
            3739,
            3739,
            3739,
            3739,
            3739,
            3739,
            3739,
            3739,
            3739,
            3739,
            3739,
            3739,
            3739,
            3739,
            3739,
            3739,
            3739,
            3739,
            3739,
            3739,
            3739,
            3739,
            3739,
            3739,
            3739,
            3739,
            3739,
            3739,
            3739,
            3739,
            3739,
            3739,
            3739,
            3739,
            3739,
            3739,
            3739,
            3739,
            3739,
            3739,
            3739,
            3739,
            3739,
            3739,
            3739,
            3739,
            4390,
            4390,
            4390,
            4390,
            4390,
            4390,
            4390,
            4390,
            4390,
            4390,
            4390,
            4390,
            4390,
            4390,
            4390,
            4390,
            4390,
            4390,
            4390,
            4390,
            4390,
            4390,
            4390,
            4390,
            4390,
            4390,
            4390,
            4390,
            4390,
            4390,
            4390,
            4390,
            4390,
            4390,
            4390,
            4390,
            4390,
            4390,
            4390,
            4390,
            4390,
            4390,
            4390,
            4390,
            4390,
            4390
           ]
          }
         ],
         "domain": {
          "x": [
           0,
           1
          ],
          "y": [
           0,
           1
          ]
         },
         "line": {
          "color": [
           291.18294547229095,
           267.9325826799483,
           170.09866536400102,
           347.3949194037114,
           319.0276225530687,
           418.1724927089675,
           369.35933800413665,
           569.3799679261333,
           165.6457300650791,
           456.9308221979013,
           241.80455206485138,
           403.1183126490986,
           364.92833570851764,
           401.7499665916537,
           162.82121004772353,
           209.0493266346945,
           715.5864380979738,
           551.8011188234774,
           254.47377914469143,
           272.28497956385485,
           170.62491987132685,
           275.05668560990915,
           238.35002040677708,
           199.70200378219917,
           285.82235848868265,
           275.76972957461044,
           419.88781187646566,
           320.79691049204627,
           398.4588759923028,
           374.05763601016855,
           387.392839476922,
           680.6087291389301,
           489.80537777998506,
           257.98799863500693,
           262.87602564056425,
           307.67747674427835,
           381.13844514705266,
           282.11967050133603,
           432.19529211245555,
           338.12619999607017,
           368.31155203937294,
           496.51601414694983,
           326.01715041025074,
           274.16674158669116,
           434.25500394602585,
           302.15611319728896,
           491.45000385678617,
           549.4179312485746,
           362.34822391312133,
           1037.0997886617895,
           401.2959764896399,
           542.5316819894505,
           524.7935090952678,
           331.55599614560697,
           569.1934475267735,
           108.0129268765048,
           392.30076417058257,
           215.56913431487555,
           333.12677384193887,
           272.5273101795261,
           172.54056243085552,
           471.9217320911283,
           171.7723466866044,
           261.6638003416518,
           391.42644972996203,
           520.7181675305429,
           222.567848047696,
           390.5956530284181,
           145.85338027594094,
           382.3522610640586,
           234.28162351035442,
           295.77937822922695,
           413.16280403427527,
           281.312904357283,
           354.66555789282774,
           457.41388429762526,
           348.92970004124925,
           392.35345097326814,
           280.73063309393075,
           356.7090091359044,
           198.01587292452027,
           283.17495073168755,
           360.03727240448274,
           302.60448945564127,
           610.7666631577348,
           330.10889435237306,
           313.33845823084727,
           303.5441997161898,
           390.81846895621413,
           414.67606477603755,
           506.95217450146765,
           293.4042461148187,
           340.6425969783877,
           373.97868706755236,
           290.9210327099608,
           346.96116001560216,
           142.14256751724554,
           241.94565649181578,
           271.09013956932756,
           297.2455578459466,
           509.0214800287398,
           289.60560009472283,
           217.55878684527906,
           466.6178976523653,
           208.1679967483858,
           503.13850456030497,
           493.814917282618,
           448.3201042149405,
           388.6443367815385,
           337.91413464365013,
           437.16429949197664,
           483.4057725178001,
           284.56696642681646,
           302.12325280969134,
           384.23680203579306,
           227.41898086494461,
           320.0743330547439,
           438.86054508174806,
           183.09931693145703,
           344.4909139677922,
           165.79806239165433,
           368.26656078838516,
           338.60116351046344,
           279.0301399218751,
           334.4878725198492,
           356.7948135908725,
           644.8183066758803,
           415.0903401095623,
           366.9954275112727,
           269.109528813633,
           452.66002242984047,
           524.8134180834782,
           371.0302152741686,
           286.3519820673892,
           613.8430658201435,
           434.63234651328025,
           418.83037933269526,
           306.3779578647354,
           336.8259501844992,
           373.4668636470579,
           325.82892041816064,
           383.15039609809617,
           380.5214843069476,
           545.9801982412763,
           396.171112391617,
           445.21509554245245,
           421.1412447061912,
           397.9391288956355,
           756.1923725098497,
           689.5233123659036,
           320.9599230279341,
           307.78311439850694,
           428.0219127043747,
           517.1734931165627,
           390.3838567783597,
           442.24265696115737,
           221.881138746669,
           312.83398436239065,
           338.63301173022234,
           413.05871935195154,
           586.2182148097696,
           288.0785187599688,
           378.2738784387478,
           515.9210732061051,
           351.0432256921308,
           466.6478402167172,
           426.60859207171325,
           414.16272789686775,
           463.8098989043553,
           465.80212163177373,
           304.89964760284107,
           445.1967876448791,
           345.95804038831767,
           325.79541506433713,
           274.33846004864847,
           491.8140030500954,
           387.79414379681333,
           453.34049829869934,
           259.54716259308043,
           630.8973025513741,
           455.2180887853926,
           343.0542609770136,
           330.7364310191893,
           453.7716045219721,
           707.4028088888208,
           223.11583290346024,
           533.6884470076521,
           361.45469198221224,
           608.694967227678,
           289.749665708438,
           274.4579436322337,
           458.7213317825408,
           956.1841219171133,
           478.4956365730093,
           491.5892613631572,
           377.51801557551835,
           302.96737702840636,
           435.5456667813491,
           584.0737147409254,
           568.6511487607912,
           376.08359802951554,
           548.0466890413603,
           655.1980415945777,
           703.0815676877947,
           null,
           427.16626614177557,
           591.4020223180053,
           466.02648785310464,
           615.0639297056517,
           393.71733534550384,
           483.16880334240136,
           372.24198616911974,
           332.40781536886453,
           322.0822144332409,
           503.89926133005366,
           512.6307219919141,
           364.62465302417013,
           425.64225533080946,
           235.99759251727426,
           598.704795328917,
           512.8402484358223,
           506.22752218971993,
           420.822184596571,
           505.83481143735054,
           653.3116166908643,
           414.43569251368126,
           1290.472106646641,
           285.0095060630079,
           293.2983722057751,
           588.0747967826295,
           217.0890689540353,
           747.3335378171588,
           753.0114133184368,
           484.44355217067766,
           620.4414065565543,
           254.95866163273848,
           544.5469286452765,
           423.95272693478194,
           456.2419957897522,
           888.1821435177138,
           691.8654114838455,
           428.7265326799175,
           630.3115352378672,
           728.9797158498743,
           358.30523872237734,
           409.9438351783924,
           694.4181461347432,
           553.5627522522698,
           567.3400104586143,
           496.55100121228986,
           428.9237926791115,
           647.6496334575522,
           464.1758436880091,
           597.200528047448,
           430.9396363161629,
           470.85352986706454,
           426.7863811847511,
           432.9627229749631,
           317.2219194303952,
           716.3765095625198,
           642.838478220973,
           528.7265413888829,
           1267.7662026328826,
           220.11108719171108,
           642.2195925518147,
           300.1873092016618,
           478.44335175268515,
           654.801499892284,
           379.92536172660726,
           650.963515967709,
           401.9350222176535,
           490.36358286726374,
           824.6586936349588,
           371.9242451684328,
           446.23924529045684,
           773.4061347806703,
           538.204698577284,
           1045.2015459222662,
           603.4509968798565,
           714.2220737504065,
           170.2925485152069,
           524.6293121403909,
           1119.8388773148026,
           493.45560489574007,
           708.1930316849231,
           562.9112337982453,
           558.2711194060469,
           475.39318681250677,
           282.02546830016496,
           687.7829633004552,
           429.4883174233179,
           742.9797231632554,
           479.9237488133093,
           602.1158769435002,
           465.68627450980387,
           590.7928388746802,
           458.0042993401075,
           551.6956218496264,
           473.1638149617127,
           453.3793770708969,
           1100.7911936704506,
           598.6205414959003,
           301.61864706270705,
           485.8868855757771,
           631.6456863280099,
           790.1803690820187,
           414.35585647200105,
           694.358566653677,
           453.4330812935196,
           612.1061563311456,
           772.7128362001238,
           574.2740565313097,
           536.5571018753241,
           null,
           192.16524813774402,
           435.9007753824155,
           762.5272331154684,
           493.61555763336935,
           639.1464438694404,
           576.4579094375945,
           426.6849522707296,
           918.2882682038704,
           800.0388650775142,
           1132.8373605554546,
           571.7557085689908,
           583.8486362312665,
           529.847319131393,
           544.6002639104154,
           448.86919667679206,
           890.9095931764135,
           265.92982650327014,
           564.6874764662283,
           652.2879690318528,
           438.4677874196749,
           357.8946922463997,
           910.1876901656897,
           616.5723883169862,
           null,
           605.3433249358948,
           821.3009904764873,
           null,
           793.2619915605263,
           717.0825412171872,
           439.7498835483721,
           996.9902204858653,
           417.33537892280015,
           2258.702831998355,
           677.8382318281795,
           302.2218727063018,
           481.46924427394237,
           963.5226061641273,
           340.98183523166995,
           88.40151094606408,
           986.8421052631579,
           851.4014053492668,
           661.0644257703083,
           581.3708750724594,
           1059.0656015492618,
           566.7011760342162,
           718.7768297452345,
           1026.7911075237503,
           534.2262501283425,
           null,
           945.5665024630542,
           531.8350322320708,
           175.06606919629078,
           571.5799833446893,
           647.7704471840341,
           518.1126504655916,
           403.31113221139015,
           445.9238282688497,
           704.5664189758045,
           636.4307703489127,
           431.94460202359033,
           1416.666666666667,
           924.5691159025888,
           879.0170132325142,
           777.0083145338547,
           799.4956512788842,
           407.5533215595707,
           40.7726253518439,
           732.7206841423807,
           1196.645436923929,
           510.5769072143791,
           996.3893635634033,
           211.30136986006568,
           1207.997484708169,
           707.6516094320912,
           1465.9685863874345,
           1024.3398771365157,
           531.1363737279744,
           751.1737089201877,
           903.0497705987848,
           970.08547008547,
           552.6025671312701,
           328.31900668576884,
           631.1954258724091
          ],
          "coloraxis": "coloraxis"
         },
         "name": "",
         "type": "parcats"
        }
       ],
       "layout": {
        "coloraxis": {
         "colorbar": {
          "title": {
           "text": "sale_price_sqr_foot"
          }
         },
         "colorscale": [
          [
           0,
           "#000004"
          ],
          [
           0.1111111111111111,
           "#1b0c41"
          ],
          [
           0.2222222222222222,
           "#4a0c6b"
          ],
          [
           0.3333333333333333,
           "#781c6d"
          ],
          [
           0.4444444444444444,
           "#a52c60"
          ],
          [
           0.5555555555555556,
           "#cf4446"
          ],
          [
           0.6666666666666666,
           "#ed6925"
          ],
          [
           0.7777777777777778,
           "#fb9b06"
          ],
          [
           0.8888888888888888,
           "#f7d13d"
          ],
          [
           1,
           "#fcffa4"
          ]
         ]
        },
        "legend": {
         "tracegroupgap": 0
        },
        "margin": {
         "t": 60
        },
        "template": {
         "data": {
          "bar": [
           {
            "error_x": {
             "color": "#2a3f5f"
            },
            "error_y": {
             "color": "#2a3f5f"
            },
            "marker": {
             "line": {
              "color": "#E5ECF6",
              "width": 0.5
             }
            },
            "type": "bar"
           }
          ],
          "barpolar": [
           {
            "marker": {
             "line": {
              "color": "#E5ECF6",
              "width": 0.5
             }
            },
            "type": "barpolar"
           }
          ],
          "carpet": [
           {
            "aaxis": {
             "endlinecolor": "#2a3f5f",
             "gridcolor": "white",
             "linecolor": "white",
             "minorgridcolor": "white",
             "startlinecolor": "#2a3f5f"
            },
            "baxis": {
             "endlinecolor": "#2a3f5f",
             "gridcolor": "white",
             "linecolor": "white",
             "minorgridcolor": "white",
             "startlinecolor": "#2a3f5f"
            },
            "type": "carpet"
           }
          ],
          "choropleth": [
           {
            "colorbar": {
             "outlinewidth": 0,
             "ticks": ""
            },
            "type": "choropleth"
           }
          ],
          "contour": [
           {
            "colorbar": {
             "outlinewidth": 0,
             "ticks": ""
            },
            "colorscale": [
             [
              0,
              "#0d0887"
             ],
             [
              0.1111111111111111,
              "#46039f"
             ],
             [
              0.2222222222222222,
              "#7201a8"
             ],
             [
              0.3333333333333333,
              "#9c179e"
             ],
             [
              0.4444444444444444,
              "#bd3786"
             ],
             [
              0.5555555555555556,
              "#d8576b"
             ],
             [
              0.6666666666666666,
              "#ed7953"
             ],
             [
              0.7777777777777778,
              "#fb9f3a"
             ],
             [
              0.8888888888888888,
              "#fdca26"
             ],
             [
              1,
              "#f0f921"
             ]
            ],
            "type": "contour"
           }
          ],
          "contourcarpet": [
           {
            "colorbar": {
             "outlinewidth": 0,
             "ticks": ""
            },
            "type": "contourcarpet"
           }
          ],
          "heatmap": [
           {
            "colorbar": {
             "outlinewidth": 0,
             "ticks": ""
            },
            "colorscale": [
             [
              0,
              "#0d0887"
             ],
             [
              0.1111111111111111,
              "#46039f"
             ],
             [
              0.2222222222222222,
              "#7201a8"
             ],
             [
              0.3333333333333333,
              "#9c179e"
             ],
             [
              0.4444444444444444,
              "#bd3786"
             ],
             [
              0.5555555555555556,
              "#d8576b"
             ],
             [
              0.6666666666666666,
              "#ed7953"
             ],
             [
              0.7777777777777778,
              "#fb9f3a"
             ],
             [
              0.8888888888888888,
              "#fdca26"
             ],
             [
              1,
              "#f0f921"
             ]
            ],
            "type": "heatmap"
           }
          ],
          "heatmapgl": [
           {
            "colorbar": {
             "outlinewidth": 0,
             "ticks": ""
            },
            "colorscale": [
             [
              0,
              "#0d0887"
             ],
             [
              0.1111111111111111,
              "#46039f"
             ],
             [
              0.2222222222222222,
              "#7201a8"
             ],
             [
              0.3333333333333333,
              "#9c179e"
             ],
             [
              0.4444444444444444,
              "#bd3786"
             ],
             [
              0.5555555555555556,
              "#d8576b"
             ],
             [
              0.6666666666666666,
              "#ed7953"
             ],
             [
              0.7777777777777778,
              "#fb9f3a"
             ],
             [
              0.8888888888888888,
              "#fdca26"
             ],
             [
              1,
              "#f0f921"
             ]
            ],
            "type": "heatmapgl"
           }
          ],
          "histogram": [
           {
            "marker": {
             "colorbar": {
              "outlinewidth": 0,
              "ticks": ""
             }
            },
            "type": "histogram"
           }
          ],
          "histogram2d": [
           {
            "colorbar": {
             "outlinewidth": 0,
             "ticks": ""
            },
            "colorscale": [
             [
              0,
              "#0d0887"
             ],
             [
              0.1111111111111111,
              "#46039f"
             ],
             [
              0.2222222222222222,
              "#7201a8"
             ],
             [
              0.3333333333333333,
              "#9c179e"
             ],
             [
              0.4444444444444444,
              "#bd3786"
             ],
             [
              0.5555555555555556,
              "#d8576b"
             ],
             [
              0.6666666666666666,
              "#ed7953"
             ],
             [
              0.7777777777777778,
              "#fb9f3a"
             ],
             [
              0.8888888888888888,
              "#fdca26"
             ],
             [
              1,
              "#f0f921"
             ]
            ],
            "type": "histogram2d"
           }
          ],
          "histogram2dcontour": [
           {
            "colorbar": {
             "outlinewidth": 0,
             "ticks": ""
            },
            "colorscale": [
             [
              0,
              "#0d0887"
             ],
             [
              0.1111111111111111,
              "#46039f"
             ],
             [
              0.2222222222222222,
              "#7201a8"
             ],
             [
              0.3333333333333333,
              "#9c179e"
             ],
             [
              0.4444444444444444,
              "#bd3786"
             ],
             [
              0.5555555555555556,
              "#d8576b"
             ],
             [
              0.6666666666666666,
              "#ed7953"
             ],
             [
              0.7777777777777778,
              "#fb9f3a"
             ],
             [
              0.8888888888888888,
              "#fdca26"
             ],
             [
              1,
              "#f0f921"
             ]
            ],
            "type": "histogram2dcontour"
           }
          ],
          "mesh3d": [
           {
            "colorbar": {
             "outlinewidth": 0,
             "ticks": ""
            },
            "type": "mesh3d"
           }
          ],
          "parcoords": [
           {
            "line": {
             "colorbar": {
              "outlinewidth": 0,
              "ticks": ""
             }
            },
            "type": "parcoords"
           }
          ],
          "pie": [
           {
            "automargin": true,
            "type": "pie"
           }
          ],
          "scatter": [
           {
            "marker": {
             "colorbar": {
              "outlinewidth": 0,
              "ticks": ""
             }
            },
            "type": "scatter"
           }
          ],
          "scatter3d": [
           {
            "line": {
             "colorbar": {
              "outlinewidth": 0,
              "ticks": ""
             }
            },
            "marker": {
             "colorbar": {
              "outlinewidth": 0,
              "ticks": ""
             }
            },
            "type": "scatter3d"
           }
          ],
          "scattercarpet": [
           {
            "marker": {
             "colorbar": {
              "outlinewidth": 0,
              "ticks": ""
             }
            },
            "type": "scattercarpet"
           }
          ],
          "scattergeo": [
           {
            "marker": {
             "colorbar": {
              "outlinewidth": 0,
              "ticks": ""
             }
            },
            "type": "scattergeo"
           }
          ],
          "scattergl": [
           {
            "marker": {
             "colorbar": {
              "outlinewidth": 0,
              "ticks": ""
             }
            },
            "type": "scattergl"
           }
          ],
          "scattermapbox": [
           {
            "marker": {
             "colorbar": {
              "outlinewidth": 0,
              "ticks": ""
             }
            },
            "type": "scattermapbox"
           }
          ],
          "scatterpolar": [
           {
            "marker": {
             "colorbar": {
              "outlinewidth": 0,
              "ticks": ""
             }
            },
            "type": "scatterpolar"
           }
          ],
          "scatterpolargl": [
           {
            "marker": {
             "colorbar": {
              "outlinewidth": 0,
              "ticks": ""
             }
            },
            "type": "scatterpolargl"
           }
          ],
          "scatterternary": [
           {
            "marker": {
             "colorbar": {
              "outlinewidth": 0,
              "ticks": ""
             }
            },
            "type": "scatterternary"
           }
          ],
          "surface": [
           {
            "colorbar": {
             "outlinewidth": 0,
             "ticks": ""
            },
            "colorscale": [
             [
              0,
              "#0d0887"
             ],
             [
              0.1111111111111111,
              "#46039f"
             ],
             [
              0.2222222222222222,
              "#7201a8"
             ],
             [
              0.3333333333333333,
              "#9c179e"
             ],
             [
              0.4444444444444444,
              "#bd3786"
             ],
             [
              0.5555555555555556,
              "#d8576b"
             ],
             [
              0.6666666666666666,
              "#ed7953"
             ],
             [
              0.7777777777777778,
              "#fb9f3a"
             ],
             [
              0.8888888888888888,
              "#fdca26"
             ],
             [
              1,
              "#f0f921"
             ]
            ],
            "type": "surface"
           }
          ],
          "table": [
           {
            "cells": {
             "fill": {
              "color": "#EBF0F8"
             },
             "line": {
              "color": "white"
             }
            },
            "header": {
             "fill": {
              "color": "#C8D4E3"
             },
             "line": {
              "color": "white"
             }
            },
            "type": "table"
           }
          ]
         },
         "layout": {
          "annotationdefaults": {
           "arrowcolor": "#2a3f5f",
           "arrowhead": 0,
           "arrowwidth": 1
          },
          "autotypenumbers": "strict",
          "coloraxis": {
           "colorbar": {
            "outlinewidth": 0,
            "ticks": ""
           }
          },
          "colorscale": {
           "diverging": [
            [
             0,
             "#8e0152"
            ],
            [
             0.1,
             "#c51b7d"
            ],
            [
             0.2,
             "#de77ae"
            ],
            [
             0.3,
             "#f1b6da"
            ],
            [
             0.4,
             "#fde0ef"
            ],
            [
             0.5,
             "#f7f7f7"
            ],
            [
             0.6,
             "#e6f5d0"
            ],
            [
             0.7,
             "#b8e186"
            ],
            [
             0.8,
             "#7fbc41"
            ],
            [
             0.9,
             "#4d9221"
            ],
            [
             1,
             "#276419"
            ]
           ],
           "sequential": [
            [
             0,
             "#0d0887"
            ],
            [
             0.1111111111111111,
             "#46039f"
            ],
            [
             0.2222222222222222,
             "#7201a8"
            ],
            [
             0.3333333333333333,
             "#9c179e"
            ],
            [
             0.4444444444444444,
             "#bd3786"
            ],
            [
             0.5555555555555556,
             "#d8576b"
            ],
            [
             0.6666666666666666,
             "#ed7953"
            ],
            [
             0.7777777777777778,
             "#fb9f3a"
            ],
            [
             0.8888888888888888,
             "#fdca26"
            ],
            [
             1,
             "#f0f921"
            ]
           ],
           "sequentialminus": [
            [
             0,
             "#0d0887"
            ],
            [
             0.1111111111111111,
             "#46039f"
            ],
            [
             0.2222222222222222,
             "#7201a8"
            ],
            [
             0.3333333333333333,
             "#9c179e"
            ],
            [
             0.4444444444444444,
             "#bd3786"
            ],
            [
             0.5555555555555556,
             "#d8576b"
            ],
            [
             0.6666666666666666,
             "#ed7953"
            ],
            [
             0.7777777777777778,
             "#fb9f3a"
            ],
            [
             0.8888888888888888,
             "#fdca26"
            ],
            [
             1,
             "#f0f921"
            ]
           ]
          },
          "colorway": [
           "#636efa",
           "#EF553B",
           "#00cc96",
           "#ab63fa",
           "#FFA15A",
           "#19d3f3",
           "#FF6692",
           "#B6E880",
           "#FF97FF",
           "#FECB52"
          ],
          "font": {
           "color": "#2a3f5f"
          },
          "geo": {
           "bgcolor": "white",
           "lakecolor": "white",
           "landcolor": "#E5ECF6",
           "showlakes": true,
           "showland": true,
           "subunitcolor": "white"
          },
          "hoverlabel": {
           "align": "left"
          },
          "hovermode": "closest",
          "mapbox": {
           "style": "light"
          },
          "paper_bgcolor": "white",
          "plot_bgcolor": "#E5ECF6",
          "polar": {
           "angularaxis": {
            "gridcolor": "white",
            "linecolor": "white",
            "ticks": ""
           },
           "bgcolor": "#E5ECF6",
           "radialaxis": {
            "gridcolor": "white",
            "linecolor": "white",
            "ticks": ""
           }
          },
          "scene": {
           "xaxis": {
            "backgroundcolor": "#E5ECF6",
            "gridcolor": "white",
            "gridwidth": 2,
            "linecolor": "white",
            "showbackground": true,
            "ticks": "",
            "zerolinecolor": "white"
           },
           "yaxis": {
            "backgroundcolor": "#E5ECF6",
            "gridcolor": "white",
            "gridwidth": 2,
            "linecolor": "white",
            "showbackground": true,
            "ticks": "",
            "zerolinecolor": "white"
           },
           "zaxis": {
            "backgroundcolor": "#E5ECF6",
            "gridcolor": "white",
            "gridwidth": 2,
            "linecolor": "white",
            "showbackground": true,
            "ticks": "",
            "zerolinecolor": "white"
           }
          },
          "shapedefaults": {
           "line": {
            "color": "#2a3f5f"
           }
          },
          "ternary": {
           "aaxis": {
            "gridcolor": "white",
            "linecolor": "white",
            "ticks": ""
           },
           "baxis": {
            "gridcolor": "white",
            "linecolor": "white",
            "ticks": ""
           },
           "bgcolor": "#E5ECF6",
           "caxis": {
            "gridcolor": "white",
            "linecolor": "white",
            "ticks": ""
           }
          },
          "title": {
           "x": 0.05
          },
          "xaxis": {
           "automargin": true,
           "gridcolor": "white",
           "linecolor": "white",
           "ticks": "",
           "title": {
            "standoff": 15
           },
           "zerolinecolor": "white",
           "zerolinewidth": 2
          },
          "yaxis": {
           "automargin": true,
           "gridcolor": "white",
           "linecolor": "white",
           "ticks": "",
           "title": {
            "standoff": 15
           },
           "zerolinecolor": "white",
           "zerolinewidth": 2
          }
         }
        }
       }
      },
      "text/html": [
       "<div>                            <div id=\"ac579d56-5700-43f7-83d0-d7bca87c8a74\" class=\"plotly-graph-div\" style=\"height:525px; width:100%;\"></div>            <script type=\"text/javascript\">                require([\"plotly\"], function(Plotly) {                    window.PLOTLYENV=window.PLOTLYENV || {};                                    if (document.getElementById(\"ac579d56-5700-43f7-83d0-d7bca87c8a74\")) {                    Plotly.newPlot(                        \"ac579d56-5700-43f7-83d0-d7bca87c8a74\",                        [{\"dimensions\": [{\"label\": \"year\", \"values\": [2010, 2010, 2010, 2010, 2010, 2010, 2010, 2010, 2010, 2010, 2010, 2010, 2010, 2010, 2010, 2010, 2010, 2010, 2010, 2010, 2010, 2010, 2010, 2010, 2010, 2010, 2010, 2010, 2010, 2010, 2010, 2010, 2010, 2010, 2010, 2010, 2010, 2010, 2010, 2010, 2010, 2010, 2010, 2010, 2010, 2010, 2010, 2010, 2010, 2010, 2010, 2010, 2010, 2010, 2010, 2010, 2010, 2010, 2010, 2011, 2011, 2011, 2011, 2011, 2011, 2011, 2011, 2011, 2011, 2011, 2011, 2011, 2011, 2011, 2011, 2011, 2011, 2011, 2011, 2011, 2011, 2011, 2011, 2011, 2011, 2011, 2011, 2011, 2011, 2011, 2011, 2011, 2011, 2011, 2011, 2011, 2011, 2011, 2011, 2011, 2011, 2011, 2011, 2011, 2011, 2011, 2011, 2011, 2011, 2011, 2011, 2011, 2011, 2011, 2011, 2011, 2011, 2011, 2012, 2012, 2012, 2012, 2012, 2012, 2012, 2012, 2012, 2012, 2012, 2012, 2012, 2012, 2012, 2012, 2012, 2012, 2012, 2012, 2012, 2012, 2012, 2012, 2012, 2012, 2012, 2012, 2012, 2012, 2012, 2012, 2012, 2012, 2012, 2012, 2012, 2012, 2012, 2012, 2012, 2012, 2012, 2012, 2012, 2012, 2012, 2012, 2012, 2012, 2012, 2012, 2012, 2012, 2012, 2012, 2012, 2012, 2013, 2013, 2013, 2013, 2013, 2013, 2013, 2013, 2013, 2013, 2013, 2013, 2013, 2013, 2013, 2013, 2013, 2013, 2013, 2013, 2013, 2013, 2013, 2013, 2013, 2013, 2013, 2013, 2013, 2013, 2013, 2013, 2013, 2013, 2013, 2013, 2013, 2013, 2013, 2013, 2013, 2013, 2013, 2013, 2013, 2013, 2013, 2013, 2013, 2013, 2013, 2013, 2013, 2013, 2013, 2013, 2013, 2014, 2014, 2014, 2014, 2014, 2014, 2014, 2014, 2014, 2014, 2014, 2014, 2014, 2014, 2014, 2014, 2014, 2014, 2014, 2014, 2014, 2014, 2014, 2014, 2014, 2014, 2014, 2014, 2014, 2014, 2014, 2014, 2014, 2014, 2014, 2014, 2014, 2014, 2014, 2014, 2014, 2014, 2014, 2014, 2014, 2014, 2014, 2014, 2014, 2014, 2014, 2014, 2014, 2014, 2014, 2014, 2014, 2014, 2014, 2014, 2015, 2015, 2015, 2015, 2015, 2015, 2015, 2015, 2015, 2015, 2015, 2015, 2015, 2015, 2015, 2015, 2015, 2015, 2015, 2015, 2015, 2015, 2015, 2015, 2015, 2015, 2015, 2015, 2015, 2015, 2015, 2015, 2015, 2015, 2015, 2015, 2015, 2015, 2015, 2015, 2015, 2015, 2015, 2015, 2015, 2015, 2015, 2015, 2015, 2015, 2015, 2015, 2015, 2015, 2015, 2015, 2015, 2015, 2016, 2016, 2016, 2016, 2016, 2016, 2016, 2016, 2016, 2016, 2016, 2016, 2016, 2016, 2016, 2016, 2016, 2016, 2016, 2016, 2016, 2016, 2016, 2016, 2016, 2016, 2016, 2016, 2016, 2016, 2016, 2016, 2016, 2016, 2016, 2016, 2016, 2016, 2016, 2016, 2016, 2016, 2016, 2016, 2016, 2016]}, {\"label\": \"housing_units\", \"values\": [372560, 372560, 372560, 372560, 372560, 372560, 372560, 372560, 372560, 372560, 372560, 372560, 372560, 372560, 372560, 372560, 372560, 372560, 372560, 372560, 372560, 372560, 372560, 372560, 372560, 372560, 372560, 372560, 372560, 372560, 372560, 372560, 372560, 372560, 372560, 372560, 372560, 372560, 372560, 372560, 372560, 372560, 372560, 372560, 372560, 372560, 372560, 372560, 372560, 372560, 372560, 372560, 372560, 372560, 372560, 372560, 372560, 372560, 372560, 374507, 374507, 374507, 374507, 374507, 374507, 374507, 374507, 374507, 374507, 374507, 374507, 374507, 374507, 374507, 374507, 374507, 374507, 374507, 374507, 374507, 374507, 374507, 374507, 374507, 374507, 374507, 374507, 374507, 374507, 374507, 374507, 374507, 374507, 374507, 374507, 374507, 374507, 374507, 374507, 374507, 374507, 374507, 374507, 374507, 374507, 374507, 374507, 374507, 374507, 374507, 374507, 374507, 374507, 374507, 374507, 374507, 374507, 374507, 376454, 376454, 376454, 376454, 376454, 376454, 376454, 376454, 376454, 376454, 376454, 376454, 376454, 376454, 376454, 376454, 376454, 376454, 376454, 376454, 376454, 376454, 376454, 376454, 376454, 376454, 376454, 376454, 376454, 376454, 376454, 376454, 376454, 376454, 376454, 376454, 376454, 376454, 376454, 376454, 376454, 376454, 376454, 376454, 376454, 376454, 376454, 376454, 376454, 376454, 376454, 376454, 376454, 376454, 376454, 376454, 376454, 376454, 378401, 378401, 378401, 378401, 378401, 378401, 378401, 378401, 378401, 378401, 378401, 378401, 378401, 378401, 378401, 378401, 378401, 378401, 378401, 378401, 378401, 378401, 378401, 378401, 378401, 378401, 378401, 378401, 378401, 378401, 378401, 378401, 378401, 378401, 378401, 378401, 378401, 378401, 378401, 378401, 378401, 378401, 378401, 378401, 378401, 378401, 378401, 378401, 378401, 378401, 378401, 378401, 378401, 378401, 378401, 378401, 378401, 380348, 380348, 380348, 380348, 380348, 380348, 380348, 380348, 380348, 380348, 380348, 380348, 380348, 380348, 380348, 380348, 380348, 380348, 380348, 380348, 380348, 380348, 380348, 380348, 380348, 380348, 380348, 380348, 380348, 380348, 380348, 380348, 380348, 380348, 380348, 380348, 380348, 380348, 380348, 380348, 380348, 380348, 380348, 380348, 380348, 380348, 380348, 380348, 380348, 380348, 380348, 380348, 380348, 380348, 380348, 380348, 380348, 380348, 380348, 380348, 382295, 382295, 382295, 382295, 382295, 382295, 382295, 382295, 382295, 382295, 382295, 382295, 382295, 382295, 382295, 382295, 382295, 382295, 382295, 382295, 382295, 382295, 382295, 382295, 382295, 382295, 382295, 382295, 382295, 382295, 382295, 382295, 382295, 382295, 382295, 382295, 382295, 382295, 382295, 382295, 382295, 382295, 382295, 382295, 382295, 382295, 382295, 382295, 382295, 382295, 382295, 382295, 382295, 382295, 382295, 382295, 382295, 382295, 384242, 384242, 384242, 384242, 384242, 384242, 384242, 384242, 384242, 384242, 384242, 384242, 384242, 384242, 384242, 384242, 384242, 384242, 384242, 384242, 384242, 384242, 384242, 384242, 384242, 384242, 384242, 384242, 384242, 384242, 384242, 384242, 384242, 384242, 384242, 384242, 384242, 384242, 384242, 384242, 384242, 384242, 384242, 384242, 384242, 384242]}, {\"label\": \"gross_rent\", \"values\": [1239, 1239, 1239, 1239, 1239, 1239, 1239, 1239, 1239, 1239, 1239, 1239, 1239, 1239, 1239, 1239, 1239, 1239, 1239, 1239, 1239, 1239, 1239, 1239, 1239, 1239, 1239, 1239, 1239, 1239, 1239, 1239, 1239, 1239, 1239, 1239, 1239, 1239, 1239, 1239, 1239, 1239, 1239, 1239, 1239, 1239, 1239, 1239, 1239, 1239, 1239, 1239, 1239, 1239, 1239, 1239, 1239, 1239, 1239, 1530, 1530, 1530, 1530, 1530, 1530, 1530, 1530, 1530, 1530, 1530, 1530, 1530, 1530, 1530, 1530, 1530, 1530, 1530, 1530, 1530, 1530, 1530, 1530, 1530, 1530, 1530, 1530, 1530, 1530, 1530, 1530, 1530, 1530, 1530, 1530, 1530, 1530, 1530, 1530, 1530, 1530, 1530, 1530, 1530, 1530, 1530, 1530, 1530, 1530, 1530, 1530, 1530, 1530, 1530, 1530, 1530, 1530, 1530, 2324, 2324, 2324, 2324, 2324, 2324, 2324, 2324, 2324, 2324, 2324, 2324, 2324, 2324, 2324, 2324, 2324, 2324, 2324, 2324, 2324, 2324, 2324, 2324, 2324, 2324, 2324, 2324, 2324, 2324, 2324, 2324, 2324, 2324, 2324, 2324, 2324, 2324, 2324, 2324, 2324, 2324, 2324, 2324, 2324, 2324, 2324, 2324, 2324, 2324, 2324, 2324, 2324, 2324, 2324, 2324, 2324, 2324, 2971, 2971, 2971, 2971, 2971, 2971, 2971, 2971, 2971, 2971, 2971, 2971, 2971, 2971, 2971, 2971, 2971, 2971, 2971, 2971, 2971, 2971, 2971, 2971, 2971, 2971, 2971, 2971, 2971, 2971, 2971, 2971, 2971, 2971, 2971, 2971, 2971, 2971, 2971, 2971, 2971, 2971, 2971, 2971, 2971, 2971, 2971, 2971, 2971, 2971, 2971, 2971, 2971, 2971, 2971, 2971, 2971, 3528, 3528, 3528, 3528, 3528, 3528, 3528, 3528, 3528, 3528, 3528, 3528, 3528, 3528, 3528, 3528, 3528, 3528, 3528, 3528, 3528, 3528, 3528, 3528, 3528, 3528, 3528, 3528, 3528, 3528, 3528, 3528, 3528, 3528, 3528, 3528, 3528, 3528, 3528, 3528, 3528, 3528, 3528, 3528, 3528, 3528, 3528, 3528, 3528, 3528, 3528, 3528, 3528, 3528, 3528, 3528, 3528, 3528, 3528, 3528, 3739, 3739, 3739, 3739, 3739, 3739, 3739, 3739, 3739, 3739, 3739, 3739, 3739, 3739, 3739, 3739, 3739, 3739, 3739, 3739, 3739, 3739, 3739, 3739, 3739, 3739, 3739, 3739, 3739, 3739, 3739, 3739, 3739, 3739, 3739, 3739, 3739, 3739, 3739, 3739, 3739, 3739, 3739, 3739, 3739, 3739, 3739, 3739, 3739, 3739, 3739, 3739, 3739, 3739, 3739, 3739, 3739, 3739, 4390, 4390, 4390, 4390, 4390, 4390, 4390, 4390, 4390, 4390, 4390, 4390, 4390, 4390, 4390, 4390, 4390, 4390, 4390, 4390, 4390, 4390, 4390, 4390, 4390, 4390, 4390, 4390, 4390, 4390, 4390, 4390, 4390, 4390, 4390, 4390, 4390, 4390, 4390, 4390, 4390, 4390, 4390, 4390, 4390, 4390]}], \"domain\": {\"x\": [0.0, 1.0], \"y\": [0.0, 1.0]}, \"line\": {\"color\": [291.18294547229095, 267.9325826799483, 170.09866536400102, 347.3949194037114, 319.0276225530687, 418.1724927089675, 369.35933800413665, 569.3799679261333, 165.6457300650791, 456.9308221979013, 241.80455206485138, 403.1183126490986, 364.92833570851764, 401.7499665916537, 162.82121004772353, 209.0493266346945, 715.5864380979738, 551.8011188234774, 254.47377914469143, 272.28497956385485, 170.62491987132685, 275.05668560990915, 238.35002040677708, 199.70200378219917, 285.82235848868265, 275.76972957461044, 419.88781187646566, 320.79691049204627, 398.4588759923028, 374.05763601016855, 387.392839476922, 680.6087291389301, 489.80537777998506, 257.98799863500693, 262.87602564056425, 307.67747674427835, 381.13844514705266, 282.11967050133603, 432.19529211245555, 338.12619999607017, 368.31155203937294, 496.51601414694983, 326.01715041025074, 274.16674158669116, 434.25500394602585, 302.15611319728896, 491.45000385678617, 549.4179312485746, 362.34822391312133, 1037.0997886617895, 401.2959764896399, 542.5316819894505, 524.7935090952678, 331.55599614560697, 569.1934475267735, 108.0129268765048, 392.30076417058257, 215.56913431487555, 333.12677384193887, 272.5273101795261, 172.54056243085552, 471.9217320911283, 171.7723466866044, 261.6638003416518, 391.42644972996203, 520.7181675305429, 222.567848047696, 390.5956530284181, 145.85338027594094, 382.3522610640586, 234.28162351035442, 295.77937822922695, 413.16280403427527, 281.312904357283, 354.66555789282774, 457.41388429762526, 348.92970004124925, 392.35345097326814, 280.73063309393075, 356.7090091359044, 198.01587292452027, 283.17495073168755, 360.03727240448274, 302.60448945564127, 610.7666631577348, 330.10889435237306, 313.33845823084727, 303.5441997161898, 390.81846895621413, 414.67606477603755, 506.95217450146765, 293.4042461148187, 340.6425969783877, 373.97868706755236, 290.9210327099608, 346.96116001560216, 142.14256751724554, 241.94565649181578, 271.09013956932756, 297.2455578459466, 509.0214800287398, 289.60560009472283, 217.55878684527906, 466.6178976523653, 208.1679967483858, 503.13850456030497, 493.814917282618, 448.3201042149405, 388.6443367815385, 337.91413464365013, 437.16429949197664, 483.4057725178001, 284.56696642681646, 302.12325280969134, 384.23680203579306, 227.41898086494461, 320.0743330547439, 438.86054508174806, 183.09931693145703, 344.4909139677922, 165.79806239165433, 368.26656078838516, 338.60116351046344, 279.0301399218751, 334.4878725198492, 356.7948135908725, 644.8183066758803, 415.0903401095623, 366.9954275112727, 269.109528813633, 452.66002242984047, 524.8134180834782, 371.0302152741686, 286.3519820673892, 613.8430658201435, 434.63234651328025, 418.83037933269526, 306.3779578647354, 336.8259501844992, 373.4668636470579, 325.82892041816064, 383.15039609809617, 380.5214843069476, 545.9801982412763, 396.171112391617, 445.21509554245245, 421.1412447061912, 397.9391288956355, 756.1923725098497, 689.5233123659036, 320.9599230279341, 307.78311439850694, 428.0219127043747, 517.1734931165627, 390.3838567783597, 442.24265696115737, 221.881138746669, 312.83398436239065, 338.63301173022234, 413.05871935195154, 586.2182148097696, 288.0785187599688, 378.2738784387478, 515.9210732061051, 351.0432256921308, 466.6478402167172, 426.60859207171325, 414.16272789686775, 463.8098989043553, 465.80212163177373, 304.89964760284107, 445.1967876448791, 345.95804038831767, 325.79541506433713, 274.33846004864847, 491.8140030500954, 387.79414379681333, 453.34049829869934, 259.54716259308043, 630.8973025513741, 455.2180887853926, 343.0542609770136, 330.7364310191893, 453.7716045219721, 707.4028088888208, 223.11583290346024, 533.6884470076521, 361.45469198221224, 608.694967227678, 289.749665708438, 274.4579436322337, 458.7213317825408, 956.1841219171133, 478.4956365730093, 491.5892613631572, 377.51801557551835, 302.96737702840636, 435.5456667813491, 584.0737147409254, 568.6511487607912, 376.08359802951554, 548.0466890413603, 655.1980415945777, 703.0815676877947, null, 427.16626614177557, 591.4020223180053, 466.02648785310464, 615.0639297056517, 393.71733534550384, 483.16880334240136, 372.24198616911974, 332.40781536886453, 322.0822144332409, 503.89926133005366, 512.6307219919141, 364.62465302417013, 425.64225533080946, 235.99759251727426, 598.704795328917, 512.8402484358223, 506.22752218971993, 420.822184596571, 505.83481143735054, 653.3116166908643, 414.43569251368126, 1290.472106646641, 285.0095060630079, 293.2983722057751, 588.0747967826295, 217.0890689540353, 747.3335378171588, 753.0114133184368, 484.44355217067766, 620.4414065565543, 254.95866163273848, 544.5469286452765, 423.95272693478194, 456.2419957897522, 888.1821435177138, 691.8654114838455, 428.7265326799175, 630.3115352378672, 728.9797158498743, 358.30523872237734, 409.9438351783924, 694.4181461347432, 553.5627522522698, 567.3400104586143, 496.55100121228986, 428.9237926791115, 647.6496334575522, 464.1758436880091, 597.200528047448, 430.9396363161629, 470.85352986706454, 426.7863811847511, 432.9627229749631, 317.2219194303952, 716.3765095625198, 642.838478220973, 528.7265413888829, 1267.7662026328826, 220.11108719171108, 642.2195925518147, 300.1873092016618, 478.44335175268515, 654.801499892284, 379.92536172660726, 650.963515967709, 401.9350222176535, 490.36358286726374, 824.6586936349588, 371.9242451684328, 446.23924529045684, 773.4061347806703, 538.204698577284, 1045.2015459222662, 603.4509968798565, 714.2220737504065, 170.2925485152069, 524.6293121403909, 1119.8388773148026, 493.45560489574007, 708.1930316849231, 562.9112337982453, 558.2711194060469, 475.39318681250677, 282.02546830016496, 687.7829633004552, 429.4883174233179, 742.9797231632554, 479.9237488133093, 602.1158769435002, 465.68627450980387, 590.7928388746802, 458.0042993401075, 551.6956218496264, 473.1638149617127, 453.3793770708969, 1100.7911936704506, 598.6205414959003, 301.61864706270705, 485.8868855757771, 631.6456863280099, 790.1803690820187, 414.35585647200105, 694.358566653677, 453.4330812935196, 612.1061563311456, 772.7128362001238, 574.2740565313097, 536.5571018753241, null, 192.16524813774402, 435.9007753824155, 762.5272331154684, 493.61555763336935, 639.1464438694404, 576.4579094375945, 426.6849522707296, 918.2882682038704, 800.0388650775142, 1132.8373605554546, 571.7557085689908, 583.8486362312665, 529.847319131393, 544.6002639104154, 448.86919667679206, 890.9095931764135, 265.92982650327014, 564.6874764662283, 652.2879690318528, 438.4677874196749, 357.8946922463997, 910.1876901656897, 616.5723883169862, null, 605.3433249358948, 821.3009904764873, null, 793.2619915605263, 717.0825412171872, 439.7498835483721, 996.9902204858653, 417.33537892280015, 2258.702831998355, 677.8382318281795, 302.2218727063018, 481.46924427394237, 963.5226061641273, 340.98183523166995, 88.40151094606408, 986.8421052631579, 851.4014053492668, 661.0644257703083, 581.3708750724594, 1059.0656015492618, 566.7011760342162, 718.7768297452345, 1026.7911075237503, 534.2262501283425, null, 945.5665024630542, 531.8350322320708, 175.06606919629078, 571.5799833446893, 647.7704471840341, 518.1126504655916, 403.31113221139015, 445.9238282688497, 704.5664189758045, 636.4307703489127, 431.94460202359033, 1416.666666666667, 924.5691159025888, 879.0170132325142, 777.0083145338547, 799.4956512788842, 407.5533215595707, 40.7726253518439, 732.7206841423807, 1196.645436923929, 510.5769072143791, 996.3893635634033, 211.30136986006568, 1207.997484708169, 707.6516094320912, 1465.9685863874345, 1024.3398771365157, 531.1363737279744, 751.1737089201877, 903.0497705987848, 970.08547008547, 552.6025671312701, 328.31900668576884, 631.1954258724091], \"coloraxis\": \"coloraxis\"}, \"name\": \"\", \"type\": \"parcats\"}],                        {\"coloraxis\": {\"colorbar\": {\"title\": {\"text\": \"sale_price_sqr_foot\"}}, \"colorscale\": [[0.0, \"#000004\"], [0.1111111111111111, \"#1b0c41\"], [0.2222222222222222, \"#4a0c6b\"], [0.3333333333333333, \"#781c6d\"], [0.4444444444444444, \"#a52c60\"], [0.5555555555555556, \"#cf4446\"], [0.6666666666666666, \"#ed6925\"], [0.7777777777777778, \"#fb9b06\"], [0.8888888888888888, \"#f7d13d\"], [1.0, \"#fcffa4\"]]}, \"legend\": {\"tracegroupgap\": 0}, \"margin\": {\"t\": 60}, \"template\": {\"data\": {\"bar\": [{\"error_x\": {\"color\": \"#2a3f5f\"}, \"error_y\": {\"color\": \"#2a3f5f\"}, \"marker\": {\"line\": {\"color\": \"#E5ECF6\", \"width\": 0.5}}, \"type\": \"bar\"}], \"barpolar\": [{\"marker\": {\"line\": {\"color\": \"#E5ECF6\", \"width\": 0.5}}, \"type\": \"barpolar\"}], \"carpet\": [{\"aaxis\": {\"endlinecolor\": \"#2a3f5f\", \"gridcolor\": \"white\", \"linecolor\": \"white\", \"minorgridcolor\": \"white\", \"startlinecolor\": \"#2a3f5f\"}, \"baxis\": {\"endlinecolor\": \"#2a3f5f\", \"gridcolor\": \"white\", \"linecolor\": \"white\", \"minorgridcolor\": \"white\", \"startlinecolor\": \"#2a3f5f\"}, \"type\": \"carpet\"}], \"choropleth\": [{\"colorbar\": {\"outlinewidth\": 0, \"ticks\": \"\"}, \"type\": \"choropleth\"}], \"contour\": [{\"colorbar\": {\"outlinewidth\": 0, \"ticks\": \"\"}, \"colorscale\": [[0.0, \"#0d0887\"], [0.1111111111111111, \"#46039f\"], [0.2222222222222222, \"#7201a8\"], [0.3333333333333333, \"#9c179e\"], [0.4444444444444444, \"#bd3786\"], [0.5555555555555556, \"#d8576b\"], [0.6666666666666666, \"#ed7953\"], [0.7777777777777778, \"#fb9f3a\"], [0.8888888888888888, \"#fdca26\"], [1.0, \"#f0f921\"]], \"type\": \"contour\"}], \"contourcarpet\": [{\"colorbar\": {\"outlinewidth\": 0, \"ticks\": \"\"}, \"type\": \"contourcarpet\"}], \"heatmap\": [{\"colorbar\": {\"outlinewidth\": 0, \"ticks\": \"\"}, \"colorscale\": [[0.0, \"#0d0887\"], [0.1111111111111111, \"#46039f\"], [0.2222222222222222, \"#7201a8\"], [0.3333333333333333, \"#9c179e\"], [0.4444444444444444, \"#bd3786\"], [0.5555555555555556, \"#d8576b\"], [0.6666666666666666, \"#ed7953\"], [0.7777777777777778, \"#fb9f3a\"], [0.8888888888888888, \"#fdca26\"], [1.0, \"#f0f921\"]], \"type\": \"heatmap\"}], \"heatmapgl\": [{\"colorbar\": {\"outlinewidth\": 0, \"ticks\": \"\"}, \"colorscale\": [[0.0, \"#0d0887\"], [0.1111111111111111, \"#46039f\"], [0.2222222222222222, \"#7201a8\"], [0.3333333333333333, \"#9c179e\"], [0.4444444444444444, \"#bd3786\"], [0.5555555555555556, \"#d8576b\"], [0.6666666666666666, \"#ed7953\"], [0.7777777777777778, \"#fb9f3a\"], [0.8888888888888888, \"#fdca26\"], [1.0, \"#f0f921\"]], \"type\": \"heatmapgl\"}], \"histogram\": [{\"marker\": {\"colorbar\": {\"outlinewidth\": 0, \"ticks\": \"\"}}, \"type\": \"histogram\"}], \"histogram2d\": [{\"colorbar\": {\"outlinewidth\": 0, \"ticks\": \"\"}, \"colorscale\": [[0.0, \"#0d0887\"], [0.1111111111111111, \"#46039f\"], [0.2222222222222222, \"#7201a8\"], [0.3333333333333333, \"#9c179e\"], [0.4444444444444444, \"#bd3786\"], [0.5555555555555556, \"#d8576b\"], [0.6666666666666666, \"#ed7953\"], [0.7777777777777778, \"#fb9f3a\"], [0.8888888888888888, \"#fdca26\"], [1.0, \"#f0f921\"]], \"type\": \"histogram2d\"}], \"histogram2dcontour\": [{\"colorbar\": {\"outlinewidth\": 0, \"ticks\": \"\"}, \"colorscale\": [[0.0, \"#0d0887\"], [0.1111111111111111, \"#46039f\"], [0.2222222222222222, \"#7201a8\"], [0.3333333333333333, \"#9c179e\"], [0.4444444444444444, \"#bd3786\"], [0.5555555555555556, \"#d8576b\"], [0.6666666666666666, \"#ed7953\"], [0.7777777777777778, \"#fb9f3a\"], [0.8888888888888888, \"#fdca26\"], [1.0, \"#f0f921\"]], \"type\": \"histogram2dcontour\"}], \"mesh3d\": [{\"colorbar\": {\"outlinewidth\": 0, \"ticks\": \"\"}, \"type\": \"mesh3d\"}], \"parcoords\": [{\"line\": {\"colorbar\": {\"outlinewidth\": 0, \"ticks\": \"\"}}, \"type\": \"parcoords\"}], \"pie\": [{\"automargin\": true, \"type\": \"pie\"}], \"scatter\": [{\"marker\": {\"colorbar\": {\"outlinewidth\": 0, \"ticks\": \"\"}}, \"type\": \"scatter\"}], \"scatter3d\": [{\"line\": {\"colorbar\": {\"outlinewidth\": 0, \"ticks\": \"\"}}, \"marker\": {\"colorbar\": {\"outlinewidth\": 0, \"ticks\": \"\"}}, \"type\": \"scatter3d\"}], \"scattercarpet\": [{\"marker\": {\"colorbar\": {\"outlinewidth\": 0, \"ticks\": \"\"}}, \"type\": \"scattercarpet\"}], \"scattergeo\": [{\"marker\": {\"colorbar\": {\"outlinewidth\": 0, \"ticks\": \"\"}}, \"type\": \"scattergeo\"}], \"scattergl\": [{\"marker\": {\"colorbar\": {\"outlinewidth\": 0, \"ticks\": \"\"}}, \"type\": \"scattergl\"}], \"scattermapbox\": [{\"marker\": {\"colorbar\": {\"outlinewidth\": 0, \"ticks\": \"\"}}, \"type\": \"scattermapbox\"}], \"scatterpolar\": [{\"marker\": {\"colorbar\": {\"outlinewidth\": 0, \"ticks\": \"\"}}, \"type\": \"scatterpolar\"}], \"scatterpolargl\": [{\"marker\": {\"colorbar\": {\"outlinewidth\": 0, \"ticks\": \"\"}}, \"type\": \"scatterpolargl\"}], \"scatterternary\": [{\"marker\": {\"colorbar\": {\"outlinewidth\": 0, \"ticks\": \"\"}}, \"type\": \"scatterternary\"}], \"surface\": [{\"colorbar\": {\"outlinewidth\": 0, \"ticks\": \"\"}, \"colorscale\": [[0.0, \"#0d0887\"], [0.1111111111111111, \"#46039f\"], [0.2222222222222222, \"#7201a8\"], [0.3333333333333333, \"#9c179e\"], [0.4444444444444444, \"#bd3786\"], [0.5555555555555556, \"#d8576b\"], [0.6666666666666666, \"#ed7953\"], [0.7777777777777778, \"#fb9f3a\"], [0.8888888888888888, \"#fdca26\"], [1.0, \"#f0f921\"]], \"type\": \"surface\"}], \"table\": [{\"cells\": {\"fill\": {\"color\": \"#EBF0F8\"}, \"line\": {\"color\": \"white\"}}, \"header\": {\"fill\": {\"color\": \"#C8D4E3\"}, \"line\": {\"color\": \"white\"}}, \"type\": \"table\"}]}, \"layout\": {\"annotationdefaults\": {\"arrowcolor\": \"#2a3f5f\", \"arrowhead\": 0, \"arrowwidth\": 1}, \"autotypenumbers\": \"strict\", \"coloraxis\": {\"colorbar\": {\"outlinewidth\": 0, \"ticks\": \"\"}}, \"colorscale\": {\"diverging\": [[0, \"#8e0152\"], [0.1, \"#c51b7d\"], [0.2, \"#de77ae\"], [0.3, \"#f1b6da\"], [0.4, \"#fde0ef\"], [0.5, \"#f7f7f7\"], [0.6, \"#e6f5d0\"], [0.7, \"#b8e186\"], [0.8, \"#7fbc41\"], [0.9, \"#4d9221\"], [1, \"#276419\"]], \"sequential\": [[0.0, \"#0d0887\"], [0.1111111111111111, \"#46039f\"], [0.2222222222222222, \"#7201a8\"], [0.3333333333333333, \"#9c179e\"], [0.4444444444444444, \"#bd3786\"], [0.5555555555555556, \"#d8576b\"], [0.6666666666666666, \"#ed7953\"], [0.7777777777777778, \"#fb9f3a\"], [0.8888888888888888, \"#fdca26\"], [1.0, \"#f0f921\"]], \"sequentialminus\": [[0.0, \"#0d0887\"], [0.1111111111111111, \"#46039f\"], [0.2222222222222222, \"#7201a8\"], [0.3333333333333333, \"#9c179e\"], [0.4444444444444444, \"#bd3786\"], [0.5555555555555556, \"#d8576b\"], [0.6666666666666666, \"#ed7953\"], [0.7777777777777778, \"#fb9f3a\"], [0.8888888888888888, \"#fdca26\"], [1.0, \"#f0f921\"]]}, \"colorway\": [\"#636efa\", \"#EF553B\", \"#00cc96\", \"#ab63fa\", \"#FFA15A\", \"#19d3f3\", \"#FF6692\", \"#B6E880\", \"#FF97FF\", \"#FECB52\"], \"font\": {\"color\": \"#2a3f5f\"}, \"geo\": {\"bgcolor\": \"white\", \"lakecolor\": \"white\", \"landcolor\": \"#E5ECF6\", \"showlakes\": true, \"showland\": true, \"subunitcolor\": \"white\"}, \"hoverlabel\": {\"align\": \"left\"}, \"hovermode\": \"closest\", \"mapbox\": {\"style\": \"light\"}, \"paper_bgcolor\": \"white\", \"plot_bgcolor\": \"#E5ECF6\", \"polar\": {\"angularaxis\": {\"gridcolor\": \"white\", \"linecolor\": \"white\", \"ticks\": \"\"}, \"bgcolor\": \"#E5ECF6\", \"radialaxis\": {\"gridcolor\": \"white\", \"linecolor\": \"white\", \"ticks\": \"\"}}, \"scene\": {\"xaxis\": {\"backgroundcolor\": \"#E5ECF6\", \"gridcolor\": \"white\", \"gridwidth\": 2, \"linecolor\": \"white\", \"showbackground\": true, \"ticks\": \"\", \"zerolinecolor\": \"white\"}, \"yaxis\": {\"backgroundcolor\": \"#E5ECF6\", \"gridcolor\": \"white\", \"gridwidth\": 2, \"linecolor\": \"white\", \"showbackground\": true, \"ticks\": \"\", \"zerolinecolor\": \"white\"}, \"zaxis\": {\"backgroundcolor\": \"#E5ECF6\", \"gridcolor\": \"white\", \"gridwidth\": 2, \"linecolor\": \"white\", \"showbackground\": true, \"ticks\": \"\", \"zerolinecolor\": \"white\"}}, \"shapedefaults\": {\"line\": {\"color\": \"#2a3f5f\"}}, \"ternary\": {\"aaxis\": {\"gridcolor\": \"white\", \"linecolor\": \"white\", \"ticks\": \"\"}, \"baxis\": {\"gridcolor\": \"white\", \"linecolor\": \"white\", \"ticks\": \"\"}, \"bgcolor\": \"#E5ECF6\", \"caxis\": {\"gridcolor\": \"white\", \"linecolor\": \"white\", \"ticks\": \"\"}}, \"title\": {\"x\": 0.05}, \"xaxis\": {\"automargin\": true, \"gridcolor\": \"white\", \"linecolor\": \"white\", \"ticks\": \"\", \"title\": {\"standoff\": 15}, \"zerolinecolor\": \"white\", \"zerolinewidth\": 2}, \"yaxis\": {\"automargin\": true, \"gridcolor\": \"white\", \"linecolor\": \"white\", \"ticks\": \"\", \"title\": {\"standoff\": 15}, \"zerolinecolor\": \"white\", \"zerolinewidth\": 2}}}},                        {\"responsive\": true}                    ).then(function(){\n",
       "                            \n",
       "var gd = document.getElementById('ac579d56-5700-43f7-83d0-d7bca87c8a74');\n",
       "var x = new MutationObserver(function (mutations, observer) {{\n",
       "        var display = window.getComputedStyle(gd).display;\n",
       "        if (!display || display === 'none') {{\n",
       "            console.log([gd, 'removed!']);\n",
       "            Plotly.purge(gd);\n",
       "            observer.disconnect();\n",
       "        }}\n",
       "}});\n",
       "\n",
       "// Listen for the removal of the full notebook cells\n",
       "var notebookContainer = gd.closest('#notebook-container');\n",
       "if (notebookContainer) {{\n",
       "    x.observe(notebookContainer, {childList: true});\n",
       "}}\n",
       "\n",
       "// Listen for the clearing of the current output cell\n",
       "var outputEl = gd.closest('.output');\n",
       "if (outputEl) {{\n",
       "    x.observe(outputEl, {childList: true});\n",
       "}}\n",
       "\n",
       "                        })                };                });            </script>        </div>"
      ]
     },
     "metadata": {},
     "output_type": "display_data"
    }
   ],
   "source": [
    "mp_plot_2 = px.parallel_categories(avg_prices_neighbourhood,color=\"sale_price_sqr_foot\", color_continuous_scale=px.colors.sequential.Inferno)\n",
    "# From some reason it gives blank result\n",
    "mp_plot_2"
   ]
  },
  {
   "cell_type": "markdown",
   "metadata": {},
   "source": [
    "- Plotting Average Sales Price per Year"
   ]
  },
  {
   "cell_type": "code",
   "execution_count": 48,
   "metadata": {},
   "outputs": [
    {
     "data": {},
     "metadata": {},
     "output_type": "display_data"
    },
    {
     "data": {
      "application/vnd.holoviews_exec.v0+json": "",
      "text/html": [
       "<div id='2873'>\n",
       "\n",
       "\n",
       "\n",
       "\n",
       "\n",
       "  <div class=\"bk-root\" id=\"fa8aca56-ffbb-4f90-9c04-a791fb0138ee\" data-root-id=\"2873\"></div>\n",
       "</div>\n",
       "<script type=\"application/javascript\">(function(root) {\n",
       "  function embed_document(root) {\n",
       "    var docs_json = {\"4882487d-d0cf-4a72-a7c4-6cfe38475850\":{\"roots\":{\"references\":[{\"attributes\":{},\"id\":\"2927\",\"type\":\"UnionRenderers\"},{\"attributes\":{\"axis\":{\"id\":\"2887\"},\"grid_line_color\":null,\"ticker\":null},\"id\":\"2890\",\"type\":\"Grid\"},{\"attributes\":{\"line_color\":\"#1f77b3\",\"line_width\":2,\"x\":{\"field\":\"year\"},\"y\":{\"field\":\"sale_price_sqr_foot\"}},\"id\":\"2911\",\"type\":\"Line\"},{\"attributes\":{},\"id\":\"2892\",\"type\":\"BasicTicker\"},{\"attributes\":{\"axis_label\":\"\",\"bounds\":\"auto\",\"formatter\":{\"id\":\"2919\"},\"major_label_orientation\":\"horizontal\",\"ticker\":{\"id\":\"2892\"}},\"id\":\"2891\",\"type\":\"LinearAxis\"},{\"attributes\":{\"end\":2016.0,\"reset_end\":2016.0,\"reset_start\":2010.0,\"start\":2010.0,\"tags\":[[[\"year\",\"year\",null]]]},\"id\":\"2875\",\"type\":\"Range1d\"},{\"attributes\":{\"axis_label\":\"year\",\"bounds\":\"auto\",\"formatter\":{\"id\":\"2917\"},\"major_label_orientation\":\"horizontal\",\"ticker\":{\"id\":\"2888\"}},\"id\":\"2887\",\"type\":\"LinearAxis\"},{\"attributes\":{\"below\":[{\"id\":\"2887\"}],\"center\":[{\"id\":\"2890\"},{\"id\":\"2894\"}],\"left\":[{\"id\":\"2891\"}],\"margin\":[5,5,5,5],\"min_border_bottom\":10,\"min_border_left\":10,\"min_border_right\":10,\"min_border_top\":10,\"plot_height\":300,\"plot_width\":700,\"renderers\":[{\"id\":\"2914\"}],\"sizing_mode\":\"fixed\",\"title\":{\"id\":\"2879\"},\"toolbar\":{\"id\":\"2901\"},\"x_range\":{\"id\":\"2875\"},\"x_scale\":{\"id\":\"2883\"},\"y_range\":{\"id\":\"2876\"},\"y_scale\":{\"id\":\"2885\"}},\"id\":\"2878\",\"subtype\":\"Figure\",\"type\":\"Plot\"},{\"attributes\":{\"line_alpha\":0.1,\"line_color\":\"#1f77b3\",\"line_width\":2,\"x\":{\"field\":\"year\"},\"y\":{\"field\":\"sale_price_sqr_foot\"}},\"id\":\"2912\",\"type\":\"Line\"},{\"attributes\":{\"line_alpha\":0.2,\"line_color\":\"#1f77b3\",\"line_width\":2,\"x\":{\"field\":\"year\"},\"y\":{\"field\":\"sale_price_sqr_foot\"}},\"id\":\"2913\",\"type\":\"Line\"},{\"attributes\":{\"bottom_units\":\"screen\",\"fill_alpha\":0.5,\"fill_color\":\"lightgrey\",\"left_units\":\"screen\",\"level\":\"overlay\",\"line_alpha\":1.0,\"line_color\":\"black\",\"line_dash\":[4,4],\"line_width\":2,\"right_units\":\"screen\",\"top_units\":\"screen\"},\"id\":\"2900\",\"type\":\"BoxAnnotation\"},{\"attributes\":{\"source\":{\"id\":\"2908\"}},\"id\":\"2915\",\"type\":\"CDSView\"},{\"attributes\":{\"data\":{\"sale_price_sqr_foot\":{\"__ndarray__\":\"tQKjeIIVd0Do7CdydF51QGdijk899nhAaBKk2Jo5fkDGKCTbN2KBQPETFqRSxINAUB33UCbNhUA=\",\"dtype\":\"float64\",\"order\":\"little\",\"shape\":[7]},\"year\":[2010,2011,2012,2013,2014,2015,2016]},\"selected\":{\"id\":\"2909\"},\"selection_policy\":{\"id\":\"2927\"}},\"id\":\"2908\",\"type\":\"ColumnDataSource\"},{\"attributes\":{},\"id\":\"2909\",\"type\":\"Selection\"},{\"attributes\":{\"active_drag\":\"auto\",\"active_inspect\":\"auto\",\"active_multi\":null,\"active_scroll\":\"auto\",\"active_tap\":\"auto\",\"tools\":[{\"id\":\"2877\"},{\"id\":\"2895\"},{\"id\":\"2896\"},{\"id\":\"2897\"},{\"id\":\"2898\"},{\"id\":\"2899\"}]},\"id\":\"2901\",\"type\":\"Toolbar\"},{\"attributes\":{},\"id\":\"2895\",\"type\":\"SaveTool\"},{\"attributes\":{},\"id\":\"2917\",\"type\":\"BasicTickFormatter\"},{\"attributes\":{\"callback\":null,\"renderers\":[{\"id\":\"2914\"}],\"tags\":[\"hv_created\"],\"tooltips\":[[\"year\",\"@{year}\"],[\"sale_price_sqr_foot\",\"@{sale_price_sqr_foot}\"]]},\"id\":\"2877\",\"type\":\"HoverTool\"},{\"attributes\":{},\"id\":\"2896\",\"type\":\"PanTool\"},{\"attributes\":{\"margin\":[5,5,5,5],\"name\":\"HSpacer03989\",\"sizing_mode\":\"stretch_width\"},\"id\":\"2936\",\"type\":\"Spacer\"},{\"attributes\":{},\"id\":\"2897\",\"type\":\"WheelZoomTool\"},{\"attributes\":{},\"id\":\"2883\",\"type\":\"LinearScale\"},{\"attributes\":{\"data_source\":{\"id\":\"2908\"},\"glyph\":{\"id\":\"2911\"},\"hover_glyph\":null,\"muted_glyph\":{\"id\":\"2913\"},\"nonselection_glyph\":{\"id\":\"2912\"},\"selection_glyph\":null,\"view\":{\"id\":\"2915\"}},\"id\":\"2914\",\"type\":\"GlyphRenderer\"},{\"attributes\":{\"axis\":{\"id\":\"2891\"},\"dimension\":1,\"grid_line_color\":null,\"ticker\":null},\"id\":\"2894\",\"type\":\"Grid\"},{\"attributes\":{\"overlay\":{\"id\":\"2900\"}},\"id\":\"2898\",\"type\":\"BoxZoomTool\"},{\"attributes\":{},\"id\":\"2919\",\"type\":\"BasicTickFormatter\"},{\"attributes\":{\"children\":[{\"id\":\"2874\"},{\"id\":\"2878\"},{\"id\":\"2936\"}],\"margin\":[0,0,0,0],\"name\":\"Row03984\",\"tags\":[\"embedded\"]},\"id\":\"2873\",\"type\":\"Row\"},{\"attributes\":{\"end\":733.2177371101802,\"reset_end\":733.2177371101802,\"reset_start\":306.3294011864627,\"start\":306.3294011864627,\"tags\":[[[\"sale_price_sqr_foot\",\"sale_price_sqr_foot\",null]]]},\"id\":\"2876\",\"type\":\"Range1d\"},{\"attributes\":{},\"id\":\"2899\",\"type\":\"ResetTool\"},{\"attributes\":{\"text\":\"Average Sale Price Per Square Foot In San Francisco\",\"text_color\":{\"value\":\"black\"},\"text_font_size\":{\"value\":\"12pt\"}},\"id\":\"2879\",\"type\":\"Title\"},{\"attributes\":{\"margin\":[5,5,5,5],\"name\":\"HSpacer03988\",\"sizing_mode\":\"stretch_width\"},\"id\":\"2874\",\"type\":\"Spacer\"},{\"attributes\":{},\"id\":\"2885\",\"type\":\"LinearScale\"},{\"attributes\":{},\"id\":\"2888\",\"type\":\"BasicTicker\"}],\"root_ids\":[\"2873\"]},\"title\":\"Bokeh Application\",\"version\":\"2.2.3\"}};\n",
       "    var render_items = [{\"docid\":\"4882487d-d0cf-4a72-a7c4-6cfe38475850\",\"root_ids\":[\"2873\"],\"roots\":{\"2873\":\"fa8aca56-ffbb-4f90-9c04-a791fb0138ee\"}}];\n",
       "    root.Bokeh.embed.embed_items_notebook(docs_json, render_items);\n",
       "  }\n",
       "  if (root.Bokeh !== undefined && root.Bokeh.Panel !== undefined) {\n",
       "    embed_document(root);\n",
       "  } else {\n",
       "    var attempts = 0;\n",
       "    var timer = setInterval(function(root) {\n",
       "      if (root.Bokeh !== undefined && root.Bokeh.Panel !== undefined) {\n",
       "        clearInterval(timer);\n",
       "        embed_document(root);\n",
       "      } else if (document.readyState == \"complete\") {\n",
       "        attempts++;\n",
       "        if (attempts > 100) {\n",
       "          clearInterval(timer);\n",
       "          console.log(\"Bokeh: ERROR: Unable to run BokehJS code because BokehJS library is missing\");\n",
       "        }\n",
       "      }\n",
       "    }, 10, root)\n",
       "  }\n",
       "})(window);</script>"
      ],
      "text/plain": [
       ":Curve   [year]   (sale_price_sqr_foot)"
      ]
     },
     "execution_count": 48,
     "metadata": {
      "application/vnd.holoviews_exec.v0+json": {
       "id": "2873"
      }
     },
     "output_type": "execute_result"
    }
   ],
   "source": [
    "avg_sales_plot= avg_gross_rent[\"sale_price_sqr_foot\"].hvplot(kind=\"line\", title = \" Average Sale Price Per Square Foot In San Francisco\")\n",
    "avg_sales_plot"
   ]
  },
  {
   "cell_type": "markdown",
   "metadata": {},
   "source": [
    "### Creating Columns"
   ]
  },
  {
   "cell_type": "code",
   "execution_count": 49,
   "metadata": {},
   "outputs": [
    {
     "data": {},
     "metadata": {},
     "output_type": "display_data"
    },
    {
     "data": {},
     "metadata": {},
     "output_type": "display_data"
    },
    {
     "data": {
      "application/vnd.holoviews_exec.v0+json": "",
      "text/html": [
       "<div id='2978'>\n",
       "\n",
       "\n",
       "\n",
       "\n",
       "\n",
       "  <div class=\"bk-root\" id=\"59edfaf7-f651-4795-a5c2-94cb46e6408d\" data-root-id=\"2978\"></div>\n",
       "</div>\n",
       "<script type=\"application/javascript\">(function(root) {\n",
       "  function embed_document(root) {\n",
       "    var docs_json = {\"3d82b9f1-8478-4313-8216-0b4ef9c99dae\":{\"roots\":{\"references\":[{\"attributes\":{},\"id\":\"2993\",\"type\":\"CategoricalTicker\"},{\"attributes\":{\"data\":{\"neighborhood\":[\"Union Square District\",\"Merced Heights\",\"Miraloma Park\",\"Pacific Heights\",\"Westwood Park\",\"Telegraph Hill\",\"Presidio Heights\",\"Cow Hollow\",\"Potrero Hill\",\"South Beach\"],\"sale_price_sqr_foot\":{\"__ndarray__\":\"JRAUMfI/jEB9IrkvwqaIQFx/3pp8XohAFpsVUHKMhUBs0ERas3iFQL0KhXgNJIVAy835O80ahUANV25bts+EQJrMCuEbsIRAya3y7v5QhEA=\",\"dtype\":\"float64\",\"order\":\"little\",\"shape\":[10]}},\"selected\":{\"id\":\"3013\"},\"selection_policy\":{\"id\":\"3031\"}},\"id\":\"3012\",\"type\":\"ColumnDataSource\"},{\"attributes\":{\"end\":2016.0,\"reset_end\":2016.0,\"reset_start\":2010.0,\"start\":2010.0,\"tags\":[[[\"year\",\"year\",null]]]},\"id\":\"3041\",\"type\":\"Range1d\"},{\"attributes\":{\"bottom_units\":\"screen\",\"fill_alpha\":0.5,\"fill_color\":\"lightgrey\",\"left_units\":\"screen\",\"level\":\"overlay\",\"line_alpha\":1.0,\"line_color\":\"black\",\"line_dash\":[4,4],\"line_width\":2,\"right_units\":\"screen\",\"top_units\":\"screen\"},\"id\":\"3066\",\"type\":\"BoxAnnotation\"},{\"attributes\":{\"callback\":null,\"renderers\":[{\"id\":\"3080\"}],\"tags\":[\"hv_created\"],\"tooltips\":[[\"year\",\"@{year}\"],[\"sale_price_sqr_foot\",\"@{sale_price_sqr_foot}\"]]},\"id\":\"3043\",\"type\":\"HoverTool\"},{\"attributes\":{},\"id\":\"3083\",\"type\":\"BasicTickFormatter\"},{\"attributes\":{\"data_source\":{\"id\":\"3074\"},\"glyph\":{\"id\":\"3077\"},\"hover_glyph\":null,\"muted_glyph\":{\"id\":\"3079\"},\"nonselection_glyph\":{\"id\":\"3078\"},\"selection_glyph\":null,\"view\":{\"id\":\"3081\"}},\"id\":\"3080\",\"type\":\"GlyphRenderer\"},{\"attributes\":{\"factors\":[\"Union Square District\",\"Merced Heights\",\"Miraloma Park\",\"Pacific Heights\",\"Westwood Park\",\"Telegraph Hill\",\"Presidio Heights\",\"Cow Hollow\",\"Potrero Hill\",\"South Beach\"],\"tags\":[[[\"neighborhood\",\"neighborhood\",null]]]},\"id\":\"2980\",\"type\":\"FactorRange\"},{\"attributes\":{\"source\":{\"id\":\"3012\"}},\"id\":\"3019\",\"type\":\"CDSView\"},{\"attributes\":{\"fill_alpha\":{\"value\":0.1},\"fill_color\":{\"value\":\"#1f77b3\"},\"line_alpha\":{\"value\":0.1},\"top\":{\"field\":\"sale_price_sqr_foot\"},\"width\":{\"value\":0.8},\"x\":{\"field\":\"neighborhood\"}},\"id\":\"3016\",\"type\":\"VBar\"},{\"attributes\":{\"axis\":{\"id\":\"3057\"},\"dimension\":1,\"grid_line_color\":null,\"ticker\":null},\"id\":\"3060\",\"type\":\"Grid\"},{\"attributes\":{},\"id\":\"2988\",\"type\":\"CategoricalScale\"},{\"attributes\":{},\"id\":\"3054\",\"type\":\"BasicTicker\"},{\"attributes\":{\"text\":\"\",\"text_color\":{\"value\":\"black\"},\"text_font_size\":{\"value\":\"12pt\"}},\"id\":\"2984\",\"type\":\"Title\"},{\"attributes\":{\"below\":[{\"id\":\"2992\"}],\"center\":[{\"id\":\"2994\"},{\"id\":\"2998\"}],\"left\":[{\"id\":\"2995\"}],\"margin\":[5,5,5,5],\"min_border_bottom\":10,\"min_border_left\":10,\"min_border_right\":10,\"min_border_top\":10,\"plot_height\":300,\"plot_width\":700,\"renderers\":[{\"id\":\"3018\"}],\"sizing_mode\":\"fixed\",\"title\":{\"id\":\"2984\"},\"toolbar\":{\"id\":\"3005\"},\"x_range\":{\"id\":\"2980\"},\"x_scale\":{\"id\":\"2988\"},\"y_range\":{\"id\":\"2981\"},\"y_scale\":{\"id\":\"2990\"}},\"id\":\"2983\",\"subtype\":\"Figure\",\"type\":\"Plot\"},{\"attributes\":{\"axis_label\":\"Year\",\"bounds\":\"auto\",\"formatter\":{\"id\":\"3083\"},\"major_label_orientation\":\"horizontal\",\"ticker\":{\"id\":\"3054\"}},\"id\":\"3053\",\"type\":\"LinearAxis\"},{\"attributes\":{},\"id\":\"3085\",\"type\":\"BasicTickFormatter\"},{\"attributes\":{\"data\":{\"sale_price_sqr_foot\":{\"__ndarray__\":\"Dkc7WO0yckCafszcbwhxQIGRs5ot42ZAJzog0LQ8eEAWMinKGEd+QI0V5FDt0IJAVCHcmLVPdUA=\",\"dtype\":\"float64\",\"order\":\"little\",\"shape\":[7]},\"year\":[2010,2011,2012,2013,2014,2015,2016]},\"selected\":{\"id\":\"3075\"},\"selection_policy\":{\"id\":\"3097\"}},\"id\":\"3074\",\"type\":\"ColumnDataSource\"},{\"attributes\":{},\"id\":\"3001\",\"type\":\"WheelZoomTool\"},{\"attributes\":{},\"id\":\"3051\",\"type\":\"LinearScale\"},{\"attributes\":{\"bottom_units\":\"screen\",\"fill_alpha\":0.5,\"fill_color\":\"lightgrey\",\"left_units\":\"screen\",\"level\":\"overlay\",\"line_alpha\":1.0,\"line_color\":\"black\",\"line_dash\":[4,4],\"line_width\":2,\"right_units\":\"screen\",\"top_units\":\"screen\"},\"id\":\"3004\",\"type\":\"BoxAnnotation\"},{\"attributes\":{\"end\":929.3801355198136,\"reset_end\":929.3801355198136,\"reset_start\":0.0,\"tags\":[[[\"sale_price_sqr_foot\",\"sale_price_sqr_foot\",null]]]},\"id\":\"2981\",\"type\":\"Range1d\"},{\"attributes\":{},\"id\":\"3049\",\"type\":\"LinearScale\"},{\"attributes\":{\"fill_color\":{\"value\":\"#1f77b3\"},\"top\":{\"field\":\"sale_price_sqr_foot\"},\"width\":{\"value\":0.8},\"x\":{\"field\":\"neighborhood\"}},\"id\":\"3015\",\"type\":\"VBar\"},{\"attributes\":{\"children\":[{\"id\":\"3044\"},{\"id\":\"3106\"}],\"margin\":[0,0,0,0],\"name\":\"Row04095\"},\"id\":\"3040\",\"type\":\"Row\"},{\"attributes\":{\"axis_label\":\"Average Sale Price Per Square Foot\",\"bounds\":\"auto\",\"formatter\":{\"id\":\"3023\"},\"major_label_orientation\":\"horizontal\",\"ticker\":{\"id\":\"2996\"}},\"id\":\"2995\",\"type\":\"LinearAxis\"},{\"attributes\":{\"line_alpha\":0.2,\"line_color\":\"#1f77b3\",\"line_width\":2,\"x\":{\"field\":\"year\"},\"y\":{\"field\":\"sale_price_sqr_foot\"}},\"id\":\"3079\",\"type\":\"Line\"},{\"attributes\":{},\"id\":\"3003\",\"type\":\"ResetTool\"},{\"attributes\":{\"axis\":{\"id\":\"3053\"},\"grid_line_color\":null,\"ticker\":null},\"id\":\"3056\",\"type\":\"Grid\"},{\"attributes\":{},\"id\":\"2996\",\"type\":\"BasicTicker\"},{\"attributes\":{\"callback\":null,\"renderers\":[{\"id\":\"3018\"}],\"tags\":[\"hv_created\"],\"tooltips\":[[\"neighborhood\",\"@{neighborhood}\"],[\"sale_price_sqr_foot\",\"@{sale_price_sqr_foot}\"]]},\"id\":\"2982\",\"type\":\"HoverTool\"},{\"attributes\":{\"css_classes\":[\"markdown\"],\"margin\":[5,5,5,5],\"name\":\"Markdown04087\",\"text\":\"&lt;h2&gt;Neighborhood Analysis&lt;/h2&gt;\"},\"id\":\"2979\",\"type\":\"panel.models.markup.HTML\"},{\"attributes\":{},\"id\":\"3021\",\"type\":\"CategoricalTickFormatter\"},{\"attributes\":{\"text\":\"neighborhood: Alamo Square\",\"text_color\":{\"value\":\"black\"},\"text_font_size\":{\"value\":\"12pt\"}},\"id\":\"3045\",\"type\":\"Title\"},{\"attributes\":{\"axis_label\":\"Average Sales Prices per Square Foot\",\"bounds\":\"auto\",\"formatter\":{\"id\":\"3085\"},\"major_label_orientation\":\"horizontal\",\"ticker\":{\"id\":\"3058\"}},\"id\":\"3057\",\"type\":\"LinearAxis\"},{\"attributes\":{},\"id\":\"3023\",\"type\":\"BasicTickFormatter\"},{\"attributes\":{},\"id\":\"3013\",\"type\":\"Selection\"},{\"attributes\":{},\"id\":\"3058\",\"type\":\"BasicTicker\"},{\"attributes\":{},\"id\":\"3000\",\"type\":\"PanTool\"},{\"attributes\":{\"source\":{\"id\":\"3074\"}},\"id\":\"3081\",\"type\":\"CDSView\"},{\"attributes\":{\"client_comm_id\":\"e697da6702cf41e89c59599493a39f50\",\"comm_id\":\"c3935a7074c24b9ebbad378401296687\",\"plot_id\":\"2978\"},\"id\":\"3158\",\"type\":\"panel.models.comm_manager.CommManager\"},{\"attributes\":{\"data_source\":{\"id\":\"3012\"},\"glyph\":{\"id\":\"3015\"},\"hover_glyph\":null,\"muted_glyph\":{\"id\":\"3017\"},\"nonselection_glyph\":{\"id\":\"3016\"},\"selection_glyph\":null,\"view\":{\"id\":\"3019\"}},\"id\":\"3018\",\"type\":\"GlyphRenderer\"},{\"attributes\":{},\"id\":\"3097\",\"type\":\"UnionRenderers\"},{\"attributes\":{},\"id\":\"2999\",\"type\":\"SaveTool\"},{\"attributes\":{},\"id\":\"3061\",\"type\":\"SaveTool\"},{\"attributes\":{\"line_alpha\":0.1,\"line_color\":\"#1f77b3\",\"line_width\":2,\"x\":{\"field\":\"year\"},\"y\":{\"field\":\"sale_price_sqr_foot\"}},\"id\":\"3078\",\"type\":\"Line\"},{\"attributes\":{\"line_color\":\"#1f77b3\",\"line_width\":2,\"x\":{\"field\":\"year\"},\"y\":{\"field\":\"sale_price_sqr_foot\"}},\"id\":\"3077\",\"type\":\"Line\"},{\"attributes\":{\"fill_alpha\":{\"value\":0.2},\"fill_color\":{\"value\":\"#1f77b3\"},\"line_alpha\":{\"value\":0.2},\"top\":{\"field\":\"sale_price_sqr_foot\"},\"width\":{\"value\":0.8},\"x\":{\"field\":\"neighborhood\"}},\"id\":\"3017\",\"type\":\"VBar\"},{\"attributes\":{},\"id\":\"3062\",\"type\":\"PanTool\"},{\"attributes\":{\"below\":[{\"id\":\"3053\"}],\"center\":[{\"id\":\"3056\"},{\"id\":\"3060\"}],\"left\":[{\"id\":\"3057\"}],\"margin\":[5,5,5,5],\"min_border_bottom\":10,\"min_border_left\":10,\"min_border_right\":10,\"min_border_top\":10,\"plot_height\":300,\"plot_width\":700,\"renderers\":[{\"id\":\"3080\"}],\"sizing_mode\":\"fixed\",\"title\":{\"id\":\"3045\"},\"toolbar\":{\"id\":\"3067\"},\"x_range\":{\"id\":\"3041\"},\"x_scale\":{\"id\":\"3049\"},\"y_range\":{\"id\":\"2981\"},\"y_scale\":{\"id\":\"3051\"}},\"id\":\"3044\",\"subtype\":\"Figure\",\"type\":\"Plot\"},{\"attributes\":{\"active_drag\":\"auto\",\"active_inspect\":\"auto\",\"active_multi\":null,\"active_scroll\":\"auto\",\"active_tap\":\"auto\",\"tools\":[{\"id\":\"3043\"},{\"id\":\"3061\"},{\"id\":\"3062\"},{\"id\":\"3063\"},{\"id\":\"3064\"},{\"id\":\"3065\"}]},\"id\":\"3067\",\"type\":\"Toolbar\"},{\"attributes\":{\"axis\":{\"id\":\"2992\"},\"grid_line_color\":null,\"ticker\":null},\"id\":\"2994\",\"type\":\"Grid\"},{\"attributes\":{},\"id\":\"3063\",\"type\":\"WheelZoomTool\"},{\"attributes\":{\"overlay\":{\"id\":\"3066\"}},\"id\":\"3064\",\"type\":\"BoxZoomTool\"},{\"attributes\":{\"active_drag\":\"auto\",\"active_inspect\":\"auto\",\"active_multi\":null,\"active_scroll\":\"auto\",\"active_tap\":\"auto\",\"tools\":[{\"id\":\"2982\"},{\"id\":\"2999\"},{\"id\":\"3000\"},{\"id\":\"3001\"},{\"id\":\"3002\"},{\"id\":\"3003\"}]},\"id\":\"3005\",\"type\":\"Toolbar\"},{\"attributes\":{},\"id\":\"2990\",\"type\":\"LinearScale\"},{\"attributes\":{\"axis_label\":\"Neighborhood\",\"bounds\":\"auto\",\"formatter\":{\"id\":\"3021\"},\"major_label_orientation\":\"horizontal\",\"ticker\":{\"id\":\"2993\"}},\"id\":\"2992\",\"type\":\"CategoricalAxis\"},{\"attributes\":{\"overlay\":{\"id\":\"3004\"}},\"id\":\"3002\",\"type\":\"BoxZoomTool\"},{\"attributes\":{\"children\":[{\"id\":\"3107\"},{\"id\":\"3109\"}],\"margin\":[0,0,0,0],\"name\":\"Column04102\"},\"id\":\"3106\",\"type\":\"Column\"},{\"attributes\":{},\"id\":\"3065\",\"type\":\"ResetTool\"},{\"attributes\":{\"axis\":{\"id\":\"2995\"},\"dimension\":1,\"grid_line_color\":null,\"ticker\":null},\"id\":\"2998\",\"type\":\"Grid\"},{\"attributes\":{\"margin\":[20,20,20,20],\"min_width\":250,\"options\":[\"Alamo Square\",\"Anza Vista\",\"Bayview\",\"Buena Vista Park\",\"Central Richmond\",\"Central Sunset\",\"Corona Heights\",\"Cow Hollow\",\"Croker Amazon\",\"Diamond Heights\",\"Downtown \",\"Eureka Valley/Dolores Heights\",\"Excelsior\",\"Financial District North\",\"Financial District South\",\"Forest Knolls\",\"Glen Park\",\"Golden Gate Heights\",\"Haight Ashbury\",\"Hayes Valley\",\"Hunters Point\",\"Ingleside \",\"Inner Mission\",\"Inner Parkside\",\"Inner Richmond\",\"Inner Sunset\",\"Jordan Park/Laurel Heights\",\"Lake --The Presidio\",\"Lone Mountain\",\"Lower Pacific Heights\",\"Marina\",\"Miraloma Park\",\"Mission Bay\",\"Mission Dolores\",\"Mission Terrace\",\"Nob Hill\",\"Noe Valley\",\"Oceanview\",\"Outer Parkside\",\"Outer Richmond \",\"Outer Sunset\",\"Pacific Heights\",\"Park North\",\"Parkside\",\"Parnassus/Ashbury Heights\",\"Portola\",\"Potrero Hill\",\"Presidio Heights\",\"Russian Hill\",\"South Beach\",\"South of Market\",\"Sunnyside\",\"Telegraph Hill\",\"Twin Peaks\",\"Union Square District\",\"Van Ness/ Civic Center\",\"West Portal\",\"Western Addition\",\"Yerba Buena\",\"Bernal Heights \",\"Clarendon Heights\",\"Duboce Triangle\",\"Ingleside Heights\",\"North Beach\",\"North Waterfront\",\"Outer Mission\",\"Westwood Highlands\",\"Merced Heights\",\"Midtown Terrace\",\"Visitacion Valley\",\"Silver Terrace\",\"Westwood Park\",\"Bayview Heights\"],\"title\":\"neighborhood\",\"value\":\"Alamo Square\",\"width\":250},\"id\":\"3108\",\"type\":\"Select\"},{\"attributes\":{\"children\":[{\"id\":\"2979\"},{\"id\":\"2983\"},{\"id\":\"3040\"}],\"margin\":[0,0,0,0],\"name\":\"Column04103\"},\"id\":\"2978\",\"type\":\"Column\"},{\"attributes\":{\"children\":[{\"id\":\"3108\"}],\"css_classes\":[\"panel-widget-box\"],\"margin\":[5,5,5,5],\"name\":\"WidgetBox04096\"},\"id\":\"3107\",\"type\":\"Column\"},{\"attributes\":{},\"id\":\"3031\",\"type\":\"UnionRenderers\"},{\"attributes\":{},\"id\":\"3075\",\"type\":\"Selection\"},{\"attributes\":{\"margin\":[5,5,5,5],\"name\":\"VSpacer04101\",\"sizing_mode\":\"stretch_height\"},\"id\":\"3109\",\"type\":\"Spacer\"}],\"root_ids\":[\"2978\",\"3158\"]},\"title\":\"Bokeh Application\",\"version\":\"2.2.3\"}};\n",
       "    var render_items = [{\"docid\":\"3d82b9f1-8478-4313-8216-0b4ef9c99dae\",\"root_ids\":[\"2978\"],\"roots\":{\"2978\":\"59edfaf7-f651-4795-a5c2-94cb46e6408d\"}}];\n",
       "    root.Bokeh.embed.embed_items_notebook(docs_json, render_items);\n",
       "  }\n",
       "  if (root.Bokeh !== undefined && root.Bokeh.Panel !== undefined) {\n",
       "    embed_document(root);\n",
       "  } else {\n",
       "    var attempts = 0;\n",
       "    var timer = setInterval(function(root) {\n",
       "      if (root.Bokeh !== undefined && root.Bokeh.Panel !== undefined) {\n",
       "        clearInterval(timer);\n",
       "        embed_document(root);\n",
       "      } else if (document.readyState == \"complete\") {\n",
       "        attempts++;\n",
       "        if (attempts > 100) {\n",
       "          clearInterval(timer);\n",
       "          console.log(\"Bokeh: ERROR: Unable to run BokehJS code because BokehJS library is missing\");\n",
       "        }\n",
       "      }\n",
       "    }, 10, root)\n",
       "  }\n",
       "})(window);</script>"
      ],
      "text/plain": [
       "Column\n",
       "    [0] Markdown(str)\n",
       "    [1] HoloViews(Bars)\n",
       "    [2] Row\n",
       "        [0] HoloViews(DynamicMap)\n",
       "        [1] Column\n",
       "            [0] WidgetBox\n",
       "                [0] Select(margin=(20, 20, 20, 20), name='neighborhood', options=['Alamo Square', ...], value='Alamo Square', width=250)\n",
       "            [1] VSpacer()"
      ]
     },
     "execution_count": 49,
     "metadata": {
      "application/vnd.holoviews_exec.v0+json": {
       "id": "2978"
      }
     },
     "output_type": "execute_result"
    }
   ],
   "source": [
    "neighborhood_column = pn.Column(\"##Neighborhood Analysis\",top_ten_plot,avg_price_plot)\n",
    "neighborhood_column"
   ]
  },
  {
   "cell_type": "code",
   "execution_count": 50,
   "metadata": {},
   "outputs": [
    {
     "data": {},
     "metadata": {},
     "output_type": "display_data"
    },
    {
     "data": {},
     "metadata": {},
     "output_type": "display_data"
    },
    {
     "data": {
      "application/vnd.holoviews_exec.v0+json": "",
      "text/html": [
       "<div id='3239'>\n",
       "\n",
       "\n",
       "\n",
       "\n",
       "\n",
       "  <div class=\"bk-root\" id=\"4213ac87-43ca-4798-ab49-55e110bd4e04\" data-root-id=\"3239\"></div>\n",
       "</div>\n",
       "<script type=\"application/javascript\">(function(root) {\n",
       "  function embed_document(root) {\n",
       "    var docs_json = {\"e70c708f-0f64-4f47-8c44-8ce225518bb2\":{\"roots\":{\"references\":[{\"attributes\":{\"fill_alpha\":{\"value\":0.2},\"fill_color\":{\"value\":\"#1f77b3\"},\"line_alpha\":{\"value\":0.2},\"top\":{\"field\":\"housing_units\"},\"width\":{\"value\":0.8},\"x\":{\"field\":\"year\"}},\"id\":\"3278\",\"type\":\"VBar\"},{\"attributes\":{},\"id\":\"3353\",\"type\":\"UnionRenderers\"},{\"attributes\":{\"axis\":{\"id\":\"3378\"},\"dimension\":1,\"grid_line_color\":null,\"ticker\":null},\"id\":\"3381\",\"type\":\"Grid\"},{\"attributes\":{},\"id\":\"3284\",\"type\":\"BasicTickFormatter\"},{\"attributes\":{},\"id\":\"3345\",\"type\":\"BasicTickFormatter\"},{\"attributes\":{\"line_color\":\"#1f77b3\",\"line_width\":2,\"x\":{\"field\":\"year\"},\"y\":{\"field\":\"gross_rent\"}},\"id\":\"3337\",\"type\":\"Line\"},{\"attributes\":{},\"id\":\"3414\",\"type\":\"UnionRenderers\"},{\"attributes\":{\"below\":[{\"id\":\"3313\"}],\"center\":[{\"id\":\"3316\"},{\"id\":\"3320\"}],\"left\":[{\"id\":\"3317\"}],\"margin\":[5,5,5,5],\"min_border_bottom\":10,\"min_border_left\":10,\"min_border_right\":10,\"min_border_top\":10,\"plot_height\":300,\"plot_width\":700,\"renderers\":[{\"id\":\"3340\"}],\"sizing_mode\":\"fixed\",\"title\":{\"id\":\"3305\"},\"toolbar\":{\"id\":\"3327\"},\"x_range\":{\"id\":\"3301\"},\"x_scale\":{\"id\":\"3309\"},\"y_range\":{\"id\":\"3302\"},\"y_scale\":{\"id\":\"3311\"}},\"id\":\"3304\",\"subtype\":\"Figure\",\"type\":\"Plot\"},{\"attributes\":{},\"id\":\"3282\",\"type\":\"CategoricalTickFormatter\"},{\"attributes\":{},\"id\":\"3406\",\"type\":\"BasicTickFormatter\"},{\"attributes\":{\"client_comm_id\":\"1748df45d21c4602bac2f91cd87bb1c0\",\"comm_id\":\"f13e482b7a954f1fb78cc9d7710071c9\",\"plot_id\":\"3239\"},\"id\":\"3495\",\"type\":\"panel.models.comm_manager.CommManager\"},{\"attributes\":{\"css_classes\":[\"markdown\"],\"margin\":[5,5,5,5],\"name\":\"Markdown04318\",\"text\":\"&lt;h2&gt;Yearly Analysis&lt;/h2&gt;\"},\"id\":\"3240\",\"type\":\"panel.models.markup.HTML\"},{\"attributes\":{},\"id\":\"3343\",\"type\":\"BasicTickFormatter\"},{\"attributes\":{\"active_drag\":\"auto\",\"active_inspect\":\"auto\",\"active_multi\":null,\"active_scroll\":\"auto\",\"active_tap\":\"auto\",\"tools\":[{\"id\":\"3364\"},{\"id\":\"3382\"},{\"id\":\"3383\"},{\"id\":\"3384\"},{\"id\":\"3385\"},{\"id\":\"3386\"}]},\"id\":\"3388\",\"type\":\"Toolbar\"},{\"attributes\":{\"axis\":{\"id\":\"3317\"},\"dimension\":1,\"grid_line_color\":null,\"ticker\":null},\"id\":\"3320\",\"type\":\"Grid\"},{\"attributes\":{\"end\":2016.0,\"reset_end\":2016.0,\"reset_start\":2010.0,\"start\":2010.0,\"tags\":[[[\"year\",\"year\",null]]]},\"id\":\"3362\",\"type\":\"Range1d\"},{\"attributes\":{},\"id\":\"3274\",\"type\":\"Selection\"},{\"attributes\":{},\"id\":\"3382\",\"type\":\"SaveTool\"},{\"attributes\":{\"data_source\":{\"id\":\"3273\"},\"glyph\":{\"id\":\"3276\"},\"hover_glyph\":null,\"muted_glyph\":{\"id\":\"3278\"},\"nonselection_glyph\":{\"id\":\"3277\"},\"selection_glyph\":null,\"view\":{\"id\":\"3280\"}},\"id\":\"3279\",\"type\":\"GlyphRenderer\"},{\"attributes\":{\"text\":\"Average Housing Rent In San Francisco\",\"text_color\":{\"value\":\"black\"},\"text_font_size\":{\"value\":\"12pt\"}},\"id\":\"3305\",\"type\":\"Title\"},{\"attributes\":{},\"id\":\"3383\",\"type\":\"PanTool\"},{\"attributes\":{},\"id\":\"3309\",\"type\":\"LinearScale\"},{\"attributes\":{\"source\":{\"id\":\"3273\"}},\"id\":\"3280\",\"type\":\"CDSView\"},{\"attributes\":{},\"id\":\"3384\",\"type\":\"WheelZoomTool\"},{\"attributes\":{},\"id\":\"3311\",\"type\":\"LinearScale\"},{\"attributes\":{\"overlay\":{\"id\":\"3387\"}},\"id\":\"3385\",\"type\":\"BoxZoomTool\"},{\"attributes\":{\"axis_label\":\"year\",\"bounds\":\"auto\",\"formatter\":{\"id\":\"3343\"},\"major_label_orientation\":\"horizontal\",\"ticker\":{\"id\":\"3314\"}},\"id\":\"3313\",\"type\":\"LinearAxis\"},{\"attributes\":{\"axis_label\":\"year\",\"bounds\":\"auto\",\"formatter\":{\"id\":\"3282\"},\"major_label_orientation\":\"horizontal\",\"ticker\":{\"id\":\"3254\"}},\"id\":\"3253\",\"type\":\"CategoricalAxis\"},{\"attributes\":{},\"id\":\"3257\",\"type\":\"BasicTicker\"},{\"attributes\":{},\"id\":\"3314\",\"type\":\"BasicTicker\"},{\"attributes\":{},\"id\":\"3386\",\"type\":\"ResetTool\"},{\"attributes\":{\"axis\":{\"id\":\"3313\"},\"grid_line_color\":null,\"ticker\":null},\"id\":\"3316\",\"type\":\"Grid\"},{\"attributes\":{\"axis_label\":\"\",\"bounds\":\"auto\",\"formatter\":{\"id\":\"3284\"},\"major_label_orientation\":\"horizontal\",\"ticker\":{\"id\":\"3257\"}},\"id\":\"3256\",\"type\":\"LinearAxis\"},{\"attributes\":{},\"id\":\"3318\",\"type\":\"BasicTicker\"},{\"attributes\":{\"axis_label\":\"\",\"bounds\":\"auto\",\"formatter\":{\"id\":\"3345\"},\"major_label_orientation\":\"horizontal\",\"ticker\":{\"id\":\"3318\"}},\"id\":\"3317\",\"type\":\"LinearAxis\"},{\"attributes\":{\"line_color\":\"#1f77b3\",\"line_width\":2,\"x\":{\"field\":\"year\"},\"y\":{\"field\":\"sale_price_sqr_foot\"}},\"id\":\"3398\",\"type\":\"Line\"},{\"attributes\":{},\"id\":\"3404\",\"type\":\"BasicTickFormatter\"},{\"attributes\":{\"active_drag\":\"auto\",\"active_inspect\":\"auto\",\"active_multi\":null,\"active_scroll\":\"auto\",\"active_tap\":\"auto\",\"tools\":[{\"id\":\"3243\"},{\"id\":\"3260\"},{\"id\":\"3261\"},{\"id\":\"3262\"},{\"id\":\"3263\"},{\"id\":\"3264\"}]},\"id\":\"3266\",\"type\":\"Toolbar\"},{\"attributes\":{\"line_alpha\":0.1,\"line_color\":\"#1f77b3\",\"line_width\":2,\"x\":{\"field\":\"year\"},\"y\":{\"field\":\"gross_rent\"}},\"id\":\"3338\",\"type\":\"Line\"},{\"attributes\":{\"line_alpha\":0.2,\"line_color\":\"#1f77b3\",\"line_width\":2,\"x\":{\"field\":\"year\"},\"y\":{\"field\":\"sale_price_sqr_foot\"}},\"id\":\"3400\",\"type\":\"Line\"},{\"attributes\":{\"children\":[{\"id\":\"3240\"},{\"id\":\"3244\"},{\"id\":\"3304\"},{\"id\":\"3365\"}],\"margin\":[0,0,0,0],\"name\":\"Column04335\"},\"id\":\"3239\",\"type\":\"Column\"},{\"attributes\":{\"line_alpha\":0.2,\"line_color\":\"#1f77b3\",\"line_width\":2,\"x\":{\"field\":\"year\"},\"y\":{\"field\":\"gross_rent\"}},\"id\":\"3339\",\"type\":\"Line\"},{\"attributes\":{},\"id\":\"3251\",\"type\":\"LinearScale\"},{\"attributes\":{\"line_alpha\":0.1,\"line_color\":\"#1f77b3\",\"line_width\":2,\"x\":{\"field\":\"year\"},\"y\":{\"field\":\"sale_price_sqr_foot\"}},\"id\":\"3399\",\"type\":\"Line\"},{\"attributes\":{\"source\":{\"id\":\"3334\"}},\"id\":\"3341\",\"type\":\"CDSView\"},{\"attributes\":{\"data_source\":{\"id\":\"3334\"},\"glyph\":{\"id\":\"3337\"},\"hover_glyph\":null,\"muted_glyph\":{\"id\":\"3339\"},\"nonselection_glyph\":{\"id\":\"3338\"},\"selection_glyph\":null,\"view\":{\"id\":\"3341\"}},\"id\":\"3340\",\"type\":\"GlyphRenderer\"},{\"attributes\":{\"axis_label\":\"\",\"bounds\":\"auto\",\"formatter\":{\"id\":\"3406\"},\"major_label_orientation\":\"horizontal\",\"ticker\":{\"id\":\"3379\"}},\"id\":\"3378\",\"type\":\"LinearAxis\"},{\"attributes\":{\"axis\":{\"id\":\"3256\"},\"dimension\":1,\"grid_line_color\":null,\"ticker\":null},\"id\":\"3259\",\"type\":\"Grid\"},{\"attributes\":{},\"id\":\"3321\",\"type\":\"SaveTool\"},{\"attributes\":{\"source\":{\"id\":\"3395\"}},\"id\":\"3402\",\"type\":\"CDSView\"},{\"attributes\":{},\"id\":\"3370\",\"type\":\"LinearScale\"},{\"attributes\":{},\"id\":\"3322\",\"type\":\"PanTool\"},{\"attributes\":{\"bottom_units\":\"screen\",\"fill_alpha\":0.5,\"fill_color\":\"lightgrey\",\"left_units\":\"screen\",\"level\":\"overlay\",\"line_alpha\":1.0,\"line_color\":\"black\",\"line_dash\":[4,4],\"line_width\":2,\"right_units\":\"screen\",\"top_units\":\"screen\"},\"id\":\"3387\",\"type\":\"BoxAnnotation\"},{\"attributes\":{\"data_source\":{\"id\":\"3395\"},\"glyph\":{\"id\":\"3398\"},\"hover_glyph\":null,\"muted_glyph\":{\"id\":\"3400\"},\"nonselection_glyph\":{\"id\":\"3399\"},\"selection_glyph\":null,\"view\":{\"id\":\"3402\"}},\"id\":\"3401\",\"type\":\"GlyphRenderer\"},{\"attributes\":{\"bottom_units\":\"screen\",\"fill_alpha\":0.5,\"fill_color\":\"lightgrey\",\"left_units\":\"screen\",\"level\":\"overlay\",\"line_alpha\":1.0,\"line_color\":\"black\",\"line_dash\":[4,4],\"line_width\":2,\"right_units\":\"screen\",\"top_units\":\"screen\"},\"id\":\"3265\",\"type\":\"BoxAnnotation\"},{\"attributes\":{},\"id\":\"3396\",\"type\":\"Selection\"},{\"attributes\":{\"fill_alpha\":{\"value\":0.1},\"fill_color\":{\"value\":\"#1f77b3\"},\"line_alpha\":{\"value\":0.1},\"top\":{\"field\":\"housing_units\"},\"width\":{\"value\":0.8},\"x\":{\"field\":\"year\"}},\"id\":\"3277\",\"type\":\"VBar\"},{\"attributes\":{},\"id\":\"3323\",\"type\":\"WheelZoomTool\"},{\"attributes\":{\"callback\":null,\"renderers\":[{\"id\":\"3401\"}],\"tags\":[\"hv_created\"],\"tooltips\":[[\"year\",\"@{year}\"],[\"sale_price_sqr_foot\",\"@{sale_price_sqr_foot}\"]]},\"id\":\"3364\",\"type\":\"HoverTool\"},{\"attributes\":{\"end\":2016.0,\"reset_end\":2016.0,\"reset_start\":2010.0,\"start\":2010.0,\"tags\":[[[\"year\",\"year\",null]]]},\"id\":\"3301\",\"type\":\"Range1d\"},{\"attributes\":{\"active_drag\":\"auto\",\"active_inspect\":\"auto\",\"active_multi\":null,\"active_scroll\":\"auto\",\"active_tap\":\"auto\",\"tools\":[{\"id\":\"3303\"},{\"id\":\"3321\"},{\"id\":\"3322\"},{\"id\":\"3323\"},{\"id\":\"3324\"},{\"id\":\"3325\"}]},\"id\":\"3327\",\"type\":\"Toolbar\"},{\"attributes\":{},\"id\":\"3261\",\"type\":\"PanTool\"},{\"attributes\":{\"overlay\":{\"id\":\"3326\"}},\"id\":\"3324\",\"type\":\"BoxZoomTool\"},{\"attributes\":{\"axis\":{\"id\":\"3374\"},\"grid_line_color\":null,\"ticker\":null},\"id\":\"3377\",\"type\":\"Grid\"},{\"attributes\":{\"below\":[{\"id\":\"3374\"}],\"center\":[{\"id\":\"3377\"},{\"id\":\"3381\"}],\"left\":[{\"id\":\"3378\"}],\"margin\":[5,5,5,5],\"min_border_bottom\":10,\"min_border_left\":10,\"min_border_right\":10,\"min_border_top\":10,\"plot_height\":300,\"plot_width\":700,\"renderers\":[{\"id\":\"3401\"}],\"sizing_mode\":\"fixed\",\"title\":{\"id\":\"3366\"},\"toolbar\":{\"id\":\"3388\"},\"x_range\":{\"id\":\"3362\"},\"x_scale\":{\"id\":\"3370\"},\"y_range\":{\"id\":\"3363\"},\"y_scale\":{\"id\":\"3372\"}},\"id\":\"3365\",\"subtype\":\"Figure\",\"type\":\"Plot\"},{\"attributes\":{\"data\":{\"gross_rent\":[1239,1530,2324,2971,3528,3739,4390],\"year\":[2010,2011,2012,2013,2014,2015,2016]},\"selected\":{\"id\":\"3335\"},\"selection_policy\":{\"id\":\"3353\"}},\"id\":\"3334\",\"type\":\"ColumnDataSource\"},{\"attributes\":{\"end\":4705.1,\"reset_end\":4705.1,\"reset_start\":923.9,\"start\":923.9,\"tags\":[[[\"gross_rent\",\"gross_rent\",null]]]},\"id\":\"3302\",\"type\":\"Range1d\"},{\"attributes\":{\"below\":[{\"id\":\"3253\"}],\"center\":[{\"id\":\"3255\"},{\"id\":\"3259\"}],\"left\":[{\"id\":\"3256\"}],\"margin\":[5,5,5,5],\"min_border_bottom\":10,\"min_border_left\":10,\"min_border_right\":10,\"min_border_top\":10,\"plot_height\":300,\"plot_width\":700,\"renderers\":[{\"id\":\"3279\"}],\"sizing_mode\":\"fixed\",\"title\":{\"id\":\"3245\"},\"toolbar\":{\"id\":\"3266\"},\"x_range\":{\"id\":\"3241\"},\"x_scale\":{\"id\":\"3249\"},\"y_range\":{\"id\":\"3242\"},\"y_scale\":{\"id\":\"3251\"}},\"id\":\"3244\",\"subtype\":\"Figure\",\"type\":\"Plot\"},{\"attributes\":{},\"id\":\"3262\",\"type\":\"WheelZoomTool\"},{\"attributes\":{\"factors\":[\"2010\",\"2011\",\"2012\",\"2013\",\"2014\",\"2015\",\"2016\"],\"tags\":[[[\"year\",\"year\",null]]]},\"id\":\"3241\",\"type\":\"FactorRange\"},{\"attributes\":{},\"id\":\"3325\",\"type\":\"ResetTool\"},{\"attributes\":{\"fill_color\":{\"value\":\"#1f77b3\"},\"top\":{\"field\":\"housing_units\"},\"width\":{\"value\":0.8},\"x\":{\"field\":\"year\"}},\"id\":\"3276\",\"type\":\"VBar\"},{\"attributes\":{\"overlay\":{\"id\":\"3265\"}},\"id\":\"3263\",\"type\":\"BoxZoomTool\"},{\"attributes\":{\"axis_label\":\"year\",\"bounds\":\"auto\",\"formatter\":{\"id\":\"3404\"},\"major_label_orientation\":\"horizontal\",\"ticker\":{\"id\":\"3375\"}},\"id\":\"3374\",\"type\":\"LinearAxis\"},{\"attributes\":{\"end\":733.2177371101802,\"reset_end\":733.2177371101802,\"reset_start\":306.3294011864627,\"start\":306.3294011864627,\"tags\":[[[\"sale_price_sqr_foot\",\"sale_price_sqr_foot\",null]]]},\"id\":\"3363\",\"type\":\"Range1d\"},{\"attributes\":{\"data\":{\"sale_price_sqr_foot\":{\"__ndarray__\":\"tQKjeIIVd0Do7CdydF51QGdijk899nhAaBKk2Jo5fkDGKCTbN2KBQPETFqRSxINAUB33UCbNhUA=\",\"dtype\":\"float64\",\"order\":\"little\",\"shape\":[7]},\"year\":[2010,2011,2012,2013,2014,2015,2016]},\"selected\":{\"id\":\"3396\"},\"selection_policy\":{\"id\":\"3414\"}},\"id\":\"3395\",\"type\":\"ColumnDataSource\"},{\"attributes\":{\"end\":386242,\"reset_end\":386242,\"reset_start\":370560,\"start\":370560,\"tags\":[[[\"housing_units\",\"housing_units\",null]]]},\"id\":\"3242\",\"type\":\"Range1d\"},{\"attributes\":{\"axis\":{\"id\":\"3253\"},\"grid_line_color\":null,\"ticker\":null},\"id\":\"3255\",\"type\":\"Grid\"},{\"attributes\":{},\"id\":\"3372\",\"type\":\"LinearScale\"},{\"attributes\":{\"text\":\"Average Sale Price Per Square Foot In San Francisco\",\"text_color\":{\"value\":\"black\"},\"text_font_size\":{\"value\":\"12pt\"}},\"id\":\"3366\",\"type\":\"Title\"},{\"attributes\":{\"callback\":null,\"renderers\":[{\"id\":\"3279\"}],\"tags\":[\"hv_created\"],\"tooltips\":[[\"year\",\"@{year}\"],[\"housing_units\",\"@{housing_units}\"]]},\"id\":\"3243\",\"type\":\"HoverTool\"},{\"attributes\":{},\"id\":\"3254\",\"type\":\"CategoricalTicker\"},{\"attributes\":{\"callback\":null,\"renderers\":[{\"id\":\"3340\"}],\"tags\":[\"hv_created\"],\"tooltips\":[[\"year\",\"@{year}\"],[\"gross_rent\",\"@{gross_rent}\"]]},\"id\":\"3303\",\"type\":\"HoverTool\"},{\"attributes\":{},\"id\":\"3249\",\"type\":\"CategoricalScale\"},{\"attributes\":{},\"id\":\"3292\",\"type\":\"UnionRenderers\"},{\"attributes\":{},\"id\":\"3375\",\"type\":\"BasicTicker\"},{\"attributes\":{\"text\":\"Average Housing Units/Year in San Francisco\",\"text_color\":{\"value\":\"black\"},\"text_font_size\":{\"value\":\"12pt\"}},\"id\":\"3245\",\"type\":\"Title\"},{\"attributes\":{},\"id\":\"3264\",\"type\":\"ResetTool\"},{\"attributes\":{\"bottom_units\":\"screen\",\"fill_alpha\":0.5,\"fill_color\":\"lightgrey\",\"left_units\":\"screen\",\"level\":\"overlay\",\"line_alpha\":1.0,\"line_color\":\"black\",\"line_dash\":[4,4],\"line_width\":2,\"right_units\":\"screen\",\"top_units\":\"screen\"},\"id\":\"3326\",\"type\":\"BoxAnnotation\"},{\"attributes\":{},\"id\":\"3335\",\"type\":\"Selection\"},{\"attributes\":{\"data\":{\"housing_units\":[372560,374507,376454,378401,380348,382295,384242],\"year\":[\"2010\",\"2011\",\"2012\",\"2013\",\"2014\",\"2015\",\"2016\"]},\"selected\":{\"id\":\"3274\"},\"selection_policy\":{\"id\":\"3292\"}},\"id\":\"3273\",\"type\":\"ColumnDataSource\"},{\"attributes\":{},\"id\":\"3260\",\"type\":\"SaveTool\"},{\"attributes\":{},\"id\":\"3379\",\"type\":\"BasicTicker\"}],\"root_ids\":[\"3239\",\"3495\"]},\"title\":\"Bokeh Application\",\"version\":\"2.2.3\"}};\n",
       "    var render_items = [{\"docid\":\"e70c708f-0f64-4f47-8c44-8ce225518bb2\",\"root_ids\":[\"3239\"],\"roots\":{\"3239\":\"4213ac87-43ca-4798-ab49-55e110bd4e04\"}}];\n",
       "    root.Bokeh.embed.embed_items_notebook(docs_json, render_items);\n",
       "  }\n",
       "  if (root.Bokeh !== undefined && root.Bokeh.Panel !== undefined) {\n",
       "    embed_document(root);\n",
       "  } else {\n",
       "    var attempts = 0;\n",
       "    var timer = setInterval(function(root) {\n",
       "      if (root.Bokeh !== undefined && root.Bokeh.Panel !== undefined) {\n",
       "        clearInterval(timer);\n",
       "        embed_document(root);\n",
       "      } else if (document.readyState == \"complete\") {\n",
       "        attempts++;\n",
       "        if (attempts > 100) {\n",
       "          clearInterval(timer);\n",
       "          console.log(\"Bokeh: ERROR: Unable to run BokehJS code because BokehJS library is missing\");\n",
       "        }\n",
       "      }\n",
       "    }, 10, root)\n",
       "  }\n",
       "})(window);</script>"
      ],
      "text/plain": [
       "Column\n",
       "    [0] Markdown(str)\n",
       "    [1] HoloViews(Bars)\n",
       "    [2] HoloViews(Curve)\n",
       "    [3] HoloViews(Curve)"
      ]
     },
     "execution_count": 50,
     "metadata": {
      "application/vnd.holoviews_exec.v0+json": {
       "id": "3239"
      }
     },
     "output_type": "execute_result"
    }
   ],
   "source": [
    "yearly_column = pn.Column(\"##Yearly Analysis\",housing_plot,avg_rent_plot,avg_sales_plot)\n",
    "yearly_column"
   ]
  },
  {
   "cell_type": "code",
   "execution_count": 51,
   "metadata": {},
   "outputs": [
    {
     "name": "stdout",
     "output_type": "stream",
     "text": [
      "Launching server at http://localhost:53121\n"
     ]
    }
   ],
   "source": [
    "paralell_column = pn.Column(\"##Parallel Plot Analysis\",mp_plot,mp_plot_2).show()\n"
   ]
  },
  {
   "cell_type": "markdown",
   "metadata": {},
   "source": [
    "- Welcome Column"
   ]
  },
  {
   "cell_type": "code",
   "execution_count": 37,
   "metadata": {},
   "outputs": [
    {
     "data": {
      "application/vnd.plotly.v1+json": {
       "config": {
        "plotlyServerURL": "https://plot.ly"
       },
       "data": [
        {
         "hovertemplate": "sale_price_sqr_foot=%{marker.size}<br>Lat=%{lat}<br>Lon=%{lon}<br>gross_rent=%{marker.color}<extra></extra>",
         "lat": [
          37.791012,
          37.779598,
          37.73467,
          37.72874,
          37.768159999999995,
          37.77789,
          37.74961,
          37.75331,
          37.78553,
          37.79298,
          37.7228,
          37.728629999999995,
          37.76964,
          37.75554,
          37.72874,
          37.79101,
          37.79101,
          37.757059999999996,
          37.728629999999995,
          37.757912,
          37.76525,
          37.76525,
          37.72551,
          37.72116,
          37.75416,
          37.74961,
          37.769112,
          37.74961,
          37.78553,
          37.801520000000004,
          37.7789,
          37.79298,
          37.79972,
          37.71993,
          37.75331,
          37.73415,
          37.783229999999996,
          37.75184,
          37.728629999999995,
          37.79298,
          37.75331,
          37.80055,
          37.80055,
          37.71993,
          37.7228,
          37.7517,
          37.74961,
          37.79298,
          37.72838,
          37.74961,
          37.76355,
          37.73467,
          37.73196,
          37.78553,
          37.79298,
          37.73467,
          37.783229999999996,
          37.79101,
          37.73415,
          37.80055,
          37.753311,
          37.79101,
          37.779509999999995,
          37.72874,
          37.74026,
          37.79298,
          37.7347,
          37.73415,
          37.79298
         ],
         "legendgroup": "",
         "lon": [
          -122.4021,
          -122.443451,
          -122.40106000000002,
          -122.41098000000001,
          -122.43933,
          -122.44516999999999,
          -122.48998999999999,
          -122.44703,
          -122.456,
          -122.43579,
          -122.43869,
          -122.44305,
          -122.42611000000001,
          -122.43778999999999,
          -122.41098000000001,
          -122.4021,
          -122.4021,
          -122.45508999999998,
          -122.44305,
          -122.46401999999999,
          -122.43596000000001,
          -122.43596000000001,
          -122.37178,
          -122.48706999999999,
          -122.41946999999999,
          -122.48998999999999,
          -122.483566,
          -122.48997,
          -122.456,
          -122.45456999999999,
          -122.45496000000001,
          -122.43579,
          -122.46688999999999,
          -122.46595,
          -122.44703,
          -122.45700000000001,
          -122.40065,
          -122.42522,
          -122.44305,
          -122.43579,
          -122.44703,
          -122.40433,
          -122.40433,
          -122.46595,
          -122.43869,
          -122.446,
          -122.48998999999999,
          -122.43579,
          -122.47851000000001,
          -122.48998999999999,
          -122.45765,
          -122.40106000000002,
          -122.38323999999999,
          -122.456,
          -122.43579,
          -122.40106000000002,
          -122.40065,
          -122.4021,
          -122.45700000000001,
          -122.40433,
          -122.447029,
          -122.4021,
          -122.42022,
          -122.41098000000001,
          -122.46388,
          -122.43579,
          -122.456854,
          -122.45700000000001,
          -122.39636000000002
         ],
         "marker": {
          "color": [
           2817.285714285714,
           3031.8333333333335,
           2318.4,
           3739,
           2698.8333333333335,
           2817.285714285714,
           2817.285714285714,
           2250.5,
           2472,
           2817.285714285714,
           2698.8333333333335,
           2016,
           2780.25,
           2817.285714285714,
           3031.8333333333335,
           2817.285714285714,
           2472,
           1781.5,
           2899.5,
           2601.4,
           2817.285714285714,
           2817.285714285714,
           2489,
           2960,
           2817.285714285714,
           3224,
           2817.285714285714,
           2817.285714285714,
           2817.285714285714,
           2555.1666666666665,
           2555.1666666666665,
           2817.285714285714,
           2817.285714285714,
           3414,
           2647.5,
           2155.25,
           2663.6666666666665,
           2555.1666666666665,
           3173.4,
           2817.285714285714,
           2817.285714285714,
           2990.8,
           2818.4,
           2434,
           2995.75,
           2817.285714285714,
           2817.285714285714,
           2817.285714285714,
           2817.285714285714,
           2555.1666666666665,
           2817.285714285714,
           2318.4,
           2817.285714285714,
           2817.285714285714,
           2817.285714285714,
           3528,
           2099,
           2817.285714285714,
           2899.5,
           2817.285714285714,
           2817.285714285714,
           2555.1666666666665,
           2817.285714285714,
           3657,
           2515.5,
           2555.1666666666665,
           2250.5,
           3959,
           2555.1666666666665
          ],
          "coloraxis": "coloraxis",
          "size": [
           366.02071153227644,
           373.38219782647707,
           204.58862288246596,
           590.7928388746802,
           452.6805909308442,
           394.4223987800589,
           423.6879277015824,
           487.2448860262575,
           587.5390673661739,
           665.964041578323,
           303.00418440849427,
           434.99173944522124,
           502.59915555623616,
           642.2486706357391,
           388.76592700230754,
           391.36253308010487,
           455.83621223779153,
           321.84083657398736,
           623.826177537435,
           639.3935574881156,
           449.5447622856192,
           355.9328279480578,
           170.62491987132685,
           384.7979281346048,
           397.67371473613446,
           519.3856038526768,
           378.59431396136455,
           413.66751546215943,
           529.3841850673389,
           409.95435219297514,
           478.2285530213679,
           539.2379688783261,
           583.7492694814549,
           788.8448175872469,
           550.5103482917151,
           779.810842264425,
           566.1922135483312,
           418.9156225067234,
           523.4662013248023,
           458.2040944846015,
           542.4429128151736,
           411.646875881678,
           498.26975500787677,
           330.0973846552545,
           242.37095202049667,
           485.0270126111035,
           394.21903228550775,
           689.5558168113664,
           373.732856371763,
           336.172661037069,
           632.740453508577,
           327.11392534647274,
           662.0136128276529,
           675.3502120510033,
           608.9832172374425,
           170.2925485152069,
           650.1244791945729,
           570.2714266991686,
           528.3183317138463,
           676.5065775293257,
           469.39862649935156,
           903.9932576720645,
           404.1501801622257,
           301.46617997450267,
           498.4884848295011,
           307.56220097996066,
           533.7039354359513,
           687.0875745178323,
           576.709848378276
          ],
          "sizemode": "area",
          "sizeref": 2.259983144180161
         },
         "mode": "markers",
         "name": "",
         "showlegend": false,
         "subplot": "mapbox",
         "type": "scattermapbox"
        }
       ],
       "layout": {
        "coloraxis": {
         "colorbar": {
          "title": {
           "text": "gross_rent"
          }
         },
         "colorscale": [
          [
           0,
           "#0d0887"
          ],
          [
           0.1111111111111111,
           "#46039f"
          ],
          [
           0.2222222222222222,
           "#7201a8"
          ],
          [
           0.3333333333333333,
           "#9c179e"
          ],
          [
           0.4444444444444444,
           "#bd3786"
          ],
          [
           0.5555555555555556,
           "#d8576b"
          ],
          [
           0.6666666666666666,
           "#ed7953"
          ],
          [
           0.7777777777777778,
           "#fb9f3a"
          ],
          [
           0.8888888888888888,
           "#fdca26"
          ],
          [
           1,
           "#f0f921"
          ]
         ]
        },
        "legend": {
         "itemsizing": "constant",
         "tracegroupgap": 0
        },
        "mapbox": {
         "accesstoken": "mapbox_token",
         "center": {
          "lat": 37.76064079710145,
          "lon": -122.43826449275363
         },
         "domain": {
          "x": [
           0,
           1
          ],
          "y": [
           0,
           1
          ]
         },
         "zoom": 8
        },
        "template": {
         "data": {
          "bar": [
           {
            "error_x": {
             "color": "#2a3f5f"
            },
            "error_y": {
             "color": "#2a3f5f"
            },
            "marker": {
             "line": {
              "color": "#E5ECF6",
              "width": 0.5
             }
            },
            "type": "bar"
           }
          ],
          "barpolar": [
           {
            "marker": {
             "line": {
              "color": "#E5ECF6",
              "width": 0.5
             }
            },
            "type": "barpolar"
           }
          ],
          "carpet": [
           {
            "aaxis": {
             "endlinecolor": "#2a3f5f",
             "gridcolor": "white",
             "linecolor": "white",
             "minorgridcolor": "white",
             "startlinecolor": "#2a3f5f"
            },
            "baxis": {
             "endlinecolor": "#2a3f5f",
             "gridcolor": "white",
             "linecolor": "white",
             "minorgridcolor": "white",
             "startlinecolor": "#2a3f5f"
            },
            "type": "carpet"
           }
          ],
          "choropleth": [
           {
            "colorbar": {
             "outlinewidth": 0,
             "ticks": ""
            },
            "type": "choropleth"
           }
          ],
          "contour": [
           {
            "colorbar": {
             "outlinewidth": 0,
             "ticks": ""
            },
            "colorscale": [
             [
              0,
              "#0d0887"
             ],
             [
              0.1111111111111111,
              "#46039f"
             ],
             [
              0.2222222222222222,
              "#7201a8"
             ],
             [
              0.3333333333333333,
              "#9c179e"
             ],
             [
              0.4444444444444444,
              "#bd3786"
             ],
             [
              0.5555555555555556,
              "#d8576b"
             ],
             [
              0.6666666666666666,
              "#ed7953"
             ],
             [
              0.7777777777777778,
              "#fb9f3a"
             ],
             [
              0.8888888888888888,
              "#fdca26"
             ],
             [
              1,
              "#f0f921"
             ]
            ],
            "type": "contour"
           }
          ],
          "contourcarpet": [
           {
            "colorbar": {
             "outlinewidth": 0,
             "ticks": ""
            },
            "type": "contourcarpet"
           }
          ],
          "heatmap": [
           {
            "colorbar": {
             "outlinewidth": 0,
             "ticks": ""
            },
            "colorscale": [
             [
              0,
              "#0d0887"
             ],
             [
              0.1111111111111111,
              "#46039f"
             ],
             [
              0.2222222222222222,
              "#7201a8"
             ],
             [
              0.3333333333333333,
              "#9c179e"
             ],
             [
              0.4444444444444444,
              "#bd3786"
             ],
             [
              0.5555555555555556,
              "#d8576b"
             ],
             [
              0.6666666666666666,
              "#ed7953"
             ],
             [
              0.7777777777777778,
              "#fb9f3a"
             ],
             [
              0.8888888888888888,
              "#fdca26"
             ],
             [
              1,
              "#f0f921"
             ]
            ],
            "type": "heatmap"
           }
          ],
          "heatmapgl": [
           {
            "colorbar": {
             "outlinewidth": 0,
             "ticks": ""
            },
            "colorscale": [
             [
              0,
              "#0d0887"
             ],
             [
              0.1111111111111111,
              "#46039f"
             ],
             [
              0.2222222222222222,
              "#7201a8"
             ],
             [
              0.3333333333333333,
              "#9c179e"
             ],
             [
              0.4444444444444444,
              "#bd3786"
             ],
             [
              0.5555555555555556,
              "#d8576b"
             ],
             [
              0.6666666666666666,
              "#ed7953"
             ],
             [
              0.7777777777777778,
              "#fb9f3a"
             ],
             [
              0.8888888888888888,
              "#fdca26"
             ],
             [
              1,
              "#f0f921"
             ]
            ],
            "type": "heatmapgl"
           }
          ],
          "histogram": [
           {
            "marker": {
             "colorbar": {
              "outlinewidth": 0,
              "ticks": ""
             }
            },
            "type": "histogram"
           }
          ],
          "histogram2d": [
           {
            "colorbar": {
             "outlinewidth": 0,
             "ticks": ""
            },
            "colorscale": [
             [
              0,
              "#0d0887"
             ],
             [
              0.1111111111111111,
              "#46039f"
             ],
             [
              0.2222222222222222,
              "#7201a8"
             ],
             [
              0.3333333333333333,
              "#9c179e"
             ],
             [
              0.4444444444444444,
              "#bd3786"
             ],
             [
              0.5555555555555556,
              "#d8576b"
             ],
             [
              0.6666666666666666,
              "#ed7953"
             ],
             [
              0.7777777777777778,
              "#fb9f3a"
             ],
             [
              0.8888888888888888,
              "#fdca26"
             ],
             [
              1,
              "#f0f921"
             ]
            ],
            "type": "histogram2d"
           }
          ],
          "histogram2dcontour": [
           {
            "colorbar": {
             "outlinewidth": 0,
             "ticks": ""
            },
            "colorscale": [
             [
              0,
              "#0d0887"
             ],
             [
              0.1111111111111111,
              "#46039f"
             ],
             [
              0.2222222222222222,
              "#7201a8"
             ],
             [
              0.3333333333333333,
              "#9c179e"
             ],
             [
              0.4444444444444444,
              "#bd3786"
             ],
             [
              0.5555555555555556,
              "#d8576b"
             ],
             [
              0.6666666666666666,
              "#ed7953"
             ],
             [
              0.7777777777777778,
              "#fb9f3a"
             ],
             [
              0.8888888888888888,
              "#fdca26"
             ],
             [
              1,
              "#f0f921"
             ]
            ],
            "type": "histogram2dcontour"
           }
          ],
          "mesh3d": [
           {
            "colorbar": {
             "outlinewidth": 0,
             "ticks": ""
            },
            "type": "mesh3d"
           }
          ],
          "parcoords": [
           {
            "line": {
             "colorbar": {
              "outlinewidth": 0,
              "ticks": ""
             }
            },
            "type": "parcoords"
           }
          ],
          "pie": [
           {
            "automargin": true,
            "type": "pie"
           }
          ],
          "scatter": [
           {
            "marker": {
             "colorbar": {
              "outlinewidth": 0,
              "ticks": ""
             }
            },
            "type": "scatter"
           }
          ],
          "scatter3d": [
           {
            "line": {
             "colorbar": {
              "outlinewidth": 0,
              "ticks": ""
             }
            },
            "marker": {
             "colorbar": {
              "outlinewidth": 0,
              "ticks": ""
             }
            },
            "type": "scatter3d"
           }
          ],
          "scattercarpet": [
           {
            "marker": {
             "colorbar": {
              "outlinewidth": 0,
              "ticks": ""
             }
            },
            "type": "scattercarpet"
           }
          ],
          "scattergeo": [
           {
            "marker": {
             "colorbar": {
              "outlinewidth": 0,
              "ticks": ""
             }
            },
            "type": "scattergeo"
           }
          ],
          "scattergl": [
           {
            "marker": {
             "colorbar": {
              "outlinewidth": 0,
              "ticks": ""
             }
            },
            "type": "scattergl"
           }
          ],
          "scattermapbox": [
           {
            "marker": {
             "colorbar": {
              "outlinewidth": 0,
              "ticks": ""
             }
            },
            "type": "scattermapbox"
           }
          ],
          "scatterpolar": [
           {
            "marker": {
             "colorbar": {
              "outlinewidth": 0,
              "ticks": ""
             }
            },
            "type": "scatterpolar"
           }
          ],
          "scatterpolargl": [
           {
            "marker": {
             "colorbar": {
              "outlinewidth": 0,
              "ticks": ""
             }
            },
            "type": "scatterpolargl"
           }
          ],
          "scatterternary": [
           {
            "marker": {
             "colorbar": {
              "outlinewidth": 0,
              "ticks": ""
             }
            },
            "type": "scatterternary"
           }
          ],
          "surface": [
           {
            "colorbar": {
             "outlinewidth": 0,
             "ticks": ""
            },
            "colorscale": [
             [
              0,
              "#0d0887"
             ],
             [
              0.1111111111111111,
              "#46039f"
             ],
             [
              0.2222222222222222,
              "#7201a8"
             ],
             [
              0.3333333333333333,
              "#9c179e"
             ],
             [
              0.4444444444444444,
              "#bd3786"
             ],
             [
              0.5555555555555556,
              "#d8576b"
             ],
             [
              0.6666666666666666,
              "#ed7953"
             ],
             [
              0.7777777777777778,
              "#fb9f3a"
             ],
             [
              0.8888888888888888,
              "#fdca26"
             ],
             [
              1,
              "#f0f921"
             ]
            ],
            "type": "surface"
           }
          ],
          "table": [
           {
            "cells": {
             "fill": {
              "color": "#EBF0F8"
             },
             "line": {
              "color": "white"
             }
            },
            "header": {
             "fill": {
              "color": "#C8D4E3"
             },
             "line": {
              "color": "white"
             }
            },
            "type": "table"
           }
          ]
         },
         "layout": {
          "annotationdefaults": {
           "arrowcolor": "#2a3f5f",
           "arrowhead": 0,
           "arrowwidth": 1
          },
          "autotypenumbers": "strict",
          "coloraxis": {
           "colorbar": {
            "outlinewidth": 0,
            "ticks": ""
           }
          },
          "colorscale": {
           "diverging": [
            [
             0,
             "#8e0152"
            ],
            [
             0.1,
             "#c51b7d"
            ],
            [
             0.2,
             "#de77ae"
            ],
            [
             0.3,
             "#f1b6da"
            ],
            [
             0.4,
             "#fde0ef"
            ],
            [
             0.5,
             "#f7f7f7"
            ],
            [
             0.6,
             "#e6f5d0"
            ],
            [
             0.7,
             "#b8e186"
            ],
            [
             0.8,
             "#7fbc41"
            ],
            [
             0.9,
             "#4d9221"
            ],
            [
             1,
             "#276419"
            ]
           ],
           "sequential": [
            [
             0,
             "#0d0887"
            ],
            [
             0.1111111111111111,
             "#46039f"
            ],
            [
             0.2222222222222222,
             "#7201a8"
            ],
            [
             0.3333333333333333,
             "#9c179e"
            ],
            [
             0.4444444444444444,
             "#bd3786"
            ],
            [
             0.5555555555555556,
             "#d8576b"
            ],
            [
             0.6666666666666666,
             "#ed7953"
            ],
            [
             0.7777777777777778,
             "#fb9f3a"
            ],
            [
             0.8888888888888888,
             "#fdca26"
            ],
            [
             1,
             "#f0f921"
            ]
           ],
           "sequentialminus": [
            [
             0,
             "#0d0887"
            ],
            [
             0.1111111111111111,
             "#46039f"
            ],
            [
             0.2222222222222222,
             "#7201a8"
            ],
            [
             0.3333333333333333,
             "#9c179e"
            ],
            [
             0.4444444444444444,
             "#bd3786"
            ],
            [
             0.5555555555555556,
             "#d8576b"
            ],
            [
             0.6666666666666666,
             "#ed7953"
            ],
            [
             0.7777777777777778,
             "#fb9f3a"
            ],
            [
             0.8888888888888888,
             "#fdca26"
            ],
            [
             1,
             "#f0f921"
            ]
           ]
          },
          "colorway": [
           "#636efa",
           "#EF553B",
           "#00cc96",
           "#ab63fa",
           "#FFA15A",
           "#19d3f3",
           "#FF6692",
           "#B6E880",
           "#FF97FF",
           "#FECB52"
          ],
          "font": {
           "color": "#2a3f5f"
          },
          "geo": {
           "bgcolor": "white",
           "lakecolor": "white",
           "landcolor": "#E5ECF6",
           "showlakes": true,
           "showland": true,
           "subunitcolor": "white"
          },
          "hoverlabel": {
           "align": "left"
          },
          "hovermode": "closest",
          "mapbox": {
           "style": "light"
          },
          "paper_bgcolor": "white",
          "plot_bgcolor": "#E5ECF6",
          "polar": {
           "angularaxis": {
            "gridcolor": "white",
            "linecolor": "white",
            "ticks": ""
           },
           "bgcolor": "#E5ECF6",
           "radialaxis": {
            "gridcolor": "white",
            "linecolor": "white",
            "ticks": ""
           }
          },
          "scene": {
           "xaxis": {
            "backgroundcolor": "#E5ECF6",
            "gridcolor": "white",
            "gridwidth": 2,
            "linecolor": "white",
            "showbackground": true,
            "ticks": "",
            "zerolinecolor": "white"
           },
           "yaxis": {
            "backgroundcolor": "#E5ECF6",
            "gridcolor": "white",
            "gridwidth": 2,
            "linecolor": "white",
            "showbackground": true,
            "ticks": "",
            "zerolinecolor": "white"
           },
           "zaxis": {
            "backgroundcolor": "#E5ECF6",
            "gridcolor": "white",
            "gridwidth": 2,
            "linecolor": "white",
            "showbackground": true,
            "ticks": "",
            "zerolinecolor": "white"
           }
          },
          "shapedefaults": {
           "line": {
            "color": "#2a3f5f"
           }
          },
          "ternary": {
           "aaxis": {
            "gridcolor": "white",
            "linecolor": "white",
            "ticks": ""
           },
           "baxis": {
            "gridcolor": "white",
            "linecolor": "white",
            "ticks": ""
           },
           "bgcolor": "#E5ECF6",
           "caxis": {
            "gridcolor": "white",
            "linecolor": "white",
            "ticks": ""
           }
          },
          "title": {
           "x": 0.05
          },
          "xaxis": {
           "automargin": true,
           "gridcolor": "white",
           "linecolor": "white",
           "ticks": "",
           "title": {
            "standoff": 15
           },
           "zerolinecolor": "white",
           "zerolinewidth": 2
          },
          "yaxis": {
           "automargin": true,
           "gridcolor": "white",
           "linecolor": "white",
           "ticks": "",
           "title": {
            "standoff": 15
           },
           "zerolinecolor": "white",
           "zerolinewidth": 2
          }
         }
        },
        "title": {
         "text": "Average Sale Price per Square Foot and Gross Rent in San Francisco"
        }
       }
      },
      "text/html": [
       "<div>                            <div id=\"195be28e-f8ce-414e-8044-0735bb993fe1\" class=\"plotly-graph-div\" style=\"height:525px; width:100%;\"></div>            <script type=\"text/javascript\">                require([\"plotly\"], function(Plotly) {                    window.PLOTLYENV=window.PLOTLYENV || {};                                    if (document.getElementById(\"195be28e-f8ce-414e-8044-0735bb993fe1\")) {                    Plotly.newPlot(                        \"195be28e-f8ce-414e-8044-0735bb993fe1\",                        [{\"hovertemplate\": \"sale_price_sqr_foot=%{marker.size}<br>Lat=%{lat}<br>Lon=%{lon}<br>gross_rent=%{marker.color}<extra></extra>\", \"lat\": [37.791012, 37.779598, 37.73467, 37.72874, 37.768159999999995, 37.77789, 37.74961, 37.75331, 37.78553, 37.79298, 37.7228, 37.728629999999995, 37.76964, 37.75554, 37.72874, 37.79101, 37.79101, 37.757059999999996, 37.728629999999995, 37.757912, 37.76525, 37.76525, 37.72551, 37.72116, 37.75416, 37.74961, 37.769112, 37.74961, 37.78553, 37.801520000000004, 37.7789, 37.79298, 37.79972, 37.71993, 37.75331, 37.73415, 37.783229999999996, 37.75184, 37.728629999999995, 37.79298, 37.75331, 37.80055, 37.80055, 37.71993, 37.7228, 37.7517, 37.74961, 37.79298, 37.72838, 37.74961, 37.76355, 37.73467, 37.73196, 37.78553, 37.79298, 37.73467, 37.783229999999996, 37.79101, 37.73415, 37.80055, 37.753311, 37.79101, 37.779509999999995, 37.72874, 37.74026, 37.79298, 37.7347, 37.73415, 37.79298], \"legendgroup\": \"\", \"lon\": [-122.4021, -122.443451, -122.40106000000002, -122.41098000000001, -122.43933, -122.44516999999999, -122.48998999999999, -122.44703, -122.456, -122.43579, -122.43869, -122.44305, -122.42611000000001, -122.43778999999999, -122.41098000000001, -122.4021, -122.4021, -122.45508999999998, -122.44305, -122.46401999999999, -122.43596000000001, -122.43596000000001, -122.37178, -122.48706999999999, -122.41946999999999, -122.48998999999999, -122.483566, -122.48997, -122.456, -122.45456999999999, -122.45496000000001, -122.43579, -122.46688999999999, -122.46595, -122.44703, -122.45700000000001, -122.40065, -122.42522, -122.44305, -122.43579, -122.44703, -122.40433, -122.40433, -122.46595, -122.43869, -122.446, -122.48998999999999, -122.43579, -122.47851000000001, -122.48998999999999, -122.45765, -122.40106000000002, -122.38323999999999, -122.456, -122.43579, -122.40106000000002, -122.40065, -122.4021, -122.45700000000001, -122.40433, -122.447029, -122.4021, -122.42022, -122.41098000000001, -122.46388, -122.43579, -122.456854, -122.45700000000001, -122.39636000000002], \"marker\": {\"color\": [2817.285714285714, 3031.8333333333335, 2318.4, 3739.0, 2698.8333333333335, 2817.285714285714, 2817.285714285714, 2250.5, 2472.0, 2817.285714285714, 2698.8333333333335, 2016.0, 2780.25, 2817.285714285714, 3031.8333333333335, 2817.285714285714, 2472.0, 1781.5, 2899.5, 2601.4, 2817.285714285714, 2817.285714285714, 2489.0, 2960.0, 2817.285714285714, 3224.0, 2817.285714285714, 2817.285714285714, 2817.285714285714, 2555.1666666666665, 2555.1666666666665, 2817.285714285714, 2817.285714285714, 3414.0, 2647.5, 2155.25, 2663.6666666666665, 2555.1666666666665, 3173.4, 2817.285714285714, 2817.285714285714, 2990.8, 2818.4, 2434.0, 2995.75, 2817.285714285714, 2817.285714285714, 2817.285714285714, 2817.285714285714, 2555.1666666666665, 2817.285714285714, 2318.4, 2817.285714285714, 2817.285714285714, 2817.285714285714, 3528.0, 2099.0, 2817.285714285714, 2899.5, 2817.285714285714, 2817.285714285714, 2555.1666666666665, 2817.285714285714, 3657.0, 2515.5, 2555.1666666666665, 2250.5, 3959.0, 2555.1666666666665], \"coloraxis\": \"coloraxis\", \"size\": [366.02071153227644, 373.38219782647707, 204.58862288246596, 590.7928388746802, 452.6805909308442, 394.4223987800589, 423.6879277015824, 487.2448860262575, 587.5390673661739, 665.964041578323, 303.00418440849427, 434.99173944522124, 502.59915555623616, 642.2486706357391, 388.76592700230754, 391.36253308010487, 455.83621223779153, 321.84083657398736, 623.826177537435, 639.3935574881156, 449.5447622856192, 355.9328279480578, 170.62491987132685, 384.7979281346048, 397.67371473613446, 519.3856038526768, 378.59431396136455, 413.66751546215943, 529.3841850673389, 409.95435219297514, 478.2285530213679, 539.2379688783261, 583.7492694814549, 788.8448175872469, 550.5103482917151, 779.810842264425, 566.1922135483312, 418.9156225067234, 523.4662013248023, 458.2040944846015, 542.4429128151736, 411.646875881678, 498.26975500787677, 330.0973846552545, 242.37095202049667, 485.0270126111035, 394.21903228550775, 689.5558168113664, 373.732856371763, 336.172661037069, 632.740453508577, 327.11392534647274, 662.0136128276529, 675.3502120510033, 608.9832172374425, 170.2925485152069, 650.1244791945729, 570.2714266991686, 528.3183317138463, 676.5065775293257, 469.39862649935156, 903.9932576720645, 404.1501801622257, 301.46617997450267, 498.4884848295011, 307.56220097996066, 533.7039354359513, 687.0875745178323, 576.709848378276], \"sizemode\": \"area\", \"sizeref\": 2.259983144180161}, \"mode\": \"markers\", \"name\": \"\", \"showlegend\": false, \"subplot\": \"mapbox\", \"type\": \"scattermapbox\"}],                        {\"coloraxis\": {\"colorbar\": {\"title\": {\"text\": \"gross_rent\"}}, \"colorscale\": [[0.0, \"#0d0887\"], [0.1111111111111111, \"#46039f\"], [0.2222222222222222, \"#7201a8\"], [0.3333333333333333, \"#9c179e\"], [0.4444444444444444, \"#bd3786\"], [0.5555555555555556, \"#d8576b\"], [0.6666666666666666, \"#ed7953\"], [0.7777777777777778, \"#fb9f3a\"], [0.8888888888888888, \"#fdca26\"], [1.0, \"#f0f921\"]]}, \"legend\": {\"itemsizing\": \"constant\", \"tracegroupgap\": 0}, \"mapbox\": {\"accesstoken\": \"mapbox_token\", \"center\": {\"lat\": 37.76064079710145, \"lon\": -122.43826449275363}, \"domain\": {\"x\": [0.0, 1.0], \"y\": [0.0, 1.0]}, \"zoom\": 8}, \"template\": {\"data\": {\"bar\": [{\"error_x\": {\"color\": \"#2a3f5f\"}, \"error_y\": {\"color\": \"#2a3f5f\"}, \"marker\": {\"line\": {\"color\": \"#E5ECF6\", \"width\": 0.5}}, \"type\": \"bar\"}], \"barpolar\": [{\"marker\": {\"line\": {\"color\": \"#E5ECF6\", \"width\": 0.5}}, \"type\": \"barpolar\"}], \"carpet\": [{\"aaxis\": {\"endlinecolor\": \"#2a3f5f\", \"gridcolor\": \"white\", \"linecolor\": \"white\", \"minorgridcolor\": \"white\", \"startlinecolor\": \"#2a3f5f\"}, \"baxis\": {\"endlinecolor\": \"#2a3f5f\", \"gridcolor\": \"white\", \"linecolor\": \"white\", \"minorgridcolor\": \"white\", \"startlinecolor\": \"#2a3f5f\"}, \"type\": \"carpet\"}], \"choropleth\": [{\"colorbar\": {\"outlinewidth\": 0, \"ticks\": \"\"}, \"type\": \"choropleth\"}], \"contour\": [{\"colorbar\": {\"outlinewidth\": 0, \"ticks\": \"\"}, \"colorscale\": [[0.0, \"#0d0887\"], [0.1111111111111111, \"#46039f\"], [0.2222222222222222, \"#7201a8\"], [0.3333333333333333, \"#9c179e\"], [0.4444444444444444, \"#bd3786\"], [0.5555555555555556, \"#d8576b\"], [0.6666666666666666, \"#ed7953\"], [0.7777777777777778, \"#fb9f3a\"], [0.8888888888888888, \"#fdca26\"], [1.0, \"#f0f921\"]], \"type\": \"contour\"}], \"contourcarpet\": [{\"colorbar\": {\"outlinewidth\": 0, \"ticks\": \"\"}, \"type\": \"contourcarpet\"}], \"heatmap\": [{\"colorbar\": {\"outlinewidth\": 0, \"ticks\": \"\"}, \"colorscale\": [[0.0, \"#0d0887\"], [0.1111111111111111, \"#46039f\"], [0.2222222222222222, \"#7201a8\"], [0.3333333333333333, \"#9c179e\"], [0.4444444444444444, \"#bd3786\"], [0.5555555555555556, \"#d8576b\"], [0.6666666666666666, \"#ed7953\"], [0.7777777777777778, \"#fb9f3a\"], [0.8888888888888888, \"#fdca26\"], [1.0, \"#f0f921\"]], \"type\": \"heatmap\"}], \"heatmapgl\": [{\"colorbar\": {\"outlinewidth\": 0, \"ticks\": \"\"}, \"colorscale\": [[0.0, \"#0d0887\"], [0.1111111111111111, \"#46039f\"], [0.2222222222222222, \"#7201a8\"], [0.3333333333333333, \"#9c179e\"], [0.4444444444444444, \"#bd3786\"], [0.5555555555555556, \"#d8576b\"], [0.6666666666666666, \"#ed7953\"], [0.7777777777777778, \"#fb9f3a\"], [0.8888888888888888, \"#fdca26\"], [1.0, \"#f0f921\"]], \"type\": \"heatmapgl\"}], \"histogram\": [{\"marker\": {\"colorbar\": {\"outlinewidth\": 0, \"ticks\": \"\"}}, \"type\": \"histogram\"}], \"histogram2d\": [{\"colorbar\": {\"outlinewidth\": 0, \"ticks\": \"\"}, \"colorscale\": [[0.0, \"#0d0887\"], [0.1111111111111111, \"#46039f\"], [0.2222222222222222, \"#7201a8\"], [0.3333333333333333, \"#9c179e\"], [0.4444444444444444, \"#bd3786\"], [0.5555555555555556, \"#d8576b\"], [0.6666666666666666, \"#ed7953\"], [0.7777777777777778, \"#fb9f3a\"], [0.8888888888888888, \"#fdca26\"], [1.0, \"#f0f921\"]], \"type\": \"histogram2d\"}], \"histogram2dcontour\": [{\"colorbar\": {\"outlinewidth\": 0, \"ticks\": \"\"}, \"colorscale\": [[0.0, \"#0d0887\"], [0.1111111111111111, \"#46039f\"], [0.2222222222222222, \"#7201a8\"], [0.3333333333333333, \"#9c179e\"], [0.4444444444444444, \"#bd3786\"], [0.5555555555555556, \"#d8576b\"], [0.6666666666666666, \"#ed7953\"], [0.7777777777777778, \"#fb9f3a\"], [0.8888888888888888, \"#fdca26\"], [1.0, \"#f0f921\"]], \"type\": \"histogram2dcontour\"}], \"mesh3d\": [{\"colorbar\": {\"outlinewidth\": 0, \"ticks\": \"\"}, \"type\": \"mesh3d\"}], \"parcoords\": [{\"line\": {\"colorbar\": {\"outlinewidth\": 0, \"ticks\": \"\"}}, \"type\": \"parcoords\"}], \"pie\": [{\"automargin\": true, \"type\": \"pie\"}], \"scatter\": [{\"marker\": {\"colorbar\": {\"outlinewidth\": 0, \"ticks\": \"\"}}, \"type\": \"scatter\"}], \"scatter3d\": [{\"line\": {\"colorbar\": {\"outlinewidth\": 0, \"ticks\": \"\"}}, \"marker\": {\"colorbar\": {\"outlinewidth\": 0, \"ticks\": \"\"}}, \"type\": \"scatter3d\"}], \"scattercarpet\": [{\"marker\": {\"colorbar\": {\"outlinewidth\": 0, \"ticks\": \"\"}}, \"type\": \"scattercarpet\"}], \"scattergeo\": [{\"marker\": {\"colorbar\": {\"outlinewidth\": 0, \"ticks\": \"\"}}, \"type\": \"scattergeo\"}], \"scattergl\": [{\"marker\": {\"colorbar\": {\"outlinewidth\": 0, \"ticks\": \"\"}}, \"type\": \"scattergl\"}], \"scattermapbox\": [{\"marker\": {\"colorbar\": {\"outlinewidth\": 0, \"ticks\": \"\"}}, \"type\": \"scattermapbox\"}], \"scatterpolar\": [{\"marker\": {\"colorbar\": {\"outlinewidth\": 0, \"ticks\": \"\"}}, \"type\": \"scatterpolar\"}], \"scatterpolargl\": [{\"marker\": {\"colorbar\": {\"outlinewidth\": 0, \"ticks\": \"\"}}, \"type\": \"scatterpolargl\"}], \"scatterternary\": [{\"marker\": {\"colorbar\": {\"outlinewidth\": 0, \"ticks\": \"\"}}, \"type\": \"scatterternary\"}], \"surface\": [{\"colorbar\": {\"outlinewidth\": 0, \"ticks\": \"\"}, \"colorscale\": [[0.0, \"#0d0887\"], [0.1111111111111111, \"#46039f\"], [0.2222222222222222, \"#7201a8\"], [0.3333333333333333, \"#9c179e\"], [0.4444444444444444, \"#bd3786\"], [0.5555555555555556, \"#d8576b\"], [0.6666666666666666, \"#ed7953\"], [0.7777777777777778, \"#fb9f3a\"], [0.8888888888888888, \"#fdca26\"], [1.0, \"#f0f921\"]], \"type\": \"surface\"}], \"table\": [{\"cells\": {\"fill\": {\"color\": \"#EBF0F8\"}, \"line\": {\"color\": \"white\"}}, \"header\": {\"fill\": {\"color\": \"#C8D4E3\"}, \"line\": {\"color\": \"white\"}}, \"type\": \"table\"}]}, \"layout\": {\"annotationdefaults\": {\"arrowcolor\": \"#2a3f5f\", \"arrowhead\": 0, \"arrowwidth\": 1}, \"autotypenumbers\": \"strict\", \"coloraxis\": {\"colorbar\": {\"outlinewidth\": 0, \"ticks\": \"\"}}, \"colorscale\": {\"diverging\": [[0, \"#8e0152\"], [0.1, \"#c51b7d\"], [0.2, \"#de77ae\"], [0.3, \"#f1b6da\"], [0.4, \"#fde0ef\"], [0.5, \"#f7f7f7\"], [0.6, \"#e6f5d0\"], [0.7, \"#b8e186\"], [0.8, \"#7fbc41\"], [0.9, \"#4d9221\"], [1, \"#276419\"]], \"sequential\": [[0.0, \"#0d0887\"], [0.1111111111111111, \"#46039f\"], [0.2222222222222222, \"#7201a8\"], [0.3333333333333333, \"#9c179e\"], [0.4444444444444444, \"#bd3786\"], [0.5555555555555556, \"#d8576b\"], [0.6666666666666666, \"#ed7953\"], [0.7777777777777778, \"#fb9f3a\"], [0.8888888888888888, \"#fdca26\"], [1.0, \"#f0f921\"]], \"sequentialminus\": [[0.0, \"#0d0887\"], [0.1111111111111111, \"#46039f\"], [0.2222222222222222, \"#7201a8\"], [0.3333333333333333, \"#9c179e\"], [0.4444444444444444, \"#bd3786\"], [0.5555555555555556, \"#d8576b\"], [0.6666666666666666, \"#ed7953\"], [0.7777777777777778, \"#fb9f3a\"], [0.8888888888888888, \"#fdca26\"], [1.0, \"#f0f921\"]]}, \"colorway\": [\"#636efa\", \"#EF553B\", \"#00cc96\", \"#ab63fa\", \"#FFA15A\", \"#19d3f3\", \"#FF6692\", \"#B6E880\", \"#FF97FF\", \"#FECB52\"], \"font\": {\"color\": \"#2a3f5f\"}, \"geo\": {\"bgcolor\": \"white\", \"lakecolor\": \"white\", \"landcolor\": \"#E5ECF6\", \"showlakes\": true, \"showland\": true, \"subunitcolor\": \"white\"}, \"hoverlabel\": {\"align\": \"left\"}, \"hovermode\": \"closest\", \"mapbox\": {\"style\": \"light\"}, \"paper_bgcolor\": \"white\", \"plot_bgcolor\": \"#E5ECF6\", \"polar\": {\"angularaxis\": {\"gridcolor\": \"white\", \"linecolor\": \"white\", \"ticks\": \"\"}, \"bgcolor\": \"#E5ECF6\", \"radialaxis\": {\"gridcolor\": \"white\", \"linecolor\": \"white\", \"ticks\": \"\"}}, \"scene\": {\"xaxis\": {\"backgroundcolor\": \"#E5ECF6\", \"gridcolor\": \"white\", \"gridwidth\": 2, \"linecolor\": \"white\", \"showbackground\": true, \"ticks\": \"\", \"zerolinecolor\": \"white\"}, \"yaxis\": {\"backgroundcolor\": \"#E5ECF6\", \"gridcolor\": \"white\", \"gridwidth\": 2, \"linecolor\": \"white\", \"showbackground\": true, \"ticks\": \"\", \"zerolinecolor\": \"white\"}, \"zaxis\": {\"backgroundcolor\": \"#E5ECF6\", \"gridcolor\": \"white\", \"gridwidth\": 2, \"linecolor\": \"white\", \"showbackground\": true, \"ticks\": \"\", \"zerolinecolor\": \"white\"}}, \"shapedefaults\": {\"line\": {\"color\": \"#2a3f5f\"}}, \"ternary\": {\"aaxis\": {\"gridcolor\": \"white\", \"linecolor\": \"white\", \"ticks\": \"\"}, \"baxis\": {\"gridcolor\": \"white\", \"linecolor\": \"white\", \"ticks\": \"\"}, \"bgcolor\": \"#E5ECF6\", \"caxis\": {\"gridcolor\": \"white\", \"linecolor\": \"white\", \"ticks\": \"\"}}, \"title\": {\"x\": 0.05}, \"xaxis\": {\"automargin\": true, \"gridcolor\": \"white\", \"linecolor\": \"white\", \"ticks\": \"\", \"title\": {\"standoff\": 15}, \"zerolinecolor\": \"white\", \"zerolinewidth\": 2}, \"yaxis\": {\"automargin\": true, \"gridcolor\": \"white\", \"linecolor\": \"white\", \"ticks\": \"\", \"title\": {\"standoff\": 15}, \"zerolinecolor\": \"white\", \"zerolinewidth\": 2}}}, \"title\": {\"text\": \"Average Sale Price per Square Foot and Gross Rent in San Francisco\"}},                        {\"responsive\": true}                    ).then(function(){\n",
       "                            \n",
       "var gd = document.getElementById('195be28e-f8ce-414e-8044-0735bb993fe1');\n",
       "var x = new MutationObserver(function (mutations, observer) {{\n",
       "        var display = window.getComputedStyle(gd).display;\n",
       "        if (!display || display === 'none') {{\n",
       "            console.log([gd, 'removed!']);\n",
       "            Plotly.purge(gd);\n",
       "            observer.disconnect();\n",
       "        }}\n",
       "}});\n",
       "\n",
       "// Listen for the removal of the full notebook cells\n",
       "var notebookContainer = gd.closest('#notebook-container');\n",
       "if (notebookContainer) {{\n",
       "    x.observe(notebookContainer, {childList: true});\n",
       "}}\n",
       "\n",
       "// Listen for the clearing of the current output cell\n",
       "var outputEl = gd.closest('.output');\n",
       "if (outputEl) {{\n",
       "    x.observe(outputEl, {childList: true});\n",
       "}}\n",
       "\n",
       "                        })                };                });            </script>        </div>"
      ]
     },
     "metadata": {},
     "output_type": "display_data"
    }
   ],
   "source": [
    "df_neighborhood_locations = pd.read_csv(\"neighborhoods_coordinates.csv\")\n",
    "average_prices = sfo_data.groupby([\"neighborhood\"]).mean()\n",
    "average_prices.reset_index(inplace=True)\n",
    "average_prices.rename(columns={\"neighborhood\":'Neighborhood'},inplace=True)\n",
    "combined_data= pd.merge(average_prices,df_neighborhood_locations,on=\"Neighborhood\")\n",
    "px.set_mapbox_access_token(\"mapbox_token\")\n",
    "mp_plot3= px.scatter_mapbox(combined_data,lat=\"Lat\",lon=\"Lon\",size=\"sale_price_sqr_foot\",color=\"gross_rent\", title=\"Average Sale Price per Square Foot and Gross Rent in San Francisco\")\n",
    "mp_plot3.show()"
   ]
  },
  {
   "cell_type": "code",
   "execution_count": 52,
   "metadata": {},
   "outputs": [
    {
     "name": "stdout",
     "output_type": "stream",
     "text": [
      "Launching server at http://localhost:53134\n"
     ]
    }
   ],
   "source": [
    "welcome_column=  pn.Column(\"##Georgarphical Distribution\",mp_plot3).show()"
   ]
  },
  {
   "cell_type": "markdown",
   "metadata": {},
   "source": [
    "### Creating Tabs"
   ]
  },
  {
   "cell_type": "code",
   "execution_count": 57,
   "metadata": {},
   "outputs": [
    {
     "data": {},
     "metadata": {},
     "output_type": "display_data"
    },
    {
     "data": {},
     "metadata": {},
     "output_type": "display_data"
    },
    {
     "data": {
      "application/vnd.holoviews_exec.v0+json": "",
      "text/html": [
       "<div id='5653'>\n",
       "\n",
       "\n",
       "\n",
       "\n",
       "\n",
       "  <div class=\"bk-root\" id=\"381aa67d-4030-4a43-a234-fadd063e3494\" data-root-id=\"5653\"></div>\n",
       "</div>\n",
       "<script type=\"application/javascript\">(function(root) {\n",
       "  function embed_document(root) {\n",
       "    var docs_json = {\"ea16ad27-4627-4132-bbf9-8fcda3f36bca\":{\"roots\":{\"references\":[{\"attributes\":{},\"id\":\"5678\",\"type\":\"PanTool\"},{\"attributes\":{\"axis_label\":\"Average Sales Prices per Square Foot\",\"bounds\":\"auto\",\"formatter\":{\"id\":\"5948\"},\"major_label_orientation\":\"horizontal\",\"ticker\":{\"id\":\"5921\"}},\"id\":\"5920\",\"type\":\"LinearAxis\"},{\"attributes\":{\"active_drag\":\"auto\",\"active_inspect\":\"auto\",\"active_multi\":null,\"active_scroll\":\"auto\",\"active_tap\":\"auto\",\"tools\":[{\"id\":\"5720\"},{\"id\":\"5738\"},{\"id\":\"5739\"},{\"id\":\"5740\"},{\"id\":\"5741\"},{\"id\":\"5742\"}]},\"id\":\"5744\",\"type\":\"Toolbar\"},{\"attributes\":{},\"id\":\"5679\",\"type\":\"WheelZoomTool\"},{\"attributes\":{\"callback\":null,\"renderers\":[{\"id\":\"5757\"}],\"tags\":[\"hv_created\"],\"tooltips\":[[\"year\",\"@{year}\"],[\"gross_rent\",\"@{gross_rent}\"]]},\"id\":\"5720\",\"type\":\"HoverTool\"},{\"attributes\":{},\"id\":\"5752\",\"type\":\"Selection\"},{\"attributes\":{\"overlay\":{\"id\":\"5682\"}},\"id\":\"5680\",\"type\":\"BoxZoomTool\"},{\"attributes\":{\"below\":[{\"id\":\"5730\"}],\"center\":[{\"id\":\"5733\"},{\"id\":\"5737\"}],\"left\":[{\"id\":\"5734\"}],\"margin\":[5,5,5,5],\"min_border_bottom\":10,\"min_border_left\":10,\"min_border_right\":10,\"min_border_top\":10,\"plot_height\":300,\"plot_width\":700,\"renderers\":[{\"id\":\"5757\"}],\"sizing_mode\":\"fixed\",\"title\":{\"id\":\"5722\"},\"toolbar\":{\"id\":\"5744\"},\"x_range\":{\"id\":\"5718\"},\"x_scale\":{\"id\":\"5726\"},\"y_range\":{\"id\":\"5719\"},\"y_scale\":{\"id\":\"5728\"}},\"id\":\"5721\",\"subtype\":\"Figure\",\"type\":\"Plot\"},{\"attributes\":{\"data\":{\"neighborhood\":[\"Union Square District\",\"Merced Heights\",\"Miraloma Park\",\"Pacific Heights\",\"Westwood Park\",\"Telegraph Hill\",\"Presidio Heights\",\"Cow Hollow\",\"Potrero Hill\",\"South Beach\"],\"sale_price_sqr_foot\":{\"__ndarray__\":\"JRAUMfI/jEB9IrkvwqaIQFx/3pp8XohAFpsVUHKMhUBs0ERas3iFQL0KhXgNJIVAy835O80ahUANV25bts+EQJrMCuEbsIRAya3y7v5QhEA=\",\"dtype\":\"float64\",\"order\":\"little\",\"shape\":[10]}},\"selected\":{\"id\":\"5876\"},\"selection_policy\":{\"id\":\"5894\"}},\"id\":\"5875\",\"type\":\"ColumnDataSource\"},{\"attributes\":{},\"id\":\"5681\",\"type\":\"ResetTool\"},{\"attributes\":{\"line_color\":\"#1f77b3\",\"line_width\":2,\"x\":{\"field\":\"year\"},\"y\":{\"field\":\"gross_rent\"}},\"id\":\"5754\",\"type\":\"Line\"},{\"attributes\":{},\"id\":\"5924\",\"type\":\"SaveTool\"},{\"attributes\":{\"end\":929.3801355198136,\"reset_end\":733.2177371101802,\"reset_start\":306.3294011864627,\"start\":0.0,\"tags\":[[[\"sale_price_sqr_foot\",\"sale_price_sqr_foot\",null]]]},\"id\":\"5780\",\"type\":\"Range1d\"},{\"attributes\":{},\"id\":\"5813\",\"type\":\"Selection\"},{\"attributes\":{\"text\":\"Average Housing Rent In San Francisco\",\"text_color\":{\"value\":\"black\"},\"text_font_size\":{\"value\":\"12pt\"}},\"id\":\"5722\",\"type\":\"Title\"},{\"attributes\":{\"callback\":null,\"renderers\":[{\"id\":\"5696\"}],\"tags\":[\"hv_created\"],\"tooltips\":[[\"year\",\"@{year}\"],[\"housing_units\",\"@{housing_units}\"]]},\"id\":\"5660\",\"type\":\"HoverTool\"},{\"attributes\":{\"bottom_units\":\"screen\",\"fill_alpha\":0.5,\"fill_color\":\"lightgrey\",\"left_units\":\"screen\",\"level\":\"overlay\",\"line_alpha\":1.0,\"line_color\":\"black\",\"line_dash\":[4,4],\"line_width\":2,\"right_units\":\"screen\",\"top_units\":\"screen\"},\"id\":\"5682\",\"type\":\"BoxAnnotation\"},{\"attributes\":{\"below\":[{\"id\":\"5670\"}],\"center\":[{\"id\":\"5672\"},{\"id\":\"5676\"}],\"left\":[{\"id\":\"5673\"}],\"margin\":[5,5,5,5],\"min_border_bottom\":10,\"min_border_left\":10,\"min_border_right\":10,\"min_border_top\":10,\"plot_height\":300,\"plot_width\":700,\"renderers\":[{\"id\":\"5696\"}],\"sizing_mode\":\"fixed\",\"title\":{\"id\":\"5662\"},\"toolbar\":{\"id\":\"5683\"},\"x_range\":{\"id\":\"5658\"},\"x_scale\":{\"id\":\"5666\"},\"y_range\":{\"id\":\"5659\"},\"y_scale\":{\"id\":\"5668\"}},\"id\":\"5661\",\"subtype\":\"Figure\",\"type\":\"Plot\"},{\"attributes\":{\"axis\":{\"id\":\"5734\"},\"dimension\":1,\"grid_line_color\":null,\"ticker\":null},\"id\":\"5737\",\"type\":\"Grid\"},{\"attributes\":{\"line_alpha\":0.2,\"line_color\":\"#1f77b3\",\"line_width\":2,\"x\":{\"field\":\"year\"},\"y\":{\"field\":\"sale_price_sqr_foot\"}},\"id\":\"5942\",\"type\":\"Line\"},{\"attributes\":{\"child\":{\"id\":\"5974\"},\"name\":\"Parallel Plot Analysis\",\"title\":\"Parallel Plot Analysis\"},\"id\":\"5975\",\"type\":\"Panel\"},{\"attributes\":{\"end\":4705.1,\"reset_end\":4705.1,\"reset_start\":923.9,\"start\":923.9,\"tags\":[[[\"gross_rent\",\"gross_rent\",null]]]},\"id\":\"5719\",\"type\":\"Range1d\"},{\"attributes\":{},\"id\":\"5726\",\"type\":\"LinearScale\"},{\"attributes\":{},\"id\":\"5709\",\"type\":\"UnionRenderers\"},{\"attributes\":{\"fill_alpha\":{\"value\":0.2},\"fill_color\":{\"value\":\"#1f77b3\"},\"line_alpha\":{\"value\":0.2},\"top\":{\"field\":\"housing_units\"},\"width\":{\"value\":0.8},\"x\":{\"field\":\"year\"}},\"id\":\"5695\",\"type\":\"VBar\"},{\"attributes\":{},\"id\":\"5691\",\"type\":\"Selection\"},{\"attributes\":{},\"id\":\"5728\",\"type\":\"LinearScale\"},{\"attributes\":{\"text\":\"neighborhood: Alamo Square\",\"text_color\":{\"value\":\"black\"},\"text_font_size\":{\"value\":\"12pt\"}},\"id\":\"5908\",\"type\":\"Title\"},{\"attributes\":{\"axis_label\":\"year\",\"bounds\":\"auto\",\"formatter\":{\"id\":\"5760\"},\"major_label_orientation\":\"horizontal\",\"ticker\":{\"id\":\"5731\"}},\"id\":\"5730\",\"type\":\"LinearAxis\"},{\"attributes\":{\"css_classes\":[\"markdown\"],\"margin\":[5,5,5,5],\"name\":\"Markdown04087\",\"text\":\"&lt;h2&gt;Neighborhood Analysis&lt;/h2&gt;\"},\"id\":\"5842\",\"type\":\"panel.models.markup.HTML\"},{\"attributes\":{},\"id\":\"5731\",\"type\":\"BasicTicker\"},{\"attributes\":{\"client_comm_id\":\"00e5138725194740bef82837e0e2eec0\",\"comm_id\":\"cda06380fb094559a087c9a835a6cff2\",\"plot_id\":\"5653\"},\"id\":\"6096\",\"type\":\"panel.models.comm_manager.CommManager\"},{\"attributes\":{\"end\":386242,\"reset_end\":386242,\"reset_start\":370560,\"start\":370560,\"tags\":[[[\"housing_units\",\"housing_units\",null]]]},\"id\":\"5659\",\"type\":\"Range1d\"},{\"attributes\":{\"text\":\"\",\"text_color\":{\"value\":\"black\"},\"text_font_size\":{\"value\":\"12pt\"}},\"id\":\"5847\",\"type\":\"Title\"},{\"attributes\":{},\"id\":\"5699\",\"type\":\"CategoricalTickFormatter\"},{\"attributes\":{},\"id\":\"5735\",\"type\":\"BasicTicker\"},{\"attributes\":{\"axis\":{\"id\":\"5730\"},\"grid_line_color\":null,\"ticker\":null},\"id\":\"5733\",\"type\":\"Grid\"},{\"attributes\":{\"line_alpha\":0.1,\"line_color\":\"#1f77b3\",\"line_width\":2,\"x\":{\"field\":\"year\"},\"y\":{\"field\":\"sale_price_sqr_foot\"}},\"id\":\"5941\",\"type\":\"Line\"},{\"attributes\":{\"bottom_units\":\"screen\",\"fill_alpha\":0.5,\"fill_color\":\"lightgrey\",\"left_units\":\"screen\",\"level\":\"overlay\",\"line_alpha\":1.0,\"line_color\":\"black\",\"line_dash\":[4,4],\"line_width\":2,\"right_units\":\"screen\",\"top_units\":\"screen\"},\"id\":\"5929\",\"type\":\"BoxAnnotation\"},{\"attributes\":{\"active_drag\":\"auto\",\"active_inspect\":\"auto\",\"active_multi\":null,\"active_scroll\":\"auto\",\"active_tap\":\"auto\",\"tools\":[{\"id\":\"5906\"},{\"id\":\"5924\"},{\"id\":\"5925\"},{\"id\":\"5926\"},{\"id\":\"5927\"},{\"id\":\"5928\"}]},\"id\":\"5930\",\"type\":\"Toolbar\"},{\"attributes\":{\"fill_color\":{\"value\":\"#1f77b3\"},\"top\":{\"field\":\"housing_units\"},\"width\":{\"value\":0.8},\"x\":{\"field\":\"year\"}},\"id\":\"5693\",\"type\":\"VBar\"},{\"attributes\":{\"axis_label\":\"\",\"bounds\":\"auto\",\"formatter\":{\"id\":\"5762\"},\"major_label_orientation\":\"horizontal\",\"ticker\":{\"id\":\"5735\"}},\"id\":\"5734\",\"type\":\"LinearAxis\"},{\"attributes\":{\"axis_label\":\"year\",\"bounds\":\"auto\",\"formatter\":{\"id\":\"5699\"},\"major_label_orientation\":\"horizontal\",\"ticker\":{\"id\":\"5671\"}},\"id\":\"5670\",\"type\":\"CategoricalAxis\"},{\"attributes\":{\"axis\":{\"id\":\"5673\"},\"dimension\":1,\"grid_line_color\":null,\"ticker\":null},\"id\":\"5676\",\"type\":\"Grid\"},{\"attributes\":{\"line_alpha\":0.1,\"line_color\":\"#1f77b3\",\"line_width\":2,\"x\":{\"field\":\"year\"},\"y\":{\"field\":\"gross_rent\"}},\"id\":\"5755\",\"type\":\"Line\"},{\"attributes\":{\"margin\":[0,0,0,0],\"tabs\":[{\"id\":\"5655\"},{\"id\":\"5840\"},{\"id\":\"5973\"},{\"id\":\"5975\"}]},\"id\":\"5653\",\"type\":\"Tabs\"},{\"attributes\":{\"end\":2016.0,\"reset_end\":2016.0,\"reset_start\":2010.0,\"start\":2010.0,\"tags\":[[[\"year\",\"year\",null]]]},\"id\":\"5779\",\"type\":\"Range1d\"},{\"attributes\":{\"line_alpha\":0.2,\"line_color\":\"#1f77b3\",\"line_width\":2,\"x\":{\"field\":\"year\"},\"y\":{\"field\":\"gross_rent\"}},\"id\":\"5756\",\"type\":\"Line\"},{\"attributes\":{\"data\":{\"sale_price_sqr_foot\":{\"__ndarray__\":\"tQKjeIIVd0Do7CdydF51QGdijk899nhAaBKk2Jo5fkDGKCTbN2KBQPETFqRSxINAUB33UCbNhUA=\",\"dtype\":\"float64\",\"order\":\"little\",\"shape\":[7]},\"year\":[2010,2011,2012,2013,2014,2015,2016]},\"selected\":{\"id\":\"5813\"},\"selection_policy\":{\"id\":\"5831\"}},\"id\":\"5812\",\"type\":\"ColumnDataSource\"},{\"attributes\":{\"text\":\"Average Housing Units/Year in San Francisco\",\"text_color\":{\"value\":\"black\"},\"text_font_size\":{\"value\":\"12pt\"}},\"id\":\"5662\",\"type\":\"Title\"},{\"attributes\":{\"source\":{\"id\":\"5751\"}},\"id\":\"5758\",\"type\":\"CDSView\"},{\"attributes\":{},\"id\":\"5926\",\"type\":\"WheelZoomTool\"},{\"attributes\":{\"data_source\":{\"id\":\"5751\"},\"glyph\":{\"id\":\"5754\"},\"hover_glyph\":null,\"muted_glyph\":{\"id\":\"5756\"},\"nonselection_glyph\":{\"id\":\"5755\"},\"selection_glyph\":null,\"view\":{\"id\":\"5758\"}},\"id\":\"5757\",\"type\":\"GlyphRenderer\"},{\"attributes\":{},\"id\":\"5668\",\"type\":\"LinearScale\"},{\"attributes\":{},\"id\":\"5739\",\"type\":\"PanTool\"},{\"attributes\":{},\"id\":\"5738\",\"type\":\"SaveTool\"},{\"attributes\":{\"factors\":[\"2010\",\"2011\",\"2012\",\"2013\",\"2014\",\"2015\",\"2016\"],\"tags\":[[[\"year\",\"year\",null]]]},\"id\":\"5658\",\"type\":\"FactorRange\"},{\"attributes\":{\"child\":{\"id\":\"5656\"},\"name\":\"Column04335\",\"title\":\"Yearly Analysis\"},\"id\":\"5840\",\"type\":\"Panel\"},{\"attributes\":{},\"id\":\"5671\",\"type\":\"CategoricalTicker\"},{\"attributes\":{\"overlay\":{\"id\":\"5743\"}},\"id\":\"5741\",\"type\":\"BoxZoomTool\"},{\"attributes\":{\"data_source\":{\"id\":\"5937\"},\"glyph\":{\"id\":\"5940\"},\"hover_glyph\":null,\"muted_glyph\":{\"id\":\"5942\"},\"nonselection_glyph\":{\"id\":\"5941\"},\"selection_glyph\":null,\"view\":{\"id\":\"5944\"}},\"id\":\"5943\",\"type\":\"GlyphRenderer\"},{\"attributes\":{},\"id\":\"5666\",\"type\":\"CategoricalScale\"},{\"attributes\":{\"axis\":{\"id\":\"5670\"},\"grid_line_color\":null,\"ticker\":null},\"id\":\"5672\",\"type\":\"Grid\"},{\"attributes\":{},\"id\":\"5701\",\"type\":\"BasicTickFormatter\"},{\"attributes\":{},\"id\":\"5740\",\"type\":\"WheelZoomTool\"},{\"attributes\":{\"end\":2016.0,\"reset_end\":2016.0,\"reset_start\":2010.0,\"start\":2010.0,\"tags\":[[[\"year\",\"year\",null]]]},\"id\":\"5718\",\"type\":\"Range1d\"},{\"attributes\":{\"data\":{\"gross_rent\":[1239,1530,2324,2971,3528,3739,4390],\"year\":[2010,2011,2012,2013,2014,2015,2016]},\"selected\":{\"id\":\"5752\"},\"selection_policy\":{\"id\":\"5770\"}},\"id\":\"5751\",\"type\":\"ColumnDataSource\"},{\"attributes\":{},\"id\":\"5674\",\"type\":\"BasicTicker\"},{\"attributes\":{},\"id\":\"5925\",\"type\":\"PanTool\"},{\"attributes\":{\"axis_label\":\"\",\"bounds\":\"auto\",\"formatter\":{\"id\":\"5701\"},\"major_label_orientation\":\"horizontal\",\"ticker\":{\"id\":\"5674\"}},\"id\":\"5673\",\"type\":\"LinearAxis\"},{\"attributes\":{\"factors\":[\"Union Square District\",\"Merced Heights\",\"Miraloma Park\",\"Pacific Heights\",\"Westwood Park\",\"Telegraph Hill\",\"Presidio Heights\",\"Cow Hollow\",\"Potrero Hill\",\"South Beach\"],\"tags\":[[[\"neighborhood\",\"neighborhood\",null]]]},\"id\":\"5843\",\"type\":\"FactorRange\"},{\"attributes\":{},\"id\":\"5742\",\"type\":\"ResetTool\"},{\"attributes\":{\"overlay\":{\"id\":\"5929\"}},\"id\":\"5927\",\"type\":\"BoxZoomTool\"},{\"attributes\":{\"data_source\":{\"id\":\"5690\"},\"glyph\":{\"id\":\"5693\"},\"hover_glyph\":null,\"muted_glyph\":{\"id\":\"5695\"},\"nonselection_glyph\":{\"id\":\"5694\"},\"selection_glyph\":null,\"view\":{\"id\":\"5697\"}},\"id\":\"5696\",\"type\":\"GlyphRenderer\"},{\"attributes\":{\"source\":{\"id\":\"5937\"}},\"id\":\"5944\",\"type\":\"CDSView\"},{\"attributes\":{\"margin\":[5,5,5,5],\"name\":\"Welcome\",\"text\":\"&lt;pre&gt;&lt;bokeh.server.server.Server object at 0x7fde83863050&gt;&lt;/pre&gt;\"},\"id\":\"5654\",\"type\":\"panel.models.markup.HTML\"},{\"attributes\":{\"fill_alpha\":{\"value\":0.1},\"fill_color\":{\"value\":\"#1f77b3\"},\"line_alpha\":{\"value\":0.1},\"top\":{\"field\":\"housing_units\"},\"width\":{\"value\":0.8},\"x\":{\"field\":\"year\"}},\"id\":\"5694\",\"type\":\"VBar\"},{\"attributes\":{\"source\":{\"id\":\"5690\"}},\"id\":\"5697\",\"type\":\"CDSView\"},{\"attributes\":{},\"id\":\"5928\",\"type\":\"ResetTool\"},{\"attributes\":{\"child\":{\"id\":\"5654\"},\"name\":\"Welcome\",\"title\":\"Welcome\"},\"id\":\"5655\",\"type\":\"Panel\"},{\"attributes\":{\"active_drag\":\"auto\",\"active_inspect\":\"auto\",\"active_multi\":null,\"active_scroll\":\"auto\",\"active_tap\":\"auto\",\"tools\":[{\"id\":\"5660\"},{\"id\":\"5677\"},{\"id\":\"5678\"},{\"id\":\"5679\"},{\"id\":\"5680\"},{\"id\":\"5681\"}]},\"id\":\"5683\",\"type\":\"Toolbar\"},{\"attributes\":{},\"id\":\"5912\",\"type\":\"LinearScale\"},{\"attributes\":{},\"id\":\"5914\",\"type\":\"LinearScale\"},{\"attributes\":{},\"id\":\"5677\",\"type\":\"SaveTool\"},{\"attributes\":{\"margin\":[5,5,5,5],\"name\":\"Parallel Plot Analysis\",\"text\":\"&lt;pre&gt;&lt;bokeh.server.server.Server object at 0x7fde838634d0&gt;&lt;/pre&gt;\"},\"id\":\"5974\",\"type\":\"panel.models.markup.HTML\"},{\"attributes\":{\"axis_label\":\"Year\",\"bounds\":\"auto\",\"formatter\":{\"id\":\"5946\"},\"major_label_orientation\":\"horizontal\",\"ticker\":{\"id\":\"5917\"}},\"id\":\"5916\",\"type\":\"LinearAxis\"},{\"attributes\":{\"line_color\":\"#1f77b3\",\"line_width\":2,\"x\":{\"field\":\"year\"},\"y\":{\"field\":\"sale_price_sqr_foot\"}},\"id\":\"5815\",\"type\":\"Line\"},{\"attributes\":{\"axis\":{\"id\":\"5916\"},\"grid_line_color\":null,\"ticker\":null},\"id\":\"5919\",\"type\":\"Grid\"},{\"attributes\":{},\"id\":\"5886\",\"type\":\"BasicTickFormatter\"},{\"attributes\":{},\"id\":\"5921\",\"type\":\"BasicTicker\"},{\"attributes\":{\"children\":[{\"id\":\"5907\"},{\"id\":\"5969\"}],\"margin\":[0,0,0,0],\"name\":\"Row04095\"},\"id\":\"5903\",\"type\":\"Row\"},{\"attributes\":{},\"id\":\"5851\",\"type\":\"CategoricalScale\"},{\"attributes\":{\"data\":{\"housing_units\":[372560,374507,376454,378401,380348,382295,384242],\"year\":[\"2010\",\"2011\",\"2012\",\"2013\",\"2014\",\"2015\",\"2016\"]},\"selected\":{\"id\":\"5691\"},\"selection_policy\":{\"id\":\"5709\"}},\"id\":\"5690\",\"type\":\"ColumnDataSource\"},{\"attributes\":{},\"id\":\"5821\",\"type\":\"BasicTickFormatter\"},{\"attributes\":{},\"id\":\"5917\",\"type\":\"BasicTicker\"},{\"attributes\":{\"callback\":null,\"renderers\":[{\"id\":\"5818\"}],\"tags\":[\"hv_created\"],\"tooltips\":[[\"year\",\"@{year}\"],[\"sale_price_sqr_foot\",\"@{sale_price_sqr_foot}\"]]},\"id\":\"5781\",\"type\":\"HoverTool\"},{\"attributes\":{},\"id\":\"5876\",\"type\":\"Selection\"},{\"attributes\":{\"bottom_units\":\"screen\",\"fill_alpha\":0.5,\"fill_color\":\"lightgrey\",\"left_units\":\"screen\",\"level\":\"overlay\",\"line_alpha\":1.0,\"line_color\":\"black\",\"line_dash\":[4,4],\"line_width\":2,\"right_units\":\"screen\",\"top_units\":\"screen\"},\"id\":\"5743\",\"type\":\"BoxAnnotation\"},{\"attributes\":{},\"id\":\"5787\",\"type\":\"LinearScale\"},{\"attributes\":{\"axis\":{\"id\":\"5920\"},\"dimension\":1,\"grid_line_color\":null,\"ticker\":null},\"id\":\"5923\",\"type\":\"Grid\"},{\"attributes\":{},\"id\":\"5948\",\"type\":\"BasicTickFormatter\"},{\"attributes\":{\"below\":[{\"id\":\"5791\"}],\"center\":[{\"id\":\"5794\"},{\"id\":\"5798\"}],\"left\":[{\"id\":\"5795\"}],\"margin\":[5,5,5,5],\"min_border_bottom\":10,\"min_border_left\":10,\"min_border_right\":10,\"min_border_top\":10,\"plot_height\":300,\"plot_width\":700,\"renderers\":[{\"id\":\"5818\"}],\"sizing_mode\":\"fixed\",\"title\":{\"id\":\"5783\"},\"toolbar\":{\"id\":\"5805\"},\"x_range\":{\"id\":\"5779\"},\"x_scale\":{\"id\":\"5787\"},\"y_range\":{\"id\":\"5780\"},\"y_scale\":{\"id\":\"5789\"}},\"id\":\"5782\",\"subtype\":\"Figure\",\"type\":\"Plot\"},{\"attributes\":{\"line_color\":\"#1f77b3\",\"line_width\":2,\"x\":{\"field\":\"year\"},\"y\":{\"field\":\"sale_price_sqr_foot\"}},\"id\":\"5940\",\"type\":\"Line\"},{\"attributes\":{},\"id\":\"5831\",\"type\":\"UnionRenderers\"},{\"attributes\":{\"bottom_units\":\"screen\",\"fill_alpha\":0.5,\"fill_color\":\"lightgrey\",\"left_units\":\"screen\",\"level\":\"overlay\",\"line_alpha\":1.0,\"line_color\":\"black\",\"line_dash\":[4,4],\"line_width\":2,\"right_units\":\"screen\",\"top_units\":\"screen\"},\"id\":\"5867\",\"type\":\"BoxAnnotation\"},{\"attributes\":{},\"id\":\"5938\",\"type\":\"Selection\"},{\"attributes\":{},\"id\":\"5823\",\"type\":\"BasicTickFormatter\"},{\"attributes\":{},\"id\":\"5789\",\"type\":\"LinearScale\"},{\"attributes\":{},\"id\":\"5762\",\"type\":\"BasicTickFormatter\"},{\"attributes\":{\"text\":\"Average Sale Price Per Square Foot In San Francisco\",\"text_color\":{\"value\":\"black\"},\"text_font_size\":{\"value\":\"12pt\"}},\"id\":\"5783\",\"type\":\"Title\"},{\"attributes\":{\"axis_label\":\"year\",\"bounds\":\"auto\",\"formatter\":{\"id\":\"5821\"},\"major_label_orientation\":\"horizontal\",\"ticker\":{\"id\":\"5792\"}},\"id\":\"5791\",\"type\":\"LinearAxis\"},{\"attributes\":{\"children\":[{\"id\":\"5970\"},{\"id\":\"5972\"}],\"margin\":[0,0,0,0],\"name\":\"Column04102\"},\"id\":\"5969\",\"type\":\"Column\"},{\"attributes\":{},\"id\":\"5760\",\"type\":\"BasicTickFormatter\"},{\"attributes\":{\"axis\":{\"id\":\"5795\"},\"dimension\":1,\"grid_line_color\":null,\"ticker\":null},\"id\":\"5798\",\"type\":\"Grid\"},{\"attributes\":{\"fill_color\":{\"value\":\"#1f77b3\"},\"top\":{\"field\":\"sale_price_sqr_foot\"},\"width\":{\"value\":0.8},\"x\":{\"field\":\"neighborhood\"}},\"id\":\"5878\",\"type\":\"VBar\"},{\"attributes\":{\"below\":[{\"id\":\"5916\"}],\"center\":[{\"id\":\"5919\"},{\"id\":\"5923\"}],\"left\":[{\"id\":\"5920\"}],\"margin\":[5,5,5,5],\"min_border_bottom\":10,\"min_border_left\":10,\"min_border_right\":10,\"min_border_top\":10,\"plot_height\":300,\"plot_width\":700,\"renderers\":[{\"id\":\"5943\"}],\"sizing_mode\":\"fixed\",\"title\":{\"id\":\"5908\"},\"toolbar\":{\"id\":\"5930\"},\"x_range\":{\"id\":\"5904\"},\"x_scale\":{\"id\":\"5912\"},\"y_range\":{\"id\":\"5780\"},\"y_scale\":{\"id\":\"5914\"}},\"id\":\"5907\",\"subtype\":\"Figure\",\"type\":\"Plot\"},{\"attributes\":{},\"id\":\"5792\",\"type\":\"BasicTicker\"},{\"attributes\":{},\"id\":\"5770\",\"type\":\"UnionRenderers\"},{\"attributes\":{\"below\":[{\"id\":\"5855\"}],\"center\":[{\"id\":\"5857\"},{\"id\":\"5861\"}],\"left\":[{\"id\":\"5858\"}],\"margin\":[5,5,5,5],\"min_border_bottom\":10,\"min_border_left\":10,\"min_border_right\":10,\"min_border_top\":10,\"plot_height\":300,\"plot_width\":700,\"renderers\":[{\"id\":\"5881\"}],\"sizing_mode\":\"fixed\",\"title\":{\"id\":\"5847\"},\"toolbar\":{\"id\":\"5868\"},\"x_range\":{\"id\":\"5843\"},\"x_scale\":{\"id\":\"5851\"},\"y_range\":{\"id\":\"5780\"},\"y_scale\":{\"id\":\"5853\"}},\"id\":\"5846\",\"subtype\":\"Figure\",\"type\":\"Plot\"},{\"attributes\":{\"callback\":null,\"renderers\":[{\"id\":\"5943\"}],\"tags\":[\"hv_created\"],\"tooltips\":[[\"year\",\"@{year}\"],[\"sale_price_sqr_foot\",\"@{sale_price_sqr_foot}\"]]},\"id\":\"5906\",\"type\":\"HoverTool\"},{\"attributes\":{\"axis\":{\"id\":\"5791\"},\"grid_line_color\":null,\"ticker\":null},\"id\":\"5794\",\"type\":\"Grid\"},{\"attributes\":{},\"id\":\"5960\",\"type\":\"UnionRenderers\"},{\"attributes\":{},\"id\":\"5796\",\"type\":\"BasicTicker\"},{\"attributes\":{\"axis_label\":\"\",\"bounds\":\"auto\",\"formatter\":{\"id\":\"5823\"},\"major_label_orientation\":\"horizontal\",\"ticker\":{\"id\":\"5796\"}},\"id\":\"5795\",\"type\":\"LinearAxis\"},{\"attributes\":{\"callback\":null,\"renderers\":[{\"id\":\"5881\"}],\"tags\":[\"hv_created\"],\"tooltips\":[[\"neighborhood\",\"@{neighborhood}\"],[\"sale_price_sqr_foot\",\"@{sale_price_sqr_foot}\"]]},\"id\":\"5845\",\"type\":\"HoverTool\"},{\"attributes\":{\"end\":2016.0,\"reset_end\":2016.0,\"reset_start\":2010.0,\"start\":2010.0,\"tags\":[[[\"year\",\"year\",null]]]},\"id\":\"5904\",\"type\":\"Range1d\"},{\"attributes\":{},\"id\":\"5946\",\"type\":\"BasicTickFormatter\"},{\"attributes\":{},\"id\":\"5853\",\"type\":\"LinearScale\"},{\"attributes\":{\"axis_label\":\"Neighborhood\",\"bounds\":\"auto\",\"formatter\":{\"id\":\"5884\"},\"major_label_orientation\":\"horizontal\",\"ticker\":{\"id\":\"5856\"}},\"id\":\"5855\",\"type\":\"CategoricalAxis\"},{\"attributes\":{\"line_alpha\":0.1,\"line_color\":\"#1f77b3\",\"line_width\":2,\"x\":{\"field\":\"year\"},\"y\":{\"field\":\"sale_price_sqr_foot\"}},\"id\":\"5816\",\"type\":\"Line\"},{\"attributes\":{\"source\":{\"id\":\"5875\"}},\"id\":\"5882\",\"type\":\"CDSView\"},{\"attributes\":{\"line_alpha\":0.2,\"line_color\":\"#1f77b3\",\"line_width\":2,\"x\":{\"field\":\"year\"},\"y\":{\"field\":\"sale_price_sqr_foot\"}},\"id\":\"5817\",\"type\":\"Line\"},{\"attributes\":{\"source\":{\"id\":\"5812\"}},\"id\":\"5819\",\"type\":\"CDSView\"},{\"attributes\":{\"data_source\":{\"id\":\"5812\"},\"glyph\":{\"id\":\"5815\"},\"hover_glyph\":null,\"muted_glyph\":{\"id\":\"5817\"},\"nonselection_glyph\":{\"id\":\"5816\"},\"selection_glyph\":null,\"view\":{\"id\":\"5819\"}},\"id\":\"5818\",\"type\":\"GlyphRenderer\"},{\"attributes\":{\"axis\":{\"id\":\"5858\"},\"dimension\":1,\"grid_line_color\":null,\"ticker\":null},\"id\":\"5861\",\"type\":\"Grid\"},{\"attributes\":{},\"id\":\"5799\",\"type\":\"SaveTool\"},{\"attributes\":{},\"id\":\"5856\",\"type\":\"CategoricalTicker\"},{\"attributes\":{\"axis\":{\"id\":\"5855\"},\"grid_line_color\":null,\"ticker\":null},\"id\":\"5857\",\"type\":\"Grid\"},{\"attributes\":{},\"id\":\"5800\",\"type\":\"PanTool\"},{\"attributes\":{},\"id\":\"5859\",\"type\":\"BasicTicker\"},{\"attributes\":{\"axis_label\":\"Average Sale Price Per Square Foot\",\"bounds\":\"auto\",\"formatter\":{\"id\":\"5886\"},\"major_label_orientation\":\"horizontal\",\"ticker\":{\"id\":\"5859\"}},\"id\":\"5858\",\"type\":\"LinearAxis\"},{\"attributes\":{},\"id\":\"5801\",\"type\":\"WheelZoomTool\"},{\"attributes\":{\"active_drag\":\"auto\",\"active_inspect\":\"auto\",\"active_multi\":null,\"active_scroll\":\"auto\",\"active_tap\":\"auto\",\"tools\":[{\"id\":\"5781\"},{\"id\":\"5799\"},{\"id\":\"5800\"},{\"id\":\"5801\"},{\"id\":\"5802\"},{\"id\":\"5803\"}]},\"id\":\"5805\",\"type\":\"Toolbar\"},{\"attributes\":{\"overlay\":{\"id\":\"5804\"}},\"id\":\"5802\",\"type\":\"BoxZoomTool\"},{\"attributes\":{},\"id\":\"5884\",\"type\":\"CategoricalTickFormatter\"},{\"attributes\":{\"margin\":[5,5,5,5],\"name\":\"VSpacer04101\",\"sizing_mode\":\"stretch_height\"},\"id\":\"5972\",\"type\":\"Spacer\"},{\"attributes\":{\"children\":[{\"id\":\"5657\"},{\"id\":\"5661\"},{\"id\":\"5721\"},{\"id\":\"5782\"}],\"margin\":[0,0,0,0],\"name\":\"Column04335\"},\"id\":\"5656\",\"type\":\"Column\"},{\"attributes\":{\"fill_alpha\":{\"value\":0.2},\"fill_color\":{\"value\":\"#1f77b3\"},\"line_alpha\":{\"value\":0.2},\"top\":{\"field\":\"sale_price_sqr_foot\"},\"width\":{\"value\":0.8},\"x\":{\"field\":\"neighborhood\"}},\"id\":\"5880\",\"type\":\"VBar\"},{\"attributes\":{\"fill_alpha\":{\"value\":0.1},\"fill_color\":{\"value\":\"#1f77b3\"},\"line_alpha\":{\"value\":0.1},\"top\":{\"field\":\"sale_price_sqr_foot\"},\"width\":{\"value\":0.8},\"x\":{\"field\":\"neighborhood\"}},\"id\":\"5879\",\"type\":\"VBar\"},{\"attributes\":{\"active_drag\":\"auto\",\"active_inspect\":\"auto\",\"active_multi\":null,\"active_scroll\":\"auto\",\"active_tap\":\"auto\",\"tools\":[{\"id\":\"5845\"},{\"id\":\"5862\"},{\"id\":\"5863\"},{\"id\":\"5864\"},{\"id\":\"5865\"},{\"id\":\"5866\"}]},\"id\":\"5868\",\"type\":\"Toolbar\"},{\"attributes\":{},\"id\":\"5803\",\"type\":\"ResetTool\"},{\"attributes\":{\"data_source\":{\"id\":\"5875\"},\"glyph\":{\"id\":\"5878\"},\"hover_glyph\":null,\"muted_glyph\":{\"id\":\"5880\"},\"nonselection_glyph\":{\"id\":\"5879\"},\"selection_glyph\":null,\"view\":{\"id\":\"5882\"}},\"id\":\"5881\",\"type\":\"GlyphRenderer\"},{\"attributes\":{},\"id\":\"5862\",\"type\":\"SaveTool\"},{\"attributes\":{\"children\":[{\"id\":\"5971\"}],\"css_classes\":[\"panel-widget-box\"],\"margin\":[5,5,5,5],\"name\":\"WidgetBox04096\"},\"id\":\"5970\",\"type\":\"Column\"},{\"attributes\":{},\"id\":\"5863\",\"type\":\"PanTool\"},{\"attributes\":{\"data\":{\"sale_price_sqr_foot\":{\"__ndarray__\":\"Dkc7WO0yckCafszcbwhxQIGRs5ot42ZAJzog0LQ8eEAWMinKGEd+QI0V5FDt0IJAVCHcmLVPdUA=\",\"dtype\":\"float64\",\"order\":\"little\",\"shape\":[7]},\"year\":[2010,2011,2012,2013,2014,2015,2016]},\"selected\":{\"id\":\"5938\"},\"selection_policy\":{\"id\":\"5960\"}},\"id\":\"5937\",\"type\":\"ColumnDataSource\"},{\"attributes\":{},\"id\":\"5864\",\"type\":\"WheelZoomTool\"},{\"attributes\":{\"overlay\":{\"id\":\"5867\"}},\"id\":\"5865\",\"type\":\"BoxZoomTool\"},{\"attributes\":{\"child\":{\"id\":\"5841\"},\"name\":\"Column04103\",\"title\":\"Neighbrhood Analysis\"},\"id\":\"5973\",\"type\":\"Panel\"},{\"attributes\":{\"css_classes\":[\"markdown\"],\"margin\":[5,5,5,5],\"name\":\"Markdown04318\",\"text\":\"&lt;h2&gt;Yearly Analysis&lt;/h2&gt;\"},\"id\":\"5657\",\"type\":\"panel.models.markup.HTML\"},{\"attributes\":{\"margin\":[20,20,20,20],\"min_width\":250,\"options\":[\"Alamo Square\",\"Anza Vista\",\"Bayview\",\"Buena Vista Park\",\"Central Richmond\",\"Central Sunset\",\"Corona Heights\",\"Cow Hollow\",\"Croker Amazon\",\"Diamond Heights\",\"Downtown \",\"Eureka Valley/Dolores Heights\",\"Excelsior\",\"Financial District North\",\"Financial District South\",\"Forest Knolls\",\"Glen Park\",\"Golden Gate Heights\",\"Haight Ashbury\",\"Hayes Valley\",\"Hunters Point\",\"Ingleside \",\"Inner Mission\",\"Inner Parkside\",\"Inner Richmond\",\"Inner Sunset\",\"Jordan Park/Laurel Heights\",\"Lake --The Presidio\",\"Lone Mountain\",\"Lower Pacific Heights\",\"Marina\",\"Miraloma Park\",\"Mission Bay\",\"Mission Dolores\",\"Mission Terrace\",\"Nob Hill\",\"Noe Valley\",\"Oceanview\",\"Outer Parkside\",\"Outer Richmond \",\"Outer Sunset\",\"Pacific Heights\",\"Park North\",\"Parkside\",\"Parnassus/Ashbury Heights\",\"Portola\",\"Potrero Hill\",\"Presidio Heights\",\"Russian Hill\",\"South Beach\",\"South of Market\",\"Sunnyside\",\"Telegraph Hill\",\"Twin Peaks\",\"Union Square District\",\"Van Ness/ Civic Center\",\"West Portal\",\"Western Addition\",\"Yerba Buena\",\"Bernal Heights \",\"Clarendon Heights\",\"Duboce Triangle\",\"Ingleside Heights\",\"North Beach\",\"North Waterfront\",\"Outer Mission\",\"Westwood Highlands\",\"Merced Heights\",\"Midtown Terrace\",\"Visitacion Valley\",\"Silver Terrace\",\"Westwood Park\",\"Bayview Heights\"],\"title\":\"neighborhood\",\"value\":\"Alamo Square\",\"width\":250},\"id\":\"5971\",\"type\":\"Select\"},{\"attributes\":{},\"id\":\"5866\",\"type\":\"ResetTool\"},{\"attributes\":{\"bottom_units\":\"screen\",\"fill_alpha\":0.5,\"fill_color\":\"lightgrey\",\"left_units\":\"screen\",\"level\":\"overlay\",\"line_alpha\":1.0,\"line_color\":\"black\",\"line_dash\":[4,4],\"line_width\":2,\"right_units\":\"screen\",\"top_units\":\"screen\"},\"id\":\"5804\",\"type\":\"BoxAnnotation\"},{\"attributes\":{},\"id\":\"5894\",\"type\":\"UnionRenderers\"},{\"attributes\":{\"children\":[{\"id\":\"5842\"},{\"id\":\"5846\"},{\"id\":\"5903\"}],\"margin\":[0,0,0,0],\"name\":\"Column04103\"},\"id\":\"5841\",\"type\":\"Column\"}],\"root_ids\":[\"5653\",\"6096\"]},\"title\":\"Bokeh Application\",\"version\":\"2.2.3\"}};\n",
       "    var render_items = [{\"docid\":\"ea16ad27-4627-4132-bbf9-8fcda3f36bca\",\"root_ids\":[\"5653\"],\"roots\":{\"5653\":\"381aa67d-4030-4a43-a234-fadd063e3494\"}}];\n",
       "    root.Bokeh.embed.embed_items_notebook(docs_json, render_items);\n",
       "  }\n",
       "  if (root.Bokeh !== undefined && root.Bokeh.Panel !== undefined) {\n",
       "    embed_document(root);\n",
       "  } else {\n",
       "    var attempts = 0;\n",
       "    var timer = setInterval(function(root) {\n",
       "      if (root.Bokeh !== undefined && root.Bokeh.Panel !== undefined) {\n",
       "        clearInterval(timer);\n",
       "        embed_document(root);\n",
       "      } else if (document.readyState == \"complete\") {\n",
       "        attempts++;\n",
       "        if (attempts > 100) {\n",
       "          clearInterval(timer);\n",
       "          console.log(\"Bokeh: ERROR: Unable to run BokehJS code because BokehJS library is missing\");\n",
       "        }\n",
       "      }\n",
       "    }, 10, root)\n",
       "  }\n",
       "})(window);</script>"
      ],
      "text/plain": [
       "Tabs\n",
       "    [0] Str(Server, name='Welcome')\n",
       "    [1] Column\n",
       "        [0] Markdown(str)\n",
       "        [1] HoloViews(Bars)\n",
       "        [2] HoloViews(Curve)\n",
       "        [3] HoloViews(Curve)\n",
       "    [2] Column\n",
       "        [0] Markdown(str)\n",
       "        [1] HoloViews(Bars)\n",
       "        [2] Row\n",
       "            [0] HoloViews(DynamicMap)\n",
       "            [1] Column\n",
       "                [0] WidgetBox\n",
       "                    [0] Select(margin=(20, 20, 20, 20), name='neighborhood', options=['Alamo Square', ...], value='Alamo Square', width=250)\n",
       "                [1] VSpacer()\n",
       "    [3] Str(Server, name='Parallel Plot Analysis')"
      ]
     },
     "execution_count": 57,
     "metadata": {
      "application/vnd.holoviews_exec.v0+json": {
       "id": "5653"
      }
     },
     "output_type": "execute_result"
    }
   ],
   "source": [
    "sanfranscisco_dashboard = pn.Tabs((\"Welcome\",welcome_column),\n",
    "              (\"Yearly Analysis\",yearly_column),\n",
    "              (\"Neighbrhood Analysis\",neighborhood_column),\n",
    "              (\"Parallel Plot Analysis\",paralell_column))\n",
    "sanfranscisco_dashboard\n",
    "# Graphs plotted using px not rendering"
   ]
  },
  {
   "cell_type": "markdown",
   "metadata": {},
   "source": [
    "- Creating a Servable Dashboard"
   ]
  },
  {
   "cell_type": "code",
   "execution_count": 58,
   "metadata": {},
   "outputs": [
    {
     "data": {},
     "metadata": {},
     "output_type": "display_data"
    },
    {
     "data": {},
     "metadata": {},
     "output_type": "display_data"
    },
    {
     "data": {
      "application/vnd.holoviews_exec.v0+json": "",
      "text/html": [
       "<div id='6297'>\n",
       "\n",
       "\n",
       "\n",
       "\n",
       "\n",
       "  <div class=\"bk-root\" id=\"95fa7b1b-d9b8-4c4f-bff5-cf57f3a13689\" data-root-id=\"6297\"></div>\n",
       "</div>\n",
       "<script type=\"application/javascript\">(function(root) {\n",
       "  function embed_document(root) {\n",
       "    var docs_json = {\"9061f8d5-61ac-4f48-abdf-80a7068c9839\":{\"roots\":{\"references\":[{\"attributes\":{},\"id\":\"6569\",\"type\":\"PanTool\"},{\"attributes\":{},\"id\":\"6570\",\"type\":\"WheelZoomTool\"},{\"attributes\":{\"below\":[{\"id\":\"6435\"}],\"center\":[{\"id\":\"6438\"},{\"id\":\"6442\"}],\"left\":[{\"id\":\"6439\"}],\"margin\":[5,5,5,5],\"min_border_bottom\":10,\"min_border_left\":10,\"min_border_right\":10,\"min_border_top\":10,\"plot_height\":300,\"plot_width\":700,\"renderers\":[{\"id\":\"6462\"}],\"sizing_mode\":\"fixed\",\"title\":{\"id\":\"6427\"},\"toolbar\":{\"id\":\"6449\"},\"x_range\":{\"id\":\"6423\"},\"x_scale\":{\"id\":\"6431\"},\"y_range\":{\"id\":\"6424\"},\"y_scale\":{\"id\":\"6433\"}},\"id\":\"6426\",\"subtype\":\"Figure\",\"type\":\"Plot\"},{\"attributes\":{},\"id\":\"6528\",\"type\":\"CategoricalTickFormatter\"},{\"attributes\":{\"child\":{\"id\":\"6300\"},\"name\":\"Column04335\",\"title\":\"Yearly Analysis\"},\"id\":\"6484\",\"type\":\"Panel\"},{\"attributes\":{\"child\":{\"id\":\"6298\"},\"name\":\"Welcome\",\"title\":\"Welcome\"},\"id\":\"6299\",\"type\":\"Panel\"},{\"attributes\":{\"line_color\":\"#1f77b3\",\"line_width\":2,\"x\":{\"field\":\"year\"},\"y\":{\"field\":\"sale_price_sqr_foot\"}},\"id\":\"6459\",\"type\":\"Line\"},{\"attributes\":{\"overlay\":{\"id\":\"6573\"}},\"id\":\"6571\",\"type\":\"BoxZoomTool\"},{\"attributes\":{\"factors\":[\"2010\",\"2011\",\"2012\",\"2013\",\"2014\",\"2015\",\"2016\"],\"tags\":[[[\"year\",\"year\",null]]]},\"id\":\"6302\",\"type\":\"FactorRange\"},{\"attributes\":{\"margin\":[5,5,5,5],\"name\":\"Welcome\",\"text\":\"&lt;pre&gt;&lt;bokeh.server.server.Server object at 0x7fde83863050&gt;&lt;/pre&gt;\"},\"id\":\"6298\",\"type\":\"panel.models.markup.HTML\"},{\"attributes\":{},\"id\":\"6590\",\"type\":\"BasicTickFormatter\"},{\"attributes\":{},\"id\":\"6431\",\"type\":\"LinearScale\"},{\"attributes\":{\"data\":{\"housing_units\":[372560,374507,376454,378401,380348,382295,384242],\"year\":[\"2010\",\"2011\",\"2012\",\"2013\",\"2014\",\"2015\",\"2016\"]},\"selected\":{\"id\":\"6335\"},\"selection_policy\":{\"id\":\"6353\"}},\"id\":\"6334\",\"type\":\"ColumnDataSource\"},{\"attributes\":{},\"id\":\"6530\",\"type\":\"BasicTickFormatter\"},{\"attributes\":{\"text\":\"Average Housing Rent In San Francisco\",\"text_color\":{\"value\":\"black\"},\"text_font_size\":{\"value\":\"12pt\"}},\"id\":\"6366\",\"type\":\"Title\"},{\"attributes\":{\"axis\":{\"id\":\"6439\"},\"dimension\":1,\"grid_line_color\":null,\"ticker\":null},\"id\":\"6442\",\"type\":\"Grid\"},{\"attributes\":{},\"id\":\"6572\",\"type\":\"ResetTool\"},{\"attributes\":{\"margin\":[0,0,0,0],\"tabs\":[{\"id\":\"6299\"},{\"id\":\"6484\"},{\"id\":\"6617\"},{\"id\":\"6619\"}]},\"id\":\"6297\",\"type\":\"Tabs\"},{\"attributes\":{\"axis_label\":\"year\",\"bounds\":\"auto\",\"formatter\":{\"id\":\"6465\"},\"major_label_orientation\":\"horizontal\",\"ticker\":{\"id\":\"6436\"}},\"id\":\"6435\",\"type\":\"LinearAxis\"},{\"attributes\":{\"axis\":{\"id\":\"6317\"},\"dimension\":1,\"grid_line_color\":null,\"ticker\":null},\"id\":\"6320\",\"type\":\"Grid\"},{\"attributes\":{},\"id\":\"6433\",\"type\":\"LinearScale\"},{\"attributes\":{},\"id\":\"6538\",\"type\":\"UnionRenderers\"},{\"attributes\":{\"margin\":[20,20,20,20],\"min_width\":250,\"options\":[\"Alamo Square\",\"Anza Vista\",\"Bayview\",\"Buena Vista Park\",\"Central Richmond\",\"Central Sunset\",\"Corona Heights\",\"Cow Hollow\",\"Croker Amazon\",\"Diamond Heights\",\"Downtown \",\"Eureka Valley/Dolores Heights\",\"Excelsior\",\"Financial District North\",\"Financial District South\",\"Forest Knolls\",\"Glen Park\",\"Golden Gate Heights\",\"Haight Ashbury\",\"Hayes Valley\",\"Hunters Point\",\"Ingleside \",\"Inner Mission\",\"Inner Parkside\",\"Inner Richmond\",\"Inner Sunset\",\"Jordan Park/Laurel Heights\",\"Lake --The Presidio\",\"Lone Mountain\",\"Lower Pacific Heights\",\"Marina\",\"Miraloma Park\",\"Mission Bay\",\"Mission Dolores\",\"Mission Terrace\",\"Nob Hill\",\"Noe Valley\",\"Oceanview\",\"Outer Parkside\",\"Outer Richmond \",\"Outer Sunset\",\"Pacific Heights\",\"Park North\",\"Parkside\",\"Parnassus/Ashbury Heights\",\"Portola\",\"Potrero Hill\",\"Presidio Heights\",\"Russian Hill\",\"South Beach\",\"South of Market\",\"Sunnyside\",\"Telegraph Hill\",\"Twin Peaks\",\"Union Square District\",\"Van Ness/ Civic Center\",\"West Portal\",\"Western Addition\",\"Yerba Buena\",\"Bernal Heights \",\"Clarendon Heights\",\"Duboce Triangle\",\"Ingleside Heights\",\"North Beach\",\"North Waterfront\",\"Outer Mission\",\"Westwood Highlands\",\"Merced Heights\",\"Midtown Terrace\",\"Visitacion Valley\",\"Silver Terrace\",\"Westwood Park\",\"Bayview Heights\"],\"title\":\"neighborhood\",\"value\":\"Alamo Square\",\"width\":250},\"id\":\"6615\",\"type\":\"Select\"},{\"attributes\":{\"text\":\"Average Sale Price Per Square Foot In San Francisco\",\"text_color\":{\"value\":\"black\"},\"text_font_size\":{\"value\":\"12pt\"}},\"id\":\"6427\",\"type\":\"Title\"},{\"attributes\":{\"margin\":[5,5,5,5],\"name\":\"VSpacer04101\",\"sizing_mode\":\"stretch_height\"},\"id\":\"6616\",\"type\":\"Spacer\"},{\"attributes\":{\"end\":2016.0,\"reset_end\":2016.0,\"reset_start\":2010.0,\"start\":2010.0,\"tags\":[[[\"year\",\"year\",null]]]},\"id\":\"6362\",\"type\":\"Range1d\"},{\"attributes\":{},\"id\":\"6604\",\"type\":\"UnionRenderers\"},{\"attributes\":{\"axis_label\":\"year\",\"bounds\":\"auto\",\"formatter\":{\"id\":\"6404\"},\"major_label_orientation\":\"horizontal\",\"ticker\":{\"id\":\"6375\"}},\"id\":\"6374\",\"type\":\"LinearAxis\"},{\"attributes\":{},\"id\":\"6436\",\"type\":\"BasicTicker\"},{\"attributes\":{\"children\":[{\"id\":\"6301\"},{\"id\":\"6305\"},{\"id\":\"6365\"},{\"id\":\"6426\"}],\"margin\":[0,0,0,0],\"name\":\"Column04335\"},\"id\":\"6300\",\"type\":\"Column\"},{\"attributes\":{\"axis\":{\"id\":\"6435\"},\"grid_line_color\":null,\"ticker\":null},\"id\":\"6438\",\"type\":\"Grid\"},{\"attributes\":{\"fill_alpha\":{\"value\":0.2},\"fill_color\":{\"value\":\"#1f77b3\"},\"line_alpha\":{\"value\":0.2},\"top\":{\"field\":\"housing_units\"},\"width\":{\"value\":0.8},\"x\":{\"field\":\"year\"}},\"id\":\"6339\",\"type\":\"VBar\"},{\"attributes\":{},\"id\":\"6343\",\"type\":\"CategoricalTickFormatter\"},{\"attributes\":{},\"id\":\"6440\",\"type\":\"BasicTicker\"},{\"attributes\":{\"axis_label\":\"\",\"bounds\":\"auto\",\"formatter\":{\"id\":\"6467\"},\"major_label_orientation\":\"horizontal\",\"ticker\":{\"id\":\"6440\"}},\"id\":\"6439\",\"type\":\"LinearAxis\"},{\"attributes\":{},\"id\":\"6335\",\"type\":\"Selection\"},{\"attributes\":{\"bottom_units\":\"screen\",\"fill_alpha\":0.5,\"fill_color\":\"lightgrey\",\"left_units\":\"screen\",\"level\":\"overlay\",\"line_alpha\":1.0,\"line_color\":\"black\",\"line_dash\":[4,4],\"line_width\":2,\"right_units\":\"screen\",\"top_units\":\"screen\"},\"id\":\"6573\",\"type\":\"BoxAnnotation\"},{\"attributes\":{},\"id\":\"6372\",\"type\":\"LinearScale\"},{\"attributes\":{\"line_alpha\":0.1,\"line_color\":\"#1f77b3\",\"line_width\":2,\"x\":{\"field\":\"year\"},\"y\":{\"field\":\"sale_price_sqr_foot\"}},\"id\":\"6460\",\"type\":\"Line\"},{\"attributes\":{\"active_drag\":\"auto\",\"active_inspect\":\"auto\",\"active_multi\":null,\"active_scroll\":\"auto\",\"active_tap\":\"auto\",\"tools\":[{\"id\":\"6550\"},{\"id\":\"6568\"},{\"id\":\"6569\"},{\"id\":\"6570\"},{\"id\":\"6571\"},{\"id\":\"6572\"}]},\"id\":\"6574\",\"type\":\"Toolbar\"},{\"attributes\":{\"line_alpha\":0.2,\"line_color\":\"#1f77b3\",\"line_width\":2,\"x\":{\"field\":\"year\"},\"y\":{\"field\":\"sale_price_sqr_foot\"}},\"id\":\"6461\",\"type\":\"Line\"},{\"attributes\":{\"axis\":{\"id\":\"6314\"},\"grid_line_color\":null,\"ticker\":null},\"id\":\"6316\",\"type\":\"Grid\"},{\"attributes\":{\"source\":{\"id\":\"6456\"}},\"id\":\"6463\",\"type\":\"CDSView\"},{\"attributes\":{\"active_drag\":\"auto\",\"active_inspect\":\"auto\",\"active_multi\":null,\"active_scroll\":\"auto\",\"active_tap\":\"auto\",\"tools\":[{\"id\":\"6425\"},{\"id\":\"6443\"},{\"id\":\"6444\"},{\"id\":\"6445\"},{\"id\":\"6446\"},{\"id\":\"6447\"}]},\"id\":\"6449\",\"type\":\"Toolbar\"},{\"attributes\":{\"css_classes\":[\"markdown\"],\"margin\":[5,5,5,5],\"name\":\"Markdown04087\",\"text\":\"&lt;h2&gt;Neighborhood Analysis&lt;/h2&gt;\"},\"id\":\"6486\",\"type\":\"panel.models.markup.HTML\"},{\"attributes\":{},\"id\":\"6443\",\"type\":\"SaveTool\"},{\"attributes\":{},\"id\":\"6444\",\"type\":\"PanTool\"},{\"attributes\":{},\"id\":\"6445\",\"type\":\"WheelZoomTool\"},{\"attributes\":{\"bottom_units\":\"screen\",\"fill_alpha\":0.5,\"fill_color\":\"lightgrey\",\"left_units\":\"screen\",\"level\":\"overlay\",\"line_alpha\":1.0,\"line_color\":\"black\",\"line_dash\":[4,4],\"line_width\":2,\"right_units\":\"screen\",\"top_units\":\"screen\"},\"id\":\"6511\",\"type\":\"BoxAnnotation\"},{\"attributes\":{\"overlay\":{\"id\":\"6448\"}},\"id\":\"6446\",\"type\":\"BoxZoomTool\"},{\"attributes\":{},\"id\":\"6592\",\"type\":\"BasicTickFormatter\"},{\"attributes\":{\"child\":{\"id\":\"6618\"},\"name\":\"Parallel Plot Analysis\",\"title\":\"Parallel Plot Analysis\"},\"id\":\"6619\",\"type\":\"Panel\"},{\"attributes\":{\"callback\":null,\"renderers\":[{\"id\":\"6462\"}],\"tags\":[\"hv_created\"],\"tooltips\":[[\"year\",\"@{year}\"],[\"sale_price_sqr_foot\",\"@{sale_price_sqr_foot}\"]]},\"id\":\"6425\",\"type\":\"HoverTool\"},{\"attributes\":{},\"id\":\"6447\",\"type\":\"ResetTool\"},{\"attributes\":{\"child\":{\"id\":\"6485\"},\"name\":\"Column04103\",\"title\":\"Neighbrhood Analysis\"},\"id\":\"6617\",\"type\":\"Panel\"},{\"attributes\":{},\"id\":\"6520\",\"type\":\"Selection\"},{\"attributes\":{},\"id\":\"6475\",\"type\":\"UnionRenderers\"},{\"attributes\":{\"end\":2016.0,\"reset_end\":2016.0,\"reset_start\":2010.0,\"start\":2010.0,\"tags\":[[[\"year\",\"year\",null]]]},\"id\":\"6548\",\"type\":\"Range1d\"},{\"attributes\":{},\"id\":\"6370\",\"type\":\"LinearScale\"},{\"attributes\":{\"bottom_units\":\"screen\",\"fill_alpha\":0.5,\"fill_color\":\"lightgrey\",\"left_units\":\"screen\",\"level\":\"overlay\",\"line_alpha\":1.0,\"line_color\":\"black\",\"line_dash\":[4,4],\"line_width\":2,\"right_units\":\"screen\",\"top_units\":\"screen\"},\"id\":\"6448\",\"type\":\"BoxAnnotation\"},{\"attributes\":{\"callback\":null,\"renderers\":[{\"id\":\"6525\"}],\"tags\":[\"hv_created\"],\"tooltips\":[[\"neighborhood\",\"@{neighborhood}\"],[\"sale_price_sqr_foot\",\"@{sale_price_sqr_foot}\"]]},\"id\":\"6489\",\"type\":\"HoverTool\"},{\"attributes\":{\"data_source\":{\"id\":\"6456\"},\"glyph\":{\"id\":\"6459\"},\"hover_glyph\":null,\"muted_glyph\":{\"id\":\"6461\"},\"nonselection_glyph\":{\"id\":\"6460\"},\"selection_glyph\":null,\"view\":{\"id\":\"6463\"}},\"id\":\"6462\",\"type\":\"GlyphRenderer\"},{\"attributes\":{},\"id\":\"6568\",\"type\":\"SaveTool\"},{\"attributes\":{\"overlay\":{\"id\":\"6326\"}},\"id\":\"6324\",\"type\":\"BoxZoomTool\"},{\"attributes\":{\"fill_color\":{\"value\":\"#1f77b3\"},\"top\":{\"field\":\"housing_units\"},\"width\":{\"value\":0.8},\"x\":{\"field\":\"year\"}},\"id\":\"6337\",\"type\":\"VBar\"},{\"attributes\":{\"overlay\":{\"id\":\"6387\"}},\"id\":\"6385\",\"type\":\"BoxZoomTool\"},{\"attributes\":{\"end\":929.3801355198136,\"reset_end\":733.2177371101802,\"reset_start\":306.3294011864627,\"start\":0.0,\"tags\":[[[\"sale_price_sqr_foot\",\"sale_price_sqr_foot\",null]]]},\"id\":\"6424\",\"type\":\"Range1d\"},{\"attributes\":{},\"id\":\"6465\",\"type\":\"BasicTickFormatter\"},{\"attributes\":{\"css_classes\":[\"markdown\"],\"margin\":[5,5,5,5],\"name\":\"Markdown04318\",\"text\":\"&lt;h2&gt;Yearly Analysis&lt;/h2&gt;\"},\"id\":\"6301\",\"type\":\"panel.models.markup.HTML\"},{\"attributes\":{\"axis\":{\"id\":\"6502\"},\"dimension\":1,\"grid_line_color\":null,\"ticker\":null},\"id\":\"6505\",\"type\":\"Grid\"},{\"attributes\":{\"axis_label\":\"Neighborhood\",\"bounds\":\"auto\",\"formatter\":{\"id\":\"6528\"},\"major_label_orientation\":\"horizontal\",\"ticker\":{\"id\":\"6500\"}},\"id\":\"6499\",\"type\":\"CategoricalAxis\"},{\"attributes\":{},\"id\":\"6325\",\"type\":\"ResetTool\"},{\"attributes\":{},\"id\":\"6386\",\"type\":\"ResetTool\"},{\"attributes\":{\"below\":[{\"id\":\"6374\"}],\"center\":[{\"id\":\"6377\"},{\"id\":\"6381\"}],\"left\":[{\"id\":\"6378\"}],\"margin\":[5,5,5,5],\"min_border_bottom\":10,\"min_border_left\":10,\"min_border_right\":10,\"min_border_top\":10,\"plot_height\":300,\"plot_width\":700,\"renderers\":[{\"id\":\"6401\"}],\"sizing_mode\":\"fixed\",\"title\":{\"id\":\"6366\"},\"toolbar\":{\"id\":\"6388\"},\"x_range\":{\"id\":\"6362\"},\"x_scale\":{\"id\":\"6370\"},\"y_range\":{\"id\":\"6363\"},\"y_scale\":{\"id\":\"6372\"}},\"id\":\"6365\",\"subtype\":\"Figure\",\"type\":\"Plot\"},{\"attributes\":{},\"id\":\"6467\",\"type\":\"BasicTickFormatter\"},{\"attributes\":{\"callback\":null,\"renderers\":[{\"id\":\"6401\"}],\"tags\":[\"hv_created\"],\"tooltips\":[[\"year\",\"@{year}\"],[\"gross_rent\",\"@{gross_rent}\"]]},\"id\":\"6364\",\"type\":\"HoverTool\"},{\"attributes\":{},\"id\":\"6396\",\"type\":\"Selection\"},{\"attributes\":{\"children\":[{\"id\":\"6551\"},{\"id\":\"6613\"}],\"margin\":[0,0,0,0],\"name\":\"Row04095\"},\"id\":\"6547\",\"type\":\"Row\"},{\"attributes\":{},\"id\":\"6497\",\"type\":\"LinearScale\"},{\"attributes\":{\"below\":[{\"id\":\"6560\"}],\"center\":[{\"id\":\"6563\"},{\"id\":\"6567\"}],\"left\":[{\"id\":\"6564\"}],\"margin\":[5,5,5,5],\"min_border_bottom\":10,\"min_border_left\":10,\"min_border_right\":10,\"min_border_top\":10,\"plot_height\":300,\"plot_width\":700,\"renderers\":[{\"id\":\"6587\"}],\"sizing_mode\":\"fixed\",\"title\":{\"id\":\"6552\"},\"toolbar\":{\"id\":\"6574\"},\"x_range\":{\"id\":\"6548\"},\"x_scale\":{\"id\":\"6556\"},\"y_range\":{\"id\":\"6424\"},\"y_scale\":{\"id\":\"6558\"}},\"id\":\"6551\",\"subtype\":\"Figure\",\"type\":\"Plot\"},{\"attributes\":{\"axis\":{\"id\":\"6374\"},\"grid_line_color\":null,\"ticker\":null},\"id\":\"6377\",\"type\":\"Grid\"},{\"attributes\":{},\"id\":\"6506\",\"type\":\"SaveTool\"},{\"attributes\":{\"below\":[{\"id\":\"6314\"}],\"center\":[{\"id\":\"6316\"},{\"id\":\"6320\"}],\"left\":[{\"id\":\"6317\"}],\"margin\":[5,5,5,5],\"min_border_bottom\":10,\"min_border_left\":10,\"min_border_right\":10,\"min_border_top\":10,\"plot_height\":300,\"plot_width\":700,\"renderers\":[{\"id\":\"6340\"}],\"sizing_mode\":\"fixed\",\"title\":{\"id\":\"6306\"},\"toolbar\":{\"id\":\"6327\"},\"x_range\":{\"id\":\"6302\"},\"x_scale\":{\"id\":\"6310\"},\"y_range\":{\"id\":\"6303\"},\"y_scale\":{\"id\":\"6312\"}},\"id\":\"6305\",\"subtype\":\"Figure\",\"type\":\"Plot\"},{\"attributes\":{\"callback\":null,\"renderers\":[{\"id\":\"6340\"}],\"tags\":[\"hv_created\"],\"tooltips\":[[\"year\",\"@{year}\"],[\"housing_units\",\"@{housing_units}\"]]},\"id\":\"6304\",\"type\":\"HoverTool\"},{\"attributes\":{\"bottom_units\":\"screen\",\"fill_alpha\":0.5,\"fill_color\":\"lightgrey\",\"left_units\":\"screen\",\"level\":\"overlay\",\"line_alpha\":1.0,\"line_color\":\"black\",\"line_dash\":[4,4],\"line_width\":2,\"right_units\":\"screen\",\"top_units\":\"screen\"},\"id\":\"6326\",\"type\":\"BoxAnnotation\"},{\"attributes\":{\"source\":{\"id\":\"6519\"}},\"id\":\"6526\",\"type\":\"CDSView\"},{\"attributes\":{},\"id\":\"6379\",\"type\":\"BasicTicker\"},{\"attributes\":{\"children\":[{\"id\":\"6615\"}],\"css_classes\":[\"panel-widget-box\"],\"margin\":[5,5,5,5],\"name\":\"WidgetBox04096\"},\"id\":\"6614\",\"type\":\"Column\"},{\"attributes\":{\"bottom_units\":\"screen\",\"fill_alpha\":0.5,\"fill_color\":\"lightgrey\",\"left_units\":\"screen\",\"level\":\"overlay\",\"line_alpha\":1.0,\"line_color\":\"black\",\"line_dash\":[4,4],\"line_width\":2,\"right_units\":\"screen\",\"top_units\":\"screen\"},\"id\":\"6387\",\"type\":\"BoxAnnotation\"},{\"attributes\":{\"data\":{\"gross_rent\":[1239,1530,2324,2971,3528,3739,4390],\"year\":[2010,2011,2012,2013,2014,2015,2016]},\"selected\":{\"id\":\"6396\"},\"selection_policy\":{\"id\":\"6414\"}},\"id\":\"6395\",\"type\":\"ColumnDataSource\"},{\"attributes\":{\"data\":{\"sale_price_sqr_foot\":{\"__ndarray__\":\"Dkc7WO0yckCafszcbwhxQIGRs5ot42ZAJzog0LQ8eEAWMinKGEd+QI0V5FDt0IJAVCHcmLVPdUA=\",\"dtype\":\"float64\",\"order\":\"little\",\"shape\":[7]},\"year\":[2010,2011,2012,2013,2014,2015,2016]},\"selected\":{\"id\":\"6582\"},\"selection_policy\":{\"id\":\"6604\"}},\"id\":\"6581\",\"type\":\"ColumnDataSource\"},{\"attributes\":{\"text\":\"Average Housing Units/Year in San Francisco\",\"text_color\":{\"value\":\"black\"},\"text_font_size\":{\"value\":\"12pt\"}},\"id\":\"6306\",\"type\":\"Title\"},{\"attributes\":{\"active_drag\":\"auto\",\"active_inspect\":\"auto\",\"active_multi\":null,\"active_scroll\":\"auto\",\"active_tap\":\"auto\",\"tools\":[{\"id\":\"6364\"},{\"id\":\"6382\"},{\"id\":\"6383\"},{\"id\":\"6384\"},{\"id\":\"6385\"},{\"id\":\"6386\"}]},\"id\":\"6388\",\"type\":\"Toolbar\"},{\"attributes\":{},\"id\":\"6510\",\"type\":\"ResetTool\"},{\"attributes\":{\"callback\":null,\"renderers\":[{\"id\":\"6587\"}],\"tags\":[\"hv_created\"],\"tooltips\":[[\"year\",\"@{year}\"],[\"sale_price_sqr_foot\",\"@{sale_price_sqr_foot}\"]]},\"id\":\"6550\",\"type\":\"HoverTool\"},{\"attributes\":{},\"id\":\"6323\",\"type\":\"WheelZoomTool\"},{\"attributes\":{},\"id\":\"6406\",\"type\":\"BasicTickFormatter\"},{\"attributes\":{\"axis_label\":\"Year\",\"bounds\":\"auto\",\"formatter\":{\"id\":\"6590\"},\"major_label_orientation\":\"horizontal\",\"ticker\":{\"id\":\"6561\"}},\"id\":\"6560\",\"type\":\"LinearAxis\"},{\"attributes\":{\"margin\":[5,5,5,5],\"name\":\"Parallel Plot Analysis\",\"text\":\"&lt;pre&gt;&lt;bokeh.server.server.Server object at 0x7fde838634d0&gt;&lt;/pre&gt;\"},\"id\":\"6618\",\"type\":\"panel.models.markup.HTML\"},{\"attributes\":{\"overlay\":{\"id\":\"6511\"}},\"id\":\"6509\",\"type\":\"BoxZoomTool\"},{\"attributes\":{\"active_drag\":\"auto\",\"active_inspect\":\"auto\",\"active_multi\":null,\"active_scroll\":\"auto\",\"active_tap\":\"auto\",\"tools\":[{\"id\":\"6304\"},{\"id\":\"6321\"},{\"id\":\"6322\"},{\"id\":\"6323\"},{\"id\":\"6324\"},{\"id\":\"6325\"}]},\"id\":\"6327\",\"type\":\"Toolbar\"},{\"attributes\":{},\"id\":\"6508\",\"type\":\"WheelZoomTool\"},{\"attributes\":{},\"id\":\"6404\",\"type\":\"BasicTickFormatter\"},{\"attributes\":{\"factors\":[\"Union Square District\",\"Merced Heights\",\"Miraloma Park\",\"Pacific Heights\",\"Westwood Park\",\"Telegraph Hill\",\"Presidio Heights\",\"Cow Hollow\",\"Potrero Hill\",\"South Beach\"],\"tags\":[[[\"neighborhood\",\"neighborhood\",null]]]},\"id\":\"6487\",\"type\":\"FactorRange\"},{\"attributes\":{},\"id\":\"6507\",\"type\":\"PanTool\"},{\"attributes\":{},\"id\":\"6582\",\"type\":\"Selection\"},{\"attributes\":{\"children\":[{\"id\":\"6486\"},{\"id\":\"6490\"},{\"id\":\"6547\"}],\"margin\":[0,0,0,0],\"name\":\"Column04103\"},\"id\":\"6485\",\"type\":\"Column\"},{\"attributes\":{\"end\":386242,\"reset_end\":386242,\"reset_start\":370560,\"start\":370560,\"tags\":[[[\"housing_units\",\"housing_units\",null]]]},\"id\":\"6303\",\"type\":\"Range1d\"},{\"attributes\":{\"axis\":{\"id\":\"6378\"},\"dimension\":1,\"grid_line_color\":null,\"ticker\":null},\"id\":\"6381\",\"type\":\"Grid\"},{\"attributes\":{\"active_drag\":\"auto\",\"active_inspect\":\"auto\",\"active_multi\":null,\"active_scroll\":\"auto\",\"active_tap\":\"auto\",\"tools\":[{\"id\":\"6489\"},{\"id\":\"6506\"},{\"id\":\"6507\"},{\"id\":\"6508\"},{\"id\":\"6509\"},{\"id\":\"6510\"}]},\"id\":\"6512\",\"type\":\"Toolbar\"},{\"attributes\":{\"line_color\":\"#1f77b3\",\"line_width\":2,\"x\":{\"field\":\"year\"},\"y\":{\"field\":\"sale_price_sqr_foot\"}},\"id\":\"6584\",\"type\":\"Line\"},{\"attributes\":{\"source\":{\"id\":\"6581\"}},\"id\":\"6588\",\"type\":\"CDSView\"},{\"attributes\":{},\"id\":\"6375\",\"type\":\"BasicTicker\"},{\"attributes\":{},\"id\":\"6556\",\"type\":\"LinearScale\"},{\"attributes\":{\"axis\":{\"id\":\"6499\"},\"grid_line_color\":null,\"ticker\":null},\"id\":\"6501\",\"type\":\"Grid\"},{\"attributes\":{\"client_comm_id\":\"a3ab6dd44f7444cfbd3040bfcb97902b\",\"comm_id\":\"448ad66f44794ce8a0d25ace35ce6f9b\",\"plot_id\":\"6297\"},\"id\":\"6740\",\"type\":\"panel.models.comm_manager.CommManager\"},{\"attributes\":{},\"id\":\"6312\",\"type\":\"LinearScale\"},{\"attributes\":{\"axis\":{\"id\":\"6564\"},\"dimension\":1,\"grid_line_color\":null,\"ticker\":null},\"id\":\"6567\",\"type\":\"Grid\"},{\"attributes\":{\"axis_label\":\"\",\"bounds\":\"auto\",\"formatter\":{\"id\":\"6345\"},\"major_label_orientation\":\"horizontal\",\"ticker\":{\"id\":\"6318\"}},\"id\":\"6317\",\"type\":\"LinearAxis\"},{\"attributes\":{\"end\":2016.0,\"reset_end\":2016.0,\"reset_start\":2010.0,\"start\":2010.0,\"tags\":[[[\"year\",\"year\",null]]]},\"id\":\"6423\",\"type\":\"Range1d\"},{\"attributes\":{\"fill_alpha\":{\"value\":0.2},\"fill_color\":{\"value\":\"#1f77b3\"},\"line_alpha\":{\"value\":0.2},\"top\":{\"field\":\"sale_price_sqr_foot\"},\"width\":{\"value\":0.8},\"x\":{\"field\":\"neighborhood\"}},\"id\":\"6524\",\"type\":\"VBar\"},{\"attributes\":{\"axis_label\":\"\",\"bounds\":\"auto\",\"formatter\":{\"id\":\"6406\"},\"major_label_orientation\":\"horizontal\",\"ticker\":{\"id\":\"6379\"}},\"id\":\"6378\",\"type\":\"LinearAxis\"},{\"attributes\":{},\"id\":\"6558\",\"type\":\"LinearScale\"},{\"attributes\":{},\"id\":\"6353\",\"type\":\"UnionRenderers\"},{\"attributes\":{},\"id\":\"6414\",\"type\":\"UnionRenderers\"},{\"attributes\":{},\"id\":\"6310\",\"type\":\"CategoricalScale\"},{\"attributes\":{},\"id\":\"6345\",\"type\":\"BasicTickFormatter\"},{\"attributes\":{\"data\":{\"neighborhood\":[\"Union Square District\",\"Merced Heights\",\"Miraloma Park\",\"Pacific Heights\",\"Westwood Park\",\"Telegraph Hill\",\"Presidio Heights\",\"Cow Hollow\",\"Potrero Hill\",\"South Beach\"],\"sale_price_sqr_foot\":{\"__ndarray__\":\"JRAUMfI/jEB9IrkvwqaIQFx/3pp8XohAFpsVUHKMhUBs0ERas3iFQL0KhXgNJIVAy835O80ahUANV25bts+EQJrMCuEbsIRAya3y7v5QhEA=\",\"dtype\":\"float64\",\"order\":\"little\",\"shape\":[10]}},\"selected\":{\"id\":\"6520\"},\"selection_policy\":{\"id\":\"6538\"}},\"id\":\"6519\",\"type\":\"ColumnDataSource\"},{\"attributes\":{\"text\":\"neighborhood: Alamo Square\",\"text_color\":{\"value\":\"black\"},\"text_font_size\":{\"value\":\"12pt\"}},\"id\":\"6552\",\"type\":\"Title\"},{\"attributes\":{\"fill_alpha\":{\"value\":0.1},\"fill_color\":{\"value\":\"#1f77b3\"},\"line_alpha\":{\"value\":0.1},\"top\":{\"field\":\"housing_units\"},\"width\":{\"value\":0.8},\"x\":{\"field\":\"year\"}},\"id\":\"6338\",\"type\":\"VBar\"},{\"attributes\":{},\"id\":\"6561\",\"type\":\"BasicTicker\"},{\"attributes\":{\"data_source\":{\"id\":\"6334\"},\"glyph\":{\"id\":\"6337\"},\"hover_glyph\":null,\"muted_glyph\":{\"id\":\"6339\"},\"nonselection_glyph\":{\"id\":\"6338\"},\"selection_glyph\":null,\"view\":{\"id\":\"6341\"}},\"id\":\"6340\",\"type\":\"GlyphRenderer\"},{\"attributes\":{\"axis_label\":\"year\",\"bounds\":\"auto\",\"formatter\":{\"id\":\"6343\"},\"major_label_orientation\":\"horizontal\",\"ticker\":{\"id\":\"6315\"}},\"id\":\"6314\",\"type\":\"CategoricalAxis\"},{\"attributes\":{\"fill_color\":{\"value\":\"#1f77b3\"},\"top\":{\"field\":\"sale_price_sqr_foot\"},\"width\":{\"value\":0.8},\"x\":{\"field\":\"neighborhood\"}},\"id\":\"6522\",\"type\":\"VBar\"},{\"attributes\":{\"data_source\":{\"id\":\"6395\"},\"glyph\":{\"id\":\"6398\"},\"hover_glyph\":null,\"muted_glyph\":{\"id\":\"6400\"},\"nonselection_glyph\":{\"id\":\"6399\"},\"selection_glyph\":null,\"view\":{\"id\":\"6402\"}},\"id\":\"6401\",\"type\":\"GlyphRenderer\"},{\"attributes\":{\"source\":{\"id\":\"6334\"}},\"id\":\"6341\",\"type\":\"CDSView\"},{\"attributes\":{\"axis\":{\"id\":\"6560\"},\"grid_line_color\":null,\"ticker\":null},\"id\":\"6563\",\"type\":\"Grid\"},{\"attributes\":{\"data_source\":{\"id\":\"6519\"},\"glyph\":{\"id\":\"6522\"},\"hover_glyph\":null,\"muted_glyph\":{\"id\":\"6524\"},\"nonselection_glyph\":{\"id\":\"6523\"},\"selection_glyph\":null,\"view\":{\"id\":\"6526\"}},\"id\":\"6525\",\"type\":\"GlyphRenderer\"},{\"attributes\":{},\"id\":\"6315\",\"type\":\"CategoricalTicker\"},{\"attributes\":{\"line_alpha\":0.2,\"line_color\":\"#1f77b3\",\"line_width\":2,\"x\":{\"field\":\"year\"},\"y\":{\"field\":\"gross_rent\"}},\"id\":\"6400\",\"type\":\"Line\"},{\"attributes\":{},\"id\":\"6565\",\"type\":\"BasicTicker\"},{\"attributes\":{\"fill_alpha\":{\"value\":0.1},\"fill_color\":{\"value\":\"#1f77b3\"},\"line_alpha\":{\"value\":0.1},\"top\":{\"field\":\"sale_price_sqr_foot\"},\"width\":{\"value\":0.8},\"x\":{\"field\":\"neighborhood\"}},\"id\":\"6523\",\"type\":\"VBar\"},{\"attributes\":{\"axis_label\":\"Average Sales Prices per Square Foot\",\"bounds\":\"auto\",\"formatter\":{\"id\":\"6592\"},\"major_label_orientation\":\"horizontal\",\"ticker\":{\"id\":\"6565\"}},\"id\":\"6564\",\"type\":\"LinearAxis\"},{\"attributes\":{},\"id\":\"6495\",\"type\":\"CategoricalScale\"},{\"attributes\":{\"source\":{\"id\":\"6395\"}},\"id\":\"6402\",\"type\":\"CDSView\"},{\"attributes\":{},\"id\":\"6503\",\"type\":\"BasicTicker\"},{\"attributes\":{\"children\":[{\"id\":\"6614\"},{\"id\":\"6616\"}],\"margin\":[0,0,0,0],\"name\":\"Column04102\"},\"id\":\"6613\",\"type\":\"Column\"},{\"attributes\":{\"line_alpha\":0.1,\"line_color\":\"#1f77b3\",\"line_width\":2,\"x\":{\"field\":\"year\"},\"y\":{\"field\":\"sale_price_sqr_foot\"}},\"id\":\"6585\",\"type\":\"Line\"},{\"attributes\":{\"end\":4705.1,\"reset_end\":4705.1,\"reset_start\":923.9,\"start\":923.9,\"tags\":[[[\"gross_rent\",\"gross_rent\",null]]]},\"id\":\"6363\",\"type\":\"Range1d\"},{\"attributes\":{\"line_color\":\"#1f77b3\",\"line_width\":2,\"x\":{\"field\":\"year\"},\"y\":{\"field\":\"gross_rent\"}},\"id\":\"6398\",\"type\":\"Line\"},{\"attributes\":{\"line_alpha\":0.1,\"line_color\":\"#1f77b3\",\"line_width\":2,\"x\":{\"field\":\"year\"},\"y\":{\"field\":\"gross_rent\"}},\"id\":\"6399\",\"type\":\"Line\"},{\"attributes\":{\"data_source\":{\"id\":\"6581\"},\"glyph\":{\"id\":\"6584\"},\"hover_glyph\":null,\"muted_glyph\":{\"id\":\"6586\"},\"nonselection_glyph\":{\"id\":\"6585\"},\"selection_glyph\":null,\"view\":{\"id\":\"6588\"}},\"id\":\"6587\",\"type\":\"GlyphRenderer\"},{\"attributes\":{},\"id\":\"6318\",\"type\":\"BasicTicker\"},{\"attributes\":{},\"id\":\"6457\",\"type\":\"Selection\"},{\"attributes\":{\"line_alpha\":0.2,\"line_color\":\"#1f77b3\",\"line_width\":2,\"x\":{\"field\":\"year\"},\"y\":{\"field\":\"sale_price_sqr_foot\"}},\"id\":\"6586\",\"type\":\"Line\"},{\"attributes\":{},\"id\":\"6322\",\"type\":\"PanTool\"},{\"attributes\":{},\"id\":\"6382\",\"type\":\"SaveTool\"},{\"attributes\":{\"data\":{\"sale_price_sqr_foot\":{\"__ndarray__\":\"tQKjeIIVd0Do7CdydF51QGdijk899nhAaBKk2Jo5fkDGKCTbN2KBQPETFqRSxINAUB33UCbNhUA=\",\"dtype\":\"float64\",\"order\":\"little\",\"shape\":[7]},\"year\":[2010,2011,2012,2013,2014,2015,2016]},\"selected\":{\"id\":\"6457\"},\"selection_policy\":{\"id\":\"6475\"}},\"id\":\"6456\",\"type\":\"ColumnDataSource\"},{\"attributes\":{},\"id\":\"6500\",\"type\":\"CategoricalTicker\"},{\"attributes\":{\"below\":[{\"id\":\"6499\"}],\"center\":[{\"id\":\"6501\"},{\"id\":\"6505\"}],\"left\":[{\"id\":\"6502\"}],\"margin\":[5,5,5,5],\"min_border_bottom\":10,\"min_border_left\":10,\"min_border_right\":10,\"min_border_top\":10,\"plot_height\":300,\"plot_width\":700,\"renderers\":[{\"id\":\"6525\"}],\"sizing_mode\":\"fixed\",\"title\":{\"id\":\"6491\"},\"toolbar\":{\"id\":\"6512\"},\"x_range\":{\"id\":\"6487\"},\"x_scale\":{\"id\":\"6495\"},\"y_range\":{\"id\":\"6424\"},\"y_scale\":{\"id\":\"6497\"}},\"id\":\"6490\",\"subtype\":\"Figure\",\"type\":\"Plot\"},{\"attributes\":{},\"id\":\"6383\",\"type\":\"PanTool\"},{\"attributes\":{\"text\":\"\",\"text_color\":{\"value\":\"black\"},\"text_font_size\":{\"value\":\"12pt\"}},\"id\":\"6491\",\"type\":\"Title\"},{\"attributes\":{},\"id\":\"6321\",\"type\":\"SaveTool\"},{\"attributes\":{},\"id\":\"6384\",\"type\":\"WheelZoomTool\"},{\"attributes\":{\"axis_label\":\"Average Sale Price Per Square Foot\",\"bounds\":\"auto\",\"formatter\":{\"id\":\"6530\"},\"major_label_orientation\":\"horizontal\",\"ticker\":{\"id\":\"6503\"}},\"id\":\"6502\",\"type\":\"LinearAxis\"}],\"root_ids\":[\"6297\",\"6740\"]},\"title\":\"Bokeh Application\",\"version\":\"2.2.3\"}};\n",
       "    var render_items = [{\"docid\":\"9061f8d5-61ac-4f48-abdf-80a7068c9839\",\"root_ids\":[\"6297\"],\"roots\":{\"6297\":\"95fa7b1b-d9b8-4c4f-bff5-cf57f3a13689\"}}];\n",
       "    root.Bokeh.embed.embed_items_notebook(docs_json, render_items);\n",
       "  }\n",
       "  if (root.Bokeh !== undefined && root.Bokeh.Panel !== undefined) {\n",
       "    embed_document(root);\n",
       "  } else {\n",
       "    var attempts = 0;\n",
       "    var timer = setInterval(function(root) {\n",
       "      if (root.Bokeh !== undefined && root.Bokeh.Panel !== undefined) {\n",
       "        clearInterval(timer);\n",
       "        embed_document(root);\n",
       "      } else if (document.readyState == \"complete\") {\n",
       "        attempts++;\n",
       "        if (attempts > 100) {\n",
       "          clearInterval(timer);\n",
       "          console.log(\"Bokeh: ERROR: Unable to run BokehJS code because BokehJS library is missing\");\n",
       "        }\n",
       "      }\n",
       "    }, 10, root)\n",
       "  }\n",
       "})(window);</script>"
      ],
      "text/plain": [
       "Tabs\n",
       "    [0] Str(Server, name='Welcome')\n",
       "    [1] Column\n",
       "        [0] Markdown(str)\n",
       "        [1] HoloViews(Bars)\n",
       "        [2] HoloViews(Curve)\n",
       "        [3] HoloViews(Curve)\n",
       "    [2] Column\n",
       "        [0] Markdown(str)\n",
       "        [1] HoloViews(Bars)\n",
       "        [2] Row\n",
       "            [0] HoloViews(DynamicMap)\n",
       "            [1] Column\n",
       "                [0] WidgetBox\n",
       "                    [0] Select(margin=(20, 20, 20, 20), name='neighborhood', options=['Alamo Square', ...], value='Alamo Square', width=250)\n",
       "                [1] VSpacer()\n",
       "    [3] Str(Server, name='Parallel Plot Analysis')"
      ]
     },
     "execution_count": 58,
     "metadata": {
      "application/vnd.holoviews_exec.v0+json": {
       "id": "6297"
      }
     },
     "output_type": "execute_result"
    }
   ],
   "source": [
    "sanfranscisco_dashboard.servable()"
   ]
  },
  {
   "cell_type": "code",
   "execution_count": null,
   "metadata": {},
   "outputs": [],
   "source": []
  }
 ],
 "metadata": {
  "kernelspec": {
   "display_name": "Python [conda env:pyvizenv]",
   "language": "python",
   "name": "conda-env-pyvizenv-py"
  },
  "language_info": {
   "codemirror_mode": {
    "name": "ipython",
    "version": 3
   },
   "file_extension": ".py",
   "mimetype": "text/x-python",
   "name": "python",
   "nbconvert_exporter": "python",
   "pygments_lexer": "ipython3",
   "version": "3.7.9"
  }
 },
 "nbformat": 4,
 "nbformat_minor": 4
}
